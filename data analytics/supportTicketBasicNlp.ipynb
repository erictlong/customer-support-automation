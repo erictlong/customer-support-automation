{
 "cells": [
  {
   "cell_type": "markdown",
   "metadata": {},
   "source": [
    "## Support Tickets NLP (basic)\n",
    "\n",
    "With the support tickets reviewed. We need to look into basic text / nlp information that is genderated from these support tickets.\n",
    "\n",
    "We wont be pulling every information we can. This is only ment to be a basic info before creating a ai model."
   ]
  }
 ],
 "metadata": {
  "language_info": {
   "name": "python"
  }
 },
 "nbformat": 4,
 "nbformat_minor": 2
}
