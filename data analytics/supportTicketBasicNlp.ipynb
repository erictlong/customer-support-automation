{
 "cells": [
  {
   "cell_type": "markdown",
   "metadata": {},
   "source": [
    "## Support Tickets NLP (basic)\n",
    "\n",
    "With the support tickets reviewed. We need to look into basic text / nlp information that is genderated from these support tickets.\n",
    "\n",
    "We wont be pulling every information we can. This is only ment to be a basic info before creating a ai model."
   ]
  },
  {
   "cell_type": "markdown",
   "metadata": {},
   "source": [
    "### Python Setup"
   ]
  },
  {
   "cell_type": "code",
   "execution_count": 1,
   "metadata": {},
   "outputs": [
    {
     "name": "stderr",
     "output_type": "stream",
     "text": [
      "/Users/eric/venv-metal/lib/python3.9/site-packages/urllib3/__init__.py:35: NotOpenSSLWarning: urllib3 v2 only supports OpenSSL 1.1.1+, currently the 'ssl' module is compiled with 'LibreSSL 2.8.3'. See: https://github.com/urllib3/urllib3/issues/3020\n",
      "  warnings.warn(\n"
     ]
    }
   ],
   "source": [
    "import pandas as pd\n",
    "import spacy"
   ]
  },
  {
   "cell_type": "markdown",
   "metadata": {},
   "source": [
    "basic spacy setup"
   ]
  },
  {
   "cell_type": "code",
   "execution_count": 2,
   "metadata": {},
   "outputs": [
    {
     "name": "stderr",
     "output_type": "stream",
     "text": [
      "/Users/eric/venv-metal/lib/python3.9/site-packages/spacy/util.py:910: UserWarning: [W095] Model 'en_core_web_sm' (3.7.1) was trained with spaCy v3.7.2 and may not be 100% compatible with the current version (3.8.2). If you see errors or degraded performance, download a newer compatible model or retrain your custom model with the current spaCy version. For more details and available updates, run: python -m spacy validate\n",
      "  warnings.warn(warn_msg)\n"
     ]
    }
   ],
   "source": [
    "nlp = spacy.load(\"en_core_web_sm\")"
   ]
  },
  {
   "cell_type": "markdown",
   "metadata": {},
   "source": [
    "### Import Support File"
   ]
  },
  {
   "cell_type": "code",
   "execution_count": 3,
   "metadata": {},
   "outputs": [],
   "source": [
    "df = pd.read_csv(\"../data/tweeter_support_tickets.csv\")"
   ]
  },
  {
   "cell_type": "code",
   "execution_count": 4,
   "metadata": {},
   "outputs": [
    {
     "data": {
      "text/html": [
       "<div>\n",
       "<style scoped>\n",
       "    .dataframe tbody tr th:only-of-type {\n",
       "        vertical-align: middle;\n",
       "    }\n",
       "\n",
       "    .dataframe tbody tr th {\n",
       "        vertical-align: top;\n",
       "    }\n",
       "\n",
       "    .dataframe thead th {\n",
       "        text-align: right;\n",
       "    }\n",
       "</style>\n",
       "<table border=\"1\" class=\"dataframe\">\n",
       "  <thead>\n",
       "    <tr style=\"text-align: right;\">\n",
       "      <th></th>\n",
       "      <th>Unnamed: 0</th>\n",
       "      <th>tweet_id</th>\n",
       "      <th>author_id</th>\n",
       "      <th>inbound</th>\n",
       "      <th>created_at</th>\n",
       "      <th>text</th>\n",
       "      <th>response_tweet_id</th>\n",
       "      <th>in_response_to_tweet_id</th>\n",
       "      <th>support_team</th>\n",
       "      <th>conversation</th>\n",
       "      <th>conversation_count</th>\n",
       "      <th>conversation_dates</th>\n",
       "      <th>date_resolved</th>\n",
       "      <th>time_to_resolve</th>\n",
       "    </tr>\n",
       "  </thead>\n",
       "  <tbody>\n",
       "    <tr>\n",
       "      <th>0</th>\n",
       "      <td>0</td>\n",
       "      <td>18.0</td>\n",
       "      <td>115713.0</td>\n",
       "      <td>True</td>\n",
       "      <td>Tue Oct 31 19:56:01 +0000 2017</td>\n",
       "      <td>@115714 y’all lie about your “great” connectio...</td>\n",
       "      <td>17</td>\n",
       "      <td>NaN</td>\n",
       "      <td>sprintcare</td>\n",
       "      <td>@115713 H there! We'd definitely like to work ...</td>\n",
       "      <td>2.0</td>\n",
       "      <td>['Tue Oct 31 19:59:13 +0000 2017', 'Tue Oct 31...</td>\n",
       "      <td>Tue Oct 31 19:59:13 +0000 2017</td>\n",
       "      <td>0.053333</td>\n",
       "    </tr>\n",
       "    <tr>\n",
       "      <th>1</th>\n",
       "      <td>1</td>\n",
       "      <td>20.0</td>\n",
       "      <td>115715.0</td>\n",
       "      <td>True</td>\n",
       "      <td>Tue Oct 31 22:03:34 +0000 2017</td>\n",
       "      <td>@115714 whenever I contact customer support, t...</td>\n",
       "      <td>19</td>\n",
       "      <td>NaN</td>\n",
       "      <td>sprintcare</td>\n",
       "      <td>@115715 Please send me a private message so th...</td>\n",
       "      <td>2.0</td>\n",
       "      <td>['Tue Oct 31 22:10:10 +0000 2017', 'Tue Oct 31...</td>\n",
       "      <td>Tue Oct 31 22:10:10 +0000 2017</td>\n",
       "      <td>0.110000</td>\n",
       "    </tr>\n",
       "    <tr>\n",
       "      <th>2</th>\n",
       "      <td>2</td>\n",
       "      <td>29.0</td>\n",
       "      <td>115716.0</td>\n",
       "      <td>True</td>\n",
       "      <td>Tue Oct 31 22:01:35 +0000 2017</td>\n",
       "      <td>actually that's a broken link you sent me and ...</td>\n",
       "      <td>28</td>\n",
       "      <td>NaN</td>\n",
       "      <td>Ask_Spectrum</td>\n",
       "      <td>@115716 The information pertaining to the acco...</td>\n",
       "      <td>2.0</td>\n",
       "      <td>['Tue Oct 31 22:05:37 +0000 2017', 'Tue Oct 31...</td>\n",
       "      <td>Tue Oct 31 22:05:37 +0000 2017</td>\n",
       "      <td>0.067222</td>\n",
       "    </tr>\n",
       "    <tr>\n",
       "      <th>3</th>\n",
       "      <td>3</td>\n",
       "      <td>31.0</td>\n",
       "      <td>115717.0</td>\n",
       "      <td>True</td>\n",
       "      <td>Tue Oct 31 22:06:54 +0000 2017</td>\n",
       "      <td>Yo @Ask_Spectrum, your customer service reps a...</td>\n",
       "      <td>30</td>\n",
       "      <td>NaN</td>\n",
       "      <td>Ask_Spectrum</td>\n",
       "      <td>@115717 Hello, My apologies for any frustratio...</td>\n",
       "      <td>2.0</td>\n",
       "      <td>['Tue Oct 31 22:12:09 +0000 2017', 'Tue Oct 31...</td>\n",
       "      <td>Tue Oct 31 22:12:09 +0000 2017</td>\n",
       "      <td>0.087500</td>\n",
       "    </tr>\n",
       "    <tr>\n",
       "      <th>4</th>\n",
       "      <td>4</td>\n",
       "      <td>33.0</td>\n",
       "      <td>115718.0</td>\n",
       "      <td>True</td>\n",
       "      <td>Tue Oct 31 22:06:56 +0000 2017</td>\n",
       "      <td>My picture on @Ask_Spectrum pretty much every ...</td>\n",
       "      <td>32</td>\n",
       "      <td>NaN</td>\n",
       "      <td>Ask_Spectrum</td>\n",
       "      <td>@115718 I apologize for the inconvenience. I w...</td>\n",
       "      <td>2.0</td>\n",
       "      <td>['Tue Oct 31 22:10:08 +0000 2017', 'Tue Oct 31...</td>\n",
       "      <td>Tue Oct 31 22:10:08 +0000 2017</td>\n",
       "      <td>0.053333</td>\n",
       "    </tr>\n",
       "  </tbody>\n",
       "</table>\n",
       "</div>"
      ],
      "text/plain": [
       "  Unnamed: 0  tweet_id  author_id inbound                      created_at  \\\n",
       "0          0      18.0   115713.0    True  Tue Oct 31 19:56:01 +0000 2017   \n",
       "1          1      20.0   115715.0    True  Tue Oct 31 22:03:34 +0000 2017   \n",
       "2          2      29.0   115716.0    True  Tue Oct 31 22:01:35 +0000 2017   \n",
       "3          3      31.0   115717.0    True  Tue Oct 31 22:06:54 +0000 2017   \n",
       "4          4      33.0   115718.0    True  Tue Oct 31 22:06:56 +0000 2017   \n",
       "\n",
       "                                                text response_tweet_id  \\\n",
       "0  @115714 y’all lie about your “great” connectio...                17   \n",
       "1  @115714 whenever I contact customer support, t...                19   \n",
       "2  actually that's a broken link you sent me and ...                28   \n",
       "3  Yo @Ask_Spectrum, your customer service reps a...                30   \n",
       "4  My picture on @Ask_Spectrum pretty much every ...                32   \n",
       "\n",
       "  in_response_to_tweet_id  support_team  \\\n",
       "0                     NaN    sprintcare   \n",
       "1                     NaN    sprintcare   \n",
       "2                     NaN  Ask_Spectrum   \n",
       "3                     NaN  Ask_Spectrum   \n",
       "4                     NaN  Ask_Spectrum   \n",
       "\n",
       "                                        conversation  conversation_count  \\\n",
       "0  @115713 H there! We'd definitely like to work ...                 2.0   \n",
       "1  @115715 Please send me a private message so th...                 2.0   \n",
       "2  @115716 The information pertaining to the acco...                 2.0   \n",
       "3  @115717 Hello, My apologies for any frustratio...                 2.0   \n",
       "4  @115718 I apologize for the inconvenience. I w...                 2.0   \n",
       "\n",
       "                                  conversation_dates  \\\n",
       "0  ['Tue Oct 31 19:59:13 +0000 2017', 'Tue Oct 31...   \n",
       "1  ['Tue Oct 31 22:10:10 +0000 2017', 'Tue Oct 31...   \n",
       "2  ['Tue Oct 31 22:05:37 +0000 2017', 'Tue Oct 31...   \n",
       "3  ['Tue Oct 31 22:12:09 +0000 2017', 'Tue Oct 31...   \n",
       "4  ['Tue Oct 31 22:10:08 +0000 2017', 'Tue Oct 31...   \n",
       "\n",
       "                    date_resolved  time_to_resolve  \n",
       "0  Tue Oct 31 19:59:13 +0000 2017         0.053333  \n",
       "1  Tue Oct 31 22:10:10 +0000 2017         0.110000  \n",
       "2  Tue Oct 31 22:05:37 +0000 2017         0.067222  \n",
       "3  Tue Oct 31 22:12:09 +0000 2017         0.087500  \n",
       "4  Tue Oct 31 22:10:08 +0000 2017         0.053333  "
      ]
     },
     "execution_count": 4,
     "metadata": {},
     "output_type": "execute_result"
    }
   ],
   "source": [
    "df.head()"
   ]
  },
  {
   "cell_type": "markdown",
   "metadata": {},
   "source": [
    "### NLP Data Setup\n",
    "\n",
    "Setup the nlp process over both the text (initial intake) and the conversation "
   ]
  },
  {
   "cell_type": "code",
   "execution_count": 5,
   "metadata": {},
   "outputs": [
    {
     "data": {
      "text/plain": [
       "@115714 y’all lie about your “great” connection. 5 bars LTE, still won’t load something. Smh."
      ]
     },
     "execution_count": 5,
     "metadata": {},
     "output_type": "execute_result"
    }
   ],
   "source": [
    "test_doc = nlp(df['text'][0])\n",
    "test_doc"
   ]
  },
  {
   "cell_type": "markdown",
   "metadata": {},
   "source": [
    "#### Tokenize Inital Request"
   ]
  },
  {
   "cell_type": "markdown",
   "metadata": {},
   "source": [
    "Check basic tokenization on the sample test text"
   ]
  },
  {
   "cell_type": "code",
   "execution_count": 6,
   "metadata": {},
   "outputs": [
    {
     "name": "stdout",
     "output_type": "stream",
     "text": [
      "@115714\n",
      "y’\n",
      "all\n",
      "lie\n",
      "about\n",
      "your\n",
      "“\n",
      "great\n",
      "”\n",
      "connection\n",
      ".\n",
      "5\n",
      "bars\n",
      "LTE\n",
      ",\n",
      "still\n",
      "wo\n",
      "n’t\n",
      "load\n",
      "something\n",
      ".\n",
      "Smh\n",
      ".\n"
     ]
    }
   ],
   "source": [
    "for token in test_doc:\n",
    "    print(token.text)"
   ]
  },
  {
   "cell_type": "markdown",
   "metadata": {},
   "source": [
    "Test out the process on a smaller dataset before preforming on the entire one."
   ]
  },
  {
   "cell_type": "code",
   "execution_count": 7,
   "metadata": {},
   "outputs": [],
   "source": [
    "test_small_df = df[:250]"
   ]
  },
  {
   "cell_type": "code",
   "execution_count": 8,
   "metadata": {},
   "outputs": [
    {
     "name": "stderr",
     "output_type": "stream",
     "text": [
      "/var/folders/sk/f7k402kx1wvdmcz91gdz6hs00000gn/T/ipykernel_12018/918028222.py:1: SettingWithCopyWarning: \n",
      "A value is trying to be set on a copy of a slice from a DataFrame.\n",
      "Try using .loc[row_indexer,col_indexer] = value instead\n",
      "\n",
      "See the caveats in the documentation: https://pandas.pydata.org/pandas-docs/stable/user_guide/indexing.html#returning-a-view-versus-a-copy\n",
      "  test_small_df['text_token'] = test_small_df['text'].apply(lambda x: list(nlp(str(x))))\n"
     ]
    }
   ],
   "source": [
    "test_small_df['text_token'] = test_small_df['text'].apply(lambda x: list(nlp(str(x))))"
   ]
  },
  {
   "cell_type": "code",
   "execution_count": 9,
   "metadata": {},
   "outputs": [
    {
     "name": "stdout",
     "output_type": "stream",
     "text": [
      "Data type: object\n"
     ]
    }
   ],
   "source": [
    "print(f\"Data type: {test_small_df.dtypes['text_token']}\")"
   ]
  },
  {
   "cell_type": "markdown",
   "metadata": {},
   "source": [
    "Review the newly created column"
   ]
  },
  {
   "cell_type": "code",
   "execution_count": 10,
   "metadata": {},
   "outputs": [
    {
     "data": {
      "text/html": [
       "<div>\n",
       "<style scoped>\n",
       "    .dataframe tbody tr th:only-of-type {\n",
       "        vertical-align: middle;\n",
       "    }\n",
       "\n",
       "    .dataframe tbody tr th {\n",
       "        vertical-align: top;\n",
       "    }\n",
       "\n",
       "    .dataframe thead th {\n",
       "        text-align: right;\n",
       "    }\n",
       "</style>\n",
       "<table border=\"1\" class=\"dataframe\">\n",
       "  <thead>\n",
       "    <tr style=\"text-align: right;\">\n",
       "      <th></th>\n",
       "      <th>Unnamed: 0</th>\n",
       "      <th>tweet_id</th>\n",
       "      <th>author_id</th>\n",
       "      <th>inbound</th>\n",
       "      <th>created_at</th>\n",
       "      <th>text</th>\n",
       "      <th>response_tweet_id</th>\n",
       "      <th>in_response_to_tweet_id</th>\n",
       "      <th>support_team</th>\n",
       "      <th>conversation</th>\n",
       "      <th>conversation_count</th>\n",
       "      <th>conversation_dates</th>\n",
       "      <th>date_resolved</th>\n",
       "      <th>time_to_resolve</th>\n",
       "      <th>text_token</th>\n",
       "    </tr>\n",
       "  </thead>\n",
       "  <tbody>\n",
       "    <tr>\n",
       "      <th>0</th>\n",
       "      <td>0</td>\n",
       "      <td>18.0</td>\n",
       "      <td>115713.0</td>\n",
       "      <td>True</td>\n",
       "      <td>Tue Oct 31 19:56:01 +0000 2017</td>\n",
       "      <td>@115714 y’all lie about your “great” connectio...</td>\n",
       "      <td>17</td>\n",
       "      <td>NaN</td>\n",
       "      <td>sprintcare</td>\n",
       "      <td>@115713 H there! We'd definitely like to work ...</td>\n",
       "      <td>2.0</td>\n",
       "      <td>['Tue Oct 31 19:59:13 +0000 2017', 'Tue Oct 31...</td>\n",
       "      <td>Tue Oct 31 19:59:13 +0000 2017</td>\n",
       "      <td>0.053333</td>\n",
       "      <td>[@115714, y’, all, lie, about, your, “, great,...</td>\n",
       "    </tr>\n",
       "    <tr>\n",
       "      <th>1</th>\n",
       "      <td>1</td>\n",
       "      <td>20.0</td>\n",
       "      <td>115715.0</td>\n",
       "      <td>True</td>\n",
       "      <td>Tue Oct 31 22:03:34 +0000 2017</td>\n",
       "      <td>@115714 whenever I contact customer support, t...</td>\n",
       "      <td>19</td>\n",
       "      <td>NaN</td>\n",
       "      <td>sprintcare</td>\n",
       "      <td>@115715 Please send me a private message so th...</td>\n",
       "      <td>2.0</td>\n",
       "      <td>['Tue Oct 31 22:10:10 +0000 2017', 'Tue Oct 31...</td>\n",
       "      <td>Tue Oct 31 22:10:10 +0000 2017</td>\n",
       "      <td>0.110000</td>\n",
       "      <td>[@115714, whenever, I, contact, customer, supp...</td>\n",
       "    </tr>\n",
       "    <tr>\n",
       "      <th>2</th>\n",
       "      <td>2</td>\n",
       "      <td>29.0</td>\n",
       "      <td>115716.0</td>\n",
       "      <td>True</td>\n",
       "      <td>Tue Oct 31 22:01:35 +0000 2017</td>\n",
       "      <td>actually that's a broken link you sent me and ...</td>\n",
       "      <td>28</td>\n",
       "      <td>NaN</td>\n",
       "      <td>Ask_Spectrum</td>\n",
       "      <td>@115716 The information pertaining to the acco...</td>\n",
       "      <td>2.0</td>\n",
       "      <td>['Tue Oct 31 22:05:37 +0000 2017', 'Tue Oct 31...</td>\n",
       "      <td>Tue Oct 31 22:05:37 +0000 2017</td>\n",
       "      <td>0.067222</td>\n",
       "      <td>[actually, that, 's, a, broken, link, you, sen...</td>\n",
       "    </tr>\n",
       "    <tr>\n",
       "      <th>3</th>\n",
       "      <td>3</td>\n",
       "      <td>31.0</td>\n",
       "      <td>115717.0</td>\n",
       "      <td>True</td>\n",
       "      <td>Tue Oct 31 22:06:54 +0000 2017</td>\n",
       "      <td>Yo @Ask_Spectrum, your customer service reps a...</td>\n",
       "      <td>30</td>\n",
       "      <td>NaN</td>\n",
       "      <td>Ask_Spectrum</td>\n",
       "      <td>@115717 Hello, My apologies for any frustratio...</td>\n",
       "      <td>2.0</td>\n",
       "      <td>['Tue Oct 31 22:12:09 +0000 2017', 'Tue Oct 31...</td>\n",
       "      <td>Tue Oct 31 22:12:09 +0000 2017</td>\n",
       "      <td>0.087500</td>\n",
       "      <td>[Yo, @Ask_Spectrum, ,, your, customer, service...</td>\n",
       "    </tr>\n",
       "    <tr>\n",
       "      <th>4</th>\n",
       "      <td>4</td>\n",
       "      <td>33.0</td>\n",
       "      <td>115718.0</td>\n",
       "      <td>True</td>\n",
       "      <td>Tue Oct 31 22:06:56 +0000 2017</td>\n",
       "      <td>My picture on @Ask_Spectrum pretty much every ...</td>\n",
       "      <td>32</td>\n",
       "      <td>NaN</td>\n",
       "      <td>Ask_Spectrum</td>\n",
       "      <td>@115718 I apologize for the inconvenience. I w...</td>\n",
       "      <td>2.0</td>\n",
       "      <td>['Tue Oct 31 22:10:08 +0000 2017', 'Tue Oct 31...</td>\n",
       "      <td>Tue Oct 31 22:10:08 +0000 2017</td>\n",
       "      <td>0.053333</td>\n",
       "      <td>[My, picture, on, @Ask_Spectrum, pretty, much,...</td>\n",
       "    </tr>\n",
       "  </tbody>\n",
       "</table>\n",
       "</div>"
      ],
      "text/plain": [
       "  Unnamed: 0  tweet_id  author_id inbound                      created_at  \\\n",
       "0          0      18.0   115713.0    True  Tue Oct 31 19:56:01 +0000 2017   \n",
       "1          1      20.0   115715.0    True  Tue Oct 31 22:03:34 +0000 2017   \n",
       "2          2      29.0   115716.0    True  Tue Oct 31 22:01:35 +0000 2017   \n",
       "3          3      31.0   115717.0    True  Tue Oct 31 22:06:54 +0000 2017   \n",
       "4          4      33.0   115718.0    True  Tue Oct 31 22:06:56 +0000 2017   \n",
       "\n",
       "                                                text response_tweet_id  \\\n",
       "0  @115714 y’all lie about your “great” connectio...                17   \n",
       "1  @115714 whenever I contact customer support, t...                19   \n",
       "2  actually that's a broken link you sent me and ...                28   \n",
       "3  Yo @Ask_Spectrum, your customer service reps a...                30   \n",
       "4  My picture on @Ask_Spectrum pretty much every ...                32   \n",
       "\n",
       "  in_response_to_tweet_id  support_team  \\\n",
       "0                     NaN    sprintcare   \n",
       "1                     NaN    sprintcare   \n",
       "2                     NaN  Ask_Spectrum   \n",
       "3                     NaN  Ask_Spectrum   \n",
       "4                     NaN  Ask_Spectrum   \n",
       "\n",
       "                                        conversation  conversation_count  \\\n",
       "0  @115713 H there! We'd definitely like to work ...                 2.0   \n",
       "1  @115715 Please send me a private message so th...                 2.0   \n",
       "2  @115716 The information pertaining to the acco...                 2.0   \n",
       "3  @115717 Hello, My apologies for any frustratio...                 2.0   \n",
       "4  @115718 I apologize for the inconvenience. I w...                 2.0   \n",
       "\n",
       "                                  conversation_dates  \\\n",
       "0  ['Tue Oct 31 19:59:13 +0000 2017', 'Tue Oct 31...   \n",
       "1  ['Tue Oct 31 22:10:10 +0000 2017', 'Tue Oct 31...   \n",
       "2  ['Tue Oct 31 22:05:37 +0000 2017', 'Tue Oct 31...   \n",
       "3  ['Tue Oct 31 22:12:09 +0000 2017', 'Tue Oct 31...   \n",
       "4  ['Tue Oct 31 22:10:08 +0000 2017', 'Tue Oct 31...   \n",
       "\n",
       "                    date_resolved  time_to_resolve  \\\n",
       "0  Tue Oct 31 19:59:13 +0000 2017         0.053333   \n",
       "1  Tue Oct 31 22:10:10 +0000 2017         0.110000   \n",
       "2  Tue Oct 31 22:05:37 +0000 2017         0.067222   \n",
       "3  Tue Oct 31 22:12:09 +0000 2017         0.087500   \n",
       "4  Tue Oct 31 22:10:08 +0000 2017         0.053333   \n",
       "\n",
       "                                          text_token  \n",
       "0  [@115714, y’, all, lie, about, your, “, great,...  \n",
       "1  [@115714, whenever, I, contact, customer, supp...  \n",
       "2  [actually, that, 's, a, broken, link, you, sen...  \n",
       "3  [Yo, @Ask_Spectrum, ,, your, customer, service...  \n",
       "4  [My, picture, on, @Ask_Spectrum, pretty, much,...  "
      ]
     },
     "execution_count": 10,
     "metadata": {},
     "output_type": "execute_result"
    }
   ],
   "source": [
    "test_small_df.head()"
   ]
  },
  {
   "cell_type": "markdown",
   "metadata": {},
   "source": [
    "Preform the tokenization over the entire dataframe"
   ]
  },
  {
   "cell_type": "code",
   "execution_count": 11,
   "metadata": {},
   "outputs": [],
   "source": [
    "df['text_tokens'] = df['text'].apply(lambda x: list(nlp(str(x))))"
   ]
  },
  {
   "cell_type": "code",
   "execution_count": null,
   "metadata": {},
   "outputs": [],
   "source": [
    "df.head()"
   ]
  },
  {
   "cell_type": "markdown",
   "metadata": {},
   "source": [
    "### Create conversation tokens"
   ]
  },
  {
   "cell_type": "code",
   "execution_count": 12,
   "metadata": {},
   "outputs": [],
   "source": [
    "test_conv = df['conversation'][0]"
   ]
  },
  {
   "cell_type": "code",
   "execution_count": 13,
   "metadata": {},
   "outputs": [],
   "source": [
    "test_conv_doc = nlp(test_conv)"
   ]
  },
  {
   "cell_type": "code",
   "execution_count": 14,
   "metadata": {},
   "outputs": [
    {
     "name": "stdout",
     "output_type": "stream",
     "text": [
      "@115713\n",
      "H\n",
      "there\n",
      "!\n",
      "We\n",
      "'d\n",
      "definitely\n",
      "like\n",
      "to\n",
      "work\n",
      "with\n",
      "you\n",
      "on\n",
      "this\n",
      ",\n",
      "how\n",
      "long\n",
      "have\n",
      "you\n",
      "been\n",
      "experiencing\n",
      "this\n",
      "issue\n",
      "?\n",
      "-AA\n",
      "\n",
      "\n",
      "@115714\n",
      "y’\n",
      "all\n",
      "lie\n",
      "about\n",
      "your\n",
      "“\n",
      "great\n",
      "”\n",
      "connection\n",
      ".\n",
      "5\n",
      "bars\n",
      "LTE\n",
      ",\n",
      "still\n",
      "wo\n",
      "n’t\n",
      "load\n",
      "something\n",
      ".\n",
      "Smh\n",
      ".\n",
      "\n",
      "\n"
     ]
    }
   ],
   "source": [
    "for token in test_conv_doc:\n",
    "    print(token.text)"
   ]
  },
  {
   "cell_type": "markdown",
   "metadata": {},
   "source": [
    "Create a new conversation tokens column"
   ]
  },
  {
   "cell_type": "code",
   "execution_count": null,
   "metadata": {},
   "outputs": [],
   "source": [
    "df['conversation_tokens'] = df['conversation'].apply(lambda x: list(nlp(str(x))))"
   ]
  }
 ],
 "metadata": {
  "kernelspec": {
   "display_name": "venv-metal",
   "language": "python",
   "name": "python3"
  },
  "language_info": {
   "codemirror_mode": {
    "name": "ipython",
    "version": 3
   },
   "file_extension": ".py",
   "mimetype": "text/x-python",
   "name": "python",
   "nbconvert_exporter": "python",
   "pygments_lexer": "ipython3",
   "version": "3.9.6"
  }
 },
 "nbformat": 4,
 "nbformat_minor": 2
}
