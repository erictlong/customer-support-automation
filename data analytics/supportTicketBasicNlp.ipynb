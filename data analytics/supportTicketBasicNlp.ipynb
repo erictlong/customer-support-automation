{
 "cells": [
  {
   "cell_type": "markdown",
   "metadata": {},
   "source": [
    "## Support Tickets NLP (basic)\n",
    "\n",
    "With the support tickets reviewed. We need to look into basic text / nlp information that is genderated from these support tickets.\n",
    "\n",
    "We wont be pulling every information we can. This is only ment to be a basic info before creating a ai model."
   ]
  },
  {
   "cell_type": "markdown",
   "metadata": {},
   "source": [
    "### Python Setup"
   ]
  },
  {
   "cell_type": "code",
   "execution_count": 1,
   "metadata": {},
   "outputs": [
    {
     "name": "stderr",
     "output_type": "stream",
     "text": [
      "/Users/eric/venv-metal/lib/python3.9/site-packages/urllib3/__init__.py:35: NotOpenSSLWarning: urllib3 v2 only supports OpenSSL 1.1.1+, currently the 'ssl' module is compiled with 'LibreSSL 2.8.3'. See: https://github.com/urllib3/urllib3/issues/3020\n",
      "  warnings.warn(\n"
     ]
    }
   ],
   "source": [
    "import pandas as pd\n",
    "import spacy\n",
    "import seaborn as sns\n",
    "import matplotlib.pyplot as plt"
   ]
  },
  {
   "cell_type": "markdown",
   "metadata": {},
   "source": [
    "basic spacy setup"
   ]
  },
  {
   "cell_type": "code",
   "execution_count": 2,
   "metadata": {},
   "outputs": [
    {
     "name": "stderr",
     "output_type": "stream",
     "text": [
      "/Users/eric/venv-metal/lib/python3.9/site-packages/spacy/util.py:910: UserWarning: [W095] Model 'en_core_web_sm' (3.7.1) was trained with spaCy v3.7.2 and may not be 100% compatible with the current version (3.8.2). If you see errors or degraded performance, download a newer compatible model or retrain your custom model with the current spaCy version. For more details and available updates, run: python -m spacy validate\n",
      "  warnings.warn(warn_msg)\n"
     ]
    }
   ],
   "source": [
    "nlp = spacy.load(\"en_core_web_sm\")"
   ]
  },
  {
   "cell_type": "markdown",
   "metadata": {},
   "source": [
    "### Import Support File"
   ]
  },
  {
   "cell_type": "code",
   "execution_count": 3,
   "metadata": {},
   "outputs": [],
   "source": [
    "df = pd.read_csv(\"../data/tweeter_support_tickets.csv\")"
   ]
  },
  {
   "cell_type": "code",
   "execution_count": 4,
   "metadata": {},
   "outputs": [
    {
     "data": {
      "text/html": [
       "<div>\n",
       "<style scoped>\n",
       "    .dataframe tbody tr th:only-of-type {\n",
       "        vertical-align: middle;\n",
       "    }\n",
       "\n",
       "    .dataframe tbody tr th {\n",
       "        vertical-align: top;\n",
       "    }\n",
       "\n",
       "    .dataframe thead th {\n",
       "        text-align: right;\n",
       "    }\n",
       "</style>\n",
       "<table border=\"1\" class=\"dataframe\">\n",
       "  <thead>\n",
       "    <tr style=\"text-align: right;\">\n",
       "      <th></th>\n",
       "      <th>Unnamed: 0</th>\n",
       "      <th>tweet_id</th>\n",
       "      <th>author_id</th>\n",
       "      <th>inbound</th>\n",
       "      <th>created_at</th>\n",
       "      <th>text</th>\n",
       "      <th>response_tweet_id</th>\n",
       "      <th>in_response_to_tweet_id</th>\n",
       "      <th>support_team</th>\n",
       "      <th>conversation</th>\n",
       "      <th>conversation_count</th>\n",
       "      <th>conversation_dates</th>\n",
       "      <th>date_resolved</th>\n",
       "      <th>time_to_resolve</th>\n",
       "    </tr>\n",
       "  </thead>\n",
       "  <tbody>\n",
       "    <tr>\n",
       "      <th>0</th>\n",
       "      <td>0</td>\n",
       "      <td>18.0</td>\n",
       "      <td>115713.0</td>\n",
       "      <td>True</td>\n",
       "      <td>Tue Oct 31 19:56:01 +0000 2017</td>\n",
       "      <td>@115714 y’all lie about your “great” connectio...</td>\n",
       "      <td>17</td>\n",
       "      <td>NaN</td>\n",
       "      <td>sprintcare</td>\n",
       "      <td>@115713 H there! We'd definitely like to work ...</td>\n",
       "      <td>2.0</td>\n",
       "      <td>['Tue Oct 31 19:59:13 +0000 2017', 'Tue Oct 31...</td>\n",
       "      <td>Tue Oct 31 19:59:13 +0000 2017</td>\n",
       "      <td>0.053333</td>\n",
       "    </tr>\n",
       "    <tr>\n",
       "      <th>1</th>\n",
       "      <td>1</td>\n",
       "      <td>20.0</td>\n",
       "      <td>115715.0</td>\n",
       "      <td>True</td>\n",
       "      <td>Tue Oct 31 22:03:34 +0000 2017</td>\n",
       "      <td>@115714 whenever I contact customer support, t...</td>\n",
       "      <td>19</td>\n",
       "      <td>NaN</td>\n",
       "      <td>sprintcare</td>\n",
       "      <td>@115715 Please send me a private message so th...</td>\n",
       "      <td>2.0</td>\n",
       "      <td>['Tue Oct 31 22:10:10 +0000 2017', 'Tue Oct 31...</td>\n",
       "      <td>Tue Oct 31 22:10:10 +0000 2017</td>\n",
       "      <td>0.110000</td>\n",
       "    </tr>\n",
       "    <tr>\n",
       "      <th>2</th>\n",
       "      <td>2</td>\n",
       "      <td>29.0</td>\n",
       "      <td>115716.0</td>\n",
       "      <td>True</td>\n",
       "      <td>Tue Oct 31 22:01:35 +0000 2017</td>\n",
       "      <td>actually that's a broken link you sent me and ...</td>\n",
       "      <td>28</td>\n",
       "      <td>NaN</td>\n",
       "      <td>Ask_Spectrum</td>\n",
       "      <td>@115716 The information pertaining to the acco...</td>\n",
       "      <td>2.0</td>\n",
       "      <td>['Tue Oct 31 22:05:37 +0000 2017', 'Tue Oct 31...</td>\n",
       "      <td>Tue Oct 31 22:05:37 +0000 2017</td>\n",
       "      <td>0.067222</td>\n",
       "    </tr>\n",
       "    <tr>\n",
       "      <th>3</th>\n",
       "      <td>3</td>\n",
       "      <td>31.0</td>\n",
       "      <td>115717.0</td>\n",
       "      <td>True</td>\n",
       "      <td>Tue Oct 31 22:06:54 +0000 2017</td>\n",
       "      <td>Yo @Ask_Spectrum, your customer service reps a...</td>\n",
       "      <td>30</td>\n",
       "      <td>NaN</td>\n",
       "      <td>Ask_Spectrum</td>\n",
       "      <td>@115717 Hello, My apologies for any frustratio...</td>\n",
       "      <td>2.0</td>\n",
       "      <td>['Tue Oct 31 22:12:09 +0000 2017', 'Tue Oct 31...</td>\n",
       "      <td>Tue Oct 31 22:12:09 +0000 2017</td>\n",
       "      <td>0.087500</td>\n",
       "    </tr>\n",
       "    <tr>\n",
       "      <th>4</th>\n",
       "      <td>4</td>\n",
       "      <td>33.0</td>\n",
       "      <td>115718.0</td>\n",
       "      <td>True</td>\n",
       "      <td>Tue Oct 31 22:06:56 +0000 2017</td>\n",
       "      <td>My picture on @Ask_Spectrum pretty much every ...</td>\n",
       "      <td>32</td>\n",
       "      <td>NaN</td>\n",
       "      <td>Ask_Spectrum</td>\n",
       "      <td>@115718 I apologize for the inconvenience. I w...</td>\n",
       "      <td>2.0</td>\n",
       "      <td>['Tue Oct 31 22:10:08 +0000 2017', 'Tue Oct 31...</td>\n",
       "      <td>Tue Oct 31 22:10:08 +0000 2017</td>\n",
       "      <td>0.053333</td>\n",
       "    </tr>\n",
       "  </tbody>\n",
       "</table>\n",
       "</div>"
      ],
      "text/plain": [
       "  Unnamed: 0  tweet_id  author_id inbound                      created_at  \\\n",
       "0          0      18.0   115713.0    True  Tue Oct 31 19:56:01 +0000 2017   \n",
       "1          1      20.0   115715.0    True  Tue Oct 31 22:03:34 +0000 2017   \n",
       "2          2      29.0   115716.0    True  Tue Oct 31 22:01:35 +0000 2017   \n",
       "3          3      31.0   115717.0    True  Tue Oct 31 22:06:54 +0000 2017   \n",
       "4          4      33.0   115718.0    True  Tue Oct 31 22:06:56 +0000 2017   \n",
       "\n",
       "                                                text response_tweet_id  \\\n",
       "0  @115714 y’all lie about your “great” connectio...                17   \n",
       "1  @115714 whenever I contact customer support, t...                19   \n",
       "2  actually that's a broken link you sent me and ...                28   \n",
       "3  Yo @Ask_Spectrum, your customer service reps a...                30   \n",
       "4  My picture on @Ask_Spectrum pretty much every ...                32   \n",
       "\n",
       "  in_response_to_tweet_id  support_team  \\\n",
       "0                     NaN    sprintcare   \n",
       "1                     NaN    sprintcare   \n",
       "2                     NaN  Ask_Spectrum   \n",
       "3                     NaN  Ask_Spectrum   \n",
       "4                     NaN  Ask_Spectrum   \n",
       "\n",
       "                                        conversation  conversation_count  \\\n",
       "0  @115713 H there! We'd definitely like to work ...                 2.0   \n",
       "1  @115715 Please send me a private message so th...                 2.0   \n",
       "2  @115716 The information pertaining to the acco...                 2.0   \n",
       "3  @115717 Hello, My apologies for any frustratio...                 2.0   \n",
       "4  @115718 I apologize for the inconvenience. I w...                 2.0   \n",
       "\n",
       "                                  conversation_dates  \\\n",
       "0  ['Tue Oct 31 19:59:13 +0000 2017', 'Tue Oct 31...   \n",
       "1  ['Tue Oct 31 22:10:10 +0000 2017', 'Tue Oct 31...   \n",
       "2  ['Tue Oct 31 22:05:37 +0000 2017', 'Tue Oct 31...   \n",
       "3  ['Tue Oct 31 22:12:09 +0000 2017', 'Tue Oct 31...   \n",
       "4  ['Tue Oct 31 22:10:08 +0000 2017', 'Tue Oct 31...   \n",
       "\n",
       "                    date_resolved  time_to_resolve  \n",
       "0  Tue Oct 31 19:59:13 +0000 2017         0.053333  \n",
       "1  Tue Oct 31 22:10:10 +0000 2017         0.110000  \n",
       "2  Tue Oct 31 22:05:37 +0000 2017         0.067222  \n",
       "3  Tue Oct 31 22:12:09 +0000 2017         0.087500  \n",
       "4  Tue Oct 31 22:10:08 +0000 2017         0.053333  "
      ]
     },
     "execution_count": 4,
     "metadata": {},
     "output_type": "execute_result"
    }
   ],
   "source": [
    "df.head()"
   ]
  },
  {
   "cell_type": "code",
   "execution_count": 5,
   "metadata": {},
   "outputs": [
    {
     "name": "stdout",
     "output_type": "stream",
     "text": [
      "<class 'pandas.core.frame.DataFrame'>\n",
      "RangeIndex: 981197 entries, 0 to 981196\n",
      "Data columns (total 14 columns):\n",
      " #   Column                   Non-Null Count   Dtype  \n",
      "---  ------                   --------------   -----  \n",
      " 0   Unnamed: 0               981197 non-null  object \n",
      " 1   tweet_id                 981127 non-null  float64\n",
      " 2   author_id                980971 non-null  float64\n",
      " 3   inbound                  981123 non-null  object \n",
      " 4   created_at               981127 non-null  object \n",
      " 5   text                     981127 non-null  object \n",
      " 6   response_tweet_id        966212 non-null  object \n",
      " 7   in_response_to_tweet_id  145 non-null     object \n",
      " 8   support_team             892928 non-null  object \n",
      " 9   conversation             966056 non-null  object \n",
      " 10  conversation_count       966056 non-null  float64\n",
      " 11  conversation_dates       966056 non-null  object \n",
      " 12  date_resolved            875147 non-null  object \n",
      " 13  time_to_resolve          966056 non-null  float64\n",
      "dtypes: float64(4), object(10)\n",
      "memory usage: 104.8+ MB\n"
     ]
    }
   ],
   "source": [
    "df.info()"
   ]
  },
  {
   "cell_type": "code",
   "execution_count": 6,
   "metadata": {},
   "outputs": [],
   "source": [
    "df = df.reset_index()"
   ]
  },
  {
   "cell_type": "markdown",
   "metadata": {},
   "source": [
    "### NLP Data Setup\n",
    "\n",
    "Setup the nlp process over both the text (initial intake) and the conversation "
   ]
  },
  {
   "cell_type": "code",
   "execution_count": 7,
   "metadata": {},
   "outputs": [
    {
     "data": {
      "text/plain": [
       "@115714 y’all lie about your “great” connection. 5 bars LTE, still won’t load something. Smh."
      ]
     },
     "execution_count": 7,
     "metadata": {},
     "output_type": "execute_result"
    }
   ],
   "source": [
    "test_doc = nlp(df['text'][0])\n",
    "test_doc"
   ]
  },
  {
   "cell_type": "markdown",
   "metadata": {},
   "source": [
    "#### NLP Doc Inital Request"
   ]
  },
  {
   "cell_type": "markdown",
   "metadata": {},
   "source": [
    "Check basic tokenization on the sample test text"
   ]
  },
  {
   "cell_type": "code",
   "execution_count": 8,
   "metadata": {},
   "outputs": [
    {
     "name": "stdout",
     "output_type": "stream",
     "text": [
      "@115714\n",
      "y’\n",
      "all\n",
      "lie\n",
      "about\n",
      "your\n",
      "“\n",
      "great\n",
      "”\n",
      "connection\n",
      ".\n",
      "5\n",
      "bars\n",
      "LTE\n",
      ",\n",
      "still\n",
      "wo\n",
      "n’t\n",
      "load\n",
      "something\n",
      ".\n",
      "Smh\n",
      ".\n"
     ]
    }
   ],
   "source": [
    "for token in test_doc:\n",
    "    print(token.text)"
   ]
  },
  {
   "cell_type": "markdown",
   "metadata": {},
   "source": [
    "Test out the process on a smaller dataset before preforming on the entire one."
   ]
  },
  {
   "cell_type": "code",
   "execution_count": 9,
   "metadata": {},
   "outputs": [],
   "source": [
    "test_small_df = df[:250]"
   ]
  },
  {
   "cell_type": "code",
   "execution_count": 10,
   "metadata": {},
   "outputs": [
    {
     "name": "stderr",
     "output_type": "stream",
     "text": [
      "/var/folders/sk/f7k402kx1wvdmcz91gdz6hs00000gn/T/ipykernel_26152/3599946483.py:1: SettingWithCopyWarning: \n",
      "A value is trying to be set on a copy of a slice from a DataFrame.\n",
      "Try using .loc[row_indexer,col_indexer] = value instead\n",
      "\n",
      "See the caveats in the documentation: https://pandas.pydata.org/pandas-docs/stable/user_guide/indexing.html#returning-a-view-versus-a-copy\n",
      "  test_small_df['text_doc'] = test_small_df['text'].apply(lambda x: list(nlp(str(x))))\n"
     ]
    }
   ],
   "source": [
    "test_small_df['text_doc'] = test_small_df['text'].apply(lambda x: list(nlp(str(x))))"
   ]
  },
  {
   "cell_type": "code",
   "execution_count": 11,
   "metadata": {},
   "outputs": [
    {
     "name": "stdout",
     "output_type": "stream",
     "text": [
      "Data type: object\n"
     ]
    }
   ],
   "source": [
    "print(f\"Data type: {test_small_df.dtypes['text_doc']}\")"
   ]
  },
  {
   "cell_type": "markdown",
   "metadata": {},
   "source": [
    "Review the newly created column"
   ]
  },
  {
   "cell_type": "code",
   "execution_count": 12,
   "metadata": {},
   "outputs": [
    {
     "data": {
      "text/html": [
       "<div>\n",
       "<style scoped>\n",
       "    .dataframe tbody tr th:only-of-type {\n",
       "        vertical-align: middle;\n",
       "    }\n",
       "\n",
       "    .dataframe tbody tr th {\n",
       "        vertical-align: top;\n",
       "    }\n",
       "\n",
       "    .dataframe thead th {\n",
       "        text-align: right;\n",
       "    }\n",
       "</style>\n",
       "<table border=\"1\" class=\"dataframe\">\n",
       "  <thead>\n",
       "    <tr style=\"text-align: right;\">\n",
       "      <th></th>\n",
       "      <th>index</th>\n",
       "      <th>Unnamed: 0</th>\n",
       "      <th>tweet_id</th>\n",
       "      <th>author_id</th>\n",
       "      <th>inbound</th>\n",
       "      <th>created_at</th>\n",
       "      <th>text</th>\n",
       "      <th>response_tweet_id</th>\n",
       "      <th>in_response_to_tweet_id</th>\n",
       "      <th>support_team</th>\n",
       "      <th>conversation</th>\n",
       "      <th>conversation_count</th>\n",
       "      <th>conversation_dates</th>\n",
       "      <th>date_resolved</th>\n",
       "      <th>time_to_resolve</th>\n",
       "      <th>text_doc</th>\n",
       "    </tr>\n",
       "  </thead>\n",
       "  <tbody>\n",
       "    <tr>\n",
       "      <th>0</th>\n",
       "      <td>0</td>\n",
       "      <td>0</td>\n",
       "      <td>18.0</td>\n",
       "      <td>115713.0</td>\n",
       "      <td>True</td>\n",
       "      <td>Tue Oct 31 19:56:01 +0000 2017</td>\n",
       "      <td>@115714 y’all lie about your “great” connectio...</td>\n",
       "      <td>17</td>\n",
       "      <td>NaN</td>\n",
       "      <td>sprintcare</td>\n",
       "      <td>@115713 H there! We'd definitely like to work ...</td>\n",
       "      <td>2.0</td>\n",
       "      <td>['Tue Oct 31 19:59:13 +0000 2017', 'Tue Oct 31...</td>\n",
       "      <td>Tue Oct 31 19:59:13 +0000 2017</td>\n",
       "      <td>0.053333</td>\n",
       "      <td>[@115714, y’, all, lie, about, your, “, great,...</td>\n",
       "    </tr>\n",
       "    <tr>\n",
       "      <th>1</th>\n",
       "      <td>1</td>\n",
       "      <td>1</td>\n",
       "      <td>20.0</td>\n",
       "      <td>115715.0</td>\n",
       "      <td>True</td>\n",
       "      <td>Tue Oct 31 22:03:34 +0000 2017</td>\n",
       "      <td>@115714 whenever I contact customer support, t...</td>\n",
       "      <td>19</td>\n",
       "      <td>NaN</td>\n",
       "      <td>sprintcare</td>\n",
       "      <td>@115715 Please send me a private message so th...</td>\n",
       "      <td>2.0</td>\n",
       "      <td>['Tue Oct 31 22:10:10 +0000 2017', 'Tue Oct 31...</td>\n",
       "      <td>Tue Oct 31 22:10:10 +0000 2017</td>\n",
       "      <td>0.110000</td>\n",
       "      <td>[@115714, whenever, I, contact, customer, supp...</td>\n",
       "    </tr>\n",
       "    <tr>\n",
       "      <th>2</th>\n",
       "      <td>2</td>\n",
       "      <td>2</td>\n",
       "      <td>29.0</td>\n",
       "      <td>115716.0</td>\n",
       "      <td>True</td>\n",
       "      <td>Tue Oct 31 22:01:35 +0000 2017</td>\n",
       "      <td>actually that's a broken link you sent me and ...</td>\n",
       "      <td>28</td>\n",
       "      <td>NaN</td>\n",
       "      <td>Ask_Spectrum</td>\n",
       "      <td>@115716 The information pertaining to the acco...</td>\n",
       "      <td>2.0</td>\n",
       "      <td>['Tue Oct 31 22:05:37 +0000 2017', 'Tue Oct 31...</td>\n",
       "      <td>Tue Oct 31 22:05:37 +0000 2017</td>\n",
       "      <td>0.067222</td>\n",
       "      <td>[actually, that, 's, a, broken, link, you, sen...</td>\n",
       "    </tr>\n",
       "    <tr>\n",
       "      <th>3</th>\n",
       "      <td>3</td>\n",
       "      <td>3</td>\n",
       "      <td>31.0</td>\n",
       "      <td>115717.0</td>\n",
       "      <td>True</td>\n",
       "      <td>Tue Oct 31 22:06:54 +0000 2017</td>\n",
       "      <td>Yo @Ask_Spectrum, your customer service reps a...</td>\n",
       "      <td>30</td>\n",
       "      <td>NaN</td>\n",
       "      <td>Ask_Spectrum</td>\n",
       "      <td>@115717 Hello, My apologies for any frustratio...</td>\n",
       "      <td>2.0</td>\n",
       "      <td>['Tue Oct 31 22:12:09 +0000 2017', 'Tue Oct 31...</td>\n",
       "      <td>Tue Oct 31 22:12:09 +0000 2017</td>\n",
       "      <td>0.087500</td>\n",
       "      <td>[Yo, @Ask_Spectrum, ,, your, customer, service...</td>\n",
       "    </tr>\n",
       "    <tr>\n",
       "      <th>4</th>\n",
       "      <td>4</td>\n",
       "      <td>4</td>\n",
       "      <td>33.0</td>\n",
       "      <td>115718.0</td>\n",
       "      <td>True</td>\n",
       "      <td>Tue Oct 31 22:06:56 +0000 2017</td>\n",
       "      <td>My picture on @Ask_Spectrum pretty much every ...</td>\n",
       "      <td>32</td>\n",
       "      <td>NaN</td>\n",
       "      <td>Ask_Spectrum</td>\n",
       "      <td>@115718 I apologize for the inconvenience. I w...</td>\n",
       "      <td>2.0</td>\n",
       "      <td>['Tue Oct 31 22:10:08 +0000 2017', 'Tue Oct 31...</td>\n",
       "      <td>Tue Oct 31 22:10:08 +0000 2017</td>\n",
       "      <td>0.053333</td>\n",
       "      <td>[My, picture, on, @Ask_Spectrum, pretty, much,...</td>\n",
       "    </tr>\n",
       "  </tbody>\n",
       "</table>\n",
       "</div>"
      ],
      "text/plain": [
       "   index Unnamed: 0  tweet_id  author_id inbound  \\\n",
       "0      0          0      18.0   115713.0    True   \n",
       "1      1          1      20.0   115715.0    True   \n",
       "2      2          2      29.0   115716.0    True   \n",
       "3      3          3      31.0   115717.0    True   \n",
       "4      4          4      33.0   115718.0    True   \n",
       "\n",
       "                       created_at  \\\n",
       "0  Tue Oct 31 19:56:01 +0000 2017   \n",
       "1  Tue Oct 31 22:03:34 +0000 2017   \n",
       "2  Tue Oct 31 22:01:35 +0000 2017   \n",
       "3  Tue Oct 31 22:06:54 +0000 2017   \n",
       "4  Tue Oct 31 22:06:56 +0000 2017   \n",
       "\n",
       "                                                text response_tweet_id  \\\n",
       "0  @115714 y’all lie about your “great” connectio...                17   \n",
       "1  @115714 whenever I contact customer support, t...                19   \n",
       "2  actually that's a broken link you sent me and ...                28   \n",
       "3  Yo @Ask_Spectrum, your customer service reps a...                30   \n",
       "4  My picture on @Ask_Spectrum pretty much every ...                32   \n",
       "\n",
       "  in_response_to_tweet_id  support_team  \\\n",
       "0                     NaN    sprintcare   \n",
       "1                     NaN    sprintcare   \n",
       "2                     NaN  Ask_Spectrum   \n",
       "3                     NaN  Ask_Spectrum   \n",
       "4                     NaN  Ask_Spectrum   \n",
       "\n",
       "                                        conversation  conversation_count  \\\n",
       "0  @115713 H there! We'd definitely like to work ...                 2.0   \n",
       "1  @115715 Please send me a private message so th...                 2.0   \n",
       "2  @115716 The information pertaining to the acco...                 2.0   \n",
       "3  @115717 Hello, My apologies for any frustratio...                 2.0   \n",
       "4  @115718 I apologize for the inconvenience. I w...                 2.0   \n",
       "\n",
       "                                  conversation_dates  \\\n",
       "0  ['Tue Oct 31 19:59:13 +0000 2017', 'Tue Oct 31...   \n",
       "1  ['Tue Oct 31 22:10:10 +0000 2017', 'Tue Oct 31...   \n",
       "2  ['Tue Oct 31 22:05:37 +0000 2017', 'Tue Oct 31...   \n",
       "3  ['Tue Oct 31 22:12:09 +0000 2017', 'Tue Oct 31...   \n",
       "4  ['Tue Oct 31 22:10:08 +0000 2017', 'Tue Oct 31...   \n",
       "\n",
       "                    date_resolved  time_to_resolve  \\\n",
       "0  Tue Oct 31 19:59:13 +0000 2017         0.053333   \n",
       "1  Tue Oct 31 22:10:10 +0000 2017         0.110000   \n",
       "2  Tue Oct 31 22:05:37 +0000 2017         0.067222   \n",
       "3  Tue Oct 31 22:12:09 +0000 2017         0.087500   \n",
       "4  Tue Oct 31 22:10:08 +0000 2017         0.053333   \n",
       "\n",
       "                                            text_doc  \n",
       "0  [@115714, y’, all, lie, about, your, “, great,...  \n",
       "1  [@115714, whenever, I, contact, customer, supp...  \n",
       "2  [actually, that, 's, a, broken, link, you, sen...  \n",
       "3  [Yo, @Ask_Spectrum, ,, your, customer, service...  \n",
       "4  [My, picture, on, @Ask_Spectrum, pretty, much,...  "
      ]
     },
     "execution_count": 12,
     "metadata": {},
     "output_type": "execute_result"
    }
   ],
   "source": [
    "test_small_df.head()"
   ]
  },
  {
   "cell_type": "markdown",
   "metadata": {},
   "source": [
    "Preform the tokenization over the entire dataframe"
   ]
  },
  {
   "cell_type": "code",
   "execution_count": 13,
   "metadata": {},
   "outputs": [],
   "source": [
    "df['text_doc'] = df['text'].apply(lambda x: list(nlp(str(x))))"
   ]
  },
  {
   "cell_type": "code",
   "execution_count": 14,
   "metadata": {},
   "outputs": [
    {
     "data": {
      "text/html": [
       "<div>\n",
       "<style scoped>\n",
       "    .dataframe tbody tr th:only-of-type {\n",
       "        vertical-align: middle;\n",
       "    }\n",
       "\n",
       "    .dataframe tbody tr th {\n",
       "        vertical-align: top;\n",
       "    }\n",
       "\n",
       "    .dataframe thead th {\n",
       "        text-align: right;\n",
       "    }\n",
       "</style>\n",
       "<table border=\"1\" class=\"dataframe\">\n",
       "  <thead>\n",
       "    <tr style=\"text-align: right;\">\n",
       "      <th></th>\n",
       "      <th>index</th>\n",
       "      <th>Unnamed: 0</th>\n",
       "      <th>tweet_id</th>\n",
       "      <th>author_id</th>\n",
       "      <th>inbound</th>\n",
       "      <th>created_at</th>\n",
       "      <th>text</th>\n",
       "      <th>response_tweet_id</th>\n",
       "      <th>in_response_to_tweet_id</th>\n",
       "      <th>support_team</th>\n",
       "      <th>conversation</th>\n",
       "      <th>conversation_count</th>\n",
       "      <th>conversation_dates</th>\n",
       "      <th>date_resolved</th>\n",
       "      <th>time_to_resolve</th>\n",
       "      <th>text_doc</th>\n",
       "    </tr>\n",
       "  </thead>\n",
       "  <tbody>\n",
       "    <tr>\n",
       "      <th>0</th>\n",
       "      <td>0</td>\n",
       "      <td>0</td>\n",
       "      <td>18.0</td>\n",
       "      <td>115713.0</td>\n",
       "      <td>True</td>\n",
       "      <td>Tue Oct 31 19:56:01 +0000 2017</td>\n",
       "      <td>@115714 y’all lie about your “great” connectio...</td>\n",
       "      <td>17</td>\n",
       "      <td>NaN</td>\n",
       "      <td>sprintcare</td>\n",
       "      <td>@115713 H there! We'd definitely like to work ...</td>\n",
       "      <td>2.0</td>\n",
       "      <td>['Tue Oct 31 19:59:13 +0000 2017', 'Tue Oct 31...</td>\n",
       "      <td>Tue Oct 31 19:59:13 +0000 2017</td>\n",
       "      <td>0.053333</td>\n",
       "      <td>[@115714, y’, all, lie, about, your, “, great,...</td>\n",
       "    </tr>\n",
       "    <tr>\n",
       "      <th>1</th>\n",
       "      <td>1</td>\n",
       "      <td>1</td>\n",
       "      <td>20.0</td>\n",
       "      <td>115715.0</td>\n",
       "      <td>True</td>\n",
       "      <td>Tue Oct 31 22:03:34 +0000 2017</td>\n",
       "      <td>@115714 whenever I contact customer support, t...</td>\n",
       "      <td>19</td>\n",
       "      <td>NaN</td>\n",
       "      <td>sprintcare</td>\n",
       "      <td>@115715 Please send me a private message so th...</td>\n",
       "      <td>2.0</td>\n",
       "      <td>['Tue Oct 31 22:10:10 +0000 2017', 'Tue Oct 31...</td>\n",
       "      <td>Tue Oct 31 22:10:10 +0000 2017</td>\n",
       "      <td>0.110000</td>\n",
       "      <td>[@115714, whenever, I, contact, customer, supp...</td>\n",
       "    </tr>\n",
       "    <tr>\n",
       "      <th>2</th>\n",
       "      <td>2</td>\n",
       "      <td>2</td>\n",
       "      <td>29.0</td>\n",
       "      <td>115716.0</td>\n",
       "      <td>True</td>\n",
       "      <td>Tue Oct 31 22:01:35 +0000 2017</td>\n",
       "      <td>actually that's a broken link you sent me and ...</td>\n",
       "      <td>28</td>\n",
       "      <td>NaN</td>\n",
       "      <td>Ask_Spectrum</td>\n",
       "      <td>@115716 The information pertaining to the acco...</td>\n",
       "      <td>2.0</td>\n",
       "      <td>['Tue Oct 31 22:05:37 +0000 2017', 'Tue Oct 31...</td>\n",
       "      <td>Tue Oct 31 22:05:37 +0000 2017</td>\n",
       "      <td>0.067222</td>\n",
       "      <td>[actually, that, 's, a, broken, link, you, sen...</td>\n",
       "    </tr>\n",
       "    <tr>\n",
       "      <th>3</th>\n",
       "      <td>3</td>\n",
       "      <td>3</td>\n",
       "      <td>31.0</td>\n",
       "      <td>115717.0</td>\n",
       "      <td>True</td>\n",
       "      <td>Tue Oct 31 22:06:54 +0000 2017</td>\n",
       "      <td>Yo @Ask_Spectrum, your customer service reps a...</td>\n",
       "      <td>30</td>\n",
       "      <td>NaN</td>\n",
       "      <td>Ask_Spectrum</td>\n",
       "      <td>@115717 Hello, My apologies for any frustratio...</td>\n",
       "      <td>2.0</td>\n",
       "      <td>['Tue Oct 31 22:12:09 +0000 2017', 'Tue Oct 31...</td>\n",
       "      <td>Tue Oct 31 22:12:09 +0000 2017</td>\n",
       "      <td>0.087500</td>\n",
       "      <td>[Yo, @Ask_Spectrum, ,, your, customer, service...</td>\n",
       "    </tr>\n",
       "    <tr>\n",
       "      <th>4</th>\n",
       "      <td>4</td>\n",
       "      <td>4</td>\n",
       "      <td>33.0</td>\n",
       "      <td>115718.0</td>\n",
       "      <td>True</td>\n",
       "      <td>Tue Oct 31 22:06:56 +0000 2017</td>\n",
       "      <td>My picture on @Ask_Spectrum pretty much every ...</td>\n",
       "      <td>32</td>\n",
       "      <td>NaN</td>\n",
       "      <td>Ask_Spectrum</td>\n",
       "      <td>@115718 I apologize for the inconvenience. I w...</td>\n",
       "      <td>2.0</td>\n",
       "      <td>['Tue Oct 31 22:10:08 +0000 2017', 'Tue Oct 31...</td>\n",
       "      <td>Tue Oct 31 22:10:08 +0000 2017</td>\n",
       "      <td>0.053333</td>\n",
       "      <td>[My, picture, on, @Ask_Spectrum, pretty, much,...</td>\n",
       "    </tr>\n",
       "  </tbody>\n",
       "</table>\n",
       "</div>"
      ],
      "text/plain": [
       "   index Unnamed: 0  tweet_id  author_id inbound  \\\n",
       "0      0          0      18.0   115713.0    True   \n",
       "1      1          1      20.0   115715.0    True   \n",
       "2      2          2      29.0   115716.0    True   \n",
       "3      3          3      31.0   115717.0    True   \n",
       "4      4          4      33.0   115718.0    True   \n",
       "\n",
       "                       created_at  \\\n",
       "0  Tue Oct 31 19:56:01 +0000 2017   \n",
       "1  Tue Oct 31 22:03:34 +0000 2017   \n",
       "2  Tue Oct 31 22:01:35 +0000 2017   \n",
       "3  Tue Oct 31 22:06:54 +0000 2017   \n",
       "4  Tue Oct 31 22:06:56 +0000 2017   \n",
       "\n",
       "                                                text response_tweet_id  \\\n",
       "0  @115714 y’all lie about your “great” connectio...                17   \n",
       "1  @115714 whenever I contact customer support, t...                19   \n",
       "2  actually that's a broken link you sent me and ...                28   \n",
       "3  Yo @Ask_Spectrum, your customer service reps a...                30   \n",
       "4  My picture on @Ask_Spectrum pretty much every ...                32   \n",
       "\n",
       "  in_response_to_tweet_id  support_team  \\\n",
       "0                     NaN    sprintcare   \n",
       "1                     NaN    sprintcare   \n",
       "2                     NaN  Ask_Spectrum   \n",
       "3                     NaN  Ask_Spectrum   \n",
       "4                     NaN  Ask_Spectrum   \n",
       "\n",
       "                                        conversation  conversation_count  \\\n",
       "0  @115713 H there! We'd definitely like to work ...                 2.0   \n",
       "1  @115715 Please send me a private message so th...                 2.0   \n",
       "2  @115716 The information pertaining to the acco...                 2.0   \n",
       "3  @115717 Hello, My apologies for any frustratio...                 2.0   \n",
       "4  @115718 I apologize for the inconvenience. I w...                 2.0   \n",
       "\n",
       "                                  conversation_dates  \\\n",
       "0  ['Tue Oct 31 19:59:13 +0000 2017', 'Tue Oct 31...   \n",
       "1  ['Tue Oct 31 22:10:10 +0000 2017', 'Tue Oct 31...   \n",
       "2  ['Tue Oct 31 22:05:37 +0000 2017', 'Tue Oct 31...   \n",
       "3  ['Tue Oct 31 22:12:09 +0000 2017', 'Tue Oct 31...   \n",
       "4  ['Tue Oct 31 22:10:08 +0000 2017', 'Tue Oct 31...   \n",
       "\n",
       "                    date_resolved  time_to_resolve  \\\n",
       "0  Tue Oct 31 19:59:13 +0000 2017         0.053333   \n",
       "1  Tue Oct 31 22:10:10 +0000 2017         0.110000   \n",
       "2  Tue Oct 31 22:05:37 +0000 2017         0.067222   \n",
       "3  Tue Oct 31 22:12:09 +0000 2017         0.087500   \n",
       "4  Tue Oct 31 22:10:08 +0000 2017         0.053333   \n",
       "\n",
       "                                            text_doc  \n",
       "0  [@115714, y’, all, lie, about, your, “, great,...  \n",
       "1  [@115714, whenever, I, contact, customer, supp...  \n",
       "2  [actually, that, 's, a, broken, link, you, sen...  \n",
       "3  [Yo, @Ask_Spectrum, ,, your, customer, service...  \n",
       "4  [My, picture, on, @Ask_Spectrum, pretty, much,...  "
      ]
     },
     "execution_count": 14,
     "metadata": {},
     "output_type": "execute_result"
    }
   ],
   "source": [
    "df.head()"
   ]
  },
  {
   "cell_type": "markdown",
   "metadata": {},
   "source": [
    "### Create conversation nlp doc"
   ]
  },
  {
   "cell_type": "code",
   "execution_count": 15,
   "metadata": {},
   "outputs": [],
   "source": [
    "test_conv = df['conversation'][0]"
   ]
  },
  {
   "cell_type": "code",
   "execution_count": 16,
   "metadata": {},
   "outputs": [],
   "source": [
    "test_conv_doc = nlp(test_conv)"
   ]
  },
  {
   "cell_type": "code",
   "execution_count": 17,
   "metadata": {},
   "outputs": [
    {
     "name": "stdout",
     "output_type": "stream",
     "text": [
      "@115713\n",
      "H\n",
      "there\n",
      "!\n",
      "We\n",
      "'d\n",
      "definitely\n",
      "like\n",
      "to\n",
      "work\n",
      "with\n",
      "you\n",
      "on\n",
      "this\n",
      ",\n",
      "how\n",
      "long\n",
      "have\n",
      "you\n",
      "been\n",
      "experiencing\n",
      "this\n",
      "issue\n",
      "?\n",
      "-AA\n",
      "\n",
      "\n",
      "@115714\n",
      "y’\n",
      "all\n",
      "lie\n",
      "about\n",
      "your\n",
      "“\n",
      "great\n",
      "”\n",
      "connection\n",
      ".\n",
      "5\n",
      "bars\n",
      "LTE\n",
      ",\n",
      "still\n",
      "wo\n",
      "n’t\n",
      "load\n",
      "something\n",
      ".\n",
      "Smh\n",
      ".\n",
      "\n",
      "\n"
     ]
    }
   ],
   "source": [
    "for token in test_conv_doc:\n",
    "    print(token.text)"
   ]
  },
  {
   "cell_type": "markdown",
   "metadata": {},
   "source": [
    "From previous attempts, due to the size of the conversation the tokenization process takes a very long time. \n",
    "\n",
    "We will look into splitting the dataframe into smaller parts to mergering back into a single dataframe.\n",
    "\n",
    "TODO: Need to find a better way. Kernel kills every run."
   ]
  },
  {
   "cell_type": "markdown",
   "metadata": {},
   "source": [
    "Create a new conversation tokens column"
   ]
  },
  {
   "cell_type": "code",
   "execution_count": 18,
   "metadata": {},
   "outputs": [],
   "source": [
    "# df['conversation_doc'] = df['conversation'].apply(lambda x: list(nlp(str(x))))"
   ]
  },
  {
   "cell_type": "markdown",
   "metadata": {},
   "source": [
    "### Tokenize the NLP Doc"
   ]
  },
  {
   "cell_type": "code",
   "execution_count": 19,
   "metadata": {},
   "outputs": [],
   "source": [
    "def tokenizeDoc(input_doc):\n",
    "    \"\"\" \n",
    "    tokenize the incoming doc\n",
    "    \"\"\"\n",
    "    return [token.text for token in input_doc]"
   ]
  },
  {
   "cell_type": "code",
   "execution_count": 20,
   "metadata": {},
   "outputs": [],
   "source": [
    "df['text_tokens'] = df['text_doc'].apply(lambda x: tokenizeDoc(x))"
   ]
  },
  {
   "cell_type": "code",
   "execution_count": 21,
   "metadata": {},
   "outputs": [
    {
     "data": {
      "text/html": [
       "<div>\n",
       "<style scoped>\n",
       "    .dataframe tbody tr th:only-of-type {\n",
       "        vertical-align: middle;\n",
       "    }\n",
       "\n",
       "    .dataframe tbody tr th {\n",
       "        vertical-align: top;\n",
       "    }\n",
       "\n",
       "    .dataframe thead th {\n",
       "        text-align: right;\n",
       "    }\n",
       "</style>\n",
       "<table border=\"1\" class=\"dataframe\">\n",
       "  <thead>\n",
       "    <tr style=\"text-align: right;\">\n",
       "      <th></th>\n",
       "      <th>index</th>\n",
       "      <th>Unnamed: 0</th>\n",
       "      <th>tweet_id</th>\n",
       "      <th>author_id</th>\n",
       "      <th>inbound</th>\n",
       "      <th>created_at</th>\n",
       "      <th>text</th>\n",
       "      <th>response_tweet_id</th>\n",
       "      <th>in_response_to_tweet_id</th>\n",
       "      <th>support_team</th>\n",
       "      <th>conversation</th>\n",
       "      <th>conversation_count</th>\n",
       "      <th>conversation_dates</th>\n",
       "      <th>date_resolved</th>\n",
       "      <th>time_to_resolve</th>\n",
       "      <th>text_doc</th>\n",
       "      <th>text_tokens</th>\n",
       "    </tr>\n",
       "  </thead>\n",
       "  <tbody>\n",
       "    <tr>\n",
       "      <th>0</th>\n",
       "      <td>0</td>\n",
       "      <td>0</td>\n",
       "      <td>18.0</td>\n",
       "      <td>115713.0</td>\n",
       "      <td>True</td>\n",
       "      <td>Tue Oct 31 19:56:01 +0000 2017</td>\n",
       "      <td>@115714 y’all lie about your “great” connectio...</td>\n",
       "      <td>17</td>\n",
       "      <td>NaN</td>\n",
       "      <td>sprintcare</td>\n",
       "      <td>@115713 H there! We'd definitely like to work ...</td>\n",
       "      <td>2.0</td>\n",
       "      <td>['Tue Oct 31 19:59:13 +0000 2017', 'Tue Oct 31...</td>\n",
       "      <td>Tue Oct 31 19:59:13 +0000 2017</td>\n",
       "      <td>0.053333</td>\n",
       "      <td>[@115714, y’, all, lie, about, your, “, great,...</td>\n",
       "      <td>[@115714, y’, all, lie, about, your, “, great,...</td>\n",
       "    </tr>\n",
       "    <tr>\n",
       "      <th>1</th>\n",
       "      <td>1</td>\n",
       "      <td>1</td>\n",
       "      <td>20.0</td>\n",
       "      <td>115715.0</td>\n",
       "      <td>True</td>\n",
       "      <td>Tue Oct 31 22:03:34 +0000 2017</td>\n",
       "      <td>@115714 whenever I contact customer support, t...</td>\n",
       "      <td>19</td>\n",
       "      <td>NaN</td>\n",
       "      <td>sprintcare</td>\n",
       "      <td>@115715 Please send me a private message so th...</td>\n",
       "      <td>2.0</td>\n",
       "      <td>['Tue Oct 31 22:10:10 +0000 2017', 'Tue Oct 31...</td>\n",
       "      <td>Tue Oct 31 22:10:10 +0000 2017</td>\n",
       "      <td>0.110000</td>\n",
       "      <td>[@115714, whenever, I, contact, customer, supp...</td>\n",
       "      <td>[@115714, whenever, I, contact, customer, supp...</td>\n",
       "    </tr>\n",
       "    <tr>\n",
       "      <th>2</th>\n",
       "      <td>2</td>\n",
       "      <td>2</td>\n",
       "      <td>29.0</td>\n",
       "      <td>115716.0</td>\n",
       "      <td>True</td>\n",
       "      <td>Tue Oct 31 22:01:35 +0000 2017</td>\n",
       "      <td>actually that's a broken link you sent me and ...</td>\n",
       "      <td>28</td>\n",
       "      <td>NaN</td>\n",
       "      <td>Ask_Spectrum</td>\n",
       "      <td>@115716 The information pertaining to the acco...</td>\n",
       "      <td>2.0</td>\n",
       "      <td>['Tue Oct 31 22:05:37 +0000 2017', 'Tue Oct 31...</td>\n",
       "      <td>Tue Oct 31 22:05:37 +0000 2017</td>\n",
       "      <td>0.067222</td>\n",
       "      <td>[actually, that, 's, a, broken, link, you, sen...</td>\n",
       "      <td>[actually, that, 's, a, broken, link, you, sen...</td>\n",
       "    </tr>\n",
       "    <tr>\n",
       "      <th>3</th>\n",
       "      <td>3</td>\n",
       "      <td>3</td>\n",
       "      <td>31.0</td>\n",
       "      <td>115717.0</td>\n",
       "      <td>True</td>\n",
       "      <td>Tue Oct 31 22:06:54 +0000 2017</td>\n",
       "      <td>Yo @Ask_Spectrum, your customer service reps a...</td>\n",
       "      <td>30</td>\n",
       "      <td>NaN</td>\n",
       "      <td>Ask_Spectrum</td>\n",
       "      <td>@115717 Hello, My apologies for any frustratio...</td>\n",
       "      <td>2.0</td>\n",
       "      <td>['Tue Oct 31 22:12:09 +0000 2017', 'Tue Oct 31...</td>\n",
       "      <td>Tue Oct 31 22:12:09 +0000 2017</td>\n",
       "      <td>0.087500</td>\n",
       "      <td>[Yo, @Ask_Spectrum, ,, your, customer, service...</td>\n",
       "      <td>[Yo, @Ask_Spectrum, ,, your, customer, service...</td>\n",
       "    </tr>\n",
       "    <tr>\n",
       "      <th>4</th>\n",
       "      <td>4</td>\n",
       "      <td>4</td>\n",
       "      <td>33.0</td>\n",
       "      <td>115718.0</td>\n",
       "      <td>True</td>\n",
       "      <td>Tue Oct 31 22:06:56 +0000 2017</td>\n",
       "      <td>My picture on @Ask_Spectrum pretty much every ...</td>\n",
       "      <td>32</td>\n",
       "      <td>NaN</td>\n",
       "      <td>Ask_Spectrum</td>\n",
       "      <td>@115718 I apologize for the inconvenience. I w...</td>\n",
       "      <td>2.0</td>\n",
       "      <td>['Tue Oct 31 22:10:08 +0000 2017', 'Tue Oct 31...</td>\n",
       "      <td>Tue Oct 31 22:10:08 +0000 2017</td>\n",
       "      <td>0.053333</td>\n",
       "      <td>[My, picture, on, @Ask_Spectrum, pretty, much,...</td>\n",
       "      <td>[My, picture, on, @Ask_Spectrum, pretty, much,...</td>\n",
       "    </tr>\n",
       "  </tbody>\n",
       "</table>\n",
       "</div>"
      ],
      "text/plain": [
       "   index Unnamed: 0  tweet_id  author_id inbound  \\\n",
       "0      0          0      18.0   115713.0    True   \n",
       "1      1          1      20.0   115715.0    True   \n",
       "2      2          2      29.0   115716.0    True   \n",
       "3      3          3      31.0   115717.0    True   \n",
       "4      4          4      33.0   115718.0    True   \n",
       "\n",
       "                       created_at  \\\n",
       "0  Tue Oct 31 19:56:01 +0000 2017   \n",
       "1  Tue Oct 31 22:03:34 +0000 2017   \n",
       "2  Tue Oct 31 22:01:35 +0000 2017   \n",
       "3  Tue Oct 31 22:06:54 +0000 2017   \n",
       "4  Tue Oct 31 22:06:56 +0000 2017   \n",
       "\n",
       "                                                text response_tweet_id  \\\n",
       "0  @115714 y’all lie about your “great” connectio...                17   \n",
       "1  @115714 whenever I contact customer support, t...                19   \n",
       "2  actually that's a broken link you sent me and ...                28   \n",
       "3  Yo @Ask_Spectrum, your customer service reps a...                30   \n",
       "4  My picture on @Ask_Spectrum pretty much every ...                32   \n",
       "\n",
       "  in_response_to_tweet_id  support_team  \\\n",
       "0                     NaN    sprintcare   \n",
       "1                     NaN    sprintcare   \n",
       "2                     NaN  Ask_Spectrum   \n",
       "3                     NaN  Ask_Spectrum   \n",
       "4                     NaN  Ask_Spectrum   \n",
       "\n",
       "                                        conversation  conversation_count  \\\n",
       "0  @115713 H there! We'd definitely like to work ...                 2.0   \n",
       "1  @115715 Please send me a private message so th...                 2.0   \n",
       "2  @115716 The information pertaining to the acco...                 2.0   \n",
       "3  @115717 Hello, My apologies for any frustratio...                 2.0   \n",
       "4  @115718 I apologize for the inconvenience. I w...                 2.0   \n",
       "\n",
       "                                  conversation_dates  \\\n",
       "0  ['Tue Oct 31 19:59:13 +0000 2017', 'Tue Oct 31...   \n",
       "1  ['Tue Oct 31 22:10:10 +0000 2017', 'Tue Oct 31...   \n",
       "2  ['Tue Oct 31 22:05:37 +0000 2017', 'Tue Oct 31...   \n",
       "3  ['Tue Oct 31 22:12:09 +0000 2017', 'Tue Oct 31...   \n",
       "4  ['Tue Oct 31 22:10:08 +0000 2017', 'Tue Oct 31...   \n",
       "\n",
       "                    date_resolved  time_to_resolve  \\\n",
       "0  Tue Oct 31 19:59:13 +0000 2017         0.053333   \n",
       "1  Tue Oct 31 22:10:10 +0000 2017         0.110000   \n",
       "2  Tue Oct 31 22:05:37 +0000 2017         0.067222   \n",
       "3  Tue Oct 31 22:12:09 +0000 2017         0.087500   \n",
       "4  Tue Oct 31 22:10:08 +0000 2017         0.053333   \n",
       "\n",
       "                                            text_doc  \\\n",
       "0  [@115714, y’, all, lie, about, your, “, great,...   \n",
       "1  [@115714, whenever, I, contact, customer, supp...   \n",
       "2  [actually, that, 's, a, broken, link, you, sen...   \n",
       "3  [Yo, @Ask_Spectrum, ,, your, customer, service...   \n",
       "4  [My, picture, on, @Ask_Spectrum, pretty, much,...   \n",
       "\n",
       "                                         text_tokens  \n",
       "0  [@115714, y’, all, lie, about, your, “, great,...  \n",
       "1  [@115714, whenever, I, contact, customer, supp...  \n",
       "2  [actually, that, 's, a, broken, link, you, sen...  \n",
       "3  [Yo, @Ask_Spectrum, ,, your, customer, service...  \n",
       "4  [My, picture, on, @Ask_Spectrum, pretty, much,...  "
      ]
     },
     "execution_count": 21,
     "metadata": {},
     "output_type": "execute_result"
    }
   ],
   "source": [
    "df.head()"
   ]
  },
  {
   "cell_type": "code",
   "execution_count": 22,
   "metadata": {},
   "outputs": [
    {
     "name": "stdout",
     "output_type": "stream",
     "text": [
      "['@115714', 'y’', 'all', 'lie', 'about', 'your', '“', 'great', '”', 'connection', '.', '5', 'bars', 'LTE', ',', 'still', 'wo', 'n’t', 'load', 'something', '.', 'Smh', '.']\n"
     ]
    }
   ],
   "source": [
    "print(df['text_tokens'][0])"
   ]
  },
  {
   "cell_type": "markdown",
   "metadata": {},
   "source": [
    "#### Token Length\n",
    "\n",
    "Curious to see after about of text or tokens"
   ]
  },
  {
   "cell_type": "code",
   "execution_count": 23,
   "metadata": {},
   "outputs": [
    {
     "data": {
      "text/plain": [
       "23"
      ]
     },
     "execution_count": 23,
     "metadata": {},
     "output_type": "execute_result"
    }
   ],
   "source": [
    "len(df['text_tokens'][0])"
   ]
  },
  {
   "cell_type": "code",
   "execution_count": 24,
   "metadata": {},
   "outputs": [],
   "source": [
    "df['text_token_length'] = df['text_tokens'].apply(lambda x: len(x))"
   ]
  },
  {
   "cell_type": "code",
   "execution_count": 25,
   "metadata": {},
   "outputs": [
    {
     "data": {
      "text/html": [
       "<div>\n",
       "<style scoped>\n",
       "    .dataframe tbody tr th:only-of-type {\n",
       "        vertical-align: middle;\n",
       "    }\n",
       "\n",
       "    .dataframe tbody tr th {\n",
       "        vertical-align: top;\n",
       "    }\n",
       "\n",
       "    .dataframe thead th {\n",
       "        text-align: right;\n",
       "    }\n",
       "</style>\n",
       "<table border=\"1\" class=\"dataframe\">\n",
       "  <thead>\n",
       "    <tr style=\"text-align: right;\">\n",
       "      <th></th>\n",
       "      <th>index</th>\n",
       "      <th>Unnamed: 0</th>\n",
       "      <th>tweet_id</th>\n",
       "      <th>author_id</th>\n",
       "      <th>inbound</th>\n",
       "      <th>created_at</th>\n",
       "      <th>text</th>\n",
       "      <th>response_tweet_id</th>\n",
       "      <th>in_response_to_tweet_id</th>\n",
       "      <th>support_team</th>\n",
       "      <th>conversation</th>\n",
       "      <th>conversation_count</th>\n",
       "      <th>conversation_dates</th>\n",
       "      <th>date_resolved</th>\n",
       "      <th>time_to_resolve</th>\n",
       "      <th>text_doc</th>\n",
       "      <th>text_tokens</th>\n",
       "      <th>text_token_length</th>\n",
       "    </tr>\n",
       "  </thead>\n",
       "  <tbody>\n",
       "    <tr>\n",
       "      <th>0</th>\n",
       "      <td>0</td>\n",
       "      <td>0</td>\n",
       "      <td>18.0</td>\n",
       "      <td>115713.0</td>\n",
       "      <td>True</td>\n",
       "      <td>Tue Oct 31 19:56:01 +0000 2017</td>\n",
       "      <td>@115714 y’all lie about your “great” connectio...</td>\n",
       "      <td>17</td>\n",
       "      <td>NaN</td>\n",
       "      <td>sprintcare</td>\n",
       "      <td>@115713 H there! We'd definitely like to work ...</td>\n",
       "      <td>2.0</td>\n",
       "      <td>['Tue Oct 31 19:59:13 +0000 2017', 'Tue Oct 31...</td>\n",
       "      <td>Tue Oct 31 19:59:13 +0000 2017</td>\n",
       "      <td>0.053333</td>\n",
       "      <td>[@115714, y’, all, lie, about, your, “, great,...</td>\n",
       "      <td>[@115714, y’, all, lie, about, your, “, great,...</td>\n",
       "      <td>23</td>\n",
       "    </tr>\n",
       "    <tr>\n",
       "      <th>1</th>\n",
       "      <td>1</td>\n",
       "      <td>1</td>\n",
       "      <td>20.0</td>\n",
       "      <td>115715.0</td>\n",
       "      <td>True</td>\n",
       "      <td>Tue Oct 31 22:03:34 +0000 2017</td>\n",
       "      <td>@115714 whenever I contact customer support, t...</td>\n",
       "      <td>19</td>\n",
       "      <td>NaN</td>\n",
       "      <td>sprintcare</td>\n",
       "      <td>@115715 Please send me a private message so th...</td>\n",
       "      <td>2.0</td>\n",
       "      <td>['Tue Oct 31 22:10:10 +0000 2017', 'Tue Oct 31...</td>\n",
       "      <td>Tue Oct 31 22:10:10 +0000 2017</td>\n",
       "      <td>0.110000</td>\n",
       "      <td>[@115714, whenever, I, contact, customer, supp...</td>\n",
       "      <td>[@115714, whenever, I, contact, customer, supp...</td>\n",
       "      <td>30</td>\n",
       "    </tr>\n",
       "    <tr>\n",
       "      <th>2</th>\n",
       "      <td>2</td>\n",
       "      <td>2</td>\n",
       "      <td>29.0</td>\n",
       "      <td>115716.0</td>\n",
       "      <td>True</td>\n",
       "      <td>Tue Oct 31 22:01:35 +0000 2017</td>\n",
       "      <td>actually that's a broken link you sent me and ...</td>\n",
       "      <td>28</td>\n",
       "      <td>NaN</td>\n",
       "      <td>Ask_Spectrum</td>\n",
       "      <td>@115716 The information pertaining to the acco...</td>\n",
       "      <td>2.0</td>\n",
       "      <td>['Tue Oct 31 22:05:37 +0000 2017', 'Tue Oct 31...</td>\n",
       "      <td>Tue Oct 31 22:05:37 +0000 2017</td>\n",
       "      <td>0.067222</td>\n",
       "      <td>[actually, that, 's, a, broken, link, you, sen...</td>\n",
       "      <td>[actually, that, 's, a, broken, link, you, sen...</td>\n",
       "      <td>13</td>\n",
       "    </tr>\n",
       "    <tr>\n",
       "      <th>3</th>\n",
       "      <td>3</td>\n",
       "      <td>3</td>\n",
       "      <td>31.0</td>\n",
       "      <td>115717.0</td>\n",
       "      <td>True</td>\n",
       "      <td>Tue Oct 31 22:06:54 +0000 2017</td>\n",
       "      <td>Yo @Ask_Spectrum, your customer service reps a...</td>\n",
       "      <td>30</td>\n",
       "      <td>NaN</td>\n",
       "      <td>Ask_Spectrum</td>\n",
       "      <td>@115717 Hello, My apologies for any frustratio...</td>\n",
       "      <td>2.0</td>\n",
       "      <td>['Tue Oct 31 22:12:09 +0000 2017', 'Tue Oct 31...</td>\n",
       "      <td>Tue Oct 31 22:12:09 +0000 2017</td>\n",
       "      <td>0.087500</td>\n",
       "      <td>[Yo, @Ask_Spectrum, ,, your, customer, service...</td>\n",
       "      <td>[Yo, @Ask_Spectrum, ,, your, customer, service...</td>\n",
       "      <td>25</td>\n",
       "    </tr>\n",
       "    <tr>\n",
       "      <th>4</th>\n",
       "      <td>4</td>\n",
       "      <td>4</td>\n",
       "      <td>33.0</td>\n",
       "      <td>115718.0</td>\n",
       "      <td>True</td>\n",
       "      <td>Tue Oct 31 22:06:56 +0000 2017</td>\n",
       "      <td>My picture on @Ask_Spectrum pretty much every ...</td>\n",
       "      <td>32</td>\n",
       "      <td>NaN</td>\n",
       "      <td>Ask_Spectrum</td>\n",
       "      <td>@115718 I apologize for the inconvenience. I w...</td>\n",
       "      <td>2.0</td>\n",
       "      <td>['Tue Oct 31 22:10:08 +0000 2017', 'Tue Oct 31...</td>\n",
       "      <td>Tue Oct 31 22:10:08 +0000 2017</td>\n",
       "      <td>0.053333</td>\n",
       "      <td>[My, picture, on, @Ask_Spectrum, pretty, much,...</td>\n",
       "      <td>[My, picture, on, @Ask_Spectrum, pretty, much,...</td>\n",
       "      <td>19</td>\n",
       "    </tr>\n",
       "  </tbody>\n",
       "</table>\n",
       "</div>"
      ],
      "text/plain": [
       "   index Unnamed: 0  tweet_id  author_id inbound  \\\n",
       "0      0          0      18.0   115713.0    True   \n",
       "1      1          1      20.0   115715.0    True   \n",
       "2      2          2      29.0   115716.0    True   \n",
       "3      3          3      31.0   115717.0    True   \n",
       "4      4          4      33.0   115718.0    True   \n",
       "\n",
       "                       created_at  \\\n",
       "0  Tue Oct 31 19:56:01 +0000 2017   \n",
       "1  Tue Oct 31 22:03:34 +0000 2017   \n",
       "2  Tue Oct 31 22:01:35 +0000 2017   \n",
       "3  Tue Oct 31 22:06:54 +0000 2017   \n",
       "4  Tue Oct 31 22:06:56 +0000 2017   \n",
       "\n",
       "                                                text response_tweet_id  \\\n",
       "0  @115714 y’all lie about your “great” connectio...                17   \n",
       "1  @115714 whenever I contact customer support, t...                19   \n",
       "2  actually that's a broken link you sent me and ...                28   \n",
       "3  Yo @Ask_Spectrum, your customer service reps a...                30   \n",
       "4  My picture on @Ask_Spectrum pretty much every ...                32   \n",
       "\n",
       "  in_response_to_tweet_id  support_team  \\\n",
       "0                     NaN    sprintcare   \n",
       "1                     NaN    sprintcare   \n",
       "2                     NaN  Ask_Spectrum   \n",
       "3                     NaN  Ask_Spectrum   \n",
       "4                     NaN  Ask_Spectrum   \n",
       "\n",
       "                                        conversation  conversation_count  \\\n",
       "0  @115713 H there! We'd definitely like to work ...                 2.0   \n",
       "1  @115715 Please send me a private message so th...                 2.0   \n",
       "2  @115716 The information pertaining to the acco...                 2.0   \n",
       "3  @115717 Hello, My apologies for any frustratio...                 2.0   \n",
       "4  @115718 I apologize for the inconvenience. I w...                 2.0   \n",
       "\n",
       "                                  conversation_dates  \\\n",
       "0  ['Tue Oct 31 19:59:13 +0000 2017', 'Tue Oct 31...   \n",
       "1  ['Tue Oct 31 22:10:10 +0000 2017', 'Tue Oct 31...   \n",
       "2  ['Tue Oct 31 22:05:37 +0000 2017', 'Tue Oct 31...   \n",
       "3  ['Tue Oct 31 22:12:09 +0000 2017', 'Tue Oct 31...   \n",
       "4  ['Tue Oct 31 22:10:08 +0000 2017', 'Tue Oct 31...   \n",
       "\n",
       "                    date_resolved  time_to_resolve  \\\n",
       "0  Tue Oct 31 19:59:13 +0000 2017         0.053333   \n",
       "1  Tue Oct 31 22:10:10 +0000 2017         0.110000   \n",
       "2  Tue Oct 31 22:05:37 +0000 2017         0.067222   \n",
       "3  Tue Oct 31 22:12:09 +0000 2017         0.087500   \n",
       "4  Tue Oct 31 22:10:08 +0000 2017         0.053333   \n",
       "\n",
       "                                            text_doc  \\\n",
       "0  [@115714, y’, all, lie, about, your, “, great,...   \n",
       "1  [@115714, whenever, I, contact, customer, supp...   \n",
       "2  [actually, that, 's, a, broken, link, you, sen...   \n",
       "3  [Yo, @Ask_Spectrum, ,, your, customer, service...   \n",
       "4  [My, picture, on, @Ask_Spectrum, pretty, much,...   \n",
       "\n",
       "                                         text_tokens  text_token_length  \n",
       "0  [@115714, y’, all, lie, about, your, “, great,...                 23  \n",
       "1  [@115714, whenever, I, contact, customer, supp...                 30  \n",
       "2  [actually, that, 's, a, broken, link, you, sen...                 13  \n",
       "3  [Yo, @Ask_Spectrum, ,, your, customer, service...                 25  \n",
       "4  [My, picture, on, @Ask_Spectrum, pretty, much,...                 19  "
      ]
     },
     "execution_count": 25,
     "metadata": {},
     "output_type": "execute_result"
    }
   ],
   "source": [
    "df.head()"
   ]
  },
  {
   "cell_type": "code",
   "execution_count": 26,
   "metadata": {},
   "outputs": [
    {
     "name": "stdout",
     "output_type": "stream",
     "text": [
      "Number of tokens in the initial sample: 23\n"
     ]
    }
   ],
   "source": [
    "print(f\"Number of tokens in the initial sample: {df['text_token_length'][0]}\")"
   ]
  },
  {
   "cell_type": "markdown",
   "metadata": {},
   "source": [
    "### Remove stop words"
   ]
  },
  {
   "cell_type": "markdown",
   "metadata": {},
   "source": [
    "Create a function to remove the stop words and punctuation from the nlp doc"
   ]
  },
  {
   "cell_type": "code",
   "execution_count": 27,
   "metadata": {},
   "outputs": [],
   "source": [
    "def stopWordsRemoveal(incoming_doc_list):\n",
    "    # return [token.text for token in incoming_doc_list if not token.is_stop]\n",
    "    return [token.text for token in incoming_doc_list if not token.is_stop and not token.is_punct]"
   ]
  },
  {
   "cell_type": "code",
   "execution_count": 28,
   "metadata": {},
   "outputs": [],
   "source": [
    "test_stop_list = df['text_doc'][0]\n",
    "test_stop_words = stopWordsRemoveal(test_stop_list)"
   ]
  },
  {
   "cell_type": "markdown",
   "metadata": {},
   "source": [
    "Compare both the incoming doc list to the stop words filter list"
   ]
  },
  {
   "cell_type": "code",
   "execution_count": 29,
   "metadata": {},
   "outputs": [
    {
     "name": "stdout",
     "output_type": "stream",
     "text": [
      "[@115714, y’, all, lie, about, your, “, great, ”, connection, ., 5, bars, LTE, ,, still, wo, n’t, load, something, ., Smh, .]\n"
     ]
    }
   ],
   "source": [
    "print(test_stop_list)"
   ]
  },
  {
   "cell_type": "code",
   "execution_count": 30,
   "metadata": {},
   "outputs": [
    {
     "name": "stdout",
     "output_type": "stream",
     "text": [
      "['@115714', 'y’', 'lie', 'great', 'connection', '5', 'bars', 'LTE', 'wo', 'load', 'Smh']\n"
     ]
    }
   ],
   "source": [
    "print(test_stop_words)"
   ]
  },
  {
   "cell_type": "markdown",
   "metadata": {},
   "source": [
    "test out the function in a dataframe"
   ]
  },
  {
   "cell_type": "code",
   "execution_count": 31,
   "metadata": {},
   "outputs": [],
   "source": [
    "test_stop_df = df[:50].copy()"
   ]
  },
  {
   "cell_type": "code",
   "execution_count": 32,
   "metadata": {},
   "outputs": [
    {
     "data": {
      "text/html": [
       "<div>\n",
       "<style scoped>\n",
       "    .dataframe tbody tr th:only-of-type {\n",
       "        vertical-align: middle;\n",
       "    }\n",
       "\n",
       "    .dataframe tbody tr th {\n",
       "        vertical-align: top;\n",
       "    }\n",
       "\n",
       "    .dataframe thead th {\n",
       "        text-align: right;\n",
       "    }\n",
       "</style>\n",
       "<table border=\"1\" class=\"dataframe\">\n",
       "  <thead>\n",
       "    <tr style=\"text-align: right;\">\n",
       "      <th></th>\n",
       "      <th>index</th>\n",
       "      <th>Unnamed: 0</th>\n",
       "      <th>tweet_id</th>\n",
       "      <th>author_id</th>\n",
       "      <th>inbound</th>\n",
       "      <th>created_at</th>\n",
       "      <th>text</th>\n",
       "      <th>response_tweet_id</th>\n",
       "      <th>in_response_to_tweet_id</th>\n",
       "      <th>support_team</th>\n",
       "      <th>conversation</th>\n",
       "      <th>conversation_count</th>\n",
       "      <th>conversation_dates</th>\n",
       "      <th>date_resolved</th>\n",
       "      <th>time_to_resolve</th>\n",
       "      <th>text_doc</th>\n",
       "      <th>text_tokens</th>\n",
       "      <th>text_token_length</th>\n",
       "    </tr>\n",
       "  </thead>\n",
       "  <tbody>\n",
       "    <tr>\n",
       "      <th>0</th>\n",
       "      <td>0</td>\n",
       "      <td>0</td>\n",
       "      <td>18.0</td>\n",
       "      <td>115713.0</td>\n",
       "      <td>True</td>\n",
       "      <td>Tue Oct 31 19:56:01 +0000 2017</td>\n",
       "      <td>@115714 y’all lie about your “great” connectio...</td>\n",
       "      <td>17</td>\n",
       "      <td>NaN</td>\n",
       "      <td>sprintcare</td>\n",
       "      <td>@115713 H there! We'd definitely like to work ...</td>\n",
       "      <td>2.0</td>\n",
       "      <td>['Tue Oct 31 19:59:13 +0000 2017', 'Tue Oct 31...</td>\n",
       "      <td>Tue Oct 31 19:59:13 +0000 2017</td>\n",
       "      <td>0.053333</td>\n",
       "      <td>[@115714, y’, all, lie, about, your, “, great,...</td>\n",
       "      <td>[@115714, y’, all, lie, about, your, “, great,...</td>\n",
       "      <td>23</td>\n",
       "    </tr>\n",
       "    <tr>\n",
       "      <th>1</th>\n",
       "      <td>1</td>\n",
       "      <td>1</td>\n",
       "      <td>20.0</td>\n",
       "      <td>115715.0</td>\n",
       "      <td>True</td>\n",
       "      <td>Tue Oct 31 22:03:34 +0000 2017</td>\n",
       "      <td>@115714 whenever I contact customer support, t...</td>\n",
       "      <td>19</td>\n",
       "      <td>NaN</td>\n",
       "      <td>sprintcare</td>\n",
       "      <td>@115715 Please send me a private message so th...</td>\n",
       "      <td>2.0</td>\n",
       "      <td>['Tue Oct 31 22:10:10 +0000 2017', 'Tue Oct 31...</td>\n",
       "      <td>Tue Oct 31 22:10:10 +0000 2017</td>\n",
       "      <td>0.110000</td>\n",
       "      <td>[@115714, whenever, I, contact, customer, supp...</td>\n",
       "      <td>[@115714, whenever, I, contact, customer, supp...</td>\n",
       "      <td>30</td>\n",
       "    </tr>\n",
       "    <tr>\n",
       "      <th>2</th>\n",
       "      <td>2</td>\n",
       "      <td>2</td>\n",
       "      <td>29.0</td>\n",
       "      <td>115716.0</td>\n",
       "      <td>True</td>\n",
       "      <td>Tue Oct 31 22:01:35 +0000 2017</td>\n",
       "      <td>actually that's a broken link you sent me and ...</td>\n",
       "      <td>28</td>\n",
       "      <td>NaN</td>\n",
       "      <td>Ask_Spectrum</td>\n",
       "      <td>@115716 The information pertaining to the acco...</td>\n",
       "      <td>2.0</td>\n",
       "      <td>['Tue Oct 31 22:05:37 +0000 2017', 'Tue Oct 31...</td>\n",
       "      <td>Tue Oct 31 22:05:37 +0000 2017</td>\n",
       "      <td>0.067222</td>\n",
       "      <td>[actually, that, 's, a, broken, link, you, sen...</td>\n",
       "      <td>[actually, that, 's, a, broken, link, you, sen...</td>\n",
       "      <td>13</td>\n",
       "    </tr>\n",
       "    <tr>\n",
       "      <th>3</th>\n",
       "      <td>3</td>\n",
       "      <td>3</td>\n",
       "      <td>31.0</td>\n",
       "      <td>115717.0</td>\n",
       "      <td>True</td>\n",
       "      <td>Tue Oct 31 22:06:54 +0000 2017</td>\n",
       "      <td>Yo @Ask_Spectrum, your customer service reps a...</td>\n",
       "      <td>30</td>\n",
       "      <td>NaN</td>\n",
       "      <td>Ask_Spectrum</td>\n",
       "      <td>@115717 Hello, My apologies for any frustratio...</td>\n",
       "      <td>2.0</td>\n",
       "      <td>['Tue Oct 31 22:12:09 +0000 2017', 'Tue Oct 31...</td>\n",
       "      <td>Tue Oct 31 22:12:09 +0000 2017</td>\n",
       "      <td>0.087500</td>\n",
       "      <td>[Yo, @Ask_Spectrum, ,, your, customer, service...</td>\n",
       "      <td>[Yo, @Ask_Spectrum, ,, your, customer, service...</td>\n",
       "      <td>25</td>\n",
       "    </tr>\n",
       "    <tr>\n",
       "      <th>4</th>\n",
       "      <td>4</td>\n",
       "      <td>4</td>\n",
       "      <td>33.0</td>\n",
       "      <td>115718.0</td>\n",
       "      <td>True</td>\n",
       "      <td>Tue Oct 31 22:06:56 +0000 2017</td>\n",
       "      <td>My picture on @Ask_Spectrum pretty much every ...</td>\n",
       "      <td>32</td>\n",
       "      <td>NaN</td>\n",
       "      <td>Ask_Spectrum</td>\n",
       "      <td>@115718 I apologize for the inconvenience. I w...</td>\n",
       "      <td>2.0</td>\n",
       "      <td>['Tue Oct 31 22:10:08 +0000 2017', 'Tue Oct 31...</td>\n",
       "      <td>Tue Oct 31 22:10:08 +0000 2017</td>\n",
       "      <td>0.053333</td>\n",
       "      <td>[My, picture, on, @Ask_Spectrum, pretty, much,...</td>\n",
       "      <td>[My, picture, on, @Ask_Spectrum, pretty, much,...</td>\n",
       "      <td>19</td>\n",
       "    </tr>\n",
       "  </tbody>\n",
       "</table>\n",
       "</div>"
      ],
      "text/plain": [
       "   index Unnamed: 0  tweet_id  author_id inbound  \\\n",
       "0      0          0      18.0   115713.0    True   \n",
       "1      1          1      20.0   115715.0    True   \n",
       "2      2          2      29.0   115716.0    True   \n",
       "3      3          3      31.0   115717.0    True   \n",
       "4      4          4      33.0   115718.0    True   \n",
       "\n",
       "                       created_at  \\\n",
       "0  Tue Oct 31 19:56:01 +0000 2017   \n",
       "1  Tue Oct 31 22:03:34 +0000 2017   \n",
       "2  Tue Oct 31 22:01:35 +0000 2017   \n",
       "3  Tue Oct 31 22:06:54 +0000 2017   \n",
       "4  Tue Oct 31 22:06:56 +0000 2017   \n",
       "\n",
       "                                                text response_tweet_id  \\\n",
       "0  @115714 y’all lie about your “great” connectio...                17   \n",
       "1  @115714 whenever I contact customer support, t...                19   \n",
       "2  actually that's a broken link you sent me and ...                28   \n",
       "3  Yo @Ask_Spectrum, your customer service reps a...                30   \n",
       "4  My picture on @Ask_Spectrum pretty much every ...                32   \n",
       "\n",
       "  in_response_to_tweet_id  support_team  \\\n",
       "0                     NaN    sprintcare   \n",
       "1                     NaN    sprintcare   \n",
       "2                     NaN  Ask_Spectrum   \n",
       "3                     NaN  Ask_Spectrum   \n",
       "4                     NaN  Ask_Spectrum   \n",
       "\n",
       "                                        conversation  conversation_count  \\\n",
       "0  @115713 H there! We'd definitely like to work ...                 2.0   \n",
       "1  @115715 Please send me a private message so th...                 2.0   \n",
       "2  @115716 The information pertaining to the acco...                 2.0   \n",
       "3  @115717 Hello, My apologies for any frustratio...                 2.0   \n",
       "4  @115718 I apologize for the inconvenience. I w...                 2.0   \n",
       "\n",
       "                                  conversation_dates  \\\n",
       "0  ['Tue Oct 31 19:59:13 +0000 2017', 'Tue Oct 31...   \n",
       "1  ['Tue Oct 31 22:10:10 +0000 2017', 'Tue Oct 31...   \n",
       "2  ['Tue Oct 31 22:05:37 +0000 2017', 'Tue Oct 31...   \n",
       "3  ['Tue Oct 31 22:12:09 +0000 2017', 'Tue Oct 31...   \n",
       "4  ['Tue Oct 31 22:10:08 +0000 2017', 'Tue Oct 31...   \n",
       "\n",
       "                    date_resolved  time_to_resolve  \\\n",
       "0  Tue Oct 31 19:59:13 +0000 2017         0.053333   \n",
       "1  Tue Oct 31 22:10:10 +0000 2017         0.110000   \n",
       "2  Tue Oct 31 22:05:37 +0000 2017         0.067222   \n",
       "3  Tue Oct 31 22:12:09 +0000 2017         0.087500   \n",
       "4  Tue Oct 31 22:10:08 +0000 2017         0.053333   \n",
       "\n",
       "                                            text_doc  \\\n",
       "0  [@115714, y’, all, lie, about, your, “, great,...   \n",
       "1  [@115714, whenever, I, contact, customer, supp...   \n",
       "2  [actually, that, 's, a, broken, link, you, sen...   \n",
       "3  [Yo, @Ask_Spectrum, ,, your, customer, service...   \n",
       "4  [My, picture, on, @Ask_Spectrum, pretty, much,...   \n",
       "\n",
       "                                         text_tokens  text_token_length  \n",
       "0  [@115714, y’, all, lie, about, your, “, great,...                 23  \n",
       "1  [@115714, whenever, I, contact, customer, supp...                 30  \n",
       "2  [actually, that, 's, a, broken, link, you, sen...                 13  \n",
       "3  [Yo, @Ask_Spectrum, ,, your, customer, service...                 25  \n",
       "4  [My, picture, on, @Ask_Spectrum, pretty, much,...                 19  "
      ]
     },
     "execution_count": 32,
     "metadata": {},
     "output_type": "execute_result"
    }
   ],
   "source": [
    "test_stop_df.head()"
   ]
  },
  {
   "cell_type": "code",
   "execution_count": 33,
   "metadata": {},
   "outputs": [],
   "source": [
    "test_stop_df['text_clean'] = test_stop_df['text_doc'].apply(lambda x: stopWordsRemoveal(x))"
   ]
  },
  {
   "cell_type": "code",
   "execution_count": 34,
   "metadata": {},
   "outputs": [
    {
     "data": {
      "text/html": [
       "<div>\n",
       "<style scoped>\n",
       "    .dataframe tbody tr th:only-of-type {\n",
       "        vertical-align: middle;\n",
       "    }\n",
       "\n",
       "    .dataframe tbody tr th {\n",
       "        vertical-align: top;\n",
       "    }\n",
       "\n",
       "    .dataframe thead th {\n",
       "        text-align: right;\n",
       "    }\n",
       "</style>\n",
       "<table border=\"1\" class=\"dataframe\">\n",
       "  <thead>\n",
       "    <tr style=\"text-align: right;\">\n",
       "      <th></th>\n",
       "      <th>index</th>\n",
       "      <th>Unnamed: 0</th>\n",
       "      <th>tweet_id</th>\n",
       "      <th>author_id</th>\n",
       "      <th>inbound</th>\n",
       "      <th>created_at</th>\n",
       "      <th>text</th>\n",
       "      <th>response_tweet_id</th>\n",
       "      <th>in_response_to_tweet_id</th>\n",
       "      <th>support_team</th>\n",
       "      <th>conversation</th>\n",
       "      <th>conversation_count</th>\n",
       "      <th>conversation_dates</th>\n",
       "      <th>date_resolved</th>\n",
       "      <th>time_to_resolve</th>\n",
       "      <th>text_doc</th>\n",
       "      <th>text_tokens</th>\n",
       "      <th>text_token_length</th>\n",
       "      <th>text_clean</th>\n",
       "    </tr>\n",
       "  </thead>\n",
       "  <tbody>\n",
       "    <tr>\n",
       "      <th>0</th>\n",
       "      <td>0</td>\n",
       "      <td>0</td>\n",
       "      <td>18.0</td>\n",
       "      <td>115713.0</td>\n",
       "      <td>True</td>\n",
       "      <td>Tue Oct 31 19:56:01 +0000 2017</td>\n",
       "      <td>@115714 y’all lie about your “great” connectio...</td>\n",
       "      <td>17</td>\n",
       "      <td>NaN</td>\n",
       "      <td>sprintcare</td>\n",
       "      <td>@115713 H there! We'd definitely like to work ...</td>\n",
       "      <td>2.0</td>\n",
       "      <td>['Tue Oct 31 19:59:13 +0000 2017', 'Tue Oct 31...</td>\n",
       "      <td>Tue Oct 31 19:59:13 +0000 2017</td>\n",
       "      <td>0.053333</td>\n",
       "      <td>[@115714, y’, all, lie, about, your, “, great,...</td>\n",
       "      <td>[@115714, y’, all, lie, about, your, “, great,...</td>\n",
       "      <td>23</td>\n",
       "      <td>[@115714, y’, lie, great, connection, 5, bars,...</td>\n",
       "    </tr>\n",
       "    <tr>\n",
       "      <th>1</th>\n",
       "      <td>1</td>\n",
       "      <td>1</td>\n",
       "      <td>20.0</td>\n",
       "      <td>115715.0</td>\n",
       "      <td>True</td>\n",
       "      <td>Tue Oct 31 22:03:34 +0000 2017</td>\n",
       "      <td>@115714 whenever I contact customer support, t...</td>\n",
       "      <td>19</td>\n",
       "      <td>NaN</td>\n",
       "      <td>sprintcare</td>\n",
       "      <td>@115715 Please send me a private message so th...</td>\n",
       "      <td>2.0</td>\n",
       "      <td>['Tue Oct 31 22:10:10 +0000 2017', 'Tue Oct 31...</td>\n",
       "      <td>Tue Oct 31 22:10:10 +0000 2017</td>\n",
       "      <td>0.110000</td>\n",
       "      <td>[@115714, whenever, I, contact, customer, supp...</td>\n",
       "      <td>[@115714, whenever, I, contact, customer, supp...</td>\n",
       "      <td>30</td>\n",
       "      <td>[@115714, contact, customer, support, tell, sh...</td>\n",
       "    </tr>\n",
       "    <tr>\n",
       "      <th>2</th>\n",
       "      <td>2</td>\n",
       "      <td>2</td>\n",
       "      <td>29.0</td>\n",
       "      <td>115716.0</td>\n",
       "      <td>True</td>\n",
       "      <td>Tue Oct 31 22:01:35 +0000 2017</td>\n",
       "      <td>actually that's a broken link you sent me and ...</td>\n",
       "      <td>28</td>\n",
       "      <td>NaN</td>\n",
       "      <td>Ask_Spectrum</td>\n",
       "      <td>@115716 The information pertaining to the acco...</td>\n",
       "      <td>2.0</td>\n",
       "      <td>['Tue Oct 31 22:05:37 +0000 2017', 'Tue Oct 31...</td>\n",
       "      <td>Tue Oct 31 22:05:37 +0000 2017</td>\n",
       "      <td>0.067222</td>\n",
       "      <td>[actually, that, 's, a, broken, link, you, sen...</td>\n",
       "      <td>[actually, that, 's, a, broken, link, you, sen...</td>\n",
       "      <td>13</td>\n",
       "      <td>[actually, broken, link, sent, incorrect, info...</td>\n",
       "    </tr>\n",
       "    <tr>\n",
       "      <th>3</th>\n",
       "      <td>3</td>\n",
       "      <td>3</td>\n",
       "      <td>31.0</td>\n",
       "      <td>115717.0</td>\n",
       "      <td>True</td>\n",
       "      <td>Tue Oct 31 22:06:54 +0000 2017</td>\n",
       "      <td>Yo @Ask_Spectrum, your customer service reps a...</td>\n",
       "      <td>30</td>\n",
       "      <td>NaN</td>\n",
       "      <td>Ask_Spectrum</td>\n",
       "      <td>@115717 Hello, My apologies for any frustratio...</td>\n",
       "      <td>2.0</td>\n",
       "      <td>['Tue Oct 31 22:12:09 +0000 2017', 'Tue Oct 31...</td>\n",
       "      <td>Tue Oct 31 22:12:09 +0000 2017</td>\n",
       "      <td>0.087500</td>\n",
       "      <td>[Yo, @Ask_Spectrum, ,, your, customer, service...</td>\n",
       "      <td>[Yo, @Ask_Spectrum, ,, your, customer, service...</td>\n",
       "      <td>25</td>\n",
       "      <td>[Yo, @Ask_Spectrum, customer, service, reps, s...</td>\n",
       "    </tr>\n",
       "    <tr>\n",
       "      <th>4</th>\n",
       "      <td>4</td>\n",
       "      <td>4</td>\n",
       "      <td>33.0</td>\n",
       "      <td>115718.0</td>\n",
       "      <td>True</td>\n",
       "      <td>Tue Oct 31 22:06:56 +0000 2017</td>\n",
       "      <td>My picture on @Ask_Spectrum pretty much every ...</td>\n",
       "      <td>32</td>\n",
       "      <td>NaN</td>\n",
       "      <td>Ask_Spectrum</td>\n",
       "      <td>@115718 I apologize for the inconvenience. I w...</td>\n",
       "      <td>2.0</td>\n",
       "      <td>['Tue Oct 31 22:10:08 +0000 2017', 'Tue Oct 31...</td>\n",
       "      <td>Tue Oct 31 22:10:08 +0000 2017</td>\n",
       "      <td>0.053333</td>\n",
       "      <td>[My, picture, on, @Ask_Spectrum, pretty, much,...</td>\n",
       "      <td>[My, picture, on, @Ask_Spectrum, pretty, much,...</td>\n",
       "      <td>19</td>\n",
       "      <td>[picture, @Ask_Spectrum, pretty, day, pay, $, ...</td>\n",
       "    </tr>\n",
       "  </tbody>\n",
       "</table>\n",
       "</div>"
      ],
      "text/plain": [
       "   index Unnamed: 0  tweet_id  author_id inbound  \\\n",
       "0      0          0      18.0   115713.0    True   \n",
       "1      1          1      20.0   115715.0    True   \n",
       "2      2          2      29.0   115716.0    True   \n",
       "3      3          3      31.0   115717.0    True   \n",
       "4      4          4      33.0   115718.0    True   \n",
       "\n",
       "                       created_at  \\\n",
       "0  Tue Oct 31 19:56:01 +0000 2017   \n",
       "1  Tue Oct 31 22:03:34 +0000 2017   \n",
       "2  Tue Oct 31 22:01:35 +0000 2017   \n",
       "3  Tue Oct 31 22:06:54 +0000 2017   \n",
       "4  Tue Oct 31 22:06:56 +0000 2017   \n",
       "\n",
       "                                                text response_tweet_id  \\\n",
       "0  @115714 y’all lie about your “great” connectio...                17   \n",
       "1  @115714 whenever I contact customer support, t...                19   \n",
       "2  actually that's a broken link you sent me and ...                28   \n",
       "3  Yo @Ask_Spectrum, your customer service reps a...                30   \n",
       "4  My picture on @Ask_Spectrum pretty much every ...                32   \n",
       "\n",
       "  in_response_to_tweet_id  support_team  \\\n",
       "0                     NaN    sprintcare   \n",
       "1                     NaN    sprintcare   \n",
       "2                     NaN  Ask_Spectrum   \n",
       "3                     NaN  Ask_Spectrum   \n",
       "4                     NaN  Ask_Spectrum   \n",
       "\n",
       "                                        conversation  conversation_count  \\\n",
       "0  @115713 H there! We'd definitely like to work ...                 2.0   \n",
       "1  @115715 Please send me a private message so th...                 2.0   \n",
       "2  @115716 The information pertaining to the acco...                 2.0   \n",
       "3  @115717 Hello, My apologies for any frustratio...                 2.0   \n",
       "4  @115718 I apologize for the inconvenience. I w...                 2.0   \n",
       "\n",
       "                                  conversation_dates  \\\n",
       "0  ['Tue Oct 31 19:59:13 +0000 2017', 'Tue Oct 31...   \n",
       "1  ['Tue Oct 31 22:10:10 +0000 2017', 'Tue Oct 31...   \n",
       "2  ['Tue Oct 31 22:05:37 +0000 2017', 'Tue Oct 31...   \n",
       "3  ['Tue Oct 31 22:12:09 +0000 2017', 'Tue Oct 31...   \n",
       "4  ['Tue Oct 31 22:10:08 +0000 2017', 'Tue Oct 31...   \n",
       "\n",
       "                    date_resolved  time_to_resolve  \\\n",
       "0  Tue Oct 31 19:59:13 +0000 2017         0.053333   \n",
       "1  Tue Oct 31 22:10:10 +0000 2017         0.110000   \n",
       "2  Tue Oct 31 22:05:37 +0000 2017         0.067222   \n",
       "3  Tue Oct 31 22:12:09 +0000 2017         0.087500   \n",
       "4  Tue Oct 31 22:10:08 +0000 2017         0.053333   \n",
       "\n",
       "                                            text_doc  \\\n",
       "0  [@115714, y’, all, lie, about, your, “, great,...   \n",
       "1  [@115714, whenever, I, contact, customer, supp...   \n",
       "2  [actually, that, 's, a, broken, link, you, sen...   \n",
       "3  [Yo, @Ask_Spectrum, ,, your, customer, service...   \n",
       "4  [My, picture, on, @Ask_Spectrum, pretty, much,...   \n",
       "\n",
       "                                         text_tokens  text_token_length  \\\n",
       "0  [@115714, y’, all, lie, about, your, “, great,...                 23   \n",
       "1  [@115714, whenever, I, contact, customer, supp...                 30   \n",
       "2  [actually, that, 's, a, broken, link, you, sen...                 13   \n",
       "3  [Yo, @Ask_Spectrum, ,, your, customer, service...                 25   \n",
       "4  [My, picture, on, @Ask_Spectrum, pretty, much,...                 19   \n",
       "\n",
       "                                          text_clean  \n",
       "0  [@115714, y’, lie, great, connection, 5, bars,...  \n",
       "1  [@115714, contact, customer, support, tell, sh...  \n",
       "2  [actually, broken, link, sent, incorrect, info...  \n",
       "3  [Yo, @Ask_Spectrum, customer, service, reps, s...  \n",
       "4  [picture, @Ask_Spectrum, pretty, day, pay, $, ...  "
      ]
     },
     "execution_count": 34,
     "metadata": {},
     "output_type": "execute_result"
    }
   ],
   "source": [
    "test_stop_df.head()"
   ]
  },
  {
   "cell_type": "markdown",
   "metadata": {},
   "source": [
    "Create a new stop words column. We can use this to compare against other support teams."
   ]
  },
  {
   "cell_type": "code",
   "execution_count": 35,
   "metadata": {},
   "outputs": [],
   "source": [
    "df['text_token_clean'] = df['text_doc'].apply(lambda x: stopWordsRemoveal(x))"
   ]
  },
  {
   "cell_type": "code",
   "execution_count": 36,
   "metadata": {},
   "outputs": [
    {
     "data": {
      "text/html": [
       "<div>\n",
       "<style scoped>\n",
       "    .dataframe tbody tr th:only-of-type {\n",
       "        vertical-align: middle;\n",
       "    }\n",
       "\n",
       "    .dataframe tbody tr th {\n",
       "        vertical-align: top;\n",
       "    }\n",
       "\n",
       "    .dataframe thead th {\n",
       "        text-align: right;\n",
       "    }\n",
       "</style>\n",
       "<table border=\"1\" class=\"dataframe\">\n",
       "  <thead>\n",
       "    <tr style=\"text-align: right;\">\n",
       "      <th></th>\n",
       "      <th>index</th>\n",
       "      <th>Unnamed: 0</th>\n",
       "      <th>tweet_id</th>\n",
       "      <th>author_id</th>\n",
       "      <th>inbound</th>\n",
       "      <th>created_at</th>\n",
       "      <th>text</th>\n",
       "      <th>response_tweet_id</th>\n",
       "      <th>in_response_to_tweet_id</th>\n",
       "      <th>support_team</th>\n",
       "      <th>conversation</th>\n",
       "      <th>conversation_count</th>\n",
       "      <th>conversation_dates</th>\n",
       "      <th>date_resolved</th>\n",
       "      <th>time_to_resolve</th>\n",
       "      <th>text_doc</th>\n",
       "      <th>text_tokens</th>\n",
       "      <th>text_token_length</th>\n",
       "      <th>text_token_clean</th>\n",
       "    </tr>\n",
       "  </thead>\n",
       "  <tbody>\n",
       "    <tr>\n",
       "      <th>0</th>\n",
       "      <td>0</td>\n",
       "      <td>0</td>\n",
       "      <td>18.0</td>\n",
       "      <td>115713.0</td>\n",
       "      <td>True</td>\n",
       "      <td>Tue Oct 31 19:56:01 +0000 2017</td>\n",
       "      <td>@115714 y’all lie about your “great” connectio...</td>\n",
       "      <td>17</td>\n",
       "      <td>NaN</td>\n",
       "      <td>sprintcare</td>\n",
       "      <td>@115713 H there! We'd definitely like to work ...</td>\n",
       "      <td>2.0</td>\n",
       "      <td>['Tue Oct 31 19:59:13 +0000 2017', 'Tue Oct 31...</td>\n",
       "      <td>Tue Oct 31 19:59:13 +0000 2017</td>\n",
       "      <td>0.053333</td>\n",
       "      <td>[@115714, y’, all, lie, about, your, “, great,...</td>\n",
       "      <td>[@115714, y’, all, lie, about, your, “, great,...</td>\n",
       "      <td>23</td>\n",
       "      <td>[@115714, y’, lie, great, connection, 5, bars,...</td>\n",
       "    </tr>\n",
       "    <tr>\n",
       "      <th>1</th>\n",
       "      <td>1</td>\n",
       "      <td>1</td>\n",
       "      <td>20.0</td>\n",
       "      <td>115715.0</td>\n",
       "      <td>True</td>\n",
       "      <td>Tue Oct 31 22:03:34 +0000 2017</td>\n",
       "      <td>@115714 whenever I contact customer support, t...</td>\n",
       "      <td>19</td>\n",
       "      <td>NaN</td>\n",
       "      <td>sprintcare</td>\n",
       "      <td>@115715 Please send me a private message so th...</td>\n",
       "      <td>2.0</td>\n",
       "      <td>['Tue Oct 31 22:10:10 +0000 2017', 'Tue Oct 31...</td>\n",
       "      <td>Tue Oct 31 22:10:10 +0000 2017</td>\n",
       "      <td>0.110000</td>\n",
       "      <td>[@115714, whenever, I, contact, customer, supp...</td>\n",
       "      <td>[@115714, whenever, I, contact, customer, supp...</td>\n",
       "      <td>30</td>\n",
       "      <td>[@115714, contact, customer, support, tell, sh...</td>\n",
       "    </tr>\n",
       "    <tr>\n",
       "      <th>2</th>\n",
       "      <td>2</td>\n",
       "      <td>2</td>\n",
       "      <td>29.0</td>\n",
       "      <td>115716.0</td>\n",
       "      <td>True</td>\n",
       "      <td>Tue Oct 31 22:01:35 +0000 2017</td>\n",
       "      <td>actually that's a broken link you sent me and ...</td>\n",
       "      <td>28</td>\n",
       "      <td>NaN</td>\n",
       "      <td>Ask_Spectrum</td>\n",
       "      <td>@115716 The information pertaining to the acco...</td>\n",
       "      <td>2.0</td>\n",
       "      <td>['Tue Oct 31 22:05:37 +0000 2017', 'Tue Oct 31...</td>\n",
       "      <td>Tue Oct 31 22:05:37 +0000 2017</td>\n",
       "      <td>0.067222</td>\n",
       "      <td>[actually, that, 's, a, broken, link, you, sen...</td>\n",
       "      <td>[actually, that, 's, a, broken, link, you, sen...</td>\n",
       "      <td>13</td>\n",
       "      <td>[actually, broken, link, sent, incorrect, info...</td>\n",
       "    </tr>\n",
       "    <tr>\n",
       "      <th>3</th>\n",
       "      <td>3</td>\n",
       "      <td>3</td>\n",
       "      <td>31.0</td>\n",
       "      <td>115717.0</td>\n",
       "      <td>True</td>\n",
       "      <td>Tue Oct 31 22:06:54 +0000 2017</td>\n",
       "      <td>Yo @Ask_Spectrum, your customer service reps a...</td>\n",
       "      <td>30</td>\n",
       "      <td>NaN</td>\n",
       "      <td>Ask_Spectrum</td>\n",
       "      <td>@115717 Hello, My apologies for any frustratio...</td>\n",
       "      <td>2.0</td>\n",
       "      <td>['Tue Oct 31 22:12:09 +0000 2017', 'Tue Oct 31...</td>\n",
       "      <td>Tue Oct 31 22:12:09 +0000 2017</td>\n",
       "      <td>0.087500</td>\n",
       "      <td>[Yo, @Ask_Spectrum, ,, your, customer, service...</td>\n",
       "      <td>[Yo, @Ask_Spectrum, ,, your, customer, service...</td>\n",
       "      <td>25</td>\n",
       "      <td>[Yo, @Ask_Spectrum, customer, service, reps, s...</td>\n",
       "    </tr>\n",
       "    <tr>\n",
       "      <th>4</th>\n",
       "      <td>4</td>\n",
       "      <td>4</td>\n",
       "      <td>33.0</td>\n",
       "      <td>115718.0</td>\n",
       "      <td>True</td>\n",
       "      <td>Tue Oct 31 22:06:56 +0000 2017</td>\n",
       "      <td>My picture on @Ask_Spectrum pretty much every ...</td>\n",
       "      <td>32</td>\n",
       "      <td>NaN</td>\n",
       "      <td>Ask_Spectrum</td>\n",
       "      <td>@115718 I apologize for the inconvenience. I w...</td>\n",
       "      <td>2.0</td>\n",
       "      <td>['Tue Oct 31 22:10:08 +0000 2017', 'Tue Oct 31...</td>\n",
       "      <td>Tue Oct 31 22:10:08 +0000 2017</td>\n",
       "      <td>0.053333</td>\n",
       "      <td>[My, picture, on, @Ask_Spectrum, pretty, much,...</td>\n",
       "      <td>[My, picture, on, @Ask_Spectrum, pretty, much,...</td>\n",
       "      <td>19</td>\n",
       "      <td>[picture, @Ask_Spectrum, pretty, day, pay, $, ...</td>\n",
       "    </tr>\n",
       "  </tbody>\n",
       "</table>\n",
       "</div>"
      ],
      "text/plain": [
       "   index Unnamed: 0  tweet_id  author_id inbound  \\\n",
       "0      0          0      18.0   115713.0    True   \n",
       "1      1          1      20.0   115715.0    True   \n",
       "2      2          2      29.0   115716.0    True   \n",
       "3      3          3      31.0   115717.0    True   \n",
       "4      4          4      33.0   115718.0    True   \n",
       "\n",
       "                       created_at  \\\n",
       "0  Tue Oct 31 19:56:01 +0000 2017   \n",
       "1  Tue Oct 31 22:03:34 +0000 2017   \n",
       "2  Tue Oct 31 22:01:35 +0000 2017   \n",
       "3  Tue Oct 31 22:06:54 +0000 2017   \n",
       "4  Tue Oct 31 22:06:56 +0000 2017   \n",
       "\n",
       "                                                text response_tweet_id  \\\n",
       "0  @115714 y’all lie about your “great” connectio...                17   \n",
       "1  @115714 whenever I contact customer support, t...                19   \n",
       "2  actually that's a broken link you sent me and ...                28   \n",
       "3  Yo @Ask_Spectrum, your customer service reps a...                30   \n",
       "4  My picture on @Ask_Spectrum pretty much every ...                32   \n",
       "\n",
       "  in_response_to_tweet_id  support_team  \\\n",
       "0                     NaN    sprintcare   \n",
       "1                     NaN    sprintcare   \n",
       "2                     NaN  Ask_Spectrum   \n",
       "3                     NaN  Ask_Spectrum   \n",
       "4                     NaN  Ask_Spectrum   \n",
       "\n",
       "                                        conversation  conversation_count  \\\n",
       "0  @115713 H there! We'd definitely like to work ...                 2.0   \n",
       "1  @115715 Please send me a private message so th...                 2.0   \n",
       "2  @115716 The information pertaining to the acco...                 2.0   \n",
       "3  @115717 Hello, My apologies for any frustratio...                 2.0   \n",
       "4  @115718 I apologize for the inconvenience. I w...                 2.0   \n",
       "\n",
       "                                  conversation_dates  \\\n",
       "0  ['Tue Oct 31 19:59:13 +0000 2017', 'Tue Oct 31...   \n",
       "1  ['Tue Oct 31 22:10:10 +0000 2017', 'Tue Oct 31...   \n",
       "2  ['Tue Oct 31 22:05:37 +0000 2017', 'Tue Oct 31...   \n",
       "3  ['Tue Oct 31 22:12:09 +0000 2017', 'Tue Oct 31...   \n",
       "4  ['Tue Oct 31 22:10:08 +0000 2017', 'Tue Oct 31...   \n",
       "\n",
       "                    date_resolved  time_to_resolve  \\\n",
       "0  Tue Oct 31 19:59:13 +0000 2017         0.053333   \n",
       "1  Tue Oct 31 22:10:10 +0000 2017         0.110000   \n",
       "2  Tue Oct 31 22:05:37 +0000 2017         0.067222   \n",
       "3  Tue Oct 31 22:12:09 +0000 2017         0.087500   \n",
       "4  Tue Oct 31 22:10:08 +0000 2017         0.053333   \n",
       "\n",
       "                                            text_doc  \\\n",
       "0  [@115714, y’, all, lie, about, your, “, great,...   \n",
       "1  [@115714, whenever, I, contact, customer, supp...   \n",
       "2  [actually, that, 's, a, broken, link, you, sen...   \n",
       "3  [Yo, @Ask_Spectrum, ,, your, customer, service...   \n",
       "4  [My, picture, on, @Ask_Spectrum, pretty, much,...   \n",
       "\n",
       "                                         text_tokens  text_token_length  \\\n",
       "0  [@115714, y’, all, lie, about, your, “, great,...                 23   \n",
       "1  [@115714, whenever, I, contact, customer, supp...                 30   \n",
       "2  [actually, that, 's, a, broken, link, you, sen...                 13   \n",
       "3  [Yo, @Ask_Spectrum, ,, your, customer, service...                 25   \n",
       "4  [My, picture, on, @Ask_Spectrum, pretty, much,...                 19   \n",
       "\n",
       "                                    text_token_clean  \n",
       "0  [@115714, y’, lie, great, connection, 5, bars,...  \n",
       "1  [@115714, contact, customer, support, tell, sh...  \n",
       "2  [actually, broken, link, sent, incorrect, info...  \n",
       "3  [Yo, @Ask_Spectrum, customer, service, reps, s...  \n",
       "4  [picture, @Ask_Spectrum, pretty, day, pay, $, ...  "
      ]
     },
     "execution_count": 36,
     "metadata": {},
     "output_type": "execute_result"
    }
   ],
   "source": [
    "df.head()"
   ]
  },
  {
   "cell_type": "code",
   "execution_count": 37,
   "metadata": {},
   "outputs": [
    {
     "name": "stdout",
     "output_type": "stream",
     "text": [
      "['@115714', 'y’', 'lie', 'great', 'connection', '5', 'bars', 'LTE', 'wo', 'load', 'Smh']\n"
     ]
    }
   ],
   "source": [
    "print(df['text_token_clean'][0])"
   ]
  },
  {
   "cell_type": "markdown",
   "metadata": {},
   "source": [
    "#### Stop words length\n",
    "\n",
    "To compare the number of token to stop words. Create a new column to review the count."
   ]
  },
  {
   "cell_type": "code",
   "execution_count": 40,
   "metadata": {},
   "outputs": [
    {
     "name": "stdout",
     "output_type": "stream",
     "text": [
      "11\n"
     ]
    }
   ],
   "source": [
    "print(len(df['text_token_clean'][0]))"
   ]
  },
  {
   "cell_type": "code",
   "execution_count": 41,
   "metadata": {},
   "outputs": [],
   "source": [
    "df['text_token_clean_length'] = df['text_token_clean'].apply(lambda x: len(x))"
   ]
  },
  {
   "cell_type": "code",
   "execution_count": 42,
   "metadata": {},
   "outputs": [
    {
     "name": "stdout",
     "output_type": "stream",
     "text": [
      "Number of cleaned text in the initial sample: 11\n"
     ]
    }
   ],
   "source": [
    "print(f\"Number of cleaned text in the initial sample: {df['text_token_clean_length'][0]}\")"
   ]
  },
  {
   "cell_type": "markdown",
   "metadata": {},
   "source": [
    "### Average Support Ticket Length\n",
    "\n",
    "Review the average support ticket. We will be looking at both the raw and cleaned tokens for each team."
   ]
  },
  {
   "cell_type": "code",
   "execution_count": 43,
   "metadata": {},
   "outputs": [
    {
     "name": "stdout",
     "output_type": "stream",
     "text": [
      "Average support ticket length: 24.394589465724007\n"
     ]
    }
   ],
   "source": [
    "print(f\"Average support ticket length: {df['text_token_length'].mean()}\")"
   ]
  },
  {
   "cell_type": "code",
   "execution_count": 44,
   "metadata": {},
   "outputs": [
    {
     "data": {
      "text/plain": [
       "Text(0.5, 1.0, 'Support Ticket Tokens Dist')"
      ]
     },
     "execution_count": 44,
     "metadata": {},
     "output_type": "execute_result"
    },
    {
     "data": {
      "image/png": "[encoded data removed]",
      "text/plain": [
       "<Figure size 640x480 with 1 Axes>"
      ]
     },
     "metadata": {},
     "output_type": "display_data"
    }
   ],
   "source": [
    "t = sns.boxenplot(x=df['text_token_length'])\n",
    "t.set_title(\"Support Ticket Tokens Dist\")"
   ]
  },
  {
   "cell_type": "code",
   "execution_count": 45,
   "metadata": {},
   "outputs": [
    {
     "name": "stdout",
     "output_type": "stream",
     "text": [
      "Average number of 'clean' token per support ticket: 11.546465184871131\n"
     ]
    }
   ],
   "source": [
    "print(f\"Average number of 'clean' token per support ticket: {df['text_token_clean_length'].mean()}\")"
   ]
  },
  {
   "cell_type": "code",
   "execution_count": 46,
   "metadata": {},
   "outputs": [
    {
     "data": {
      "text/plain": [
       "Text(0.5, 1.0, 'Support Tikcet Clean Tokens Dist')"
      ]
     },
     "execution_count": 46,
     "metadata": {},
     "output_type": "execute_result"
    },
    {
     "data": {
      "image/png": "[encoded data removed]",
      "text/plain": [
       "<Figure size 640x480 with 1 Axes>"
      ]
     },
     "metadata": {},
     "output_type": "display_data"
    }
   ],
   "source": [
    "g = sns.boxplot(x=df['text_token_clean_length'])\n",
    "g.set_title(\"Support Tikcet Clean Tokens Dist\")"
   ]
  },
  {
   "cell_type": "markdown",
   "metadata": {},
   "source": [
    "### Common Words/Tokens\n",
    "\n",
    "Create a list of common words or tokens used by the requestor"
   ]
  },
  {
   "cell_type": "code",
   "execution_count": 47,
   "metadata": {},
   "outputs": [],
   "source": [
    "test_token_df = df[:100].copy()"
   ]
  },
  {
   "cell_type": "code",
   "execution_count": 48,
   "metadata": {},
   "outputs": [],
   "source": [
    "test_token_list = []"
   ]
  },
  {
   "cell_type": "code",
   "execution_count": 49,
   "metadata": {},
   "outputs": [
    {
     "data": {
      "text/plain": [
       "0     None\n",
       "1     None\n",
       "2     None\n",
       "3     None\n",
       "4     None\n",
       "      ... \n",
       "95    None\n",
       "96    None\n",
       "97    None\n",
       "98    None\n",
       "99    None\n",
       "Name: text_token_clean, Length: 100, dtype: object"
      ]
     },
     "execution_count": 49,
     "metadata": {},
     "output_type": "execute_result"
    }
   ],
   "source": [
    "test_token_df['text_token_clean'].apply(lambda x: test_token_list.extend(x))"
   ]
  },
  {
   "cell_type": "code",
   "execution_count": 50,
   "metadata": {},
   "outputs": [
    {
     "data": {
      "text/plain": [
       "1026"
      ]
     },
     "execution_count": 50,
     "metadata": {},
     "output_type": "execute_result"
    }
   ],
   "source": [
    "len(test_token_list)"
   ]
  },
  {
   "cell_type": "markdown",
   "metadata": {},
   "source": [
    "Need to preform over the entire dataframe"
   ]
  },
  {
   "cell_type": "code",
   "execution_count": 51,
   "metadata": {},
   "outputs": [
    {
     "data": {
      "text/plain": [
       "0         None\n",
       "1         None\n",
       "2         None\n",
       "3         None\n",
       "4         None\n",
       "          ... \n",
       "981192    None\n",
       "981193    None\n",
       "981194    None\n",
       "981195    None\n",
       "981196    None\n",
       "Name: text_token_clean, Length: 981197, dtype: object"
      ]
     },
     "execution_count": 51,
     "metadata": {},
     "output_type": "execute_result"
    }
   ],
   "source": [
    "token_list = []\n",
    "df['text_token_clean'].apply(lambda x: token_list.extend(x))"
   ]
  },
  {
   "cell_type": "code",
   "execution_count": 52,
   "metadata": {},
   "outputs": [
    {
     "name": "stdout",
     "output_type": "stream",
     "text": [
      "Number of words: 11329357\n"
     ]
    }
   ],
   "source": [
    "print(f\"Number of words: {len(token_list)}\")"
   ]
  },
  {
   "cell_type": "markdown",
   "metadata": {},
   "source": [
    "Turn the list into a series to use the panda functions"
   ]
  },
  {
   "cell_type": "code",
   "execution_count": 53,
   "metadata": {},
   "outputs": [],
   "source": [
    "tokens_series = pd.Series(token_list)"
   ]
  },
  {
   "cell_type": "code",
   "execution_count": 54,
   "metadata": {},
   "outputs": [],
   "source": [
    "token_series_count = tokens_series.value_counts()"
   ]
  },
  {
   "cell_type": "code",
   "execution_count": 55,
   "metadata": {},
   "outputs": [
    {
     "data": {
      "text/plain": [
       "Text(0, 0.5, 'Count')"
      ]
     },
     "execution_count": 55,
     "metadata": {},
     "output_type": "execute_result"
    },
    {
     "data": {
      "image/png": "[encoded data removed]",
      "text/plain": [
       "<Figure size 640x480 with 1 Axes>"
      ]
     },
     "metadata": {},
     "output_type": "display_data"
    }
   ],
   "source": [
    "token_series_count[:25].plot(kind='bar')\n",
    "plt.xlabel(\"Tokens\")\n",
    "plt.ylabel('Count')"
   ]
  }
 ],
 "metadata": {
  "kernelspec": {
   "display_name": "venv-metal",
   "language": "python",
   "name": "python3"
  },
  "language_info": {
   "codemirror_mode": {
    "name": "ipython",
    "version": 3
   },
   "file_extension": ".py",
   "mimetype": "text/x-python",
   "name": "python",
   "nbconvert_exporter": "python",
   "pygments_lexer": "ipython3",
   "version": "3.9.6"
  }
 },
 "nbformat": 4,
 "nbformat_minor": 2
}
