{
 "cells": [
  {
   "cell_type": "markdown",
   "metadata": {},
   "source": [
    "## Data Review / Analytic\n",
    "\n",
    "Review data used for the ai model to build for the support app"
   ]
  },
  {
   "cell_type": "markdown",
   "metadata": {},
   "source": [
    "#### Data Import\n",
    "\n",
    "Importing the csv data into a dataframe"
   ]
  },
  {
   "cell_type": "code",
   "execution_count": 1,
   "metadata": {},
   "outputs": [],
   "source": [
    "import pandas as pd\n",
    "import matplotlib.pyplot as plt"
   ]
  },
  {
   "cell_type": "code",
   "execution_count": 2,
   "metadata": {},
   "outputs": [],
   "source": [
    "df = pd.read_csv(\"../data/twcs.csv\")"
   ]
  },
  {
   "cell_type": "markdown",
   "metadata": {},
   "source": [
    "#### Basic Information\n",
    "\n",
    "Review basic information about the dataset"
   ]
  },
  {
   "cell_type": "code",
   "execution_count": 3,
   "metadata": {},
   "outputs": [
    {
     "name": "stdout",
     "output_type": "stream",
     "text": [
      "<class 'pandas.core.frame.DataFrame'>\n",
      "RangeIndex: 2811774 entries, 0 to 2811773\n",
      "Data columns (total 7 columns):\n",
      " #   Column                   Dtype  \n",
      "---  ------                   -----  \n",
      " 0   tweet_id                 int64  \n",
      " 1   author_id                object \n",
      " 2   inbound                  bool   \n",
      " 3   created_at               object \n",
      " 4   text                     object \n",
      " 5   response_tweet_id        object \n",
      " 6   in_response_to_tweet_id  float64\n",
      "dtypes: bool(1), float64(1), int64(1), object(4)\n",
      "memory usage: 131.4+ MB\n"
     ]
    }
   ],
   "source": [
    "df.info()"
   ]
  },
  {
   "cell_type": "code",
   "execution_count": 4,
   "metadata": {},
   "outputs": [
    {
     "data": {
      "text/html": [
       "<div>\n",
       "<style scoped>\n",
       "    .dataframe tbody tr th:only-of-type {\n",
       "        vertical-align: middle;\n",
       "    }\n",
       "\n",
       "    .dataframe tbody tr th {\n",
       "        vertical-align: top;\n",
       "    }\n",
       "\n",
       "    .dataframe thead th {\n",
       "        text-align: right;\n",
       "    }\n",
       "</style>\n",
       "<table border=\"1\" class=\"dataframe\">\n",
       "  <thead>\n",
       "    <tr style=\"text-align: right;\">\n",
       "      <th></th>\n",
       "      <th>tweet_id</th>\n",
       "      <th>author_id</th>\n",
       "      <th>inbound</th>\n",
       "      <th>created_at</th>\n",
       "      <th>text</th>\n",
       "      <th>response_tweet_id</th>\n",
       "      <th>in_response_to_tweet_id</th>\n",
       "    </tr>\n",
       "  </thead>\n",
       "  <tbody>\n",
       "    <tr>\n",
       "      <th>0</th>\n",
       "      <td>1</td>\n",
       "      <td>sprintcare</td>\n",
       "      <td>False</td>\n",
       "      <td>Tue Oct 31 22:10:47 +0000 2017</td>\n",
       "      <td>@115712 I understand. I would like to assist y...</td>\n",
       "      <td>2</td>\n",
       "      <td>3.0</td>\n",
       "    </tr>\n",
       "    <tr>\n",
       "      <th>1</th>\n",
       "      <td>2</td>\n",
       "      <td>115712</td>\n",
       "      <td>True</td>\n",
       "      <td>Tue Oct 31 22:11:45 +0000 2017</td>\n",
       "      <td>@sprintcare and how do you propose we do that</td>\n",
       "      <td>NaN</td>\n",
       "      <td>1.0</td>\n",
       "    </tr>\n",
       "    <tr>\n",
       "      <th>2</th>\n",
       "      <td>3</td>\n",
       "      <td>115712</td>\n",
       "      <td>True</td>\n",
       "      <td>Tue Oct 31 22:08:27 +0000 2017</td>\n",
       "      <td>@sprintcare I have sent several private messag...</td>\n",
       "      <td>1</td>\n",
       "      <td>4.0</td>\n",
       "    </tr>\n",
       "    <tr>\n",
       "      <th>3</th>\n",
       "      <td>4</td>\n",
       "      <td>sprintcare</td>\n",
       "      <td>False</td>\n",
       "      <td>Tue Oct 31 21:54:49 +0000 2017</td>\n",
       "      <td>@115712 Please send us a Private Message so th...</td>\n",
       "      <td>3</td>\n",
       "      <td>5.0</td>\n",
       "    </tr>\n",
       "    <tr>\n",
       "      <th>4</th>\n",
       "      <td>5</td>\n",
       "      <td>115712</td>\n",
       "      <td>True</td>\n",
       "      <td>Tue Oct 31 21:49:35 +0000 2017</td>\n",
       "      <td>@sprintcare I did.</td>\n",
       "      <td>4</td>\n",
       "      <td>6.0</td>\n",
       "    </tr>\n",
       "    <tr>\n",
       "      <th>5</th>\n",
       "      <td>6</td>\n",
       "      <td>sprintcare</td>\n",
       "      <td>False</td>\n",
       "      <td>Tue Oct 31 21:46:24 +0000 2017</td>\n",
       "      <td>@115712 Can you please send us a private messa...</td>\n",
       "      <td>5,7</td>\n",
       "      <td>8.0</td>\n",
       "    </tr>\n",
       "    <tr>\n",
       "      <th>6</th>\n",
       "      <td>8</td>\n",
       "      <td>115712</td>\n",
       "      <td>True</td>\n",
       "      <td>Tue Oct 31 21:45:10 +0000 2017</td>\n",
       "      <td>@sprintcare is the worst customer service</td>\n",
       "      <td>9,6,10</td>\n",
       "      <td>NaN</td>\n",
       "    </tr>\n",
       "    <tr>\n",
       "      <th>7</th>\n",
       "      <td>11</td>\n",
       "      <td>sprintcare</td>\n",
       "      <td>False</td>\n",
       "      <td>Tue Oct 31 22:10:35 +0000 2017</td>\n",
       "      <td>@115713 This is saddening to hear. Please shoo...</td>\n",
       "      <td>NaN</td>\n",
       "      <td>12.0</td>\n",
       "    </tr>\n",
       "    <tr>\n",
       "      <th>8</th>\n",
       "      <td>12</td>\n",
       "      <td>115713</td>\n",
       "      <td>True</td>\n",
       "      <td>Tue Oct 31 22:04:47 +0000 2017</td>\n",
       "      <td>@sprintcare You gonna magically change your co...</td>\n",
       "      <td>11,13,14</td>\n",
       "      <td>15.0</td>\n",
       "    </tr>\n",
       "    <tr>\n",
       "      <th>9</th>\n",
       "      <td>15</td>\n",
       "      <td>sprintcare</td>\n",
       "      <td>False</td>\n",
       "      <td>Tue Oct 31 20:03:31 +0000 2017</td>\n",
       "      <td>@115713 We understand your concerns and we'd l...</td>\n",
       "      <td>12</td>\n",
       "      <td>16.0</td>\n",
       "    </tr>\n",
       "    <tr>\n",
       "      <th>10</th>\n",
       "      <td>16</td>\n",
       "      <td>115713</td>\n",
       "      <td>True</td>\n",
       "      <td>Tue Oct 31 20:00:43 +0000 2017</td>\n",
       "      <td>@sprintcare Since I signed up with you....Sinc...</td>\n",
       "      <td>15</td>\n",
       "      <td>17.0</td>\n",
       "    </tr>\n",
       "    <tr>\n",
       "      <th>11</th>\n",
       "      <td>17</td>\n",
       "      <td>sprintcare</td>\n",
       "      <td>False</td>\n",
       "      <td>Tue Oct 31 19:59:13 +0000 2017</td>\n",
       "      <td>@115713 H there! We'd definitely like to work ...</td>\n",
       "      <td>16</td>\n",
       "      <td>18.0</td>\n",
       "    </tr>\n",
       "    <tr>\n",
       "      <th>12</th>\n",
       "      <td>18</td>\n",
       "      <td>115713</td>\n",
       "      <td>True</td>\n",
       "      <td>Tue Oct 31 19:56:01 +0000 2017</td>\n",
       "      <td>@115714 y’all lie about your “great” connectio...</td>\n",
       "      <td>17</td>\n",
       "      <td>NaN</td>\n",
       "    </tr>\n",
       "    <tr>\n",
       "      <th>13</th>\n",
       "      <td>19</td>\n",
       "      <td>sprintcare</td>\n",
       "      <td>False</td>\n",
       "      <td>Tue Oct 31 22:10:10 +0000 2017</td>\n",
       "      <td>@115715 Please send me a private message so th...</td>\n",
       "      <td>NaN</td>\n",
       "      <td>20.0</td>\n",
       "    </tr>\n",
       "    <tr>\n",
       "      <th>14</th>\n",
       "      <td>20</td>\n",
       "      <td>115715</td>\n",
       "      <td>True</td>\n",
       "      <td>Tue Oct 31 22:03:34 +0000 2017</td>\n",
       "      <td>@115714 whenever I contact customer support, t...</td>\n",
       "      <td>19</td>\n",
       "      <td>NaN</td>\n",
       "    </tr>\n",
       "    <tr>\n",
       "      <th>15</th>\n",
       "      <td>21</td>\n",
       "      <td>Ask_Spectrum</td>\n",
       "      <td>False</td>\n",
       "      <td>Tue Oct 31 22:14:37 +0000 2017</td>\n",
       "      <td>@115716 What information is incorrect? ^JK</td>\n",
       "      <td>22,23</td>\n",
       "      <td>24.0</td>\n",
       "    </tr>\n",
       "    <tr>\n",
       "      <th>16</th>\n",
       "      <td>22</td>\n",
       "      <td>115716</td>\n",
       "      <td>True</td>\n",
       "      <td>Tue Oct 31 22:16:48 +0000 2017</td>\n",
       "      <td>@Ask_Spectrum Would you like me to email you a...</td>\n",
       "      <td>25</td>\n",
       "      <td>21.0</td>\n",
       "    </tr>\n",
       "    <tr>\n",
       "      <th>17</th>\n",
       "      <td>25</td>\n",
       "      <td>Ask_Spectrum</td>\n",
       "      <td>False</td>\n",
       "      <td>Tue Oct 31 22:18:28 +0000 2017</td>\n",
       "      <td>@115716 Our department is part of the corporat...</td>\n",
       "      <td>26</td>\n",
       "      <td>22.0</td>\n",
       "    </tr>\n",
       "    <tr>\n",
       "      <th>18</th>\n",
       "      <td>26</td>\n",
       "      <td>115716</td>\n",
       "      <td>True</td>\n",
       "      <td>Tue Oct 31 22:19:56 +0000 2017</td>\n",
       "      <td>@Ask_Spectrum I received this from your corpor...</td>\n",
       "      <td>27</td>\n",
       "      <td>25.0</td>\n",
       "    </tr>\n",
       "    <tr>\n",
       "      <th>19</th>\n",
       "      <td>27</td>\n",
       "      <td>Ask_Spectrum</td>\n",
       "      <td>False</td>\n",
       "      <td>Tue Oct 31 22:21:26 +0000 2017</td>\n",
       "      <td>@115716 No thank you. ^JK</td>\n",
       "      <td>NaN</td>\n",
       "      <td>26.0</td>\n",
       "    </tr>\n",
       "  </tbody>\n",
       "</table>\n",
       "</div>"
      ],
      "text/plain": [
       "    tweet_id     author_id  inbound                      created_at  \\\n",
       "0          1    sprintcare    False  Tue Oct 31 22:10:47 +0000 2017   \n",
       "1          2        115712     True  Tue Oct 31 22:11:45 +0000 2017   \n",
       "2          3        115712     True  Tue Oct 31 22:08:27 +0000 2017   \n",
       "3          4    sprintcare    False  Tue Oct 31 21:54:49 +0000 2017   \n",
       "4          5        115712     True  Tue Oct 31 21:49:35 +0000 2017   \n",
       "5          6    sprintcare    False  Tue Oct 31 21:46:24 +0000 2017   \n",
       "6          8        115712     True  Tue Oct 31 21:45:10 +0000 2017   \n",
       "7         11    sprintcare    False  Tue Oct 31 22:10:35 +0000 2017   \n",
       "8         12        115713     True  Tue Oct 31 22:04:47 +0000 2017   \n",
       "9         15    sprintcare    False  Tue Oct 31 20:03:31 +0000 2017   \n",
       "10        16        115713     True  Tue Oct 31 20:00:43 +0000 2017   \n",
       "11        17    sprintcare    False  Tue Oct 31 19:59:13 +0000 2017   \n",
       "12        18        115713     True  Tue Oct 31 19:56:01 +0000 2017   \n",
       "13        19    sprintcare    False  Tue Oct 31 22:10:10 +0000 2017   \n",
       "14        20        115715     True  Tue Oct 31 22:03:34 +0000 2017   \n",
       "15        21  Ask_Spectrum    False  Tue Oct 31 22:14:37 +0000 2017   \n",
       "16        22        115716     True  Tue Oct 31 22:16:48 +0000 2017   \n",
       "17        25  Ask_Spectrum    False  Tue Oct 31 22:18:28 +0000 2017   \n",
       "18        26        115716     True  Tue Oct 31 22:19:56 +0000 2017   \n",
       "19        27  Ask_Spectrum    False  Tue Oct 31 22:21:26 +0000 2017   \n",
       "\n",
       "                                                 text response_tweet_id  \\\n",
       "0   @115712 I understand. I would like to assist y...                 2   \n",
       "1       @sprintcare and how do you propose we do that               NaN   \n",
       "2   @sprintcare I have sent several private messag...                 1   \n",
       "3   @115712 Please send us a Private Message so th...                 3   \n",
       "4                                  @sprintcare I did.                 4   \n",
       "5   @115712 Can you please send us a private messa...               5,7   \n",
       "6           @sprintcare is the worst customer service            9,6,10   \n",
       "7   @115713 This is saddening to hear. Please shoo...               NaN   \n",
       "8   @sprintcare You gonna magically change your co...          11,13,14   \n",
       "9   @115713 We understand your concerns and we'd l...                12   \n",
       "10  @sprintcare Since I signed up with you....Sinc...                15   \n",
       "11  @115713 H there! We'd definitely like to work ...                16   \n",
       "12  @115714 y’all lie about your “great” connectio...                17   \n",
       "13  @115715 Please send me a private message so th...               NaN   \n",
       "14  @115714 whenever I contact customer support, t...                19   \n",
       "15         @115716 What information is incorrect? ^JK             22,23   \n",
       "16  @Ask_Spectrum Would you like me to email you a...                25   \n",
       "17  @115716 Our department is part of the corporat...                26   \n",
       "18  @Ask_Spectrum I received this from your corpor...                27   \n",
       "19                          @115716 No thank you. ^JK               NaN   \n",
       "\n",
       "    in_response_to_tweet_id  \n",
       "0                       3.0  \n",
       "1                       1.0  \n",
       "2                       4.0  \n",
       "3                       5.0  \n",
       "4                       6.0  \n",
       "5                       8.0  \n",
       "6                       NaN  \n",
       "7                      12.0  \n",
       "8                      15.0  \n",
       "9                      16.0  \n",
       "10                     17.0  \n",
       "11                     18.0  \n",
       "12                      NaN  \n",
       "13                     20.0  \n",
       "14                      NaN  \n",
       "15                     24.0  \n",
       "16                     21.0  \n",
       "17                     22.0  \n",
       "18                     25.0  \n",
       "19                     26.0  "
      ]
     },
     "execution_count": 4,
     "metadata": {},
     "output_type": "execute_result"
    }
   ],
   "source": [
    "df.head(20)"
   ]
  },
  {
   "cell_type": "code",
   "execution_count": 5,
   "metadata": {},
   "outputs": [
    {
     "data": {
      "text/plain": [
       "tweet_id                         0\n",
       "author_id                        0\n",
       "inbound                          0\n",
       "created_at                       0\n",
       "text                             0\n",
       "response_tweet_id          1040629\n",
       "in_response_to_tweet_id     794335\n",
       "dtype: int64"
      ]
     },
     "execution_count": 5,
     "metadata": {},
     "output_type": "execute_result"
    }
   ],
   "source": [
    "df.isnull().sum()"
   ]
  },
  {
   "cell_type": "markdown",
   "metadata": {},
   "source": [
    "#### Data Distribution \n",
    "\n",
    "Review basic data distrubution from the given dataset"
   ]
  },
  {
   "cell_type": "markdown",
   "metadata": {},
   "source": [
    "##### Authors\n",
    "\n",
    "Review the top authors id from the dataset"
   ]
  },
  {
   "cell_type": "code",
   "execution_count": 6,
   "metadata": {},
   "outputs": [],
   "source": [
    "author_id_count = df['author_id'].value_counts()"
   ]
  },
  {
   "cell_type": "code",
   "execution_count": 7,
   "metadata": {},
   "outputs": [
    {
     "data": {
      "image/png": "[encoded data removed]",
      "text/plain": [
       "<Figure size 640x480 with 1 Axes>"
      ]
     },
     "metadata": {},
     "output_type": "display_data"
    }
   ],
   "source": [
    "author_id_count[:15].plot(kind='bar')\n",
    "plt.xlabel(\"Author Ids\")\n",
    "plt.ylabel(\"Count\")\n",
    "plt.title(\"Top 25 authors\")\n",
    "plt.show()"
   ]
  },
  {
   "cell_type": "markdown",
   "metadata": {},
   "source": [
    "Review 5 samples from the a few of the authors"
   ]
  },
  {
   "cell_type": "code",
   "execution_count": 8,
   "metadata": {},
   "outputs": [
    {
     "data": {
      "text/html": [
       "<div>\n",
       "<style scoped>\n",
       "    .dataframe tbody tr th:only-of-type {\n",
       "        vertical-align: middle;\n",
       "    }\n",
       "\n",
       "    .dataframe tbody tr th {\n",
       "        vertical-align: top;\n",
       "    }\n",
       "\n",
       "    .dataframe thead th {\n",
       "        text-align: right;\n",
       "    }\n",
       "</style>\n",
       "<table border=\"1\" class=\"dataframe\">\n",
       "  <thead>\n",
       "    <tr style=\"text-align: right;\">\n",
       "      <th></th>\n",
       "      <th>tweet_id</th>\n",
       "      <th>author_id</th>\n",
       "      <th>inbound</th>\n",
       "      <th>created_at</th>\n",
       "      <th>text</th>\n",
       "      <th>response_tweet_id</th>\n",
       "      <th>in_response_to_tweet_id</th>\n",
       "    </tr>\n",
       "  </thead>\n",
       "  <tbody>\n",
       "    <tr>\n",
       "      <th>181</th>\n",
       "      <td>269</td>\n",
       "      <td>AmazonHelp</td>\n",
       "      <td>False</td>\n",
       "      <td>Wed Nov 22 09:23:01 +0000 2017</td>\n",
       "      <td>@115770 こんにちは、アマゾン公式です。Fire TV Stickが見れないというのは...</td>\n",
       "      <td>270,271</td>\n",
       "      <td>272.0</td>\n",
       "    </tr>\n",
       "    <tr>\n",
       "      <th>184</th>\n",
       "      <td>273</td>\n",
       "      <td>AmazonHelp</td>\n",
       "      <td>False</td>\n",
       "      <td>Wed Nov 22 09:40:27 +0000 2017</td>\n",
       "      <td>@115770 カスタマーサービスにてお問い合わせ済みとのことで、お手数をおかけいたしました...</td>\n",
       "      <td>274</td>\n",
       "      <td>271.0</td>\n",
       "    </tr>\n",
       "    <tr>\n",
       "      <th>186</th>\n",
       "      <td>275</td>\n",
       "      <td>AmazonHelp</td>\n",
       "      <td>False</td>\n",
       "      <td>Wed Nov 22 10:06:26 +0000 2017</td>\n",
       "      <td>@115770 恐れ入ります。至らない点も多々あるかとは存じますが、今後ともどうぞよろしくお...</td>\n",
       "      <td>NaN</td>\n",
       "      <td>274.0</td>\n",
       "    </tr>\n",
       "    <tr>\n",
       "      <th>234</th>\n",
       "      <td>324</td>\n",
       "      <td>AmazonHelp</td>\n",
       "      <td>False</td>\n",
       "      <td>Wed Nov 22 09:06:00 +0000 2017</td>\n",
       "      <td>@115792 ご不便をおかけしております。アプリをご利用でしょうか。強制停止&amp;gt;端末の...</td>\n",
       "      <td>NaN</td>\n",
       "      <td>325.0</td>\n",
       "    </tr>\n",
       "    <tr>\n",
       "      <th>321</th>\n",
       "      <td>615</td>\n",
       "      <td>AmazonHelp</td>\n",
       "      <td>False</td>\n",
       "      <td>Tue Oct 31 22:29:00 +0000 2017</td>\n",
       "      <td>@115820 I'm sorry we've let you down! Without ...</td>\n",
       "      <td>616</td>\n",
       "      <td>617.0</td>\n",
       "    </tr>\n",
       "  </tbody>\n",
       "</table>\n",
       "</div>"
      ],
      "text/plain": [
       "     tweet_id   author_id  inbound                      created_at  \\\n",
       "181       269  AmazonHelp    False  Wed Nov 22 09:23:01 +0000 2017   \n",
       "184       273  AmazonHelp    False  Wed Nov 22 09:40:27 +0000 2017   \n",
       "186       275  AmazonHelp    False  Wed Nov 22 10:06:26 +0000 2017   \n",
       "234       324  AmazonHelp    False  Wed Nov 22 09:06:00 +0000 2017   \n",
       "321       615  AmazonHelp    False  Tue Oct 31 22:29:00 +0000 2017   \n",
       "\n",
       "                                                  text response_tweet_id  \\\n",
       "181  @115770 こんにちは、アマゾン公式です。Fire TV Stickが見れないというのは...           270,271   \n",
       "184  @115770 カスタマーサービスにてお問い合わせ済みとのことで、お手数をおかけいたしました...               274   \n",
       "186  @115770 恐れ入ります。至らない点も多々あるかとは存じますが、今後ともどうぞよろしくお...               NaN   \n",
       "234  @115792 ご不便をおかけしております。アプリをご利用でしょうか。強制停止&gt;端末の...               NaN   \n",
       "321  @115820 I'm sorry we've let you down! Without ...               616   \n",
       "\n",
       "     in_response_to_tweet_id  \n",
       "181                    272.0  \n",
       "184                    271.0  \n",
       "186                    274.0  \n",
       "234                    325.0  \n",
       "321                    617.0  "
      ]
     },
     "execution_count": 8,
     "metadata": {},
     "output_type": "execute_result"
    }
   ],
   "source": [
    "df[df['author_id'] == 'AmazonHelp'].head()"
   ]
  },
  {
   "cell_type": "code",
   "execution_count": 9,
   "metadata": {},
   "outputs": [
    {
     "data": {
      "text/html": [
       "<div>\n",
       "<style scoped>\n",
       "    .dataframe tbody tr th:only-of-type {\n",
       "        vertical-align: middle;\n",
       "    }\n",
       "\n",
       "    .dataframe tbody tr th {\n",
       "        vertical-align: top;\n",
       "    }\n",
       "\n",
       "    .dataframe thead th {\n",
       "        text-align: right;\n",
       "    }\n",
       "</style>\n",
       "<table border=\"1\" class=\"dataframe\">\n",
       "  <thead>\n",
       "    <tr style=\"text-align: right;\">\n",
       "      <th></th>\n",
       "      <th>tweet_id</th>\n",
       "      <th>author_id</th>\n",
       "      <th>inbound</th>\n",
       "      <th>created_at</th>\n",
       "      <th>text</th>\n",
       "      <th>response_tweet_id</th>\n",
       "      <th>in_response_to_tweet_id</th>\n",
       "    </tr>\n",
       "  </thead>\n",
       "  <tbody>\n",
       "    <tr>\n",
       "      <th>396</th>\n",
       "      <td>696</td>\n",
       "      <td>AppleSupport</td>\n",
       "      <td>False</td>\n",
       "      <td>Tue Oct 31 22:27:49 +0000 2017</td>\n",
       "      <td>@115854 We're here for you. Which version of t...</td>\n",
       "      <td>697</td>\n",
       "      <td>698.0</td>\n",
       "    </tr>\n",
       "    <tr>\n",
       "      <th>398</th>\n",
       "      <td>699</td>\n",
       "      <td>AppleSupport</td>\n",
       "      <td>False</td>\n",
       "      <td>Tue Oct 31 22:36:27 +0000 2017</td>\n",
       "      <td>@115854 Lets take a closer look into this issu...</td>\n",
       "      <td>NaN</td>\n",
       "      <td>697.0</td>\n",
       "    </tr>\n",
       "    <tr>\n",
       "      <th>401</th>\n",
       "      <td>701</td>\n",
       "      <td>AppleSupport</td>\n",
       "      <td>False</td>\n",
       "      <td>Tue Oct 31 22:26:49 +0000 2017</td>\n",
       "      <td>@115855 Let's go to DM for the next steps. DM ...</td>\n",
       "      <td>NaN</td>\n",
       "      <td>702.0</td>\n",
       "    </tr>\n",
       "    <tr>\n",
       "      <th>403</th>\n",
       "      <td>703</td>\n",
       "      <td>AppleSupport</td>\n",
       "      <td>False</td>\n",
       "      <td>Tue Oct 31 22:09:52 +0000 2017</td>\n",
       "      <td>@115855 Any steps tried since it started last ...</td>\n",
       "      <td>702</td>\n",
       "      <td>704.0</td>\n",
       "    </tr>\n",
       "    <tr>\n",
       "      <th>405</th>\n",
       "      <td>705</td>\n",
       "      <td>AppleSupport</td>\n",
       "      <td>False</td>\n",
       "      <td>Tue Oct 31 21:57:00 +0000 2017</td>\n",
       "      <td>@115855 That's great it has iOS 11.1 as we can...</td>\n",
       "      <td>706,704</td>\n",
       "      <td>707.0</td>\n",
       "    </tr>\n",
       "  </tbody>\n",
       "</table>\n",
       "</div>"
      ],
      "text/plain": [
       "     tweet_id     author_id  inbound                      created_at  \\\n",
       "396       696  AppleSupport    False  Tue Oct 31 22:27:49 +0000 2017   \n",
       "398       699  AppleSupport    False  Tue Oct 31 22:36:27 +0000 2017   \n",
       "401       701  AppleSupport    False  Tue Oct 31 22:26:49 +0000 2017   \n",
       "403       703  AppleSupport    False  Tue Oct 31 22:09:52 +0000 2017   \n",
       "405       705  AppleSupport    False  Tue Oct 31 21:57:00 +0000 2017   \n",
       "\n",
       "                                                  text response_tweet_id  \\\n",
       "396  @115854 We're here for you. Which version of t...               697   \n",
       "398  @115854 Lets take a closer look into this issu...               NaN   \n",
       "401  @115855 Let's go to DM for the next steps. DM ...               NaN   \n",
       "403  @115855 Any steps tried since it started last ...               702   \n",
       "405  @115855 That's great it has iOS 11.1 as we can...           706,704   \n",
       "\n",
       "     in_response_to_tweet_id  \n",
       "396                    698.0  \n",
       "398                    697.0  \n",
       "401                    702.0  \n",
       "403                    704.0  \n",
       "405                    707.0  "
      ]
     },
     "execution_count": 9,
     "metadata": {},
     "output_type": "execute_result"
    }
   ],
   "source": [
    "df[df['author_id'] == 'AppleSupport'].head()"
   ]
  },
  {
   "cell_type": "markdown",
   "metadata": {},
   "source": [
    "##### Inbound \n",
    "\n",
    "Review the inbound "
   ]
  },
  {
   "cell_type": "code",
   "execution_count": 10,
   "metadata": {},
   "outputs": [
    {
     "data": {
      "text/plain": [
       "tweet_id                                                               2\n",
       "author_id                                                         115712\n",
       "inbound                                                             True\n",
       "created_at                                Tue Oct 31 22:11:45 +0000 2017\n",
       "text                       @sprintcare and how do you propose we do that\n",
       "response_tweet_id                                                    NaN\n",
       "in_response_to_tweet_id                                              1.0\n",
       "Name: 1, dtype: object"
      ]
     },
     "execution_count": 10,
     "metadata": {},
     "output_type": "execute_result"
    }
   ],
   "source": [
    "df[df['inbound'] == True].iloc[0]"
   ]
  },
  {
   "cell_type": "code",
   "execution_count": 11,
   "metadata": {},
   "outputs": [
    {
     "data": {
      "text/plain": [
       "tweet_id                                                                   1\n",
       "author_id                                                         sprintcare\n",
       "inbound                                                                False\n",
       "created_at                                    Tue Oct 31 22:10:47 +0000 2017\n",
       "text                       @115712 I understand. I would like to assist y...\n",
       "response_tweet_id                                                          2\n",
       "in_response_to_tweet_id                                                  3.0\n",
       "Name: 0, dtype: object"
      ]
     },
     "execution_count": 11,
     "metadata": {},
     "output_type": "execute_result"
    }
   ],
   "source": [
    "df[df['inbound'] == False].iloc[0]"
   ]
  },
  {
   "cell_type": "markdown",
   "metadata": {},
   "source": [
    "Compare a much large set of the inbound "
   ]
  },
  {
   "cell_type": "code",
   "execution_count": 12,
   "metadata": {},
   "outputs": [
    {
     "data": {
      "text/html": [
       "<div>\n",
       "<style scoped>\n",
       "    .dataframe tbody tr th:only-of-type {\n",
       "        vertical-align: middle;\n",
       "    }\n",
       "\n",
       "    .dataframe tbody tr th {\n",
       "        vertical-align: top;\n",
       "    }\n",
       "\n",
       "    .dataframe thead th {\n",
       "        text-align: right;\n",
       "    }\n",
       "</style>\n",
       "<table border=\"1\" class=\"dataframe\">\n",
       "  <thead>\n",
       "    <tr style=\"text-align: right;\">\n",
       "      <th></th>\n",
       "      <th>tweet_id</th>\n",
       "      <th>author_id</th>\n",
       "      <th>inbound</th>\n",
       "      <th>created_at</th>\n",
       "      <th>text</th>\n",
       "      <th>response_tweet_id</th>\n",
       "      <th>in_response_to_tweet_id</th>\n",
       "    </tr>\n",
       "  </thead>\n",
       "  <tbody>\n",
       "    <tr>\n",
       "      <th>1</th>\n",
       "      <td>2</td>\n",
       "      <td>115712</td>\n",
       "      <td>True</td>\n",
       "      <td>Tue Oct 31 22:11:45 +0000 2017</td>\n",
       "      <td>@sprintcare and how do you propose we do that</td>\n",
       "      <td>NaN</td>\n",
       "      <td>1.0</td>\n",
       "    </tr>\n",
       "    <tr>\n",
       "      <th>2</th>\n",
       "      <td>3</td>\n",
       "      <td>115712</td>\n",
       "      <td>True</td>\n",
       "      <td>Tue Oct 31 22:08:27 +0000 2017</td>\n",
       "      <td>@sprintcare I have sent several private messag...</td>\n",
       "      <td>1</td>\n",
       "      <td>4.0</td>\n",
       "    </tr>\n",
       "    <tr>\n",
       "      <th>4</th>\n",
       "      <td>5</td>\n",
       "      <td>115712</td>\n",
       "      <td>True</td>\n",
       "      <td>Tue Oct 31 21:49:35 +0000 2017</td>\n",
       "      <td>@sprintcare I did.</td>\n",
       "      <td>4</td>\n",
       "      <td>6.0</td>\n",
       "    </tr>\n",
       "    <tr>\n",
       "      <th>6</th>\n",
       "      <td>8</td>\n",
       "      <td>115712</td>\n",
       "      <td>True</td>\n",
       "      <td>Tue Oct 31 21:45:10 +0000 2017</td>\n",
       "      <td>@sprintcare is the worst customer service</td>\n",
       "      <td>9,6,10</td>\n",
       "      <td>NaN</td>\n",
       "    </tr>\n",
       "    <tr>\n",
       "      <th>8</th>\n",
       "      <td>12</td>\n",
       "      <td>115713</td>\n",
       "      <td>True</td>\n",
       "      <td>Tue Oct 31 22:04:47 +0000 2017</td>\n",
       "      <td>@sprintcare You gonna magically change your co...</td>\n",
       "      <td>11,13,14</td>\n",
       "      <td>15.0</td>\n",
       "    </tr>\n",
       "  </tbody>\n",
       "</table>\n",
       "</div>"
      ],
      "text/plain": [
       "   tweet_id author_id  inbound                      created_at  \\\n",
       "1         2    115712     True  Tue Oct 31 22:11:45 +0000 2017   \n",
       "2         3    115712     True  Tue Oct 31 22:08:27 +0000 2017   \n",
       "4         5    115712     True  Tue Oct 31 21:49:35 +0000 2017   \n",
       "6         8    115712     True  Tue Oct 31 21:45:10 +0000 2017   \n",
       "8        12    115713     True  Tue Oct 31 22:04:47 +0000 2017   \n",
       "\n",
       "                                                text response_tweet_id  \\\n",
       "1      @sprintcare and how do you propose we do that               NaN   \n",
       "2  @sprintcare I have sent several private messag...                 1   \n",
       "4                                 @sprintcare I did.                 4   \n",
       "6          @sprintcare is the worst customer service            9,6,10   \n",
       "8  @sprintcare You gonna magically change your co...          11,13,14   \n",
       "\n",
       "   in_response_to_tweet_id  \n",
       "1                      1.0  \n",
       "2                      4.0  \n",
       "4                      6.0  \n",
       "6                      NaN  \n",
       "8                     15.0  "
      ]
     },
     "execution_count": 12,
     "metadata": {},
     "output_type": "execute_result"
    }
   ],
   "source": [
    "df[df['inbound'] == True].head()"
   ]
  },
  {
   "cell_type": "code",
   "execution_count": 13,
   "metadata": {},
   "outputs": [
    {
     "data": {
      "text/html": [
       "<div>\n",
       "<style scoped>\n",
       "    .dataframe tbody tr th:only-of-type {\n",
       "        vertical-align: middle;\n",
       "    }\n",
       "\n",
       "    .dataframe tbody tr th {\n",
       "        vertical-align: top;\n",
       "    }\n",
       "\n",
       "    .dataframe thead th {\n",
       "        text-align: right;\n",
       "    }\n",
       "</style>\n",
       "<table border=\"1\" class=\"dataframe\">\n",
       "  <thead>\n",
       "    <tr style=\"text-align: right;\">\n",
       "      <th></th>\n",
       "      <th>tweet_id</th>\n",
       "      <th>author_id</th>\n",
       "      <th>inbound</th>\n",
       "      <th>created_at</th>\n",
       "      <th>text</th>\n",
       "      <th>response_tweet_id</th>\n",
       "      <th>in_response_to_tweet_id</th>\n",
       "    </tr>\n",
       "  </thead>\n",
       "  <tbody>\n",
       "    <tr>\n",
       "      <th>0</th>\n",
       "      <td>1</td>\n",
       "      <td>sprintcare</td>\n",
       "      <td>False</td>\n",
       "      <td>Tue Oct 31 22:10:47 +0000 2017</td>\n",
       "      <td>@115712 I understand. I would like to assist y...</td>\n",
       "      <td>2</td>\n",
       "      <td>3.0</td>\n",
       "    </tr>\n",
       "    <tr>\n",
       "      <th>3</th>\n",
       "      <td>4</td>\n",
       "      <td>sprintcare</td>\n",
       "      <td>False</td>\n",
       "      <td>Tue Oct 31 21:54:49 +0000 2017</td>\n",
       "      <td>@115712 Please send us a Private Message so th...</td>\n",
       "      <td>3</td>\n",
       "      <td>5.0</td>\n",
       "    </tr>\n",
       "    <tr>\n",
       "      <th>5</th>\n",
       "      <td>6</td>\n",
       "      <td>sprintcare</td>\n",
       "      <td>False</td>\n",
       "      <td>Tue Oct 31 21:46:24 +0000 2017</td>\n",
       "      <td>@115712 Can you please send us a private messa...</td>\n",
       "      <td>5,7</td>\n",
       "      <td>8.0</td>\n",
       "    </tr>\n",
       "    <tr>\n",
       "      <th>7</th>\n",
       "      <td>11</td>\n",
       "      <td>sprintcare</td>\n",
       "      <td>False</td>\n",
       "      <td>Tue Oct 31 22:10:35 +0000 2017</td>\n",
       "      <td>@115713 This is saddening to hear. Please shoo...</td>\n",
       "      <td>NaN</td>\n",
       "      <td>12.0</td>\n",
       "    </tr>\n",
       "    <tr>\n",
       "      <th>9</th>\n",
       "      <td>15</td>\n",
       "      <td>sprintcare</td>\n",
       "      <td>False</td>\n",
       "      <td>Tue Oct 31 20:03:31 +0000 2017</td>\n",
       "      <td>@115713 We understand your concerns and we'd l...</td>\n",
       "      <td>12</td>\n",
       "      <td>16.0</td>\n",
       "    </tr>\n",
       "  </tbody>\n",
       "</table>\n",
       "</div>"
      ],
      "text/plain": [
       "   tweet_id   author_id  inbound                      created_at  \\\n",
       "0         1  sprintcare    False  Tue Oct 31 22:10:47 +0000 2017   \n",
       "3         4  sprintcare    False  Tue Oct 31 21:54:49 +0000 2017   \n",
       "5         6  sprintcare    False  Tue Oct 31 21:46:24 +0000 2017   \n",
       "7        11  sprintcare    False  Tue Oct 31 22:10:35 +0000 2017   \n",
       "9        15  sprintcare    False  Tue Oct 31 20:03:31 +0000 2017   \n",
       "\n",
       "                                                text response_tweet_id  \\\n",
       "0  @115712 I understand. I would like to assist y...                 2   \n",
       "3  @115712 Please send us a Private Message so th...                 3   \n",
       "5  @115712 Can you please send us a private messa...               5,7   \n",
       "7  @115713 This is saddening to hear. Please shoo...               NaN   \n",
       "9  @115713 We understand your concerns and we'd l...                12   \n",
       "\n",
       "   in_response_to_tweet_id  \n",
       "0                      3.0  \n",
       "3                      5.0  \n",
       "5                      8.0  \n",
       "7                     12.0  \n",
       "9                     16.0  "
      ]
     },
     "execution_count": 13,
     "metadata": {},
     "output_type": "execute_result"
    }
   ],
   "source": [
    "df[df['inbound'] == False].head()"
   ]
  },
  {
   "cell_type": "code",
   "execution_count": 14,
   "metadata": {},
   "outputs": [],
   "source": [
    "inbound_count = df[\"inbound\"].value_counts()"
   ]
  },
  {
   "cell_type": "code",
   "execution_count": 15,
   "metadata": {},
   "outputs": [
    {
     "data": {
      "image/png": "[encoded data removed]",
      "text/plain": [
       "<Figure size 640x480 with 1 Axes>"
      ]
     },
     "metadata": {},
     "output_type": "display_data"
    }
   ],
   "source": [
    "inbound_count.plot(kind='bar', color=['blue', 'orange'])\n",
    "plt.xlabel(\"Inbound\")\n",
    "plt.ylabel(\"Count\")\n",
    "plt.title(\"Inbound Difference\")\n",
    "plt.show()"
   ]
  },
  {
   "cell_type": "markdown",
   "metadata": {},
   "source": [
    "Interesting to see the inbound are pretty similar "
   ]
  },
  {
   "cell_type": "markdown",
   "metadata": {},
   "source": [
    "Next we need to check the if the inbound is consistent with the author"
   ]
  },
  {
   "cell_type": "code",
   "execution_count": 16,
   "metadata": {},
   "outputs": [],
   "source": [
    "inbound_count_true = df[df['inbound'] == True]\n",
    "inbound_count_true = inbound_count_true[\"author_id\"].value_counts()"
   ]
  },
  {
   "cell_type": "code",
   "execution_count": 17,
   "metadata": {},
   "outputs": [],
   "source": [
    "inbound_count_false = df[df[\"inbound\"] == False]\n",
    "inbound_count_false = inbound_count_false[\"author_id\"].value_counts()"
   ]
  },
  {
   "cell_type": "code",
   "execution_count": 18,
   "metadata": {},
   "outputs": [
    {
     "data": {
      "image/png": "[encoded data removed]",
      "text/plain": [
       "<Figure size 640x480 with 1 Axes>"
      ]
     },
     "metadata": {},
     "output_type": "display_data"
    },
    {
     "data": {
      "image/png": "[encoded data removed]",
      "text/plain": [
       "<Figure size 640x480 with 1 Axes>"
      ]
     },
     "metadata": {},
     "output_type": "display_data"
    }
   ],
   "source": [
    "inbound_count_false[:20].plot(kind='bar')\n",
    "plt.xlabel(\"Author Ids\")\n",
    "plt.ylabel(\"Count\")\n",
    "plt.title(\"Top 25 inbound (false) authors\")\n",
    "plt.show()\n",
    "\n",
    "inbound_count_true[:20].plot(kind='bar')\n",
    "plt.xlabel(\"Author Ids\")\n",
    "plt.ylabel(\"Count\")\n",
    "plt.title(\"Top 25 inbound (true) authors\")\n",
    "plt.show()"
   ]
  },
  {
   "cell_type": "markdown",
   "metadata": {},
   "source": [
    "With the higher number of messages. These are probably not support request by a single person. \n",
    "\n",
    "Lets review one of the author id to confirm this guess."
   ]
  },
  {
   "cell_type": "code",
   "execution_count": 19,
   "metadata": {},
   "outputs": [
    {
     "data": {
      "text/html": [
       "<div>\n",
       "<style scoped>\n",
       "    .dataframe tbody tr th:only-of-type {\n",
       "        vertical-align: middle;\n",
       "    }\n",
       "\n",
       "    .dataframe tbody tr th {\n",
       "        vertical-align: top;\n",
       "    }\n",
       "\n",
       "    .dataframe thead th {\n",
       "        text-align: right;\n",
       "    }\n",
       "</style>\n",
       "<table border=\"1\" class=\"dataframe\">\n",
       "  <thead>\n",
       "    <tr style=\"text-align: right;\">\n",
       "      <th></th>\n",
       "      <th>tweet_id</th>\n",
       "      <th>author_id</th>\n",
       "      <th>inbound</th>\n",
       "      <th>created_at</th>\n",
       "      <th>text</th>\n",
       "      <th>response_tweet_id</th>\n",
       "      <th>in_response_to_tweet_id</th>\n",
       "    </tr>\n",
       "  </thead>\n",
       "  <tbody>\n",
       "    <tr>\n",
       "      <th>622</th>\n",
       "      <td>1068</td>\n",
       "      <td>115911</td>\n",
       "      <td>True</td>\n",
       "      <td>Tue Oct 31 22:19:12 +0000 2017</td>\n",
       "      <td>@115910 No sir! You can still preorder at http...</td>\n",
       "      <td>1067</td>\n",
       "      <td>1069.0</td>\n",
       "    </tr>\n",
       "    <tr>\n",
       "      <th>624</th>\n",
       "      <td>1070</td>\n",
       "      <td>115911</td>\n",
       "      <td>True</td>\n",
       "      <td>Tue Oct 31 22:16:12 +0000 2017</td>\n",
       "      <td>@115910 Go for it Trevor *ErikS</td>\n",
       "      <td>1069</td>\n",
       "      <td>1071.0</td>\n",
       "    </tr>\n",
       "    <tr>\n",
       "      <th>626</th>\n",
       "      <td>1072</td>\n",
       "      <td>115911</td>\n",
       "      <td>True</td>\n",
       "      <td>Thu Oct 26 21:13:40 +0000 2017</td>\n",
       "      <td>Be ready for your next iPhone. Join our iPhone...</td>\n",
       "      <td>1071,1073,1074,1075,1076,1077,1078,1079,1080,1...</td>\n",
       "      <td>NaN</td>\n",
       "    </tr>\n",
       "    <tr>\n",
       "      <th>1346</th>\n",
       "      <td>1950</td>\n",
       "      <td>115911</td>\n",
       "      <td>True</td>\n",
       "      <td>Tue Oct 31 22:27:18 +0000 2017</td>\n",
       "      <td>@116149 I mean...it does say to \"submit your c...</td>\n",
       "      <td>1949</td>\n",
       "      <td>1951.0</td>\n",
       "    </tr>\n",
       "    <tr>\n",
       "      <th>1348</th>\n",
       "      <td>1952</td>\n",
       "      <td>115911</td>\n",
       "      <td>True</td>\n",
       "      <td>Tue Oct 31 13:00:17 +0000 2017</td>\n",
       "      <td>Happy Halloween! Submit your costume pics with...</td>\n",
       "      <td>1953,1954,1955,1956,1957,1958,1959,1960,1961,1...</td>\n",
       "      <td>NaN</td>\n",
       "    </tr>\n",
       "    <tr>\n",
       "      <th>...</th>\n",
       "      <td>...</td>\n",
       "      <td>...</td>\n",
       "      <td>...</td>\n",
       "      <td>...</td>\n",
       "      <td>...</td>\n",
       "      <td>...</td>\n",
       "      <td>...</td>\n",
       "    </tr>\n",
       "    <tr>\n",
       "      <th>2797680</th>\n",
       "      <td>2974233</td>\n",
       "      <td>115911</td>\n",
       "      <td>True</td>\n",
       "      <td>Thu Nov 30 02:24:15 +0000 2017</td>\n",
       "      <td>@820276 Come back to your #MagentaFam! 🙌👍😊 *JPL</td>\n",
       "      <td>2974232</td>\n",
       "      <td>2974234.0</td>\n",
       "    </tr>\n",
       "    <tr>\n",
       "      <th>2802786</th>\n",
       "      <td>2979188</td>\n",
       "      <td>115911</td>\n",
       "      <td>True</td>\n",
       "      <td>Tue Oct 31 20:26:47 +0000 2017</td>\n",
       "      <td>@576616 You can block known scam numbers by di...</td>\n",
       "      <td>2979187</td>\n",
       "      <td>2979189.0</td>\n",
       "    </tr>\n",
       "    <tr>\n",
       "      <th>2802788</th>\n",
       "      <td>2979190</td>\n",
       "      <td>115911</td>\n",
       "      <td>True</td>\n",
       "      <td>Tue Oct 31 20:20:33 +0000 2017</td>\n",
       "      <td>@576616 We're working to cut down on scam call...</td>\n",
       "      <td>2979189</td>\n",
       "      <td>2979191.0</td>\n",
       "    </tr>\n",
       "    <tr>\n",
       "      <th>2811004</th>\n",
       "      <td>2987195</td>\n",
       "      <td>115911</td>\n",
       "      <td>True</td>\n",
       "      <td>Tue Nov 21 21:31:55 +0000 2017</td>\n",
       "      <td>@823653 Of course, Shawn! Where are you going ...</td>\n",
       "      <td>2987194</td>\n",
       "      <td>2987196.0</td>\n",
       "    </tr>\n",
       "    <tr>\n",
       "      <th>2811319</th>\n",
       "      <td>2987507</td>\n",
       "      <td>115911</td>\n",
       "      <td>True</td>\n",
       "      <td>Wed Nov 22 01:09:14 +0000 2017</td>\n",
       "      <td>@823739 Ouch. That's not the resolution we wan...</td>\n",
       "      <td>2987506</td>\n",
       "      <td>2987508.0</td>\n",
       "    </tr>\n",
       "  </tbody>\n",
       "</table>\n",
       "<p>1286 rows × 7 columns</p>\n",
       "</div>"
      ],
      "text/plain": [
       "         tweet_id author_id  inbound                      created_at  \\\n",
       "622          1068    115911     True  Tue Oct 31 22:19:12 +0000 2017   \n",
       "624          1070    115911     True  Tue Oct 31 22:16:12 +0000 2017   \n",
       "626          1072    115911     True  Thu Oct 26 21:13:40 +0000 2017   \n",
       "1346         1950    115911     True  Tue Oct 31 22:27:18 +0000 2017   \n",
       "1348         1952    115911     True  Tue Oct 31 13:00:17 +0000 2017   \n",
       "...           ...       ...      ...                             ...   \n",
       "2797680   2974233    115911     True  Thu Nov 30 02:24:15 +0000 2017   \n",
       "2802786   2979188    115911     True  Tue Oct 31 20:26:47 +0000 2017   \n",
       "2802788   2979190    115911     True  Tue Oct 31 20:20:33 +0000 2017   \n",
       "2811004   2987195    115911     True  Tue Nov 21 21:31:55 +0000 2017   \n",
       "2811319   2987507    115911     True  Wed Nov 22 01:09:14 +0000 2017   \n",
       "\n",
       "                                                      text  \\\n",
       "622      @115910 No sir! You can still preorder at http...   \n",
       "624                        @115910 Go for it Trevor *ErikS   \n",
       "626      Be ready for your next iPhone. Join our iPhone...   \n",
       "1346     @116149 I mean...it does say to \"submit your c...   \n",
       "1348     Happy Halloween! Submit your costume pics with...   \n",
       "...                                                    ...   \n",
       "2797680    @820276 Come back to your #MagentaFam! 🙌👍😊 *JPL   \n",
       "2802786  @576616 You can block known scam numbers by di...   \n",
       "2802788  @576616 We're working to cut down on scam call...   \n",
       "2811004  @823653 Of course, Shawn! Where are you going ...   \n",
       "2811319  @823739 Ouch. That's not the resolution we wan...   \n",
       "\n",
       "                                         response_tweet_id  \\\n",
       "622                                                   1067   \n",
       "624                                                   1069   \n",
       "626      1071,1073,1074,1075,1076,1077,1078,1079,1080,1...   \n",
       "1346                                                  1949   \n",
       "1348     1953,1954,1955,1956,1957,1958,1959,1960,1961,1...   \n",
       "...                                                    ...   \n",
       "2797680                                            2974232   \n",
       "2802786                                            2979187   \n",
       "2802788                                            2979189   \n",
       "2811004                                            2987194   \n",
       "2811319                                            2987506   \n",
       "\n",
       "         in_response_to_tweet_id  \n",
       "622                       1069.0  \n",
       "624                       1071.0  \n",
       "626                          NaN  \n",
       "1346                      1951.0  \n",
       "1348                         NaN  \n",
       "...                          ...  \n",
       "2797680                2974234.0  \n",
       "2802786                2979189.0  \n",
       "2802788                2979191.0  \n",
       "2811004                2987196.0  \n",
       "2811319                2987508.0  \n",
       "\n",
       "[1286 rows x 7 columns]"
      ]
     },
     "execution_count": 19,
     "metadata": {},
     "output_type": "execute_result"
    }
   ],
   "source": [
    "df[df['author_id'] == '115911']"
   ]
  },
  {
   "cell_type": "markdown",
   "metadata": {},
   "source": [
    "These appear to be support messages. To validate this, lets looked at a few of the handles being mentioned."
   ]
  },
  {
   "cell_type": "code",
   "execution_count": 20,
   "metadata": {},
   "outputs": [
    {
     "data": {
      "text/html": [
       "<div>\n",
       "<style scoped>\n",
       "    .dataframe tbody tr th:only-of-type {\n",
       "        vertical-align: middle;\n",
       "    }\n",
       "\n",
       "    .dataframe tbody tr th {\n",
       "        vertical-align: top;\n",
       "    }\n",
       "\n",
       "    .dataframe thead th {\n",
       "        text-align: right;\n",
       "    }\n",
       "</style>\n",
       "<table border=\"1\" class=\"dataframe\">\n",
       "  <thead>\n",
       "    <tr style=\"text-align: right;\">\n",
       "      <th></th>\n",
       "      <th>tweet_id</th>\n",
       "      <th>author_id</th>\n",
       "      <th>inbound</th>\n",
       "      <th>created_at</th>\n",
       "      <th>text</th>\n",
       "      <th>response_tweet_id</th>\n",
       "      <th>in_response_to_tweet_id</th>\n",
       "    </tr>\n",
       "  </thead>\n",
       "  <tbody>\n",
       "    <tr>\n",
       "      <th>621</th>\n",
       "      <td>1067</td>\n",
       "      <td>115910</td>\n",
       "      <td>True</td>\n",
       "      <td>Tue Oct 31 22:21:24 +0000 2017</td>\n",
       "      <td>@115911 Sweet! I’m still paying on my 7plus bu...</td>\n",
       "      <td>1066</td>\n",
       "      <td>1068.0</td>\n",
       "    </tr>\n",
       "    <tr>\n",
       "      <th>623</th>\n",
       "      <td>1069</td>\n",
       "      <td>115910</td>\n",
       "      <td>True</td>\n",
       "      <td>Tue Oct 31 22:17:06 +0000 2017</td>\n",
       "      <td>@115911 Are pre orders done for the X?</td>\n",
       "      <td>1068</td>\n",
       "      <td>1070.0</td>\n",
       "    </tr>\n",
       "    <tr>\n",
       "      <th>625</th>\n",
       "      <td>1071</td>\n",
       "      <td>115910</td>\n",
       "      <td>True</td>\n",
       "      <td>Tue Oct 31 22:15:20 +0000 2017</td>\n",
       "      <td>@115911 I have a question.</td>\n",
       "      <td>1070</td>\n",
       "      <td>1072.0</td>\n",
       "    </tr>\n",
       "    <tr>\n",
       "      <th>2630246</th>\n",
       "      <td>2802658</td>\n",
       "      <td>115910</td>\n",
       "      <td>True</td>\n",
       "      <td>Wed Nov 22 01:27:33 +0000 2017</td>\n",
       "      <td>@TMobileHelp  https://t.co/gNDsv8I4ME</td>\n",
       "      <td>2802659</td>\n",
       "      <td>2802657.0</td>\n",
       "    </tr>\n",
       "    <tr>\n",
       "      <th>2630248</th>\n",
       "      <td>611689</td>\n",
       "      <td>115910</td>\n",
       "      <td>True</td>\n",
       "      <td>Wed Nov 22 01:08:46 +0000 2017</td>\n",
       "      <td>@115911 @144529 After redeeming, how long do w...</td>\n",
       "      <td>2802657</td>\n",
       "      <td>611684.0</td>\n",
       "    </tr>\n",
       "  </tbody>\n",
       "</table>\n",
       "</div>"
      ],
      "text/plain": [
       "         tweet_id author_id  inbound                      created_at  \\\n",
       "621          1067    115910     True  Tue Oct 31 22:21:24 +0000 2017   \n",
       "623          1069    115910     True  Tue Oct 31 22:17:06 +0000 2017   \n",
       "625          1071    115910     True  Tue Oct 31 22:15:20 +0000 2017   \n",
       "2630246   2802658    115910     True  Wed Nov 22 01:27:33 +0000 2017   \n",
       "2630248    611689    115910     True  Wed Nov 22 01:08:46 +0000 2017   \n",
       "\n",
       "                                                      text response_tweet_id  \\\n",
       "621      @115911 Sweet! I’m still paying on my 7plus bu...              1066   \n",
       "623                 @115911 Are pre orders done for the X?              1068   \n",
       "625                             @115911 I have a question.              1070   \n",
       "2630246              @TMobileHelp  https://t.co/gNDsv8I4ME           2802659   \n",
       "2630248  @115911 @144529 After redeeming, how long do w...           2802657   \n",
       "\n",
       "         in_response_to_tweet_id  \n",
       "621                       1068.0  \n",
       "623                       1070.0  \n",
       "625                       1072.0  \n",
       "2630246                2802657.0  \n",
       "2630248                 611684.0  "
      ]
     },
     "execution_count": 20,
     "metadata": {},
     "output_type": "execute_result"
    }
   ],
   "source": [
    "df[df['author_id'] == '115910']"
   ]
  },
  {
   "cell_type": "markdown",
   "metadata": {},
   "source": [
    "Not sure if this can be completely cleared as trying to noticed the difference between a true cusotmer vs support agent might be challenging"
   ]
  },
  {
   "cell_type": "markdown",
   "metadata": {},
   "source": [
    "##### Response Tweet Id"
   ]
  },
  {
   "cell_type": "markdown",
   "metadata": {},
   "source": [
    "Lets look into the nan values the for the response tweet id. These might be customer support messages the support agent never responded back."
   ]
  },
  {
   "cell_type": "code",
   "execution_count": 21,
   "metadata": {},
   "outputs": [],
   "source": [
    "response_tweet_id_nan = df[df['response_tweet_id'].isna()]"
   ]
  },
  {
   "cell_type": "code",
   "execution_count": 22,
   "metadata": {},
   "outputs": [
    {
     "data": {
      "text/html": [
       "<div>\n",
       "<style scoped>\n",
       "    .dataframe tbody tr th:only-of-type {\n",
       "        vertical-align: middle;\n",
       "    }\n",
       "\n",
       "    .dataframe tbody tr th {\n",
       "        vertical-align: top;\n",
       "    }\n",
       "\n",
       "    .dataframe thead th {\n",
       "        text-align: right;\n",
       "    }\n",
       "</style>\n",
       "<table border=\"1\" class=\"dataframe\">\n",
       "  <thead>\n",
       "    <tr style=\"text-align: right;\">\n",
       "      <th></th>\n",
       "      <th>tweet_id</th>\n",
       "      <th>author_id</th>\n",
       "      <th>inbound</th>\n",
       "      <th>created_at</th>\n",
       "      <th>text</th>\n",
       "      <th>response_tweet_id</th>\n",
       "      <th>in_response_to_tweet_id</th>\n",
       "    </tr>\n",
       "  </thead>\n",
       "  <tbody>\n",
       "    <tr>\n",
       "      <th>1</th>\n",
       "      <td>2</td>\n",
       "      <td>115712</td>\n",
       "      <td>True</td>\n",
       "      <td>Tue Oct 31 22:11:45 +0000 2017</td>\n",
       "      <td>@sprintcare and how do you propose we do that</td>\n",
       "      <td>NaN</td>\n",
       "      <td>1.0</td>\n",
       "    </tr>\n",
       "    <tr>\n",
       "      <th>7</th>\n",
       "      <td>11</td>\n",
       "      <td>sprintcare</td>\n",
       "      <td>False</td>\n",
       "      <td>Tue Oct 31 22:10:35 +0000 2017</td>\n",
       "      <td>@115713 This is saddening to hear. Please shoo...</td>\n",
       "      <td>NaN</td>\n",
       "      <td>12.0</td>\n",
       "    </tr>\n",
       "    <tr>\n",
       "      <th>13</th>\n",
       "      <td>19</td>\n",
       "      <td>sprintcare</td>\n",
       "      <td>False</td>\n",
       "      <td>Tue Oct 31 22:10:10 +0000 2017</td>\n",
       "      <td>@115715 Please send me a private message so th...</td>\n",
       "      <td>NaN</td>\n",
       "      <td>20.0</td>\n",
       "    </tr>\n",
       "    <tr>\n",
       "      <th>19</th>\n",
       "      <td>27</td>\n",
       "      <td>Ask_Spectrum</td>\n",
       "      <td>False</td>\n",
       "      <td>Tue Oct 31 22:21:26 +0000 2017</td>\n",
       "      <td>@115716 No thank you. ^JK</td>\n",
       "      <td>NaN</td>\n",
       "      <td>26.0</td>\n",
       "    </tr>\n",
       "    <tr>\n",
       "      <th>20</th>\n",
       "      <td>23</td>\n",
       "      <td>115716</td>\n",
       "      <td>True</td>\n",
       "      <td>Tue Oct 31 22:16:05 +0000 2017</td>\n",
       "      <td>@Ask_Spectrum The correct way to do it is via ...</td>\n",
       "      <td>NaN</td>\n",
       "      <td>21.0</td>\n",
       "    </tr>\n",
       "  </tbody>\n",
       "</table>\n",
       "</div>"
      ],
      "text/plain": [
       "    tweet_id     author_id  inbound                      created_at  \\\n",
       "1          2        115712     True  Tue Oct 31 22:11:45 +0000 2017   \n",
       "7         11    sprintcare    False  Tue Oct 31 22:10:35 +0000 2017   \n",
       "13        19    sprintcare    False  Tue Oct 31 22:10:10 +0000 2017   \n",
       "19        27  Ask_Spectrum    False  Tue Oct 31 22:21:26 +0000 2017   \n",
       "20        23        115716     True  Tue Oct 31 22:16:05 +0000 2017   \n",
       "\n",
       "                                                 text response_tweet_id  \\\n",
       "1       @sprintcare and how do you propose we do that               NaN   \n",
       "7   @115713 This is saddening to hear. Please shoo...               NaN   \n",
       "13  @115715 Please send me a private message so th...               NaN   \n",
       "19                          @115716 No thank you. ^JK               NaN   \n",
       "20  @Ask_Spectrum The correct way to do it is via ...               NaN   \n",
       "\n",
       "    in_response_to_tweet_id  \n",
       "1                       1.0  \n",
       "7                      12.0  \n",
       "13                     20.0  \n",
       "19                     26.0  \n",
       "20                     21.0  "
      ]
     },
     "execution_count": 22,
     "metadata": {},
     "output_type": "execute_result"
    }
   ],
   "source": [
    "response_tweet_id_nan.head()"
   ]
  },
  {
   "cell_type": "code",
   "execution_count": 23,
   "metadata": {},
   "outputs": [
    {
     "data": {
      "text/plain": [
       "tweet_id                                                               2\n",
       "author_id                                                         115712\n",
       "inbound                                                             True\n",
       "created_at                                Tue Oct 31 22:11:45 +0000 2017\n",
       "text                       @sprintcare and how do you propose we do that\n",
       "response_tweet_id                                                    NaN\n",
       "in_response_to_tweet_id                                              1.0\n",
       "Name: 1, dtype: object"
      ]
     },
     "execution_count": 23,
     "metadata": {},
     "output_type": "execute_result"
    }
   ],
   "source": [
    "response_tweet_id_nan.iloc[0]"
   ]
  },
  {
   "cell_type": "code",
   "execution_count": 24,
   "metadata": {},
   "outputs": [
    {
     "data": {
      "text/html": [
       "<div>\n",
       "<style scoped>\n",
       "    .dataframe tbody tr th:only-of-type {\n",
       "        vertical-align: middle;\n",
       "    }\n",
       "\n",
       "    .dataframe tbody tr th {\n",
       "        vertical-align: top;\n",
       "    }\n",
       "\n",
       "    .dataframe thead th {\n",
       "        text-align: right;\n",
       "    }\n",
       "</style>\n",
       "<table border=\"1\" class=\"dataframe\">\n",
       "  <thead>\n",
       "    <tr style=\"text-align: right;\">\n",
       "      <th></th>\n",
       "      <th>tweet_id</th>\n",
       "      <th>author_id</th>\n",
       "      <th>inbound</th>\n",
       "      <th>created_at</th>\n",
       "      <th>text</th>\n",
       "      <th>response_tweet_id</th>\n",
       "      <th>in_response_to_tweet_id</th>\n",
       "    </tr>\n",
       "  </thead>\n",
       "  <tbody>\n",
       "    <tr>\n",
       "      <th>0</th>\n",
       "      <td>1</td>\n",
       "      <td>sprintcare</td>\n",
       "      <td>False</td>\n",
       "      <td>Tue Oct 31 22:10:47 +0000 2017</td>\n",
       "      <td>@115712 I understand. I would like to assist y...</td>\n",
       "      <td>2</td>\n",
       "      <td>3.0</td>\n",
       "    </tr>\n",
       "  </tbody>\n",
       "</table>\n",
       "</div>"
      ],
      "text/plain": [
       "   tweet_id   author_id  inbound                      created_at  \\\n",
       "0         1  sprintcare    False  Tue Oct 31 22:10:47 +0000 2017   \n",
       "\n",
       "                                                text response_tweet_id  \\\n",
       "0  @115712 I understand. I would like to assist y...                 2   \n",
       "\n",
       "   in_response_to_tweet_id  \n",
       "0                      3.0  "
      ]
     },
     "execution_count": 24,
     "metadata": {},
     "output_type": "execute_result"
    }
   ],
   "source": [
    "df[df['tweet_id'] == 1]"
   ]
  },
  {
   "cell_type": "code",
   "execution_count": 25,
   "metadata": {},
   "outputs": [
    {
     "data": {
      "text/html": [
       "<div>\n",
       "<style scoped>\n",
       "    .dataframe tbody tr th:only-of-type {\n",
       "        vertical-align: middle;\n",
       "    }\n",
       "\n",
       "    .dataframe tbody tr th {\n",
       "        vertical-align: top;\n",
       "    }\n",
       "\n",
       "    .dataframe thead th {\n",
       "        text-align: right;\n",
       "    }\n",
       "</style>\n",
       "<table border=\"1\" class=\"dataframe\">\n",
       "  <thead>\n",
       "    <tr style=\"text-align: right;\">\n",
       "      <th></th>\n",
       "      <th>tweet_id</th>\n",
       "      <th>author_id</th>\n",
       "      <th>inbound</th>\n",
       "      <th>created_at</th>\n",
       "      <th>text</th>\n",
       "      <th>response_tweet_id</th>\n",
       "      <th>in_response_to_tweet_id</th>\n",
       "    </tr>\n",
       "  </thead>\n",
       "  <tbody>\n",
       "    <tr>\n",
       "      <th>2</th>\n",
       "      <td>3</td>\n",
       "      <td>115712</td>\n",
       "      <td>True</td>\n",
       "      <td>Tue Oct 31 22:08:27 +0000 2017</td>\n",
       "      <td>@sprintcare I have sent several private messag...</td>\n",
       "      <td>1</td>\n",
       "      <td>4.0</td>\n",
       "    </tr>\n",
       "  </tbody>\n",
       "</table>\n",
       "</div>"
      ],
      "text/plain": [
       "   tweet_id author_id  inbound                      created_at  \\\n",
       "2         3    115712     True  Tue Oct 31 22:08:27 +0000 2017   \n",
       "\n",
       "                                                text response_tweet_id  \\\n",
       "2  @sprintcare I have sent several private messag...                 1   \n",
       "\n",
       "   in_response_to_tweet_id  \n",
       "2                      4.0  "
      ]
     },
     "execution_count": 25,
     "metadata": {},
     "output_type": "execute_result"
    }
   ],
   "source": [
    "df[df['tweet_id'] == 3]"
   ]
  },
  {
   "cell_type": "markdown",
   "metadata": {},
   "source": [
    "Looks like the converstation has ended from the nan values found. However looks like the time is decreasing as each tweet is tracked."
   ]
  },
  {
   "cell_type": "markdown",
   "metadata": {},
   "source": [
    "We will want to find the first initial support requeset. "
   ]
  },
  {
   "cell_type": "markdown",
   "metadata": {},
   "source": [
    "##### In response to tweet\n",
    "\n",
    "Looks like the \"in response to tweet id\" is related the ongoing conversation of the customer support agent. Additional review to determine what is going on with this data."
   ]
  },
  {
   "cell_type": "code",
   "execution_count": 26,
   "metadata": {},
   "outputs": [
    {
     "data": {
      "text/html": [
       "<div>\n",
       "<style scoped>\n",
       "    .dataframe tbody tr th:only-of-type {\n",
       "        vertical-align: middle;\n",
       "    }\n",
       "\n",
       "    .dataframe tbody tr th {\n",
       "        vertical-align: top;\n",
       "    }\n",
       "\n",
       "    .dataframe thead th {\n",
       "        text-align: right;\n",
       "    }\n",
       "</style>\n",
       "<table border=\"1\" class=\"dataframe\">\n",
       "  <thead>\n",
       "    <tr style=\"text-align: right;\">\n",
       "      <th></th>\n",
       "      <th>tweet_id</th>\n",
       "      <th>author_id</th>\n",
       "      <th>inbound</th>\n",
       "      <th>created_at</th>\n",
       "      <th>text</th>\n",
       "      <th>response_tweet_id</th>\n",
       "      <th>in_response_to_tweet_id</th>\n",
       "    </tr>\n",
       "  </thead>\n",
       "  <tbody>\n",
       "    <tr>\n",
       "      <th>0</th>\n",
       "      <td>1</td>\n",
       "      <td>sprintcare</td>\n",
       "      <td>False</td>\n",
       "      <td>Tue Oct 31 22:10:47 +0000 2017</td>\n",
       "      <td>@115712 I understand. I would like to assist y...</td>\n",
       "      <td>2</td>\n",
       "      <td>3.0</td>\n",
       "    </tr>\n",
       "    <tr>\n",
       "      <th>1</th>\n",
       "      <td>2</td>\n",
       "      <td>115712</td>\n",
       "      <td>True</td>\n",
       "      <td>Tue Oct 31 22:11:45 +0000 2017</td>\n",
       "      <td>@sprintcare and how do you propose we do that</td>\n",
       "      <td>NaN</td>\n",
       "      <td>1.0</td>\n",
       "    </tr>\n",
       "    <tr>\n",
       "      <th>2</th>\n",
       "      <td>3</td>\n",
       "      <td>115712</td>\n",
       "      <td>True</td>\n",
       "      <td>Tue Oct 31 22:08:27 +0000 2017</td>\n",
       "      <td>@sprintcare I have sent several private messag...</td>\n",
       "      <td>1</td>\n",
       "      <td>4.0</td>\n",
       "    </tr>\n",
       "    <tr>\n",
       "      <th>3</th>\n",
       "      <td>4</td>\n",
       "      <td>sprintcare</td>\n",
       "      <td>False</td>\n",
       "      <td>Tue Oct 31 21:54:49 +0000 2017</td>\n",
       "      <td>@115712 Please send us a Private Message so th...</td>\n",
       "      <td>3</td>\n",
       "      <td>5.0</td>\n",
       "    </tr>\n",
       "    <tr>\n",
       "      <th>4</th>\n",
       "      <td>5</td>\n",
       "      <td>115712</td>\n",
       "      <td>True</td>\n",
       "      <td>Tue Oct 31 21:49:35 +0000 2017</td>\n",
       "      <td>@sprintcare I did.</td>\n",
       "      <td>4</td>\n",
       "      <td>6.0</td>\n",
       "    </tr>\n",
       "  </tbody>\n",
       "</table>\n",
       "</div>"
      ],
      "text/plain": [
       "   tweet_id   author_id  inbound                      created_at  \\\n",
       "0         1  sprintcare    False  Tue Oct 31 22:10:47 +0000 2017   \n",
       "1         2      115712     True  Tue Oct 31 22:11:45 +0000 2017   \n",
       "2         3      115712     True  Tue Oct 31 22:08:27 +0000 2017   \n",
       "3         4  sprintcare    False  Tue Oct 31 21:54:49 +0000 2017   \n",
       "4         5      115712     True  Tue Oct 31 21:49:35 +0000 2017   \n",
       "\n",
       "                                                text response_tweet_id  \\\n",
       "0  @115712 I understand. I would like to assist y...                 2   \n",
       "1      @sprintcare and how do you propose we do that               NaN   \n",
       "2  @sprintcare I have sent several private messag...                 1   \n",
       "3  @115712 Please send us a Private Message so th...                 3   \n",
       "4                                 @sprintcare I did.                 4   \n",
       "\n",
       "   in_response_to_tweet_id  \n",
       "0                      3.0  \n",
       "1                      1.0  \n",
       "2                      4.0  \n",
       "3                      5.0  \n",
       "4                      6.0  "
      ]
     },
     "execution_count": 26,
     "metadata": {},
     "output_type": "execute_result"
    }
   ],
   "source": [
    "df.head()"
   ]
  },
  {
   "cell_type": "markdown",
   "metadata": {},
   "source": [
    "Lets look at the NaN values for the in reponse to tweet id"
   ]
  },
  {
   "cell_type": "code",
   "execution_count": 27,
   "metadata": {},
   "outputs": [],
   "source": [
    "in_response_to_tweet_nan = df[df[\"in_response_to_tweet_id\"].isna()]"
   ]
  },
  {
   "cell_type": "code",
   "execution_count": 28,
   "metadata": {},
   "outputs": [
    {
     "data": {
      "text/html": [
       "<div>\n",
       "<style scoped>\n",
       "    .dataframe tbody tr th:only-of-type {\n",
       "        vertical-align: middle;\n",
       "    }\n",
       "\n",
       "    .dataframe tbody tr th {\n",
       "        vertical-align: top;\n",
       "    }\n",
       "\n",
       "    .dataframe thead th {\n",
       "        text-align: right;\n",
       "    }\n",
       "</style>\n",
       "<table border=\"1\" class=\"dataframe\">\n",
       "  <thead>\n",
       "    <tr style=\"text-align: right;\">\n",
       "      <th></th>\n",
       "      <th>tweet_id</th>\n",
       "      <th>author_id</th>\n",
       "      <th>inbound</th>\n",
       "      <th>created_at</th>\n",
       "      <th>text</th>\n",
       "      <th>response_tweet_id</th>\n",
       "      <th>in_response_to_tweet_id</th>\n",
       "    </tr>\n",
       "  </thead>\n",
       "  <tbody>\n",
       "    <tr>\n",
       "      <th>6</th>\n",
       "      <td>8</td>\n",
       "      <td>115712</td>\n",
       "      <td>True</td>\n",
       "      <td>Tue Oct 31 21:45:10 +0000 2017</td>\n",
       "      <td>@sprintcare is the worst customer service</td>\n",
       "      <td>9,6,10</td>\n",
       "      <td>NaN</td>\n",
       "    </tr>\n",
       "    <tr>\n",
       "      <th>12</th>\n",
       "      <td>18</td>\n",
       "      <td>115713</td>\n",
       "      <td>True</td>\n",
       "      <td>Tue Oct 31 19:56:01 +0000 2017</td>\n",
       "      <td>@115714 y’all lie about your “great” connectio...</td>\n",
       "      <td>17</td>\n",
       "      <td>NaN</td>\n",
       "    </tr>\n",
       "    <tr>\n",
       "      <th>14</th>\n",
       "      <td>20</td>\n",
       "      <td>115715</td>\n",
       "      <td>True</td>\n",
       "      <td>Tue Oct 31 22:03:34 +0000 2017</td>\n",
       "      <td>@115714 whenever I contact customer support, t...</td>\n",
       "      <td>19</td>\n",
       "      <td>NaN</td>\n",
       "    </tr>\n",
       "    <tr>\n",
       "      <th>23</th>\n",
       "      <td>29</td>\n",
       "      <td>115716</td>\n",
       "      <td>True</td>\n",
       "      <td>Tue Oct 31 22:01:35 +0000 2017</td>\n",
       "      <td>actually that's a broken link you sent me and ...</td>\n",
       "      <td>28</td>\n",
       "      <td>NaN</td>\n",
       "    </tr>\n",
       "    <tr>\n",
       "      <th>25</th>\n",
       "      <td>31</td>\n",
       "      <td>115717</td>\n",
       "      <td>True</td>\n",
       "      <td>Tue Oct 31 22:06:54 +0000 2017</td>\n",
       "      <td>Yo @Ask_Spectrum, your customer service reps a...</td>\n",
       "      <td>30</td>\n",
       "      <td>NaN</td>\n",
       "    </tr>\n",
       "  </tbody>\n",
       "</table>\n",
       "</div>"
      ],
      "text/plain": [
       "    tweet_id author_id  inbound                      created_at  \\\n",
       "6          8    115712     True  Tue Oct 31 21:45:10 +0000 2017   \n",
       "12        18    115713     True  Tue Oct 31 19:56:01 +0000 2017   \n",
       "14        20    115715     True  Tue Oct 31 22:03:34 +0000 2017   \n",
       "23        29    115716     True  Tue Oct 31 22:01:35 +0000 2017   \n",
       "25        31    115717     True  Tue Oct 31 22:06:54 +0000 2017   \n",
       "\n",
       "                                                 text response_tweet_id  \\\n",
       "6           @sprintcare is the worst customer service            9,6,10   \n",
       "12  @115714 y’all lie about your “great” connectio...                17   \n",
       "14  @115714 whenever I contact customer support, t...                19   \n",
       "23  actually that's a broken link you sent me and ...                28   \n",
       "25  Yo @Ask_Spectrum, your customer service reps a...                30   \n",
       "\n",
       "    in_response_to_tweet_id  \n",
       "6                       NaN  \n",
       "12                      NaN  \n",
       "14                      NaN  \n",
       "23                      NaN  \n",
       "25                      NaN  "
      ]
     },
     "execution_count": 28,
     "metadata": {},
     "output_type": "execute_result"
    }
   ],
   "source": [
    "in_response_to_tweet_nan.head()"
   ]
  },
  {
   "cell_type": "markdown",
   "metadata": {},
   "source": [
    "These could be the inital converstation to start off the support request. Lets compare the difference between in reponse to vs reponse tweet id. We are specifically looking for the nan values for both from a single customer."
   ]
  },
  {
   "cell_type": "code",
   "execution_count": 29,
   "metadata": {},
   "outputs": [
    {
     "data": {
      "text/html": [
       "<div>\n",
       "<style scoped>\n",
       "    .dataframe tbody tr th:only-of-type {\n",
       "        vertical-align: middle;\n",
       "    }\n",
       "\n",
       "    .dataframe tbody tr th {\n",
       "        vertical-align: top;\n",
       "    }\n",
       "\n",
       "    .dataframe thead th {\n",
       "        text-align: right;\n",
       "    }\n",
       "</style>\n",
       "<table border=\"1\" class=\"dataframe\">\n",
       "  <thead>\n",
       "    <tr style=\"text-align: right;\">\n",
       "      <th></th>\n",
       "      <th>tweet_id</th>\n",
       "      <th>author_id</th>\n",
       "      <th>inbound</th>\n",
       "      <th>created_at</th>\n",
       "      <th>text</th>\n",
       "      <th>response_tweet_id</th>\n",
       "      <th>in_response_to_tweet_id</th>\n",
       "    </tr>\n",
       "  </thead>\n",
       "  <tbody>\n",
       "    <tr>\n",
       "      <th>6</th>\n",
       "      <td>8</td>\n",
       "      <td>115712</td>\n",
       "      <td>True</td>\n",
       "      <td>Tue Oct 31 21:45:10 +0000 2017</td>\n",
       "      <td>@sprintcare is the worst customer service</td>\n",
       "      <td>9,6,10</td>\n",
       "      <td>NaN</td>\n",
       "    </tr>\n",
       "    <tr>\n",
       "      <th>753</th>\n",
       "      <td>1293</td>\n",
       "      <td>115712</td>\n",
       "      <td>True</td>\n",
       "      <td>Tue Oct 31 22:24:51 +0000 2017</td>\n",
       "      <td>@115714 @sprintcare how can I get in touch wit...</td>\n",
       "      <td>1291,1296,1297</td>\n",
       "      <td>NaN</td>\n",
       "    </tr>\n",
       "    <tr>\n",
       "      <th>2301</th>\n",
       "      <td>3188</td>\n",
       "      <td>115712</td>\n",
       "      <td>True</td>\n",
       "      <td>Tue Oct 31 22:43:47 +0000 2017</td>\n",
       "      <td>@116447 - And the issue is still not fixed!  N...</td>\n",
       "      <td>3187</td>\n",
       "      <td>NaN</td>\n",
       "    </tr>\n",
       "  </tbody>\n",
       "</table>\n",
       "</div>"
      ],
      "text/plain": [
       "      tweet_id author_id  inbound                      created_at  \\\n",
       "6            8    115712     True  Tue Oct 31 21:45:10 +0000 2017   \n",
       "753       1293    115712     True  Tue Oct 31 22:24:51 +0000 2017   \n",
       "2301      3188    115712     True  Tue Oct 31 22:43:47 +0000 2017   \n",
       "\n",
       "                                                   text response_tweet_id  \\\n",
       "6             @sprintcare is the worst customer service            9,6,10   \n",
       "753   @115714 @sprintcare how can I get in touch wit...    1291,1296,1297   \n",
       "2301  @116447 - And the issue is still not fixed!  N...              3187   \n",
       "\n",
       "      in_response_to_tweet_id  \n",
       "6                         NaN  \n",
       "753                       NaN  \n",
       "2301                      NaN  "
      ]
     },
     "execution_count": 29,
     "metadata": {},
     "output_type": "execute_result"
    }
   ],
   "source": [
    "in_response_to_tweet_nan[in_response_to_tweet_nan['author_id'] == '115712']"
   ]
  },
  {
   "cell_type": "code",
   "execution_count": 30,
   "metadata": {},
   "outputs": [
    {
     "data": {
      "text/html": [
       "<div>\n",
       "<style scoped>\n",
       "    .dataframe tbody tr th:only-of-type {\n",
       "        vertical-align: middle;\n",
       "    }\n",
       "\n",
       "    .dataframe tbody tr th {\n",
       "        vertical-align: top;\n",
       "    }\n",
       "\n",
       "    .dataframe thead th {\n",
       "        text-align: right;\n",
       "    }\n",
       "</style>\n",
       "<table border=\"1\" class=\"dataframe\">\n",
       "  <thead>\n",
       "    <tr style=\"text-align: right;\">\n",
       "      <th></th>\n",
       "      <th>tweet_id</th>\n",
       "      <th>author_id</th>\n",
       "      <th>inbound</th>\n",
       "      <th>created_at</th>\n",
       "      <th>text</th>\n",
       "      <th>response_tweet_id</th>\n",
       "      <th>in_response_to_tweet_id</th>\n",
       "    </tr>\n",
       "  </thead>\n",
       "  <tbody>\n",
       "    <tr>\n",
       "      <th>1</th>\n",
       "      <td>2</td>\n",
       "      <td>115712</td>\n",
       "      <td>True</td>\n",
       "      <td>Tue Oct 31 22:11:45 +0000 2017</td>\n",
       "      <td>@sprintcare and how do you propose we do that</td>\n",
       "      <td>NaN</td>\n",
       "      <td>1.0</td>\n",
       "    </tr>\n",
       "    <tr>\n",
       "      <th>752</th>\n",
       "      <td>1295</td>\n",
       "      <td>115712</td>\n",
       "      <td>True</td>\n",
       "      <td>Tue Oct 31 22:34:55 +0000 2017</td>\n",
       "      <td>@sprintcare I sent it twice now to apparently ...</td>\n",
       "      <td>NaN</td>\n",
       "      <td>1294.0</td>\n",
       "    </tr>\n",
       "    <tr>\n",
       "      <th>2314173</th>\n",
       "      <td>7</td>\n",
       "      <td>115712</td>\n",
       "      <td>True</td>\n",
       "      <td>Tue Oct 31 21:47:48 +0000 2017</td>\n",
       "      <td>@sprintcare the only way I can get a response ...</td>\n",
       "      <td>NaN</td>\n",
       "      <td>6.0</td>\n",
       "    </tr>\n",
       "  </tbody>\n",
       "</table>\n",
       "</div>"
      ],
      "text/plain": [
       "         tweet_id author_id  inbound                      created_at  \\\n",
       "1               2    115712     True  Tue Oct 31 22:11:45 +0000 2017   \n",
       "752          1295    115712     True  Tue Oct 31 22:34:55 +0000 2017   \n",
       "2314173         7    115712     True  Tue Oct 31 21:47:48 +0000 2017   \n",
       "\n",
       "                                                      text response_tweet_id  \\\n",
       "1            @sprintcare and how do you propose we do that               NaN   \n",
       "752      @sprintcare I sent it twice now to apparently ...               NaN   \n",
       "2314173  @sprintcare the only way I can get a response ...               NaN   \n",
       "\n",
       "         in_response_to_tweet_id  \n",
       "1                            1.0  \n",
       "752                       1294.0  \n",
       "2314173                      6.0  "
      ]
     },
     "execution_count": 30,
     "metadata": {},
     "output_type": "execute_result"
    }
   ],
   "source": [
    "response_tweet_id_nan[response_tweet_id_nan['author_id'] == '115712']"
   ]
  },
  {
   "cell_type": "markdown",
   "metadata": {},
   "source": [
    "From comparing the two, the nan values for the in_response_to_tweet_id is the start of the conversation or complaint by the customer. All examples above date before the reponse tweet was taken."
   ]
  },
  {
   "cell_type": "code",
   "execution_count": 31,
   "metadata": {},
   "outputs": [
    {
     "name": "stdout",
     "output_type": "stream",
     "text": [
      "Number of support request by customers: 794335\n"
     ]
    }
   ],
   "source": [
    "print(f\"Number of support request by customers: {len(in_response_to_tweet_nan)}\")"
   ]
  },
  {
   "cell_type": "markdown",
   "metadata": {},
   "source": [
    "### Link customer request to support\n",
    "\n",
    "Due to support request not directly linked to the correct customer. We will need to create a new dataframe that can link customer messages to the support group."
   ]
  },
  {
   "cell_type": "markdown",
   "metadata": {},
   "source": [
    "Because of the knowledge learned, grab the initial request from the nan from in response to tweet"
   ]
  },
  {
   "cell_type": "code",
   "execution_count": 32,
   "metadata": {},
   "outputs": [],
   "source": [
    "initial_support_request_df = df[df['in_response_to_tweet_id'].isna()]"
   ]
  },
  {
   "cell_type": "code",
   "execution_count": 33,
   "metadata": {},
   "outputs": [
    {
     "data": {
      "text/html": [
       "<div>\n",
       "<style scoped>\n",
       "    .dataframe tbody tr th:only-of-type {\n",
       "        vertical-align: middle;\n",
       "    }\n",
       "\n",
       "    .dataframe tbody tr th {\n",
       "        vertical-align: top;\n",
       "    }\n",
       "\n",
       "    .dataframe thead th {\n",
       "        text-align: right;\n",
       "    }\n",
       "</style>\n",
       "<table border=\"1\" class=\"dataframe\">\n",
       "  <thead>\n",
       "    <tr style=\"text-align: right;\">\n",
       "      <th></th>\n",
       "      <th>tweet_id</th>\n",
       "      <th>author_id</th>\n",
       "      <th>inbound</th>\n",
       "      <th>created_at</th>\n",
       "      <th>text</th>\n",
       "      <th>response_tweet_id</th>\n",
       "      <th>in_response_to_tweet_id</th>\n",
       "    </tr>\n",
       "  </thead>\n",
       "  <tbody>\n",
       "    <tr>\n",
       "      <th>6</th>\n",
       "      <td>8</td>\n",
       "      <td>115712</td>\n",
       "      <td>True</td>\n",
       "      <td>Tue Oct 31 21:45:10 +0000 2017</td>\n",
       "      <td>@sprintcare is the worst customer service</td>\n",
       "      <td>9,6,10</td>\n",
       "      <td>NaN</td>\n",
       "    </tr>\n",
       "    <tr>\n",
       "      <th>12</th>\n",
       "      <td>18</td>\n",
       "      <td>115713</td>\n",
       "      <td>True</td>\n",
       "      <td>Tue Oct 31 19:56:01 +0000 2017</td>\n",
       "      <td>@115714 y’all lie about your “great” connectio...</td>\n",
       "      <td>17</td>\n",
       "      <td>NaN</td>\n",
       "    </tr>\n",
       "    <tr>\n",
       "      <th>14</th>\n",
       "      <td>20</td>\n",
       "      <td>115715</td>\n",
       "      <td>True</td>\n",
       "      <td>Tue Oct 31 22:03:34 +0000 2017</td>\n",
       "      <td>@115714 whenever I contact customer support, t...</td>\n",
       "      <td>19</td>\n",
       "      <td>NaN</td>\n",
       "    </tr>\n",
       "    <tr>\n",
       "      <th>23</th>\n",
       "      <td>29</td>\n",
       "      <td>115716</td>\n",
       "      <td>True</td>\n",
       "      <td>Tue Oct 31 22:01:35 +0000 2017</td>\n",
       "      <td>actually that's a broken link you sent me and ...</td>\n",
       "      <td>28</td>\n",
       "      <td>NaN</td>\n",
       "    </tr>\n",
       "    <tr>\n",
       "      <th>25</th>\n",
       "      <td>31</td>\n",
       "      <td>115717</td>\n",
       "      <td>True</td>\n",
       "      <td>Tue Oct 31 22:06:54 +0000 2017</td>\n",
       "      <td>Yo @Ask_Spectrum, your customer service reps a...</td>\n",
       "      <td>30</td>\n",
       "      <td>NaN</td>\n",
       "    </tr>\n",
       "  </tbody>\n",
       "</table>\n",
       "</div>"
      ],
      "text/plain": [
       "    tweet_id author_id  inbound                      created_at  \\\n",
       "6          8    115712     True  Tue Oct 31 21:45:10 +0000 2017   \n",
       "12        18    115713     True  Tue Oct 31 19:56:01 +0000 2017   \n",
       "14        20    115715     True  Tue Oct 31 22:03:34 +0000 2017   \n",
       "23        29    115716     True  Tue Oct 31 22:01:35 +0000 2017   \n",
       "25        31    115717     True  Tue Oct 31 22:06:54 +0000 2017   \n",
       "\n",
       "                                                 text response_tweet_id  \\\n",
       "6           @sprintcare is the worst customer service            9,6,10   \n",
       "12  @115714 y’all lie about your “great” connectio...                17   \n",
       "14  @115714 whenever I contact customer support, t...                19   \n",
       "23  actually that's a broken link you sent me and ...                28   \n",
       "25  Yo @Ask_Spectrum, your customer service reps a...                30   \n",
       "\n",
       "    in_response_to_tweet_id  \n",
       "6                       NaN  \n",
       "12                      NaN  \n",
       "14                      NaN  \n",
       "23                      NaN  \n",
       "25                      NaN  "
      ]
     },
     "execution_count": 33,
     "metadata": {},
     "output_type": "execute_result"
    }
   ],
   "source": [
    "initial_support_request_df.head()"
   ]
  },
  {
   "cell_type": "markdown",
   "metadata": {},
   "source": [
    "Test out the process before creating a funciton to loop though all of the author ids"
   ]
  },
  {
   "cell_type": "code",
   "execution_count": 34,
   "metadata": {},
   "outputs": [],
   "source": [
    "example_df = initial_support_request_df.iloc[1]"
   ]
  },
  {
   "cell_type": "markdown",
   "metadata": {},
   "source": [
    "reponse tweet id can have multiple tweets linked. Additional work will required to pull a single tweet id from the list"
   ]
  },
  {
   "cell_type": "code",
   "execution_count": 35,
   "metadata": {},
   "outputs": [],
   "source": [
    "response_id = int(initial_support_request_df['response_tweet_id'].iloc[1])"
   ]
  },
  {
   "cell_type": "code",
   "execution_count": 36,
   "metadata": {},
   "outputs": [],
   "source": [
    "found_team = df[df['tweet_id'] == response_id]['author_id'].values[0]"
   ]
  },
  {
   "cell_type": "code",
   "execution_count": 37,
   "metadata": {},
   "outputs": [
    {
     "name": "stderr",
     "output_type": "stream",
     "text": [
      "/var/folders/sk/f7k402kx1wvdmcz91gdz6hs00000gn/T/ipykernel_81770/3666726170.py:1: SettingWithCopyWarning: \n",
      "A value is trying to be set on a copy of a slice from a DataFrame\n",
      "\n",
      "See the caveats in the documentation: https://pandas.pydata.org/pandas-docs/stable/user_guide/indexing.html#returning-a-view-versus-a-copy\n",
      "  example_df['support_team'] = found_team\n",
      "/var/folders/sk/f7k402kx1wvdmcz91gdz6hs00000gn/T/ipykernel_81770/3666726170.py:1: SettingWithCopyWarning: \n",
      "A value is trying to be set on a copy of a slice from a DataFrame\n",
      "\n",
      "See the caveats in the documentation: https://pandas.pydata.org/pandas-docs/stable/user_guide/indexing.html#returning-a-view-versus-a-copy\n",
      "  example_df['support_team'] = found_team\n"
     ]
    }
   ],
   "source": [
    "example_df['support_team'] = found_team"
   ]
  },
  {
   "cell_type": "code",
   "execution_count": 38,
   "metadata": {},
   "outputs": [
    {
     "data": {
      "text/plain": [
       "tweet_id                                                                  18\n",
       "author_id                                                             115713\n",
       "inbound                                                                 True\n",
       "created_at                                    Tue Oct 31 19:56:01 +0000 2017\n",
       "text                       @115714 y’all lie about your “great” connectio...\n",
       "response_tweet_id                                                         17\n",
       "in_response_to_tweet_id                                                  NaN\n",
       "support_team                                                      sprintcare\n",
       "Name: 12, dtype: object"
      ]
     },
     "execution_count": 38,
     "metadata": {},
     "output_type": "execute_result"
    }
   ],
   "source": [
    "example_df"
   ]
  },
  {
   "cell_type": "markdown",
   "metadata": {},
   "source": [
    "With the process complete. Next we need to create the function to update that column field value"
   ]
  },
  {
   "cell_type": "code",
   "execution_count": 39,
   "metadata": {},
   "outputs": [],
   "source": [
    "def responseTweetIdLookup(tweet_id_input):\n",
    "    \"\"\"\n",
    "    returns the found support team from the given tweet id\n",
    "    \"\"\"\n",
    "\n",
    "    # convert tweet id input\n",
    "    tweet_id_input = str(tweet_id_input)\n",
    "    found_response_id = ''\n",
    "\n",
    "    # Due to mulple variable the response id can take, need to clean up the value\n",
    "    if tweet_id_input == 'NaN' or tweet_id_input == \"nan\":\n",
    "        found_response_id = 'NaN'\n",
    "    elif ',' in tweet_id_input:\n",
    "        # TODO: need additonal work to split multiple reponse to one tweet\n",
    "        found_response_id = tweet_id_input.split(',')[0]\n",
    "    else:\n",
    "        found_response_id = tweet_id_input\n",
    "    \n",
    "    # finds the author id the initial conversation\n",
    "    if found_response_id != 'NaN':\n",
    "        # TODO: to improve the speed, may need to creaet a seperate dataframe of unqiue values.\n",
    "        found_support_team = df[df['tweet_id'] == int(found_response_id)]['author_id'].values\n",
    "\n",
    "        # due to missing data from tweet id, we need to check if a value is found\n",
    "        if len(found_support_team) != 0:\n",
    "            found_support_team = found_support_team[0]\n",
    "        else:\n",
    "            found_support_team = \"NaN\"\n",
    "    else:\n",
    "        found_support_team = \"NaN\"\n",
    "\n",
    "    return found_support_team"
   ]
  },
  {
   "cell_type": "markdown",
   "metadata": {},
   "source": [
    "Confirm it works"
   ]
  },
  {
   "cell_type": "code",
   "execution_count": 40,
   "metadata": {},
   "outputs": [
    {
     "name": "stdout",
     "output_type": "stream",
     "text": [
      "sprintcare is the support team for tweet id 17\n"
     ]
    }
   ],
   "source": [
    "test_team = responseTweetIdLookup('17')\n",
    "print(f\"{test_team} is the support team for tweet id 17\")"
   ]
  },
  {
   "cell_type": "code",
   "execution_count": 41,
   "metadata": {},
   "outputs": [
    {
     "name": "stdout",
     "output_type": "stream",
     "text": [
      "sprintcare is the support team for tweet id 9,6,10\n"
     ]
    }
   ],
   "source": [
    "test_team = responseTweetIdLookup('9,6,10')\n",
    "print(f\"{test_team} is the support team for tweet id 9,6,10\")"
   ]
  },
  {
   "cell_type": "code",
   "execution_count": 42,
   "metadata": {},
   "outputs": [
    {
     "name": "stdout",
     "output_type": "stream",
     "text": [
      "NaN is the support team for tweet id nan\n"
     ]
    }
   ],
   "source": [
    "test_team = responseTweetIdLookup('nan')\n",
    "print(f\"{test_team} is the support team for tweet id nan\")"
   ]
  },
  {
   "cell_type": "markdown",
   "metadata": {},
   "source": [
    "With a function created, time to create a new dataframe with the the support teams listed."
   ]
  },
  {
   "cell_type": "code",
   "execution_count": 43,
   "metadata": {},
   "outputs": [],
   "source": [
    "# support_team_df = df.copy()\n",
    "\n",
    "# Subset of the support request. These are only the inital request\n",
    "support_team_df = initial_support_request_df.copy()"
   ]
  },
  {
   "cell_type": "code",
   "execution_count": 44,
   "metadata": {},
   "outputs": [
    {
     "data": {
      "text/html": [
       "<div>\n",
       "<style scoped>\n",
       "    .dataframe tbody tr th:only-of-type {\n",
       "        vertical-align: middle;\n",
       "    }\n",
       "\n",
       "    .dataframe tbody tr th {\n",
       "        vertical-align: top;\n",
       "    }\n",
       "\n",
       "    .dataframe thead th {\n",
       "        text-align: right;\n",
       "    }\n",
       "</style>\n",
       "<table border=\"1\" class=\"dataframe\">\n",
       "  <thead>\n",
       "    <tr style=\"text-align: right;\">\n",
       "      <th></th>\n",
       "      <th>tweet_id</th>\n",
       "      <th>author_id</th>\n",
       "      <th>inbound</th>\n",
       "      <th>created_at</th>\n",
       "      <th>text</th>\n",
       "      <th>response_tweet_id</th>\n",
       "      <th>in_response_to_tweet_id</th>\n",
       "    </tr>\n",
       "  </thead>\n",
       "  <tbody>\n",
       "    <tr>\n",
       "      <th>6</th>\n",
       "      <td>8</td>\n",
       "      <td>115712</td>\n",
       "      <td>True</td>\n",
       "      <td>Tue Oct 31 21:45:10 +0000 2017</td>\n",
       "      <td>@sprintcare is the worst customer service</td>\n",
       "      <td>9,6,10</td>\n",
       "      <td>NaN</td>\n",
       "    </tr>\n",
       "    <tr>\n",
       "      <th>12</th>\n",
       "      <td>18</td>\n",
       "      <td>115713</td>\n",
       "      <td>True</td>\n",
       "      <td>Tue Oct 31 19:56:01 +0000 2017</td>\n",
       "      <td>@115714 y’all lie about your “great” connectio...</td>\n",
       "      <td>17</td>\n",
       "      <td>NaN</td>\n",
       "    </tr>\n",
       "    <tr>\n",
       "      <th>14</th>\n",
       "      <td>20</td>\n",
       "      <td>115715</td>\n",
       "      <td>True</td>\n",
       "      <td>Tue Oct 31 22:03:34 +0000 2017</td>\n",
       "      <td>@115714 whenever I contact customer support, t...</td>\n",
       "      <td>19</td>\n",
       "      <td>NaN</td>\n",
       "    </tr>\n",
       "    <tr>\n",
       "      <th>23</th>\n",
       "      <td>29</td>\n",
       "      <td>115716</td>\n",
       "      <td>True</td>\n",
       "      <td>Tue Oct 31 22:01:35 +0000 2017</td>\n",
       "      <td>actually that's a broken link you sent me and ...</td>\n",
       "      <td>28</td>\n",
       "      <td>NaN</td>\n",
       "    </tr>\n",
       "    <tr>\n",
       "      <th>25</th>\n",
       "      <td>31</td>\n",
       "      <td>115717</td>\n",
       "      <td>True</td>\n",
       "      <td>Tue Oct 31 22:06:54 +0000 2017</td>\n",
       "      <td>Yo @Ask_Spectrum, your customer service reps a...</td>\n",
       "      <td>30</td>\n",
       "      <td>NaN</td>\n",
       "    </tr>\n",
       "  </tbody>\n",
       "</table>\n",
       "</div>"
      ],
      "text/plain": [
       "    tweet_id author_id  inbound                      created_at  \\\n",
       "6          8    115712     True  Tue Oct 31 21:45:10 +0000 2017   \n",
       "12        18    115713     True  Tue Oct 31 19:56:01 +0000 2017   \n",
       "14        20    115715     True  Tue Oct 31 22:03:34 +0000 2017   \n",
       "23        29    115716     True  Tue Oct 31 22:01:35 +0000 2017   \n",
       "25        31    115717     True  Tue Oct 31 22:06:54 +0000 2017   \n",
       "\n",
       "                                                 text response_tweet_id  \\\n",
       "6           @sprintcare is the worst customer service            9,6,10   \n",
       "12  @115714 y’all lie about your “great” connectio...                17   \n",
       "14  @115714 whenever I contact customer support, t...                19   \n",
       "23  actually that's a broken link you sent me and ...                28   \n",
       "25  Yo @Ask_Spectrum, your customer service reps a...                30   \n",
       "\n",
       "    in_response_to_tweet_id  \n",
       "6                       NaN  \n",
       "12                      NaN  \n",
       "14                      NaN  \n",
       "23                      NaN  \n",
       "25                      NaN  "
      ]
     },
     "execution_count": 44,
     "metadata": {},
     "output_type": "execute_result"
    }
   ],
   "source": [
    "support_team_df.head()"
   ]
  },
  {
   "cell_type": "code",
   "execution_count": 45,
   "metadata": {},
   "outputs": [],
   "source": [
    "support_team_df['support_team'] = support_team_df.apply(lambda x: responseTweetIdLookup(x['response_tweet_id']), axis=1)"
   ]
  },
  {
   "cell_type": "code",
   "execution_count": 46,
   "metadata": {},
   "outputs": [
    {
     "data": {
      "text/html": [
       "<div>\n",
       "<style scoped>\n",
       "    .dataframe tbody tr th:only-of-type {\n",
       "        vertical-align: middle;\n",
       "    }\n",
       "\n",
       "    .dataframe tbody tr th {\n",
       "        vertical-align: top;\n",
       "    }\n",
       "\n",
       "    .dataframe thead th {\n",
       "        text-align: right;\n",
       "    }\n",
       "</style>\n",
       "<table border=\"1\" class=\"dataframe\">\n",
       "  <thead>\n",
       "    <tr style=\"text-align: right;\">\n",
       "      <th></th>\n",
       "      <th>tweet_id</th>\n",
       "      <th>author_id</th>\n",
       "      <th>inbound</th>\n",
       "      <th>created_at</th>\n",
       "      <th>text</th>\n",
       "      <th>response_tweet_id</th>\n",
       "      <th>in_response_to_tweet_id</th>\n",
       "      <th>support_team</th>\n",
       "    </tr>\n",
       "  </thead>\n",
       "  <tbody>\n",
       "    <tr>\n",
       "      <th>6</th>\n",
       "      <td>8</td>\n",
       "      <td>115712</td>\n",
       "      <td>True</td>\n",
       "      <td>Tue Oct 31 21:45:10 +0000 2017</td>\n",
       "      <td>@sprintcare is the worst customer service</td>\n",
       "      <td>9,6,10</td>\n",
       "      <td>NaN</td>\n",
       "      <td>sprintcare</td>\n",
       "    </tr>\n",
       "    <tr>\n",
       "      <th>12</th>\n",
       "      <td>18</td>\n",
       "      <td>115713</td>\n",
       "      <td>True</td>\n",
       "      <td>Tue Oct 31 19:56:01 +0000 2017</td>\n",
       "      <td>@115714 y’all lie about your “great” connectio...</td>\n",
       "      <td>17</td>\n",
       "      <td>NaN</td>\n",
       "      <td>sprintcare</td>\n",
       "    </tr>\n",
       "    <tr>\n",
       "      <th>14</th>\n",
       "      <td>20</td>\n",
       "      <td>115715</td>\n",
       "      <td>True</td>\n",
       "      <td>Tue Oct 31 22:03:34 +0000 2017</td>\n",
       "      <td>@115714 whenever I contact customer support, t...</td>\n",
       "      <td>19</td>\n",
       "      <td>NaN</td>\n",
       "      <td>sprintcare</td>\n",
       "    </tr>\n",
       "    <tr>\n",
       "      <th>23</th>\n",
       "      <td>29</td>\n",
       "      <td>115716</td>\n",
       "      <td>True</td>\n",
       "      <td>Tue Oct 31 22:01:35 +0000 2017</td>\n",
       "      <td>actually that's a broken link you sent me and ...</td>\n",
       "      <td>28</td>\n",
       "      <td>NaN</td>\n",
       "      <td>Ask_Spectrum</td>\n",
       "    </tr>\n",
       "    <tr>\n",
       "      <th>25</th>\n",
       "      <td>31</td>\n",
       "      <td>115717</td>\n",
       "      <td>True</td>\n",
       "      <td>Tue Oct 31 22:06:54 +0000 2017</td>\n",
       "      <td>Yo @Ask_Spectrum, your customer service reps a...</td>\n",
       "      <td>30</td>\n",
       "      <td>NaN</td>\n",
       "      <td>Ask_Spectrum</td>\n",
       "    </tr>\n",
       "    <tr>\n",
       "      <th>27</th>\n",
       "      <td>33</td>\n",
       "      <td>115718</td>\n",
       "      <td>True</td>\n",
       "      <td>Tue Oct 31 22:06:56 +0000 2017</td>\n",
       "      <td>My picture on @Ask_Spectrum pretty much every ...</td>\n",
       "      <td>32</td>\n",
       "      <td>NaN</td>\n",
       "      <td>Ask_Spectrum</td>\n",
       "    </tr>\n",
       "    <tr>\n",
       "      <th>31</th>\n",
       "      <td>36</td>\n",
       "      <td>115719</td>\n",
       "      <td>True</td>\n",
       "      <td>Tue Oct 31 22:10:46 +0000 2017</td>\n",
       "      <td>somebody from @VerizonSupport please help meee...</td>\n",
       "      <td>34</td>\n",
       "      <td>NaN</td>\n",
       "      <td>VerizonSupport</td>\n",
       "    </tr>\n",
       "    <tr>\n",
       "      <th>33</th>\n",
       "      <td>39</td>\n",
       "      <td>115720</td>\n",
       "      <td>True</td>\n",
       "      <td>Tue Oct 31 22:12:16 +0000 2017</td>\n",
       "      <td>@VerizonSupport My friend is without internet ...</td>\n",
       "      <td>38</td>\n",
       "      <td>NaN</td>\n",
       "      <td>VerizonSupport</td>\n",
       "    </tr>\n",
       "    <tr>\n",
       "      <th>43</th>\n",
       "      <td>49</td>\n",
       "      <td>115721</td>\n",
       "      <td>True</td>\n",
       "      <td>Tue Oct 31 21:42:09 +0000 2017</td>\n",
       "      <td>@115722 tried to pay a bill for 60 days. No se...</td>\n",
       "      <td>48</td>\n",
       "      <td>NaN</td>\n",
       "      <td>115722</td>\n",
       "    </tr>\n",
       "    <tr>\n",
       "      <th>53</th>\n",
       "      <td>59</td>\n",
       "      <td>115723</td>\n",
       "      <td>True</td>\n",
       "      <td>Tue Oct 31 19:54:51 +0000 2017</td>\n",
       "      <td>@115722 is the worst ISP I’ve ever had</td>\n",
       "      <td>58</td>\n",
       "      <td>NaN</td>\n",
       "      <td>VerizonSupport</td>\n",
       "    </tr>\n",
       "  </tbody>\n",
       "</table>\n",
       "</div>"
      ],
      "text/plain": [
       "    tweet_id author_id  inbound                      created_at  \\\n",
       "6          8    115712     True  Tue Oct 31 21:45:10 +0000 2017   \n",
       "12        18    115713     True  Tue Oct 31 19:56:01 +0000 2017   \n",
       "14        20    115715     True  Tue Oct 31 22:03:34 +0000 2017   \n",
       "23        29    115716     True  Tue Oct 31 22:01:35 +0000 2017   \n",
       "25        31    115717     True  Tue Oct 31 22:06:54 +0000 2017   \n",
       "27        33    115718     True  Tue Oct 31 22:06:56 +0000 2017   \n",
       "31        36    115719     True  Tue Oct 31 22:10:46 +0000 2017   \n",
       "33        39    115720     True  Tue Oct 31 22:12:16 +0000 2017   \n",
       "43        49    115721     True  Tue Oct 31 21:42:09 +0000 2017   \n",
       "53        59    115723     True  Tue Oct 31 19:54:51 +0000 2017   \n",
       "\n",
       "                                                 text response_tweet_id  \\\n",
       "6           @sprintcare is the worst customer service            9,6,10   \n",
       "12  @115714 y’all lie about your “great” connectio...                17   \n",
       "14  @115714 whenever I contact customer support, t...                19   \n",
       "23  actually that's a broken link you sent me and ...                28   \n",
       "25  Yo @Ask_Spectrum, your customer service reps a...                30   \n",
       "27  My picture on @Ask_Spectrum pretty much every ...                32   \n",
       "31  somebody from @VerizonSupport please help meee...                34   \n",
       "33  @VerizonSupport My friend is without internet ...                38   \n",
       "43  @115722 tried to pay a bill for 60 days. No se...                48   \n",
       "53             @115722 is the worst ISP I’ve ever had                58   \n",
       "\n",
       "    in_response_to_tweet_id    support_team  \n",
       "6                       NaN      sprintcare  \n",
       "12                      NaN      sprintcare  \n",
       "14                      NaN      sprintcare  \n",
       "23                      NaN    Ask_Spectrum  \n",
       "25                      NaN    Ask_Spectrum  \n",
       "27                      NaN    Ask_Spectrum  \n",
       "31                      NaN  VerizonSupport  \n",
       "33                      NaN  VerizonSupport  \n",
       "43                      NaN          115722  \n",
       "53                      NaN  VerizonSupport  "
      ]
     },
     "execution_count": 46,
     "metadata": {},
     "output_type": "execute_result"
    }
   ],
   "source": [
    "support_team_df.head(10)"
   ]
  },
  {
   "cell_type": "markdown",
   "metadata": {},
   "source": [
    "Looks to appears a few author id are still left in our support team. Lets review the one that is found"
   ]
  },
  {
   "cell_type": "code",
   "execution_count": 47,
   "metadata": {},
   "outputs": [
    {
     "data": {
      "text/html": [
       "<div>\n",
       "<style scoped>\n",
       "    .dataframe tbody tr th:only-of-type {\n",
       "        vertical-align: middle;\n",
       "    }\n",
       "\n",
       "    .dataframe tbody tr th {\n",
       "        vertical-align: top;\n",
       "    }\n",
       "\n",
       "    .dataframe thead th {\n",
       "        text-align: right;\n",
       "    }\n",
       "</style>\n",
       "<table border=\"1\" class=\"dataframe\">\n",
       "  <thead>\n",
       "    <tr style=\"text-align: right;\">\n",
       "      <th></th>\n",
       "      <th>tweet_id</th>\n",
       "      <th>author_id</th>\n",
       "      <th>inbound</th>\n",
       "      <th>created_at</th>\n",
       "      <th>text</th>\n",
       "      <th>response_tweet_id</th>\n",
       "      <th>in_response_to_tweet_id</th>\n",
       "    </tr>\n",
       "  </thead>\n",
       "  <tbody>\n",
       "    <tr>\n",
       "      <th>40</th>\n",
       "      <td>46</td>\n",
       "      <td>115722</td>\n",
       "      <td>True</td>\n",
       "      <td>Tue Oct 31 22:04:29 +0000 2017</td>\n",
       "      <td>@115721 Hello Duke, Do you have a copy of your...</td>\n",
       "      <td>42</td>\n",
       "      <td>47.0</td>\n",
       "    </tr>\n",
       "    <tr>\n",
       "      <th>42</th>\n",
       "      <td>48</td>\n",
       "      <td>115722</td>\n",
       "      <td>True</td>\n",
       "      <td>Tue Oct 31 21:49:31 +0000 2017</td>\n",
       "      <td>@115721 Are you referring to wireless or resid...</td>\n",
       "      <td>47</td>\n",
       "      <td>49.0</td>\n",
       "    </tr>\n",
       "    <tr>\n",
       "      <th>2948</th>\n",
       "      <td>3930</td>\n",
       "      <td>115722</td>\n",
       "      <td>True</td>\n",
       "      <td>Sat Nov 25 23:52:29 +0000 2017</td>\n",
       "      <td>@116658 That's not good. Were you able to chan...</td>\n",
       "      <td>3929</td>\n",
       "      <td>3931.0</td>\n",
       "    </tr>\n",
       "    <tr>\n",
       "      <th>3254</th>\n",
       "      <td>4447</td>\n",
       "      <td>115722</td>\n",
       "      <td>True</td>\n",
       "      <td>Tue Oct 31 23:03:25 +0000 2017</td>\n",
       "      <td>@116750 Have you reached out to Financial Serv...</td>\n",
       "      <td>4446</td>\n",
       "      <td>4448.0</td>\n",
       "    </tr>\n",
       "    <tr>\n",
       "      <th>3256</th>\n",
       "      <td>4449</td>\n",
       "      <td>115722</td>\n",
       "      <td>True</td>\n",
       "      <td>Tue Oct 31 22:58:33 +0000 2017</td>\n",
       "      <td>@116750 Hello Jason, when did you return your ...</td>\n",
       "      <td>4448</td>\n",
       "      <td>4450.0</td>\n",
       "    </tr>\n",
       "  </tbody>\n",
       "</table>\n",
       "</div>"
      ],
      "text/plain": [
       "      tweet_id author_id  inbound                      created_at  \\\n",
       "40          46    115722     True  Tue Oct 31 22:04:29 +0000 2017   \n",
       "42          48    115722     True  Tue Oct 31 21:49:31 +0000 2017   \n",
       "2948      3930    115722     True  Sat Nov 25 23:52:29 +0000 2017   \n",
       "3254      4447    115722     True  Tue Oct 31 23:03:25 +0000 2017   \n",
       "3256      4449    115722     True  Tue Oct 31 22:58:33 +0000 2017   \n",
       "\n",
       "                                                   text response_tweet_id  \\\n",
       "40    @115721 Hello Duke, Do you have a copy of your...                42   \n",
       "42    @115721 Are you referring to wireless or resid...                47   \n",
       "2948  @116658 That's not good. Were you able to chan...              3929   \n",
       "3254  @116750 Have you reached out to Financial Serv...              4446   \n",
       "3256  @116750 Hello Jason, when did you return your ...              4448   \n",
       "\n",
       "      in_response_to_tweet_id  \n",
       "40                       47.0  \n",
       "42                       49.0  \n",
       "2948                   3931.0  \n",
       "3254                   4448.0  \n",
       "3256                   4450.0  "
      ]
     },
     "execution_count": 47,
     "metadata": {},
     "output_type": "execute_result"
    }
   ],
   "source": [
    "df[df['author_id'] == '115722'].head()"
   ]
  },
  {
   "cell_type": "markdown",
   "metadata": {},
   "source": [
    "Appears to be a support agent. Sadly there is no handles that be tracked back to the certain company. \n",
    "\n",
    "True count might be lower then actual because of this."
   ]
  },
  {
   "cell_type": "code",
   "execution_count": 48,
   "metadata": {},
   "outputs": [],
   "source": [
    "initial_support_count = support_team_df['support_team'].value_counts()"
   ]
  },
  {
   "cell_type": "code",
   "execution_count": 49,
   "metadata": {},
   "outputs": [
    {
     "data": {
      "image/png": "[encoded data removed]",
      "text/plain": [
       "<Figure size 640x480 with 1 Axes>"
      ]
     },
     "metadata": {},
     "output_type": "display_data"
    }
   ],
   "source": [
    "initial_support_count[:20].plot(kind=\"bar\")\n",
    "plt.xlabel(\"Support teams\")\n",
    "plt.ylabel(\"Count\")\n",
    "plt.title(\"Unique Inboud Ticket Request\")\n",
    "plt.show()"
   ]
  },
  {
   "cell_type": "markdown",
   "metadata": {},
   "source": [
    "Looks like theres a far bit of NaN value that the requester was making. Additional information may required to find this."
   ]
  },
  {
   "cell_type": "code",
   "execution_count": 50,
   "metadata": {},
   "outputs": [
    {
     "data": {
      "text/html": [
       "<div>\n",
       "<style scoped>\n",
       "    .dataframe tbody tr th:only-of-type {\n",
       "        vertical-align: middle;\n",
       "    }\n",
       "\n",
       "    .dataframe tbody tr th {\n",
       "        vertical-align: top;\n",
       "    }\n",
       "\n",
       "    .dataframe thead th {\n",
       "        text-align: right;\n",
       "    }\n",
       "</style>\n",
       "<table border=\"1\" class=\"dataframe\">\n",
       "  <thead>\n",
       "    <tr style=\"text-align: right;\">\n",
       "      <th></th>\n",
       "      <th>tweet_id</th>\n",
       "      <th>author_id</th>\n",
       "      <th>inbound</th>\n",
       "      <th>created_at</th>\n",
       "      <th>text</th>\n",
       "      <th>response_tweet_id</th>\n",
       "      <th>in_response_to_tweet_id</th>\n",
       "      <th>support_team</th>\n",
       "    </tr>\n",
       "  </thead>\n",
       "  <tbody>\n",
       "    <tr>\n",
       "      <th>255</th>\n",
       "      <td>348</td>\n",
       "      <td>115798</td>\n",
       "      <td>True</td>\n",
       "      <td>Mon Aug 29 03:20:05 +0000 2011</td>\n",
       "      <td>Lost your booking number? No worries, just dro...</td>\n",
       "      <td>349,350,351,352,347,353,354,355,356,357,358,35...</td>\n",
       "      <td>NaN</td>\n",
       "      <td>NaN</td>\n",
       "    </tr>\n",
       "    <tr>\n",
       "      <th>572</th>\n",
       "      <td>886</td>\n",
       "      <td>British_Airways</td>\n",
       "      <td>False</td>\n",
       "      <td>Fri Oct 27 13:36:52 +0000 2017</td>\n",
       "      <td>Get the payday party started with 40 European ...</td>\n",
       "      <td>887,888,889,890,891,892,893,894,895,896,897,89...</td>\n",
       "      <td>NaN</td>\n",
       "      <td>NaN</td>\n",
       "    </tr>\n",
       "    <tr>\n",
       "      <th>657</th>\n",
       "      <td>1189</td>\n",
       "      <td>VirginTrains</td>\n",
       "      <td>False</td>\n",
       "      <td>Tue Oct 31 21:59:22 +0000 2017</td>\n",
       "      <td>#VTNEW Due to the emergency services dealing w...</td>\n",
       "      <td>1190,1191,1192,1193,1188,1194,1195,1196,1197</td>\n",
       "      <td>NaN</td>\n",
       "      <td>NaN</td>\n",
       "    </tr>\n",
       "    <tr>\n",
       "      <th>698</th>\n",
       "      <td>1239</td>\n",
       "      <td>115933</td>\n",
       "      <td>True</td>\n",
       "      <td>Fri Oct 27 15:28:34 +0000 2017</td>\n",
       "      <td>@SouthwestAir helped me out to try to get thro...</td>\n",
       "      <td>1240,1238</td>\n",
       "      <td>NaN</td>\n",
       "      <td>NaN</td>\n",
       "    </tr>\n",
       "    <tr>\n",
       "      <th>828</th>\n",
       "      <td>1386</td>\n",
       "      <td>115978</td>\n",
       "      <td>True</td>\n",
       "      <td>Tue Oct 31 22:09:35 +0000 2017</td>\n",
       "      <td>I think this is the first time since its birth...</td>\n",
       "      <td>1388,1384,1389</td>\n",
       "      <td>NaN</td>\n",
       "      <td>NaN</td>\n",
       "    </tr>\n",
       "    <tr>\n",
       "      <th>834</th>\n",
       "      <td>1394</td>\n",
       "      <td>115980</td>\n",
       "      <td>True</td>\n",
       "      <td>Tue Oct 31 22:09:29 +0000 2017</td>\n",
       "      <td>It's Halloween and my total at @ChipotleTweets...</td>\n",
       "      <td>1396,1392</td>\n",
       "      <td>NaN</td>\n",
       "      <td>NaN</td>\n",
       "    </tr>\n",
       "    <tr>\n",
       "      <th>845</th>\n",
       "      <td>1408</td>\n",
       "      <td>115985</td>\n",
       "      <td>True</td>\n",
       "      <td>Tue Oct 31 22:07:45 +0000 2017</td>\n",
       "      <td>A burrito bowl from @ChipotleTweets for just $...</td>\n",
       "      <td>1409,1410,1407,1411,1412,1413,1414,1415</td>\n",
       "      <td>NaN</td>\n",
       "      <td>NaN</td>\n",
       "    </tr>\n",
       "    <tr>\n",
       "      <th>996</th>\n",
       "      <td>1575</td>\n",
       "      <td>BofA_Help</td>\n",
       "      <td>False</td>\n",
       "      <td>Tue Oct 31 21:59:37 +0000 2017</td>\n",
       "      <td>@116036 Thank you for your patience. We'll cal...</td>\n",
       "      <td>1576,1574</td>\n",
       "      <td>NaN</td>\n",
       "      <td>NaN</td>\n",
       "    </tr>\n",
       "    <tr>\n",
       "      <th>1239</th>\n",
       "      <td>1835</td>\n",
       "      <td>116118</td>\n",
       "      <td>True</td>\n",
       "      <td>Tue Oct 31 10:02:46 +0000 2017</td>\n",
       "      <td>hi @Tesco an answerphone message from your del...</td>\n",
       "      <td>1836,1833</td>\n",
       "      <td>NaN</td>\n",
       "      <td>NaN</td>\n",
       "    </tr>\n",
       "    <tr>\n",
       "      <th>1391</th>\n",
       "      <td>2053</td>\n",
       "      <td>SouthwestAir</td>\n",
       "      <td>False</td>\n",
       "      <td>Fri Oct 06 17:47:37 +0000 2017</td>\n",
       "      <td>Two free bags for every story. Book a seat and...</td>\n",
       "      <td>2054,2055,2056,2057,2058,2059,2060,2061,2062,2...</td>\n",
       "      <td>NaN</td>\n",
       "      <td>NaN</td>\n",
       "    </tr>\n",
       "  </tbody>\n",
       "</table>\n",
       "</div>"
      ],
      "text/plain": [
       "      tweet_id        author_id  inbound                      created_at  \\\n",
       "255        348           115798     True  Mon Aug 29 03:20:05 +0000 2011   \n",
       "572        886  British_Airways    False  Fri Oct 27 13:36:52 +0000 2017   \n",
       "657       1189     VirginTrains    False  Tue Oct 31 21:59:22 +0000 2017   \n",
       "698       1239           115933     True  Fri Oct 27 15:28:34 +0000 2017   \n",
       "828       1386           115978     True  Tue Oct 31 22:09:35 +0000 2017   \n",
       "834       1394           115980     True  Tue Oct 31 22:09:29 +0000 2017   \n",
       "845       1408           115985     True  Tue Oct 31 22:07:45 +0000 2017   \n",
       "996       1575        BofA_Help    False  Tue Oct 31 21:59:37 +0000 2017   \n",
       "1239      1835           116118     True  Tue Oct 31 10:02:46 +0000 2017   \n",
       "1391      2053     SouthwestAir    False  Fri Oct 06 17:47:37 +0000 2017   \n",
       "\n",
       "                                                   text  \\\n",
       "255   Lost your booking number? No worries, just dro...   \n",
       "572   Get the payday party started with 40 European ...   \n",
       "657   #VTNEW Due to the emergency services dealing w...   \n",
       "698   @SouthwestAir helped me out to try to get thro...   \n",
       "828   I think this is the first time since its birth...   \n",
       "834   It's Halloween and my total at @ChipotleTweets...   \n",
       "845   A burrito bowl from @ChipotleTweets for just $...   \n",
       "996   @116036 Thank you for your patience. We'll cal...   \n",
       "1239  hi @Tesco an answerphone message from your del...   \n",
       "1391  Two free bags for every story. Book a seat and...   \n",
       "\n",
       "                                      response_tweet_id  \\\n",
       "255   349,350,351,352,347,353,354,355,356,357,358,35...   \n",
       "572   887,888,889,890,891,892,893,894,895,896,897,89...   \n",
       "657        1190,1191,1192,1193,1188,1194,1195,1196,1197   \n",
       "698                                           1240,1238   \n",
       "828                                      1388,1384,1389   \n",
       "834                                           1396,1392   \n",
       "845             1409,1410,1407,1411,1412,1413,1414,1415   \n",
       "996                                           1576,1574   \n",
       "1239                                          1836,1833   \n",
       "1391  2054,2055,2056,2057,2058,2059,2060,2061,2062,2...   \n",
       "\n",
       "      in_response_to_tweet_id support_team  \n",
       "255                       NaN          NaN  \n",
       "572                       NaN          NaN  \n",
       "657                       NaN          NaN  \n",
       "698                       NaN          NaN  \n",
       "828                       NaN          NaN  \n",
       "834                       NaN          NaN  \n",
       "845                       NaN          NaN  \n",
       "996                       NaN          NaN  \n",
       "1239                      NaN          NaN  \n",
       "1391                      NaN          NaN  "
      ]
     },
     "execution_count": 50,
     "metadata": {},
     "output_type": "execute_result"
    }
   ],
   "source": [
    "support_team_df[support_team_df['support_team'] == 'NaN'].head(10)"
   ]
  },
  {
   "cell_type": "code",
   "execution_count": 51,
   "metadata": {},
   "outputs": [
    {
     "data": {
      "text/plain": [
       "tweet_id                                                                 886\n",
       "author_id                                                    British_Airways\n",
       "inbound                                                                False\n",
       "created_at                                    Fri Oct 27 13:36:52 +0000 2017\n",
       "text                       Get the payday party started with 40 European ...\n",
       "response_tweet_id          887,888,889,890,891,892,893,894,895,896,897,89...\n",
       "in_response_to_tweet_id                                                  NaN\n",
       "support_team                                                             NaN\n",
       "Name: 572, dtype: object"
      ]
     },
     "execution_count": 51,
     "metadata": {},
     "output_type": "execute_result"
    }
   ],
   "source": [
    "support_team_df[support_team_df['support_team'] == 'NaN'].iloc[1]"
   ]
  },
  {
   "cell_type": "code",
   "execution_count": 52,
   "metadata": {},
   "outputs": [
    {
     "data": {
      "text/html": [
       "<div>\n",
       "<style scoped>\n",
       "    .dataframe tbody tr th:only-of-type {\n",
       "        vertical-align: middle;\n",
       "    }\n",
       "\n",
       "    .dataframe tbody tr th {\n",
       "        vertical-align: top;\n",
       "    }\n",
       "\n",
       "    .dataframe thead th {\n",
       "        text-align: right;\n",
       "    }\n",
       "</style>\n",
       "<table border=\"1\" class=\"dataframe\">\n",
       "  <thead>\n",
       "    <tr style=\"text-align: right;\">\n",
       "      <th></th>\n",
       "      <th>tweet_id</th>\n",
       "      <th>author_id</th>\n",
       "      <th>inbound</th>\n",
       "      <th>created_at</th>\n",
       "      <th>text</th>\n",
       "      <th>response_tweet_id</th>\n",
       "      <th>in_response_to_tweet_id</th>\n",
       "    </tr>\n",
       "  </thead>\n",
       "  <tbody>\n",
       "    <tr>\n",
       "      <th>845</th>\n",
       "      <td>1408</td>\n",
       "      <td>115985</td>\n",
       "      <td>True</td>\n",
       "      <td>Tue Oct 31 22:07:45 +0000 2017</td>\n",
       "      <td>A burrito bowl from @ChipotleTweets for just $...</td>\n",
       "      <td>1409,1410,1407,1411,1412,1413,1414,1415</td>\n",
       "      <td>NaN</td>\n",
       "    </tr>\n",
       "  </tbody>\n",
       "</table>\n",
       "</div>"
      ],
      "text/plain": [
       "     tweet_id author_id  inbound                      created_at  \\\n",
       "845      1408    115985     True  Tue Oct 31 22:07:45 +0000 2017   \n",
       "\n",
       "                                                  text  \\\n",
       "845  A burrito bowl from @ChipotleTweets for just $...   \n",
       "\n",
       "                           response_tweet_id  in_response_to_tweet_id  \n",
       "845  1409,1410,1407,1411,1412,1413,1414,1415                      NaN  "
      ]
     },
     "execution_count": 52,
     "metadata": {},
     "output_type": "execute_result"
    }
   ],
   "source": [
    "df[df['author_id'] == '115985']"
   ]
  },
  {
   "cell_type": "markdown",
   "metadata": {},
   "source": [
    "From first glance these could be automated replies by the support team. They appear to be answer multiple tweets with the same message."
   ]
  },
  {
   "cell_type": "markdown",
   "metadata": {},
   "source": [
    "Looks like we could fix some of the missing support teams as they are found in the author id."
   ]
  },
  {
   "cell_type": "markdown",
   "metadata": {},
   "source": [
    "I am curious to see if the data changes if update to include only inbound is true."
   ]
  },
  {
   "cell_type": "code",
   "execution_count": 53,
   "metadata": {},
   "outputs": [],
   "source": [
    "support_team_inboud_true_df = support_team_df[support_team_df['inbound'] == True]"
   ]
  },
  {
   "cell_type": "code",
   "execution_count": 54,
   "metadata": {},
   "outputs": [
    {
     "data": {
      "text/html": [
       "<div>\n",
       "<style scoped>\n",
       "    .dataframe tbody tr th:only-of-type {\n",
       "        vertical-align: middle;\n",
       "    }\n",
       "\n",
       "    .dataframe tbody tr th {\n",
       "        vertical-align: top;\n",
       "    }\n",
       "\n",
       "    .dataframe thead th {\n",
       "        text-align: right;\n",
       "    }\n",
       "</style>\n",
       "<table border=\"1\" class=\"dataframe\">\n",
       "  <thead>\n",
       "    <tr style=\"text-align: right;\">\n",
       "      <th></th>\n",
       "      <th>tweet_id</th>\n",
       "      <th>author_id</th>\n",
       "      <th>inbound</th>\n",
       "      <th>created_at</th>\n",
       "      <th>text</th>\n",
       "      <th>response_tweet_id</th>\n",
       "      <th>in_response_to_tweet_id</th>\n",
       "      <th>support_team</th>\n",
       "    </tr>\n",
       "  </thead>\n",
       "  <tbody>\n",
       "    <tr>\n",
       "      <th>6</th>\n",
       "      <td>8</td>\n",
       "      <td>115712</td>\n",
       "      <td>True</td>\n",
       "      <td>Tue Oct 31 21:45:10 +0000 2017</td>\n",
       "      <td>@sprintcare is the worst customer service</td>\n",
       "      <td>9,6,10</td>\n",
       "      <td>NaN</td>\n",
       "      <td>sprintcare</td>\n",
       "    </tr>\n",
       "    <tr>\n",
       "      <th>12</th>\n",
       "      <td>18</td>\n",
       "      <td>115713</td>\n",
       "      <td>True</td>\n",
       "      <td>Tue Oct 31 19:56:01 +0000 2017</td>\n",
       "      <td>@115714 y’all lie about your “great” connectio...</td>\n",
       "      <td>17</td>\n",
       "      <td>NaN</td>\n",
       "      <td>sprintcare</td>\n",
       "    </tr>\n",
       "    <tr>\n",
       "      <th>14</th>\n",
       "      <td>20</td>\n",
       "      <td>115715</td>\n",
       "      <td>True</td>\n",
       "      <td>Tue Oct 31 22:03:34 +0000 2017</td>\n",
       "      <td>@115714 whenever I contact customer support, t...</td>\n",
       "      <td>19</td>\n",
       "      <td>NaN</td>\n",
       "      <td>sprintcare</td>\n",
       "    </tr>\n",
       "    <tr>\n",
       "      <th>23</th>\n",
       "      <td>29</td>\n",
       "      <td>115716</td>\n",
       "      <td>True</td>\n",
       "      <td>Tue Oct 31 22:01:35 +0000 2017</td>\n",
       "      <td>actually that's a broken link you sent me and ...</td>\n",
       "      <td>28</td>\n",
       "      <td>NaN</td>\n",
       "      <td>Ask_Spectrum</td>\n",
       "    </tr>\n",
       "    <tr>\n",
       "      <th>25</th>\n",
       "      <td>31</td>\n",
       "      <td>115717</td>\n",
       "      <td>True</td>\n",
       "      <td>Tue Oct 31 22:06:54 +0000 2017</td>\n",
       "      <td>Yo @Ask_Spectrum, your customer service reps a...</td>\n",
       "      <td>30</td>\n",
       "      <td>NaN</td>\n",
       "      <td>Ask_Spectrum</td>\n",
       "    </tr>\n",
       "    <tr>\n",
       "      <th>27</th>\n",
       "      <td>33</td>\n",
       "      <td>115718</td>\n",
       "      <td>True</td>\n",
       "      <td>Tue Oct 31 22:06:56 +0000 2017</td>\n",
       "      <td>My picture on @Ask_Spectrum pretty much every ...</td>\n",
       "      <td>32</td>\n",
       "      <td>NaN</td>\n",
       "      <td>Ask_Spectrum</td>\n",
       "    </tr>\n",
       "    <tr>\n",
       "      <th>31</th>\n",
       "      <td>36</td>\n",
       "      <td>115719</td>\n",
       "      <td>True</td>\n",
       "      <td>Tue Oct 31 22:10:46 +0000 2017</td>\n",
       "      <td>somebody from @VerizonSupport please help meee...</td>\n",
       "      <td>34</td>\n",
       "      <td>NaN</td>\n",
       "      <td>VerizonSupport</td>\n",
       "    </tr>\n",
       "    <tr>\n",
       "      <th>33</th>\n",
       "      <td>39</td>\n",
       "      <td>115720</td>\n",
       "      <td>True</td>\n",
       "      <td>Tue Oct 31 22:12:16 +0000 2017</td>\n",
       "      <td>@VerizonSupport My friend is without internet ...</td>\n",
       "      <td>38</td>\n",
       "      <td>NaN</td>\n",
       "      <td>VerizonSupport</td>\n",
       "    </tr>\n",
       "    <tr>\n",
       "      <th>43</th>\n",
       "      <td>49</td>\n",
       "      <td>115721</td>\n",
       "      <td>True</td>\n",
       "      <td>Tue Oct 31 21:42:09 +0000 2017</td>\n",
       "      <td>@115722 tried to pay a bill for 60 days. No se...</td>\n",
       "      <td>48</td>\n",
       "      <td>NaN</td>\n",
       "      <td>115722</td>\n",
       "    </tr>\n",
       "    <tr>\n",
       "      <th>53</th>\n",
       "      <td>59</td>\n",
       "      <td>115723</td>\n",
       "      <td>True</td>\n",
       "      <td>Tue Oct 31 19:54:51 +0000 2017</td>\n",
       "      <td>@115722 is the worst ISP I’ve ever had</td>\n",
       "      <td>58</td>\n",
       "      <td>NaN</td>\n",
       "      <td>VerizonSupport</td>\n",
       "    </tr>\n",
       "  </tbody>\n",
       "</table>\n",
       "</div>"
      ],
      "text/plain": [
       "    tweet_id author_id  inbound                      created_at  \\\n",
       "6          8    115712     True  Tue Oct 31 21:45:10 +0000 2017   \n",
       "12        18    115713     True  Tue Oct 31 19:56:01 +0000 2017   \n",
       "14        20    115715     True  Tue Oct 31 22:03:34 +0000 2017   \n",
       "23        29    115716     True  Tue Oct 31 22:01:35 +0000 2017   \n",
       "25        31    115717     True  Tue Oct 31 22:06:54 +0000 2017   \n",
       "27        33    115718     True  Tue Oct 31 22:06:56 +0000 2017   \n",
       "31        36    115719     True  Tue Oct 31 22:10:46 +0000 2017   \n",
       "33        39    115720     True  Tue Oct 31 22:12:16 +0000 2017   \n",
       "43        49    115721     True  Tue Oct 31 21:42:09 +0000 2017   \n",
       "53        59    115723     True  Tue Oct 31 19:54:51 +0000 2017   \n",
       "\n",
       "                                                 text response_tweet_id  \\\n",
       "6           @sprintcare is the worst customer service            9,6,10   \n",
       "12  @115714 y’all lie about your “great” connectio...                17   \n",
       "14  @115714 whenever I contact customer support, t...                19   \n",
       "23  actually that's a broken link you sent me and ...                28   \n",
       "25  Yo @Ask_Spectrum, your customer service reps a...                30   \n",
       "27  My picture on @Ask_Spectrum pretty much every ...                32   \n",
       "31  somebody from @VerizonSupport please help meee...                34   \n",
       "33  @VerizonSupport My friend is without internet ...                38   \n",
       "43  @115722 tried to pay a bill for 60 days. No se...                48   \n",
       "53             @115722 is the worst ISP I’ve ever had                58   \n",
       "\n",
       "    in_response_to_tweet_id    support_team  \n",
       "6                       NaN      sprintcare  \n",
       "12                      NaN      sprintcare  \n",
       "14                      NaN      sprintcare  \n",
       "23                      NaN    Ask_Spectrum  \n",
       "25                      NaN    Ask_Spectrum  \n",
       "27                      NaN    Ask_Spectrum  \n",
       "31                      NaN  VerizonSupport  \n",
       "33                      NaN  VerizonSupport  \n",
       "43                      NaN          115722  \n",
       "53                      NaN  VerizonSupport  "
      ]
     },
     "execution_count": 54,
     "metadata": {},
     "output_type": "execute_result"
    }
   ],
   "source": [
    "support_team_inboud_true_df.head(10)"
   ]
  },
  {
   "cell_type": "code",
   "execution_count": 55,
   "metadata": {},
   "outputs": [],
   "source": [
    "initial_support_count_inbound_true = support_team_inboud_true_df['support_team'].value_counts()"
   ]
  },
  {
   "cell_type": "code",
   "execution_count": 56,
   "metadata": {},
   "outputs": [
    {
     "data": {
      "image/png": "[encoded data removed]",
      "text/plain": [
       "<Figure size 640x480 with 1 Axes>"
      ]
     },
     "metadata": {},
     "output_type": "display_data"
    }
   ],
   "source": [
    "initial_support_count_inbound_true[:20].plot(kind=\"bar\")\n",
    "plt.xlabel(\"Support teams\")\n",
    "plt.ylabel(\"Count\")\n",
    "plt.title(\"Unique Inboud Ticket Request\")\n",
    "plt.show()"
   ]
  },
  {
   "cell_type": "markdown",
   "metadata": {},
   "source": [
    "Nan values did decrease. This is far cleaner then the data beforehand."
   ]
  },
  {
   "cell_type": "markdown",
   "metadata": {},
   "source": [
    "#### Muliple Response\n",
    "\n",
    "Update the multiple reponse to a single row"
   ]
  },
  {
   "cell_type": "code",
   "execution_count": 57,
   "metadata": {},
   "outputs": [
    {
     "data": {
      "text/html": [
       "<div>\n",
       "<style scoped>\n",
       "    .dataframe tbody tr th:only-of-type {\n",
       "        vertical-align: middle;\n",
       "    }\n",
       "\n",
       "    .dataframe tbody tr th {\n",
       "        vertical-align: top;\n",
       "    }\n",
       "\n",
       "    .dataframe thead th {\n",
       "        text-align: right;\n",
       "    }\n",
       "</style>\n",
       "<table border=\"1\" class=\"dataframe\">\n",
       "  <thead>\n",
       "    <tr style=\"text-align: right;\">\n",
       "      <th></th>\n",
       "      <th>tweet_id</th>\n",
       "      <th>author_id</th>\n",
       "      <th>inbound</th>\n",
       "      <th>created_at</th>\n",
       "      <th>text</th>\n",
       "      <th>response_tweet_id</th>\n",
       "      <th>in_response_to_tweet_id</th>\n",
       "      <th>support_team</th>\n",
       "    </tr>\n",
       "  </thead>\n",
       "  <tbody>\n",
       "    <tr>\n",
       "      <th>6</th>\n",
       "      <td>8</td>\n",
       "      <td>115712</td>\n",
       "      <td>True</td>\n",
       "      <td>Tue Oct 31 21:45:10 +0000 2017</td>\n",
       "      <td>@sprintcare is the worst customer service</td>\n",
       "      <td>9,6,10</td>\n",
       "      <td>NaN</td>\n",
       "      <td>sprintcare</td>\n",
       "    </tr>\n",
       "    <tr>\n",
       "      <th>12</th>\n",
       "      <td>18</td>\n",
       "      <td>115713</td>\n",
       "      <td>True</td>\n",
       "      <td>Tue Oct 31 19:56:01 +0000 2017</td>\n",
       "      <td>@115714 y’all lie about your “great” connectio...</td>\n",
       "      <td>17</td>\n",
       "      <td>NaN</td>\n",
       "      <td>sprintcare</td>\n",
       "    </tr>\n",
       "    <tr>\n",
       "      <th>14</th>\n",
       "      <td>20</td>\n",
       "      <td>115715</td>\n",
       "      <td>True</td>\n",
       "      <td>Tue Oct 31 22:03:34 +0000 2017</td>\n",
       "      <td>@115714 whenever I contact customer support, t...</td>\n",
       "      <td>19</td>\n",
       "      <td>NaN</td>\n",
       "      <td>sprintcare</td>\n",
       "    </tr>\n",
       "    <tr>\n",
       "      <th>23</th>\n",
       "      <td>29</td>\n",
       "      <td>115716</td>\n",
       "      <td>True</td>\n",
       "      <td>Tue Oct 31 22:01:35 +0000 2017</td>\n",
       "      <td>actually that's a broken link you sent me and ...</td>\n",
       "      <td>28</td>\n",
       "      <td>NaN</td>\n",
       "      <td>Ask_Spectrum</td>\n",
       "    </tr>\n",
       "    <tr>\n",
       "      <th>25</th>\n",
       "      <td>31</td>\n",
       "      <td>115717</td>\n",
       "      <td>True</td>\n",
       "      <td>Tue Oct 31 22:06:54 +0000 2017</td>\n",
       "      <td>Yo @Ask_Spectrum, your customer service reps a...</td>\n",
       "      <td>30</td>\n",
       "      <td>NaN</td>\n",
       "      <td>Ask_Spectrum</td>\n",
       "    </tr>\n",
       "  </tbody>\n",
       "</table>\n",
       "</div>"
      ],
      "text/plain": [
       "    tweet_id author_id  inbound                      created_at  \\\n",
       "6          8    115712     True  Tue Oct 31 21:45:10 +0000 2017   \n",
       "12        18    115713     True  Tue Oct 31 19:56:01 +0000 2017   \n",
       "14        20    115715     True  Tue Oct 31 22:03:34 +0000 2017   \n",
       "23        29    115716     True  Tue Oct 31 22:01:35 +0000 2017   \n",
       "25        31    115717     True  Tue Oct 31 22:06:54 +0000 2017   \n",
       "\n",
       "                                                 text response_tweet_id  \\\n",
       "6           @sprintcare is the worst customer service            9,6,10   \n",
       "12  @115714 y’all lie about your “great” connectio...                17   \n",
       "14  @115714 whenever I contact customer support, t...                19   \n",
       "23  actually that's a broken link you sent me and ...                28   \n",
       "25  Yo @Ask_Spectrum, your customer service reps a...                30   \n",
       "\n",
       "    in_response_to_tweet_id  support_team  \n",
       "6                       NaN    sprintcare  \n",
       "12                      NaN    sprintcare  \n",
       "14                      NaN    sprintcare  \n",
       "23                      NaN  Ask_Spectrum  \n",
       "25                      NaN  Ask_Spectrum  "
      ]
     },
     "execution_count": 57,
     "metadata": {},
     "output_type": "execute_result"
    }
   ],
   "source": [
    "support_team_inboud_true_df.head()"
   ]
  },
  {
   "cell_type": "markdown",
   "metadata": {},
   "source": [
    "Example of issue at hand "
   ]
  },
  {
   "cell_type": "code",
   "execution_count": 58,
   "metadata": {},
   "outputs": [],
   "source": [
    "response_tweet_id_test_df = support_team_inboud_true_df.iloc[:1]"
   ]
  },
  {
   "cell_type": "code",
   "execution_count": 59,
   "metadata": {},
   "outputs": [
    {
     "data": {
      "text/html": [
       "<div>\n",
       "<style scoped>\n",
       "    .dataframe tbody tr th:only-of-type {\n",
       "        vertical-align: middle;\n",
       "    }\n",
       "\n",
       "    .dataframe tbody tr th {\n",
       "        vertical-align: top;\n",
       "    }\n",
       "\n",
       "    .dataframe thead th {\n",
       "        text-align: right;\n",
       "    }\n",
       "</style>\n",
       "<table border=\"1\" class=\"dataframe\">\n",
       "  <thead>\n",
       "    <tr style=\"text-align: right;\">\n",
       "      <th></th>\n",
       "      <th>tweet_id</th>\n",
       "      <th>author_id</th>\n",
       "      <th>inbound</th>\n",
       "      <th>created_at</th>\n",
       "      <th>text</th>\n",
       "      <th>response_tweet_id</th>\n",
       "      <th>in_response_to_tweet_id</th>\n",
       "      <th>support_team</th>\n",
       "    </tr>\n",
       "  </thead>\n",
       "  <tbody>\n",
       "    <tr>\n",
       "      <th>6</th>\n",
       "      <td>8</td>\n",
       "      <td>115712</td>\n",
       "      <td>True</td>\n",
       "      <td>Tue Oct 31 21:45:10 +0000 2017</td>\n",
       "      <td>@sprintcare is the worst customer service</td>\n",
       "      <td>9,6,10</td>\n",
       "      <td>NaN</td>\n",
       "      <td>sprintcare</td>\n",
       "    </tr>\n",
       "  </tbody>\n",
       "</table>\n",
       "</div>"
      ],
      "text/plain": [
       "   tweet_id author_id  inbound                      created_at  \\\n",
       "6         8    115712     True  Tue Oct 31 21:45:10 +0000 2017   \n",
       "\n",
       "                                        text response_tweet_id  \\\n",
       "6  @sprintcare is the worst customer service            9,6,10   \n",
       "\n",
       "   in_response_to_tweet_id support_team  \n",
       "6                      NaN   sprintcare  "
      ]
     },
     "execution_count": 59,
     "metadata": {},
     "output_type": "execute_result"
    }
   ],
   "source": [
    "response_tweet_id_test_df"
   ]
  },
  {
   "cell_type": "code",
   "execution_count": 60,
   "metadata": {},
   "outputs": [
    {
     "data": {
      "text/plain": [
       "'9,6,10'"
      ]
     },
     "execution_count": 60,
     "metadata": {},
     "output_type": "execute_result"
    }
   ],
   "source": [
    "support_team_inboud_true_df[\"response_tweet_id\"].iloc[0]"
   ]
  },
  {
   "cell_type": "code",
   "execution_count": 61,
   "metadata": {},
   "outputs": [
    {
     "name": "stdout",
     "output_type": "stream",
     "text": [
      "9,6,10\n"
     ]
    }
   ],
   "source": [
    "response_tweet_copy = support_team_inboud_true_df[\"response_tweet_id\"].iloc[0]\n",
    "print(response_tweet_copy)"
   ]
  },
  {
   "cell_type": "code",
   "execution_count": 62,
   "metadata": {},
   "outputs": [
    {
     "name": "stdout",
     "output_type": "stream",
     "text": [
      "['9', '6', '10']\n"
     ]
    }
   ],
   "source": [
    "response_tweet_list = response_tweet_copy.split(\",\")\n",
    "print(response_tweet_list)"
   ]
  },
  {
   "cell_type": "code",
   "execution_count": 63,
   "metadata": {},
   "outputs": [],
   "source": [
    "stored_df = pd.DataFrame()\n",
    "\n",
    "for x in response_tweet_list:\n",
    "    df_copy = response_tweet_id_test_df.copy()\n",
    "    df_copy['response_tweet_id'] = str(x)\n",
    "    stored_df = pd.concat([stored_df, df_copy], ignore_index=True)"
   ]
  },
  {
   "cell_type": "code",
   "execution_count": 64,
   "metadata": {},
   "outputs": [
    {
     "data": {
      "text/html": [
       "<div>\n",
       "<style scoped>\n",
       "    .dataframe tbody tr th:only-of-type {\n",
       "        vertical-align: middle;\n",
       "    }\n",
       "\n",
       "    .dataframe tbody tr th {\n",
       "        vertical-align: top;\n",
       "    }\n",
       "\n",
       "    .dataframe thead th {\n",
       "        text-align: right;\n",
       "    }\n",
       "</style>\n",
       "<table border=\"1\" class=\"dataframe\">\n",
       "  <thead>\n",
       "    <tr style=\"text-align: right;\">\n",
       "      <th></th>\n",
       "      <th>tweet_id</th>\n",
       "      <th>author_id</th>\n",
       "      <th>inbound</th>\n",
       "      <th>created_at</th>\n",
       "      <th>text</th>\n",
       "      <th>response_tweet_id</th>\n",
       "      <th>in_response_to_tweet_id</th>\n",
       "      <th>support_team</th>\n",
       "    </tr>\n",
       "  </thead>\n",
       "  <tbody>\n",
       "    <tr>\n",
       "      <th>0</th>\n",
       "      <td>8</td>\n",
       "      <td>115712</td>\n",
       "      <td>True</td>\n",
       "      <td>Tue Oct 31 21:45:10 +0000 2017</td>\n",
       "      <td>@sprintcare is the worst customer service</td>\n",
       "      <td>9</td>\n",
       "      <td>NaN</td>\n",
       "      <td>sprintcare</td>\n",
       "    </tr>\n",
       "    <tr>\n",
       "      <th>1</th>\n",
       "      <td>8</td>\n",
       "      <td>115712</td>\n",
       "      <td>True</td>\n",
       "      <td>Tue Oct 31 21:45:10 +0000 2017</td>\n",
       "      <td>@sprintcare is the worst customer service</td>\n",
       "      <td>6</td>\n",
       "      <td>NaN</td>\n",
       "      <td>sprintcare</td>\n",
       "    </tr>\n",
       "    <tr>\n",
       "      <th>2</th>\n",
       "      <td>8</td>\n",
       "      <td>115712</td>\n",
       "      <td>True</td>\n",
       "      <td>Tue Oct 31 21:45:10 +0000 2017</td>\n",
       "      <td>@sprintcare is the worst customer service</td>\n",
       "      <td>10</td>\n",
       "      <td>NaN</td>\n",
       "      <td>sprintcare</td>\n",
       "    </tr>\n",
       "  </tbody>\n",
       "</table>\n",
       "</div>"
      ],
      "text/plain": [
       "   tweet_id author_id  inbound                      created_at  \\\n",
       "0         8    115712     True  Tue Oct 31 21:45:10 +0000 2017   \n",
       "1         8    115712     True  Tue Oct 31 21:45:10 +0000 2017   \n",
       "2         8    115712     True  Tue Oct 31 21:45:10 +0000 2017   \n",
       "\n",
       "                                        text response_tweet_id  \\\n",
       "0  @sprintcare is the worst customer service                 9   \n",
       "1  @sprintcare is the worst customer service                 6   \n",
       "2  @sprintcare is the worst customer service                10   \n",
       "\n",
       "   in_response_to_tweet_id support_team  \n",
       "0                      NaN   sprintcare  \n",
       "1                      NaN   sprintcare  \n",
       "2                      NaN   sprintcare  "
      ]
     },
     "execution_count": 64,
     "metadata": {},
     "output_type": "execute_result"
    }
   ],
   "source": [
    "stored_df"
   ]
  },
  {
   "cell_type": "markdown",
   "metadata": {},
   "source": [
    "This could lead to additional or uneeded support request. However we should track all the response as conversation could have branched from different direction."
   ]
  },
  {
   "cell_type": "markdown",
   "metadata": {},
   "source": [
    "creaete a function to duplciate this process"
   ]
  },
  {
   "cell_type": "code",
   "execution_count": 65,
   "metadata": {},
   "outputs": [],
   "source": [
    "def uniqueTweetResponse(row):\n",
    "    found_response_tweet = row['response_tweet_id'].values[0]\n",
    "    stored_df = pd.DataFrame()\n",
    "\n",
    "    response_tweet_list = found_response_tweet.split(',')\n",
    "        \n",
    "    for value in response_tweet_list:\n",
    "        df_copy = row.copy()\n",
    "        df_copy['response_tweet_id'] = str(value)\n",
    "        stored_df = pd.concat([stored_df, df_copy], ignore_index=True)\n",
    "        \n",
    "    return stored_df"
   ]
  },
  {
   "cell_type": "markdown",
   "metadata": {},
   "source": [
    "Need to find all dataframe that contains only a list of response tweets as there is no sense to preform this over the entire thing"
   ]
  },
  {
   "cell_type": "code",
   "execution_count": 66,
   "metadata": {},
   "outputs": [],
   "source": [
    "response_tweet_list_only_df = support_team_inboud_true_df[support_team_inboud_true_df[\"response_tweet_id\"].str.contains(\",\") ]\n",
    "single_reponse_tweet_df = support_team_inboud_true_df[~support_team_inboud_true_df[\"response_tweet_id\"].str.contains(\",\") ]"
   ]
  },
  {
   "cell_type": "code",
   "execution_count": 67,
   "metadata": {},
   "outputs": [
    {
     "data": {
      "text/html": [
       "<div>\n",
       "<style scoped>\n",
       "    .dataframe tbody tr th:only-of-type {\n",
       "        vertical-align: middle;\n",
       "    }\n",
       "\n",
       "    .dataframe tbody tr th {\n",
       "        vertical-align: top;\n",
       "    }\n",
       "\n",
       "    .dataframe thead th {\n",
       "        text-align: right;\n",
       "    }\n",
       "</style>\n",
       "<table border=\"1\" class=\"dataframe\">\n",
       "  <thead>\n",
       "    <tr style=\"text-align: right;\">\n",
       "      <th></th>\n",
       "      <th>tweet_id</th>\n",
       "      <th>author_id</th>\n",
       "      <th>inbound</th>\n",
       "      <th>created_at</th>\n",
       "      <th>text</th>\n",
       "      <th>response_tweet_id</th>\n",
       "      <th>in_response_to_tweet_id</th>\n",
       "      <th>support_team</th>\n",
       "    </tr>\n",
       "  </thead>\n",
       "  <tbody>\n",
       "    <tr>\n",
       "      <th>6</th>\n",
       "      <td>8</td>\n",
       "      <td>115712</td>\n",
       "      <td>True</td>\n",
       "      <td>Tue Oct 31 21:45:10 +0000 2017</td>\n",
       "      <td>@sprintcare is the worst customer service</td>\n",
       "      <td>9,6,10</td>\n",
       "      <td>NaN</td>\n",
       "      <td>sprintcare</td>\n",
       "    </tr>\n",
       "    <tr>\n",
       "      <th>60</th>\n",
       "      <td>66</td>\n",
       "      <td>115728</td>\n",
       "      <td>True</td>\n",
       "      <td>Tue Oct 31 22:03:38 +0000 2017</td>\n",
       "      <td>@ChipotleTweets @28 \\nI don't fit in my Veggie...</td>\n",
       "      <td>64,67</td>\n",
       "      <td>NaN</td>\n",
       "      <td>ChipotleTweets</td>\n",
       "    </tr>\n",
       "    <tr>\n",
       "      <th>64</th>\n",
       "      <td>71</td>\n",
       "      <td>115730</td>\n",
       "      <td>True</td>\n",
       "      <td>Tue Oct 31 22:03:06 +0000 2017</td>\n",
       "      <td>hey @ChipotleTweets wanna come to Mammoth. I'l...</td>\n",
       "      <td>70,72</td>\n",
       "      <td>NaN</td>\n",
       "      <td>ChipotleTweets</td>\n",
       "    </tr>\n",
       "    <tr>\n",
       "      <th>78</th>\n",
       "      <td>156</td>\n",
       "      <td>115735</td>\n",
       "      <td>True</td>\n",
       "      <td>Mon Oct 23 03:19:06 +0000 2017</td>\n",
       "      <td>So frustrated with @ChipotleTweets 😡 Ordered d...</td>\n",
       "      <td>155,157</td>\n",
       "      <td>NaN</td>\n",
       "      <td>115735</td>\n",
       "    </tr>\n",
       "    <tr>\n",
       "      <th>100</th>\n",
       "      <td>180</td>\n",
       "      <td>115743</td>\n",
       "      <td>True</td>\n",
       "      <td>Tue Oct 31 08:17:37 +0000 2017</td>\n",
       "      <td>@AskPlayStation So, what's the november ps plu...</td>\n",
       "      <td>178,181</td>\n",
       "      <td>NaN</td>\n",
       "      <td>AskPlayStation</td>\n",
       "    </tr>\n",
       "  </tbody>\n",
       "</table>\n",
       "</div>"
      ],
      "text/plain": [
       "     tweet_id author_id  inbound                      created_at  \\\n",
       "6           8    115712     True  Tue Oct 31 21:45:10 +0000 2017   \n",
       "60         66    115728     True  Tue Oct 31 22:03:38 +0000 2017   \n",
       "64         71    115730     True  Tue Oct 31 22:03:06 +0000 2017   \n",
       "78        156    115735     True  Mon Oct 23 03:19:06 +0000 2017   \n",
       "100       180    115743     True  Tue Oct 31 08:17:37 +0000 2017   \n",
       "\n",
       "                                                  text response_tweet_id  \\\n",
       "6            @sprintcare is the worst customer service            9,6,10   \n",
       "60   @ChipotleTweets @28 \\nI don't fit in my Veggie...             64,67   \n",
       "64   hey @ChipotleTweets wanna come to Mammoth. I'l...             70,72   \n",
       "78   So frustrated with @ChipotleTweets 😡 Ordered d...           155,157   \n",
       "100  @AskPlayStation So, what's the november ps plu...           178,181   \n",
       "\n",
       "     in_response_to_tweet_id    support_team  \n",
       "6                        NaN      sprintcare  \n",
       "60                       NaN  ChipotleTweets  \n",
       "64                       NaN  ChipotleTweets  \n",
       "78                       NaN          115735  \n",
       "100                      NaN  AskPlayStation  "
      ]
     },
     "execution_count": 67,
     "metadata": {},
     "output_type": "execute_result"
    }
   ],
   "source": [
    "response_tweet_list_only_df.head()"
   ]
  },
  {
   "cell_type": "code",
   "execution_count": 68,
   "metadata": {},
   "outputs": [
    {
     "data": {
      "text/plain": [
       "105604"
      ]
     },
     "execution_count": 68,
     "metadata": {},
     "output_type": "execute_result"
    }
   ],
   "source": [
    "len(response_tweet_list_only_df)"
   ]
  },
  {
   "cell_type": "code",
   "execution_count": 69,
   "metadata": {},
   "outputs": [
    {
     "data": {
      "text/html": [
       "<div>\n",
       "<style scoped>\n",
       "    .dataframe tbody tr th:only-of-type {\n",
       "        vertical-align: middle;\n",
       "    }\n",
       "\n",
       "    .dataframe tbody tr th {\n",
       "        vertical-align: top;\n",
       "    }\n",
       "\n",
       "    .dataframe thead th {\n",
       "        text-align: right;\n",
       "    }\n",
       "</style>\n",
       "<table border=\"1\" class=\"dataframe\">\n",
       "  <thead>\n",
       "    <tr style=\"text-align: right;\">\n",
       "      <th></th>\n",
       "      <th>tweet_id</th>\n",
       "      <th>author_id</th>\n",
       "      <th>inbound</th>\n",
       "      <th>created_at</th>\n",
       "      <th>text</th>\n",
       "      <th>response_tweet_id</th>\n",
       "      <th>in_response_to_tweet_id</th>\n",
       "      <th>support_team</th>\n",
       "    </tr>\n",
       "  </thead>\n",
       "  <tbody>\n",
       "    <tr>\n",
       "      <th>12</th>\n",
       "      <td>18</td>\n",
       "      <td>115713</td>\n",
       "      <td>True</td>\n",
       "      <td>Tue Oct 31 19:56:01 +0000 2017</td>\n",
       "      <td>@115714 y’all lie about your “great” connectio...</td>\n",
       "      <td>17</td>\n",
       "      <td>NaN</td>\n",
       "      <td>sprintcare</td>\n",
       "    </tr>\n",
       "    <tr>\n",
       "      <th>14</th>\n",
       "      <td>20</td>\n",
       "      <td>115715</td>\n",
       "      <td>True</td>\n",
       "      <td>Tue Oct 31 22:03:34 +0000 2017</td>\n",
       "      <td>@115714 whenever I contact customer support, t...</td>\n",
       "      <td>19</td>\n",
       "      <td>NaN</td>\n",
       "      <td>sprintcare</td>\n",
       "    </tr>\n",
       "    <tr>\n",
       "      <th>23</th>\n",
       "      <td>29</td>\n",
       "      <td>115716</td>\n",
       "      <td>True</td>\n",
       "      <td>Tue Oct 31 22:01:35 +0000 2017</td>\n",
       "      <td>actually that's a broken link you sent me and ...</td>\n",
       "      <td>28</td>\n",
       "      <td>NaN</td>\n",
       "      <td>Ask_Spectrum</td>\n",
       "    </tr>\n",
       "    <tr>\n",
       "      <th>25</th>\n",
       "      <td>31</td>\n",
       "      <td>115717</td>\n",
       "      <td>True</td>\n",
       "      <td>Tue Oct 31 22:06:54 +0000 2017</td>\n",
       "      <td>Yo @Ask_Spectrum, your customer service reps a...</td>\n",
       "      <td>30</td>\n",
       "      <td>NaN</td>\n",
       "      <td>Ask_Spectrum</td>\n",
       "    </tr>\n",
       "    <tr>\n",
       "      <th>27</th>\n",
       "      <td>33</td>\n",
       "      <td>115718</td>\n",
       "      <td>True</td>\n",
       "      <td>Tue Oct 31 22:06:56 +0000 2017</td>\n",
       "      <td>My picture on @Ask_Spectrum pretty much every ...</td>\n",
       "      <td>32</td>\n",
       "      <td>NaN</td>\n",
       "      <td>Ask_Spectrum</td>\n",
       "    </tr>\n",
       "  </tbody>\n",
       "</table>\n",
       "</div>"
      ],
      "text/plain": [
       "    tweet_id author_id  inbound                      created_at  \\\n",
       "12        18    115713     True  Tue Oct 31 19:56:01 +0000 2017   \n",
       "14        20    115715     True  Tue Oct 31 22:03:34 +0000 2017   \n",
       "23        29    115716     True  Tue Oct 31 22:01:35 +0000 2017   \n",
       "25        31    115717     True  Tue Oct 31 22:06:54 +0000 2017   \n",
       "27        33    115718     True  Tue Oct 31 22:06:56 +0000 2017   \n",
       "\n",
       "                                                 text response_tweet_id  \\\n",
       "12  @115714 y’all lie about your “great” connectio...                17   \n",
       "14  @115714 whenever I contact customer support, t...                19   \n",
       "23  actually that's a broken link you sent me and ...                28   \n",
       "25  Yo @Ask_Spectrum, your customer service reps a...                30   \n",
       "27  My picture on @Ask_Spectrum pretty much every ...                32   \n",
       "\n",
       "    in_response_to_tweet_id  support_team  \n",
       "12                      NaN    sprintcare  \n",
       "14                      NaN    sprintcare  \n",
       "23                      NaN  Ask_Spectrum  \n",
       "25                      NaN  Ask_Spectrum  \n",
       "27                      NaN  Ask_Spectrum  "
      ]
     },
     "execution_count": 69,
     "metadata": {},
     "output_type": "execute_result"
    }
   ],
   "source": [
    "single_reponse_tweet_df.head()"
   ]
  },
  {
   "cell_type": "code",
   "execution_count": 70,
   "metadata": {},
   "outputs": [
    {
     "data": {
      "text/plain": [
       "681742"
      ]
     },
     "execution_count": 70,
     "metadata": {},
     "output_type": "execute_result"
    }
   ],
   "source": [
    "len(single_reponse_tweet_df)"
   ]
  },
  {
   "cell_type": "markdown",
   "metadata": {},
   "source": [
    "validate it works on a small subset"
   ]
  },
  {
   "cell_type": "code",
   "execution_count": 71,
   "metadata": {},
   "outputs": [],
   "source": [
    "test_list_df = response_tweet_list_only_df.iloc[:2]\n",
    "test_store_df = test_list_df.copy()"
   ]
  },
  {
   "cell_type": "code",
   "execution_count": 72,
   "metadata": {},
   "outputs": [],
   "source": [
    "for index, row in test_list_df.iterrows():\n",
    "    saved_row = row.to_frame().T\n",
    "    new_stored_df = pd.DataFrame()\n",
    "    new_stored_df = uniqueTweetResponse(saved_row)\n",
    "    test_store_df = pd.concat([test_store_df, new_stored_df], ignore_index=True)"
   ]
  },
  {
   "cell_type": "code",
   "execution_count": 73,
   "metadata": {},
   "outputs": [
    {
     "data": {
      "text/html": [
       "<div>\n",
       "<style scoped>\n",
       "    .dataframe tbody tr th:only-of-type {\n",
       "        vertical-align: middle;\n",
       "    }\n",
       "\n",
       "    .dataframe tbody tr th {\n",
       "        vertical-align: top;\n",
       "    }\n",
       "\n",
       "    .dataframe thead th {\n",
       "        text-align: right;\n",
       "    }\n",
       "</style>\n",
       "<table border=\"1\" class=\"dataframe\">\n",
       "  <thead>\n",
       "    <tr style=\"text-align: right;\">\n",
       "      <th></th>\n",
       "      <th>tweet_id</th>\n",
       "      <th>author_id</th>\n",
       "      <th>inbound</th>\n",
       "      <th>created_at</th>\n",
       "      <th>text</th>\n",
       "      <th>response_tweet_id</th>\n",
       "      <th>in_response_to_tweet_id</th>\n",
       "      <th>support_team</th>\n",
       "    </tr>\n",
       "  </thead>\n",
       "  <tbody>\n",
       "    <tr>\n",
       "      <th>0</th>\n",
       "      <td>8</td>\n",
       "      <td>115712</td>\n",
       "      <td>True</td>\n",
       "      <td>Tue Oct 31 21:45:10 +0000 2017</td>\n",
       "      <td>@sprintcare is the worst customer service</td>\n",
       "      <td>9,6,10</td>\n",
       "      <td>NaN</td>\n",
       "      <td>sprintcare</td>\n",
       "    </tr>\n",
       "    <tr>\n",
       "      <th>1</th>\n",
       "      <td>66</td>\n",
       "      <td>115728</td>\n",
       "      <td>True</td>\n",
       "      <td>Tue Oct 31 22:03:38 +0000 2017</td>\n",
       "      <td>@ChipotleTweets @28 \\nI don't fit in my Veggie...</td>\n",
       "      <td>64,67</td>\n",
       "      <td>NaN</td>\n",
       "      <td>ChipotleTweets</td>\n",
       "    </tr>\n",
       "    <tr>\n",
       "      <th>2</th>\n",
       "      <td>8</td>\n",
       "      <td>115712</td>\n",
       "      <td>True</td>\n",
       "      <td>Tue Oct 31 21:45:10 +0000 2017</td>\n",
       "      <td>@sprintcare is the worst customer service</td>\n",
       "      <td>9</td>\n",
       "      <td>NaN</td>\n",
       "      <td>sprintcare</td>\n",
       "    </tr>\n",
       "    <tr>\n",
       "      <th>3</th>\n",
       "      <td>8</td>\n",
       "      <td>115712</td>\n",
       "      <td>True</td>\n",
       "      <td>Tue Oct 31 21:45:10 +0000 2017</td>\n",
       "      <td>@sprintcare is the worst customer service</td>\n",
       "      <td>6</td>\n",
       "      <td>NaN</td>\n",
       "      <td>sprintcare</td>\n",
       "    </tr>\n",
       "    <tr>\n",
       "      <th>4</th>\n",
       "      <td>8</td>\n",
       "      <td>115712</td>\n",
       "      <td>True</td>\n",
       "      <td>Tue Oct 31 21:45:10 +0000 2017</td>\n",
       "      <td>@sprintcare is the worst customer service</td>\n",
       "      <td>10</td>\n",
       "      <td>NaN</td>\n",
       "      <td>sprintcare</td>\n",
       "    </tr>\n",
       "    <tr>\n",
       "      <th>5</th>\n",
       "      <td>66</td>\n",
       "      <td>115728</td>\n",
       "      <td>True</td>\n",
       "      <td>Tue Oct 31 22:03:38 +0000 2017</td>\n",
       "      <td>@ChipotleTweets @28 \\nI don't fit in my Veggie...</td>\n",
       "      <td>64</td>\n",
       "      <td>NaN</td>\n",
       "      <td>ChipotleTweets</td>\n",
       "    </tr>\n",
       "    <tr>\n",
       "      <th>6</th>\n",
       "      <td>66</td>\n",
       "      <td>115728</td>\n",
       "      <td>True</td>\n",
       "      <td>Tue Oct 31 22:03:38 +0000 2017</td>\n",
       "      <td>@ChipotleTweets @28 \\nI don't fit in my Veggie...</td>\n",
       "      <td>67</td>\n",
       "      <td>NaN</td>\n",
       "      <td>ChipotleTweets</td>\n",
       "    </tr>\n",
       "  </tbody>\n",
       "</table>\n",
       "</div>"
      ],
      "text/plain": [
       "  tweet_id author_id inbound                      created_at  \\\n",
       "0        8    115712    True  Tue Oct 31 21:45:10 +0000 2017   \n",
       "1       66    115728    True  Tue Oct 31 22:03:38 +0000 2017   \n",
       "2        8    115712    True  Tue Oct 31 21:45:10 +0000 2017   \n",
       "3        8    115712    True  Tue Oct 31 21:45:10 +0000 2017   \n",
       "4        8    115712    True  Tue Oct 31 21:45:10 +0000 2017   \n",
       "5       66    115728    True  Tue Oct 31 22:03:38 +0000 2017   \n",
       "6       66    115728    True  Tue Oct 31 22:03:38 +0000 2017   \n",
       "\n",
       "                                                text response_tweet_id  \\\n",
       "0          @sprintcare is the worst customer service            9,6,10   \n",
       "1  @ChipotleTweets @28 \\nI don't fit in my Veggie...             64,67   \n",
       "2          @sprintcare is the worst customer service                 9   \n",
       "3          @sprintcare is the worst customer service                 6   \n",
       "4          @sprintcare is the worst customer service                10   \n",
       "5  @ChipotleTweets @28 \\nI don't fit in my Veggie...                64   \n",
       "6  @ChipotleTweets @28 \\nI don't fit in my Veggie...                67   \n",
       "\n",
       "  in_response_to_tweet_id    support_team  \n",
       "0                     NaN      sprintcare  \n",
       "1                     NaN  ChipotleTweets  \n",
       "2                     NaN      sprintcare  \n",
       "3                     NaN      sprintcare  \n",
       "4                     NaN      sprintcare  \n",
       "5                     NaN  ChipotleTweets  \n",
       "6                     NaN  ChipotleTweets  "
      ]
     },
     "execution_count": 73,
     "metadata": {},
     "output_type": "execute_result"
    }
   ],
   "source": [
    "test_store_df.head(10)"
   ]
  },
  {
   "cell_type": "markdown",
   "metadata": {},
   "source": [
    "While i wanted a better solution this will do what we need"
   ]
  },
  {
   "cell_type": "markdown",
   "metadata": {},
   "source": [
    "Update the entire dataframw with the change"
   ]
  },
  {
   "cell_type": "code",
   "execution_count": 74,
   "metadata": {},
   "outputs": [],
   "source": [
    "updated_df = pd.DataFrame()\n",
    "\n",
    "for index, row in response_tweet_list_only_df.iterrows():\n",
    "    saved_row = row.to_frame().T\n",
    "    new_stored_df = pd.DataFrame()\n",
    "    new_stored_df = uniqueTweetResponse(saved_row)\n",
    "    updated_df = pd.concat([updated_df, new_stored_df], ignore_index=True)"
   ]
  },
  {
   "cell_type": "code",
   "execution_count": 75,
   "metadata": {},
   "outputs": [
    {
     "data": {
      "text/html": [
       "<div>\n",
       "<style scoped>\n",
       "    .dataframe tbody tr th:only-of-type {\n",
       "        vertical-align: middle;\n",
       "    }\n",
       "\n",
       "    .dataframe tbody tr th {\n",
       "        vertical-align: top;\n",
       "    }\n",
       "\n",
       "    .dataframe thead th {\n",
       "        text-align: right;\n",
       "    }\n",
       "</style>\n",
       "<table border=\"1\" class=\"dataframe\">\n",
       "  <thead>\n",
       "    <tr style=\"text-align: right;\">\n",
       "      <th></th>\n",
       "      <th>tweet_id</th>\n",
       "      <th>author_id</th>\n",
       "      <th>inbound</th>\n",
       "      <th>created_at</th>\n",
       "      <th>text</th>\n",
       "      <th>response_tweet_id</th>\n",
       "      <th>in_response_to_tweet_id</th>\n",
       "      <th>support_team</th>\n",
       "    </tr>\n",
       "  </thead>\n",
       "  <tbody>\n",
       "    <tr>\n",
       "      <th>0</th>\n",
       "      <td>8</td>\n",
       "      <td>115712</td>\n",
       "      <td>True</td>\n",
       "      <td>Tue Oct 31 21:45:10 +0000 2017</td>\n",
       "      <td>@sprintcare is the worst customer service</td>\n",
       "      <td>9</td>\n",
       "      <td>NaN</td>\n",
       "      <td>sprintcare</td>\n",
       "    </tr>\n",
       "    <tr>\n",
       "      <th>1</th>\n",
       "      <td>8</td>\n",
       "      <td>115712</td>\n",
       "      <td>True</td>\n",
       "      <td>Tue Oct 31 21:45:10 +0000 2017</td>\n",
       "      <td>@sprintcare is the worst customer service</td>\n",
       "      <td>6</td>\n",
       "      <td>NaN</td>\n",
       "      <td>sprintcare</td>\n",
       "    </tr>\n",
       "    <tr>\n",
       "      <th>2</th>\n",
       "      <td>8</td>\n",
       "      <td>115712</td>\n",
       "      <td>True</td>\n",
       "      <td>Tue Oct 31 21:45:10 +0000 2017</td>\n",
       "      <td>@sprintcare is the worst customer service</td>\n",
       "      <td>10</td>\n",
       "      <td>NaN</td>\n",
       "      <td>sprintcare</td>\n",
       "    </tr>\n",
       "    <tr>\n",
       "      <th>3</th>\n",
       "      <td>66</td>\n",
       "      <td>115728</td>\n",
       "      <td>True</td>\n",
       "      <td>Tue Oct 31 22:03:38 +0000 2017</td>\n",
       "      <td>@ChipotleTweets @28 \\nI don't fit in my Veggie...</td>\n",
       "      <td>64</td>\n",
       "      <td>NaN</td>\n",
       "      <td>ChipotleTweets</td>\n",
       "    </tr>\n",
       "    <tr>\n",
       "      <th>4</th>\n",
       "      <td>66</td>\n",
       "      <td>115728</td>\n",
       "      <td>True</td>\n",
       "      <td>Tue Oct 31 22:03:38 +0000 2017</td>\n",
       "      <td>@ChipotleTweets @28 \\nI don't fit in my Veggie...</td>\n",
       "      <td>67</td>\n",
       "      <td>NaN</td>\n",
       "      <td>ChipotleTweets</td>\n",
       "    </tr>\n",
       "  </tbody>\n",
       "</table>\n",
       "</div>"
      ],
      "text/plain": [
       "  tweet_id author_id inbound                      created_at  \\\n",
       "0        8    115712    True  Tue Oct 31 21:45:10 +0000 2017   \n",
       "1        8    115712    True  Tue Oct 31 21:45:10 +0000 2017   \n",
       "2        8    115712    True  Tue Oct 31 21:45:10 +0000 2017   \n",
       "3       66    115728    True  Tue Oct 31 22:03:38 +0000 2017   \n",
       "4       66    115728    True  Tue Oct 31 22:03:38 +0000 2017   \n",
       "\n",
       "                                                text response_tweet_id  \\\n",
       "0          @sprintcare is the worst customer service                 9   \n",
       "1          @sprintcare is the worst customer service                 6   \n",
       "2          @sprintcare is the worst customer service                10   \n",
       "3  @ChipotleTweets @28 \\nI don't fit in my Veggie...                64   \n",
       "4  @ChipotleTweets @28 \\nI don't fit in my Veggie...                67   \n",
       "\n",
       "  in_response_to_tweet_id    support_team  \n",
       "0                     NaN      sprintcare  \n",
       "1                     NaN      sprintcare  \n",
       "2                     NaN      sprintcare  \n",
       "3                     NaN  ChipotleTweets  \n",
       "4                     NaN  ChipotleTweets  "
      ]
     },
     "execution_count": 75,
     "metadata": {},
     "output_type": "execute_result"
    }
   ],
   "source": [
    "updated_df.head()"
   ]
  },
  {
   "cell_type": "code",
   "execution_count": 76,
   "metadata": {},
   "outputs": [
    {
     "data": {
      "text/plain": [
       "author_id\n",
       "115913    2390\n",
       "115911    1271\n",
       "115765    1169\n",
       "115850     971\n",
       "115888     939\n",
       "          ... \n",
       "388011       2\n",
       "388002       2\n",
       "388001       2\n",
       "387996       2\n",
       "823870       2\n",
       "Name: count, Length: 96297, dtype: int64"
      ]
     },
     "execution_count": 76,
     "metadata": {},
     "output_type": "execute_result"
    }
   ],
   "source": [
    "updated_df['author_id'].value_counts()"
   ]
  },
  {
   "cell_type": "code",
   "execution_count": 77,
   "metadata": {},
   "outputs": [],
   "source": [
    "single_reponse_tweet_df = pd.concat([single_reponse_tweet_df, updated_df], ignore_index=True)"
   ]
  },
  {
   "cell_type": "code",
   "execution_count": 78,
   "metadata": {},
   "outputs": [
    {
     "data": {
      "text/html": [
       "<div>\n",
       "<style scoped>\n",
       "    .dataframe tbody tr th:only-of-type {\n",
       "        vertical-align: middle;\n",
       "    }\n",
       "\n",
       "    .dataframe tbody tr th {\n",
       "        vertical-align: top;\n",
       "    }\n",
       "\n",
       "    .dataframe thead th {\n",
       "        text-align: right;\n",
       "    }\n",
       "</style>\n",
       "<table border=\"1\" class=\"dataframe\">\n",
       "  <thead>\n",
       "    <tr style=\"text-align: right;\">\n",
       "      <th></th>\n",
       "      <th>tweet_id</th>\n",
       "      <th>author_id</th>\n",
       "      <th>inbound</th>\n",
       "      <th>created_at</th>\n",
       "      <th>text</th>\n",
       "      <th>response_tweet_id</th>\n",
       "      <th>in_response_to_tweet_id</th>\n",
       "      <th>support_team</th>\n",
       "    </tr>\n",
       "  </thead>\n",
       "  <tbody>\n",
       "    <tr>\n",
       "      <th>0</th>\n",
       "      <td>18</td>\n",
       "      <td>115713</td>\n",
       "      <td>True</td>\n",
       "      <td>Tue Oct 31 19:56:01 +0000 2017</td>\n",
       "      <td>@115714 y’all lie about your “great” connectio...</td>\n",
       "      <td>17</td>\n",
       "      <td>NaN</td>\n",
       "      <td>sprintcare</td>\n",
       "    </tr>\n",
       "    <tr>\n",
       "      <th>1</th>\n",
       "      <td>20</td>\n",
       "      <td>115715</td>\n",
       "      <td>True</td>\n",
       "      <td>Tue Oct 31 22:03:34 +0000 2017</td>\n",
       "      <td>@115714 whenever I contact customer support, t...</td>\n",
       "      <td>19</td>\n",
       "      <td>NaN</td>\n",
       "      <td>sprintcare</td>\n",
       "    </tr>\n",
       "    <tr>\n",
       "      <th>2</th>\n",
       "      <td>29</td>\n",
       "      <td>115716</td>\n",
       "      <td>True</td>\n",
       "      <td>Tue Oct 31 22:01:35 +0000 2017</td>\n",
       "      <td>actually that's a broken link you sent me and ...</td>\n",
       "      <td>28</td>\n",
       "      <td>NaN</td>\n",
       "      <td>Ask_Spectrum</td>\n",
       "    </tr>\n",
       "    <tr>\n",
       "      <th>3</th>\n",
       "      <td>31</td>\n",
       "      <td>115717</td>\n",
       "      <td>True</td>\n",
       "      <td>Tue Oct 31 22:06:54 +0000 2017</td>\n",
       "      <td>Yo @Ask_Spectrum, your customer service reps a...</td>\n",
       "      <td>30</td>\n",
       "      <td>NaN</td>\n",
       "      <td>Ask_Spectrum</td>\n",
       "    </tr>\n",
       "    <tr>\n",
       "      <th>4</th>\n",
       "      <td>33</td>\n",
       "      <td>115718</td>\n",
       "      <td>True</td>\n",
       "      <td>Tue Oct 31 22:06:56 +0000 2017</td>\n",
       "      <td>My picture on @Ask_Spectrum pretty much every ...</td>\n",
       "      <td>32</td>\n",
       "      <td>NaN</td>\n",
       "      <td>Ask_Spectrum</td>\n",
       "    </tr>\n",
       "  </tbody>\n",
       "</table>\n",
       "</div>"
      ],
      "text/plain": [
       "  tweet_id author_id inbound                      created_at  \\\n",
       "0       18    115713    True  Tue Oct 31 19:56:01 +0000 2017   \n",
       "1       20    115715    True  Tue Oct 31 22:03:34 +0000 2017   \n",
       "2       29    115716    True  Tue Oct 31 22:01:35 +0000 2017   \n",
       "3       31    115717    True  Tue Oct 31 22:06:54 +0000 2017   \n",
       "4       33    115718    True  Tue Oct 31 22:06:56 +0000 2017   \n",
       "\n",
       "                                                text response_tweet_id  \\\n",
       "0  @115714 y’all lie about your “great” connectio...                17   \n",
       "1  @115714 whenever I contact customer support, t...                19   \n",
       "2  actually that's a broken link you sent me and ...                28   \n",
       "3  Yo @Ask_Spectrum, your customer service reps a...                30   \n",
       "4  My picture on @Ask_Spectrum pretty much every ...                32   \n",
       "\n",
       "  in_response_to_tweet_id  support_team  \n",
       "0                     NaN    sprintcare  \n",
       "1                     NaN    sprintcare  \n",
       "2                     NaN  Ask_Spectrum  \n",
       "3                     NaN  Ask_Spectrum  \n",
       "4                     NaN  Ask_Spectrum  "
      ]
     },
     "execution_count": 78,
     "metadata": {},
     "output_type": "execute_result"
    }
   ],
   "source": [
    "single_reponse_tweet_df.head()"
   ]
  },
  {
   "cell_type": "code",
   "execution_count": 79,
   "metadata": {},
   "outputs": [
    {
     "data": {
      "text/plain": [
       "0         False\n",
       "1         False\n",
       "2         False\n",
       "3         False\n",
       "4         False\n",
       "          ...  \n",
       "966207    False\n",
       "966208    False\n",
       "966209    False\n",
       "966210    False\n",
       "966211    False\n",
       "Name: response_tweet_id, Length: 966212, dtype: bool"
      ]
     },
     "execution_count": 79,
     "metadata": {},
     "output_type": "execute_result"
    }
   ],
   "source": [
    "single_reponse_tweet_df[\"response_tweet_id\"].str.contains(\",\") "
   ]
  },
  {
   "cell_type": "code",
   "execution_count": 80,
   "metadata": {},
   "outputs": [
    {
     "data": {
      "text/plain": [
       "966212"
      ]
     },
     "execution_count": 80,
     "metadata": {},
     "output_type": "execute_result"
    }
   ],
   "source": [
    "len(single_reponse_tweet_df)"
   ]
  },
  {
   "cell_type": "markdown",
   "metadata": {},
   "source": [
    "#### Ongoing Conversation"
   ]
  },
  {
   "cell_type": "code",
   "execution_count": 81,
   "metadata": {},
   "outputs": [
    {
     "data": {
      "text/html": [
       "<div>\n",
       "<style scoped>\n",
       "    .dataframe tbody tr th:only-of-type {\n",
       "        vertical-align: middle;\n",
       "    }\n",
       "\n",
       "    .dataframe tbody tr th {\n",
       "        vertical-align: top;\n",
       "    }\n",
       "\n",
       "    .dataframe thead th {\n",
       "        text-align: right;\n",
       "    }\n",
       "</style>\n",
       "<table border=\"1\" class=\"dataframe\">\n",
       "  <thead>\n",
       "    <tr style=\"text-align: right;\">\n",
       "      <th></th>\n",
       "      <th>tweet_id</th>\n",
       "      <th>author_id</th>\n",
       "      <th>inbound</th>\n",
       "      <th>created_at</th>\n",
       "      <th>text</th>\n",
       "      <th>response_tweet_id</th>\n",
       "      <th>in_response_to_tweet_id</th>\n",
       "      <th>support_team</th>\n",
       "    </tr>\n",
       "  </thead>\n",
       "  <tbody>\n",
       "    <tr>\n",
       "      <th>0</th>\n",
       "      <td>18</td>\n",
       "      <td>115713</td>\n",
       "      <td>True</td>\n",
       "      <td>Tue Oct 31 19:56:01 +0000 2017</td>\n",
       "      <td>@115714 y’all lie about your “great” connectio...</td>\n",
       "      <td>17</td>\n",
       "      <td>NaN</td>\n",
       "      <td>sprintcare</td>\n",
       "    </tr>\n",
       "    <tr>\n",
       "      <th>1</th>\n",
       "      <td>20</td>\n",
       "      <td>115715</td>\n",
       "      <td>True</td>\n",
       "      <td>Tue Oct 31 22:03:34 +0000 2017</td>\n",
       "      <td>@115714 whenever I contact customer support, t...</td>\n",
       "      <td>19</td>\n",
       "      <td>NaN</td>\n",
       "      <td>sprintcare</td>\n",
       "    </tr>\n",
       "    <tr>\n",
       "      <th>2</th>\n",
       "      <td>29</td>\n",
       "      <td>115716</td>\n",
       "      <td>True</td>\n",
       "      <td>Tue Oct 31 22:01:35 +0000 2017</td>\n",
       "      <td>actually that's a broken link you sent me and ...</td>\n",
       "      <td>28</td>\n",
       "      <td>NaN</td>\n",
       "      <td>Ask_Spectrum</td>\n",
       "    </tr>\n",
       "    <tr>\n",
       "      <th>3</th>\n",
       "      <td>31</td>\n",
       "      <td>115717</td>\n",
       "      <td>True</td>\n",
       "      <td>Tue Oct 31 22:06:54 +0000 2017</td>\n",
       "      <td>Yo @Ask_Spectrum, your customer service reps a...</td>\n",
       "      <td>30</td>\n",
       "      <td>NaN</td>\n",
       "      <td>Ask_Spectrum</td>\n",
       "    </tr>\n",
       "    <tr>\n",
       "      <th>4</th>\n",
       "      <td>33</td>\n",
       "      <td>115718</td>\n",
       "      <td>True</td>\n",
       "      <td>Tue Oct 31 22:06:56 +0000 2017</td>\n",
       "      <td>My picture on @Ask_Spectrum pretty much every ...</td>\n",
       "      <td>32</td>\n",
       "      <td>NaN</td>\n",
       "      <td>Ask_Spectrum</td>\n",
       "    </tr>\n",
       "    <tr>\n",
       "      <th>5</th>\n",
       "      <td>36</td>\n",
       "      <td>115719</td>\n",
       "      <td>True</td>\n",
       "      <td>Tue Oct 31 22:10:46 +0000 2017</td>\n",
       "      <td>somebody from @VerizonSupport please help meee...</td>\n",
       "      <td>34</td>\n",
       "      <td>NaN</td>\n",
       "      <td>VerizonSupport</td>\n",
       "    </tr>\n",
       "    <tr>\n",
       "      <th>6</th>\n",
       "      <td>39</td>\n",
       "      <td>115720</td>\n",
       "      <td>True</td>\n",
       "      <td>Tue Oct 31 22:12:16 +0000 2017</td>\n",
       "      <td>@VerizonSupport My friend is without internet ...</td>\n",
       "      <td>38</td>\n",
       "      <td>NaN</td>\n",
       "      <td>VerizonSupport</td>\n",
       "    </tr>\n",
       "    <tr>\n",
       "      <th>7</th>\n",
       "      <td>49</td>\n",
       "      <td>115721</td>\n",
       "      <td>True</td>\n",
       "      <td>Tue Oct 31 21:42:09 +0000 2017</td>\n",
       "      <td>@115722 tried to pay a bill for 60 days. No se...</td>\n",
       "      <td>48</td>\n",
       "      <td>NaN</td>\n",
       "      <td>115722</td>\n",
       "    </tr>\n",
       "    <tr>\n",
       "      <th>8</th>\n",
       "      <td>59</td>\n",
       "      <td>115723</td>\n",
       "      <td>True</td>\n",
       "      <td>Tue Oct 31 19:54:51 +0000 2017</td>\n",
       "      <td>@115722 is the worst ISP I’ve ever had</td>\n",
       "      <td>58</td>\n",
       "      <td>NaN</td>\n",
       "      <td>VerizonSupport</td>\n",
       "    </tr>\n",
       "    <tr>\n",
       "      <th>9</th>\n",
       "      <td>61</td>\n",
       "      <td>115724</td>\n",
       "      <td>True</td>\n",
       "      <td>Tue Oct 31 22:00:36 +0000 2017</td>\n",
       "      <td>.@VerizonSupport @115725 @115726              ...</td>\n",
       "      <td>60</td>\n",
       "      <td>NaN</td>\n",
       "      <td>VerizonSupport</td>\n",
       "    </tr>\n",
       "    <tr>\n",
       "      <th>10</th>\n",
       "      <td>63</td>\n",
       "      <td>115727</td>\n",
       "      <td>True</td>\n",
       "      <td>Tue Oct 31 21:56:55 +0000 2017</td>\n",
       "      <td>@115725 fix your app it won't even open</td>\n",
       "      <td>62</td>\n",
       "      <td>NaN</td>\n",
       "      <td>VerizonSupport</td>\n",
       "    </tr>\n",
       "    <tr>\n",
       "      <th>11</th>\n",
       "      <td>69</td>\n",
       "      <td>115729</td>\n",
       "      <td>True</td>\n",
       "      <td>Tue Oct 31 22:03:32 +0000 2017</td>\n",
       "      <td>@ChipotleTweets messed up today and didn’t giv...</td>\n",
       "      <td>68</td>\n",
       "      <td>NaN</td>\n",
       "      <td>ChipotleTweets</td>\n",
       "    </tr>\n",
       "    <tr>\n",
       "      <th>12</th>\n",
       "      <td>76</td>\n",
       "      <td>115731</td>\n",
       "      <td>True</td>\n",
       "      <td>Tue Oct 31 20:21:10 +0000 2017</td>\n",
       "      <td>When you're the only one in costume #boorito @...</td>\n",
       "      <td>75</td>\n",
       "      <td>NaN</td>\n",
       "      <td>ChipotleTweets</td>\n",
       "    </tr>\n",
       "    <tr>\n",
       "      <th>13</th>\n",
       "      <td>78</td>\n",
       "      <td>115732</td>\n",
       "      <td>True</td>\n",
       "      <td>Tue Oct 31 22:01:40 +0000 2017</td>\n",
       "      <td>@ChipotleTweets no Diet Coke and a literal bon...</td>\n",
       "      <td>77</td>\n",
       "      <td>NaN</td>\n",
       "      <td>ChipotleTweets</td>\n",
       "    </tr>\n",
       "    <tr>\n",
       "      <th>14</th>\n",
       "      <td>153</td>\n",
       "      <td>115734</td>\n",
       "      <td>True</td>\n",
       "      <td>Tue Oct 31 22:01:03 +0000 2017</td>\n",
       "      <td>Happy Halloween! Since I'm too old to trick or...</td>\n",
       "      <td>152</td>\n",
       "      <td>NaN</td>\n",
       "      <td>ChipotleTweets</td>\n",
       "    </tr>\n",
       "  </tbody>\n",
       "</table>\n",
       "</div>"
      ],
      "text/plain": [
       "   tweet_id author_id inbound                      created_at  \\\n",
       "0        18    115713    True  Tue Oct 31 19:56:01 +0000 2017   \n",
       "1        20    115715    True  Tue Oct 31 22:03:34 +0000 2017   \n",
       "2        29    115716    True  Tue Oct 31 22:01:35 +0000 2017   \n",
       "3        31    115717    True  Tue Oct 31 22:06:54 +0000 2017   \n",
       "4        33    115718    True  Tue Oct 31 22:06:56 +0000 2017   \n",
       "5        36    115719    True  Tue Oct 31 22:10:46 +0000 2017   \n",
       "6        39    115720    True  Tue Oct 31 22:12:16 +0000 2017   \n",
       "7        49    115721    True  Tue Oct 31 21:42:09 +0000 2017   \n",
       "8        59    115723    True  Tue Oct 31 19:54:51 +0000 2017   \n",
       "9        61    115724    True  Tue Oct 31 22:00:36 +0000 2017   \n",
       "10       63    115727    True  Tue Oct 31 21:56:55 +0000 2017   \n",
       "11       69    115729    True  Tue Oct 31 22:03:32 +0000 2017   \n",
       "12       76    115731    True  Tue Oct 31 20:21:10 +0000 2017   \n",
       "13       78    115732    True  Tue Oct 31 22:01:40 +0000 2017   \n",
       "14      153    115734    True  Tue Oct 31 22:01:03 +0000 2017   \n",
       "\n",
       "                                                 text response_tweet_id  \\\n",
       "0   @115714 y’all lie about your “great” connectio...                17   \n",
       "1   @115714 whenever I contact customer support, t...                19   \n",
       "2   actually that's a broken link you sent me and ...                28   \n",
       "3   Yo @Ask_Spectrum, your customer service reps a...                30   \n",
       "4   My picture on @Ask_Spectrum pretty much every ...                32   \n",
       "5   somebody from @VerizonSupport please help meee...                34   \n",
       "6   @VerizonSupport My friend is without internet ...                38   \n",
       "7   @115722 tried to pay a bill for 60 days. No se...                48   \n",
       "8              @115722 is the worst ISP I’ve ever had                58   \n",
       "9   .@VerizonSupport @115725 @115726              ...                60   \n",
       "10            @115725 fix your app it won't even open                62   \n",
       "11  @ChipotleTweets messed up today and didn’t giv...                68   \n",
       "12  When you're the only one in costume #boorito @...                75   \n",
       "13  @ChipotleTweets no Diet Coke and a literal bon...                77   \n",
       "14  Happy Halloween! Since I'm too old to trick or...               152   \n",
       "\n",
       "   in_response_to_tweet_id    support_team  \n",
       "0                      NaN      sprintcare  \n",
       "1                      NaN      sprintcare  \n",
       "2                      NaN    Ask_Spectrum  \n",
       "3                      NaN    Ask_Spectrum  \n",
       "4                      NaN    Ask_Spectrum  \n",
       "5                      NaN  VerizonSupport  \n",
       "6                      NaN  VerizonSupport  \n",
       "7                      NaN          115722  \n",
       "8                      NaN  VerizonSupport  \n",
       "9                      NaN  VerizonSupport  \n",
       "10                     NaN  VerizonSupport  \n",
       "11                     NaN  ChipotleTweets  \n",
       "12                     NaN  ChipotleTweets  \n",
       "13                     NaN  ChipotleTweets  \n",
       "14                     NaN  ChipotleTweets  "
      ]
     },
     "execution_count": 81,
     "metadata": {},
     "output_type": "execute_result"
    }
   ],
   "source": [
    "single_reponse_tweet_df.head(15)"
   ]
  },
  {
   "cell_type": "markdown",
   "metadata": {},
   "source": [
    "Test out the process to fetch all the tweets into a single conversation"
   ]
  },
  {
   "cell_type": "markdown",
   "metadata": {},
   "source": [
    "With each row, we need ot check the response tweet id for the next response"
   ]
  },
  {
   "cell_type": "code",
   "execution_count": 82,
   "metadata": {},
   "outputs": [],
   "source": [
    "response_example = single_reponse_tweet_df['response_tweet_id'].iloc[1]"
   ]
  },
  {
   "cell_type": "code",
   "execution_count": 83,
   "metadata": {},
   "outputs": [
    {
     "data": {
      "text/plain": [
       "'19'"
      ]
     },
     "execution_count": 83,
     "metadata": {},
     "output_type": "execute_result"
    }
   ],
   "source": [
    "response_example"
   ]
  },
  {
   "cell_type": "code",
   "execution_count": 84,
   "metadata": {},
   "outputs": [
    {
     "data": {
      "text/html": [
       "<div>\n",
       "<style scoped>\n",
       "    .dataframe tbody tr th:only-of-type {\n",
       "        vertical-align: middle;\n",
       "    }\n",
       "\n",
       "    .dataframe tbody tr th {\n",
       "        vertical-align: top;\n",
       "    }\n",
       "\n",
       "    .dataframe thead th {\n",
       "        text-align: right;\n",
       "    }\n",
       "</style>\n",
       "<table border=\"1\" class=\"dataframe\">\n",
       "  <thead>\n",
       "    <tr style=\"text-align: right;\">\n",
       "      <th></th>\n",
       "      <th>tweet_id</th>\n",
       "      <th>author_id</th>\n",
       "      <th>inbound</th>\n",
       "      <th>created_at</th>\n",
       "      <th>text</th>\n",
       "      <th>response_tweet_id</th>\n",
       "      <th>in_response_to_tweet_id</th>\n",
       "    </tr>\n",
       "  </thead>\n",
       "  <tbody>\n",
       "    <tr>\n",
       "      <th>13</th>\n",
       "      <td>19</td>\n",
       "      <td>sprintcare</td>\n",
       "      <td>False</td>\n",
       "      <td>Tue Oct 31 22:10:10 +0000 2017</td>\n",
       "      <td>@115715 Please send me a private message so th...</td>\n",
       "      <td>NaN</td>\n",
       "      <td>20.0</td>\n",
       "    </tr>\n",
       "  </tbody>\n",
       "</table>\n",
       "</div>"
      ],
      "text/plain": [
       "    tweet_id   author_id  inbound                      created_at  \\\n",
       "13        19  sprintcare    False  Tue Oct 31 22:10:10 +0000 2017   \n",
       "\n",
       "                                                 text response_tweet_id  \\\n",
       "13  @115715 Please send me a private message so th...               NaN   \n",
       "\n",
       "    in_response_to_tweet_id  \n",
       "13                     20.0  "
      ]
     },
     "execution_count": 84,
     "metadata": {},
     "output_type": "execute_result"
    }
   ],
   "source": [
    "df[df['tweet_id'] == int(response_example)]"
   ]
  },
  {
   "cell_type": "code",
   "execution_count": 85,
   "metadata": {},
   "outputs": [],
   "source": [
    "stored_text_conversation = ''\n",
    "\n",
    "stored_text_conversation = df[df['tweet_id'] == int(response_example)]['text'].values[0]"
   ]
  },
  {
   "cell_type": "code",
   "execution_count": 86,
   "metadata": {},
   "outputs": [
    {
     "data": {
      "text/plain": [
       "'@115715 Please send me a private message so that I can send you the link to access your account. -FR'"
      ]
     },
     "execution_count": 86,
     "metadata": {},
     "output_type": "execute_result"
    }
   ],
   "source": [
    "stored_text_conversation"
   ]
  },
  {
   "cell_type": "code",
   "execution_count": 87,
   "metadata": {},
   "outputs": [],
   "source": [
    "new_response_example = df[df['tweet_id'] == int(response_example)]['in_response_to_tweet_id']"
   ]
  },
  {
   "cell_type": "code",
   "execution_count": 88,
   "metadata": {},
   "outputs": [
    {
     "data": {
      "text/plain": [
       "13    20.0\n",
       "Name: in_response_to_tweet_id, dtype: float64"
      ]
     },
     "execution_count": 88,
     "metadata": {},
     "output_type": "execute_result"
    }
   ],
   "source": [
    "new_response_example"
   ]
  },
  {
   "cell_type": "code",
   "execution_count": 89,
   "metadata": {},
   "outputs": [
    {
     "name": "stderr",
     "output_type": "stream",
     "text": [
      "/var/folders/sk/f7k402kx1wvdmcz91gdz6hs00000gn/T/ipykernel_81770/3715148063.py:1: FutureWarning: Calling int on a single element Series is deprecated and will raise a TypeError in the future. Use int(ser.iloc[0]) instead\n",
      "  df[df['tweet_id'] == int(new_response_example)]\n"
     ]
    },
    {
     "data": {
      "text/html": [
       "<div>\n",
       "<style scoped>\n",
       "    .dataframe tbody tr th:only-of-type {\n",
       "        vertical-align: middle;\n",
       "    }\n",
       "\n",
       "    .dataframe tbody tr th {\n",
       "        vertical-align: top;\n",
       "    }\n",
       "\n",
       "    .dataframe thead th {\n",
       "        text-align: right;\n",
       "    }\n",
       "</style>\n",
       "<table border=\"1\" class=\"dataframe\">\n",
       "  <thead>\n",
       "    <tr style=\"text-align: right;\">\n",
       "      <th></th>\n",
       "      <th>tweet_id</th>\n",
       "      <th>author_id</th>\n",
       "      <th>inbound</th>\n",
       "      <th>created_at</th>\n",
       "      <th>text</th>\n",
       "      <th>response_tweet_id</th>\n",
       "      <th>in_response_to_tweet_id</th>\n",
       "    </tr>\n",
       "  </thead>\n",
       "  <tbody>\n",
       "    <tr>\n",
       "      <th>14</th>\n",
       "      <td>20</td>\n",
       "      <td>115715</td>\n",
       "      <td>True</td>\n",
       "      <td>Tue Oct 31 22:03:34 +0000 2017</td>\n",
       "      <td>@115714 whenever I contact customer support, t...</td>\n",
       "      <td>19</td>\n",
       "      <td>NaN</td>\n",
       "    </tr>\n",
       "  </tbody>\n",
       "</table>\n",
       "</div>"
      ],
      "text/plain": [
       "    tweet_id author_id  inbound                      created_at  \\\n",
       "14        20    115715     True  Tue Oct 31 22:03:34 +0000 2017   \n",
       "\n",
       "                                                 text response_tweet_id  \\\n",
       "14  @115714 whenever I contact customer support, t...                19   \n",
       "\n",
       "    in_response_to_tweet_id  \n",
       "14                      NaN  "
      ]
     },
     "execution_count": 89,
     "metadata": {},
     "output_type": "execute_result"
    }
   ],
   "source": [
    "df[df['tweet_id'] == int(new_response_example)]"
   ]
  },
  {
   "cell_type": "code",
   "execution_count": 90,
   "metadata": {},
   "outputs": [
    {
     "name": "stderr",
     "output_type": "stream",
     "text": [
      "/var/folders/sk/f7k402kx1wvdmcz91gdz6hs00000gn/T/ipykernel_81770/2267104507.py:1: FutureWarning: Calling int on a single element Series is deprecated and will raise a TypeError in the future. Use int(ser.iloc[0]) instead\n",
      "  new_stored_text = df[df['tweet_id'] == int(new_response_example)]['text'].values[0]\n"
     ]
    }
   ],
   "source": [
    "new_stored_text = df[df['tweet_id'] == int(new_response_example)]['text'].values[0]"
   ]
  },
  {
   "cell_type": "code",
   "execution_count": 91,
   "metadata": {},
   "outputs": [
    {
     "data": {
      "text/plain": [
       "\"@115714 whenever I contact customer support, they tell me I have shortcode enabled on my account, but I have never in the 4 years I've tried https://t.co/0G98RtNxPK\""
      ]
     },
     "execution_count": 91,
     "metadata": {},
     "output_type": "execute_result"
    }
   ],
   "source": [
    "new_stored_text"
   ]
  },
  {
   "cell_type": "markdown",
   "metadata": {},
   "source": [
    "May need to replace line break in the future for training. This makes it easier to read"
   ]
  },
  {
   "cell_type": "code",
   "execution_count": 92,
   "metadata": {},
   "outputs": [],
   "source": [
    "stored_text_conversation = stored_text_conversation + \"\\n\" + new_stored_text"
   ]
  },
  {
   "cell_type": "code",
   "execution_count": 93,
   "metadata": {},
   "outputs": [
    {
     "name": "stdout",
     "output_type": "stream",
     "text": [
      "@115715 Please send me a private message so that I can send you the link to access your account. -FR\n",
      "@115714 whenever I contact customer support, they tell me I have shortcode enabled on my account, but I have never in the 4 years I've tried https://t.co/0G98RtNxPK\n"
     ]
    }
   ],
   "source": [
    "print(stored_text_conversation)"
   ]
  },
  {
   "cell_type": "markdown",
   "metadata": {},
   "source": [
    "With the basic process found. A simple function to make this process easier"
   ]
  },
  {
   "cell_type": "code",
   "execution_count": 94,
   "metadata": {},
   "outputs": [],
   "source": [
    "def getAllConversation(response_tweet_input):\n",
    "    \"\"\" \n",
    "    Collects all the customer and support conversation for each request made\n",
    "    Returns:\n",
    "        conversation: String\n",
    "        date: list of date and times\n",
    "        count: number of conversation after the inital \n",
    "    \"\"\"\n",
    "\n",
    "    # values to collect\n",
    "    conversation = ''\n",
    "    conversation_counter = 0\n",
    "    date = []\n",
    "\n",
    "    found_response_tweet = str(response_tweet_input)\n",
    "\n",
    "    while not found_response_tweet == \"nan\" and not found_response_tweet == \"NaN\":\n",
    "\n",
    "        if ',' in found_response_tweet:\n",
    "            # TODO: need additonal work to split multiple reponse to one tweet\n",
    "            found_response_tweet = found_response_tweet.split(',')[0]\n",
    "    \n",
    "        temp_text = df[df['tweet_id'] == int(found_response_tweet)]['text']\n",
    "\n",
    "        if (len(temp_text) > 0):\n",
    "            temp_text = temp_text.values[0]\n",
    "        else:\n",
    "            temp_text = \"NaN\"\n",
    "\n",
    "        conversation += temp_text + \"\\n\"\n",
    "\n",
    "        # update the counter\n",
    "        conversation_counter += 1\n",
    "\n",
    "        # Update the date to list\n",
    "        converation_date = df[df['tweet_id'] == int(found_response_tweet)]['created_at']\n",
    "\n",
    "        if (len(converation_date) > 0):\n",
    "            converation_date = converation_date.values[0]\n",
    "        else:\n",
    "            converation_date = \"NaN\"\n",
    "            \n",
    "        date.append(converation_date)\n",
    "\n",
    "        # find the next tweet in the conversation\n",
    "        temp_in_response = df[df['tweet_id'] == float(found_response_tweet)]['in_response_to_tweet_id']\n",
    "\n",
    "        if (len(temp_in_response) > 0):\n",
    "            temp_in_response = temp_in_response.values[0]\n",
    "        else:\n",
    "            temp_in_response = \"NaN\"\n",
    "\n",
    "        found_response_tweet = str(temp_in_response).split('.')[0]\n",
    "\n",
    "    return conversation, conversation_counter, date"
   ]
  },
  {
   "cell_type": "markdown",
   "metadata": {},
   "source": [
    "Confirm the function works as expected before running on the entire dataframe"
   ]
  },
  {
   "cell_type": "code",
   "execution_count": 95,
   "metadata": {},
   "outputs": [
    {
     "name": "stdout",
     "output_type": "stream",
     "text": [
      "('@115712 I would love the chance to review the account and provide assistance.\\n@sprintcare is the worst customer service\\n', 2, ['Tue Oct 31 21:46:14 +0000 2017', 'Tue Oct 31 21:45:10 +0000 2017'])\n"
     ]
    }
   ],
   "source": [
    "test_conv = getAllConversation('9')\n",
    "print(test_conv)"
   ]
  },
  {
   "cell_type": "code",
   "execution_count": 96,
   "metadata": {},
   "outputs": [
    {
     "name": "stdout",
     "output_type": "stream",
     "text": [
      "(\"@115715 Please send me a private message so that I can send you the link to access your account. -FR\\n@115714 whenever I contact customer support, they tell me I have shortcode enabled on my account, but I have never in the 4 years I've tried https://t.co/0G98RtNxPK\\n\", 2, ['Tue Oct 31 22:10:10 +0000 2017', 'Tue Oct 31 22:03:34 +0000 2017'])\n"
     ]
    }
   ],
   "source": [
    "test_conv = getAllConversation('19,10,8')\n",
    "print(test_conv)"
   ]
  },
  {
   "cell_type": "code",
   "execution_count": 97,
   "metadata": {},
   "outputs": [
    {
     "name": "stdout",
     "output_type": "stream",
     "text": [
      "(\"@115729 I'm so sorry about that. Please tell us more so we can help: https://t.co/Ax7W1Dx3Y9 -Becky\\n@ChipotleTweets messed up today and didn’t give me my $3 burrito although I was dressed up 😭\\n\", 2, ['Tue Oct 31 22:14:00 +0000 2017', 'Tue Oct 31 22:03:32 +0000 2017'])\n"
     ]
    }
   ],
   "source": [
    "test_conv = getAllConversation(68)\n",
    "print(test_conv)"
   ]
  },
  {
   "cell_type": "code",
   "execution_count": 98,
   "metadata": {},
   "outputs": [
    {
     "name": "stdout",
     "output_type": "stream",
     "text": [
      "('', 0, [])\n"
     ]
    }
   ],
   "source": [
    "test_conv = getAllConversation(\"NaN\")\n",
    "print(test_conv)"
   ]
  },
  {
   "cell_type": "markdown",
   "metadata": {},
   "source": [
    "Create a new column with all the converations, end date, and conversation count"
   ]
  },
  {
   "cell_type": "code",
   "execution_count": 99,
   "metadata": {},
   "outputs": [],
   "source": [
    "support_conversations_df = single_reponse_tweet_df.copy()"
   ]
  },
  {
   "cell_type": "code",
   "execution_count": 100,
   "metadata": {},
   "outputs": [
    {
     "data": {
      "text/html": [
       "<div>\n",
       "<style scoped>\n",
       "    .dataframe tbody tr th:only-of-type {\n",
       "        vertical-align: middle;\n",
       "    }\n",
       "\n",
       "    .dataframe tbody tr th {\n",
       "        vertical-align: top;\n",
       "    }\n",
       "\n",
       "    .dataframe thead th {\n",
       "        text-align: right;\n",
       "    }\n",
       "</style>\n",
       "<table border=\"1\" class=\"dataframe\">\n",
       "  <thead>\n",
       "    <tr style=\"text-align: right;\">\n",
       "      <th></th>\n",
       "      <th>tweet_id</th>\n",
       "      <th>author_id</th>\n",
       "      <th>inbound</th>\n",
       "      <th>created_at</th>\n",
       "      <th>text</th>\n",
       "      <th>response_tweet_id</th>\n",
       "      <th>in_response_to_tweet_id</th>\n",
       "      <th>support_team</th>\n",
       "    </tr>\n",
       "  </thead>\n",
       "  <tbody>\n",
       "    <tr>\n",
       "      <th>0</th>\n",
       "      <td>18</td>\n",
       "      <td>115713</td>\n",
       "      <td>True</td>\n",
       "      <td>Tue Oct 31 19:56:01 +0000 2017</td>\n",
       "      <td>@115714 y’all lie about your “great” connectio...</td>\n",
       "      <td>17</td>\n",
       "      <td>NaN</td>\n",
       "      <td>sprintcare</td>\n",
       "    </tr>\n",
       "    <tr>\n",
       "      <th>1</th>\n",
       "      <td>20</td>\n",
       "      <td>115715</td>\n",
       "      <td>True</td>\n",
       "      <td>Tue Oct 31 22:03:34 +0000 2017</td>\n",
       "      <td>@115714 whenever I contact customer support, t...</td>\n",
       "      <td>19</td>\n",
       "      <td>NaN</td>\n",
       "      <td>sprintcare</td>\n",
       "    </tr>\n",
       "    <tr>\n",
       "      <th>2</th>\n",
       "      <td>29</td>\n",
       "      <td>115716</td>\n",
       "      <td>True</td>\n",
       "      <td>Tue Oct 31 22:01:35 +0000 2017</td>\n",
       "      <td>actually that's a broken link you sent me and ...</td>\n",
       "      <td>28</td>\n",
       "      <td>NaN</td>\n",
       "      <td>Ask_Spectrum</td>\n",
       "    </tr>\n",
       "    <tr>\n",
       "      <th>3</th>\n",
       "      <td>31</td>\n",
       "      <td>115717</td>\n",
       "      <td>True</td>\n",
       "      <td>Tue Oct 31 22:06:54 +0000 2017</td>\n",
       "      <td>Yo @Ask_Spectrum, your customer service reps a...</td>\n",
       "      <td>30</td>\n",
       "      <td>NaN</td>\n",
       "      <td>Ask_Spectrum</td>\n",
       "    </tr>\n",
       "    <tr>\n",
       "      <th>4</th>\n",
       "      <td>33</td>\n",
       "      <td>115718</td>\n",
       "      <td>True</td>\n",
       "      <td>Tue Oct 31 22:06:56 +0000 2017</td>\n",
       "      <td>My picture on @Ask_Spectrum pretty much every ...</td>\n",
       "      <td>32</td>\n",
       "      <td>NaN</td>\n",
       "      <td>Ask_Spectrum</td>\n",
       "    </tr>\n",
       "  </tbody>\n",
       "</table>\n",
       "</div>"
      ],
      "text/plain": [
       "  tweet_id author_id inbound                      created_at  \\\n",
       "0       18    115713    True  Tue Oct 31 19:56:01 +0000 2017   \n",
       "1       20    115715    True  Tue Oct 31 22:03:34 +0000 2017   \n",
       "2       29    115716    True  Tue Oct 31 22:01:35 +0000 2017   \n",
       "3       31    115717    True  Tue Oct 31 22:06:54 +0000 2017   \n",
       "4       33    115718    True  Tue Oct 31 22:06:56 +0000 2017   \n",
       "\n",
       "                                                text response_tweet_id  \\\n",
       "0  @115714 y’all lie about your “great” connectio...                17   \n",
       "1  @115714 whenever I contact customer support, t...                19   \n",
       "2  actually that's a broken link you sent me and ...                28   \n",
       "3  Yo @Ask_Spectrum, your customer service reps a...                30   \n",
       "4  My picture on @Ask_Spectrum pretty much every ...                32   \n",
       "\n",
       "  in_response_to_tweet_id  support_team  \n",
       "0                     NaN    sprintcare  \n",
       "1                     NaN    sprintcare  \n",
       "2                     NaN  Ask_Spectrum  \n",
       "3                     NaN  Ask_Spectrum  \n",
       "4                     NaN  Ask_Spectrum  "
      ]
     },
     "execution_count": 100,
     "metadata": {},
     "output_type": "execute_result"
    }
   ],
   "source": [
    "support_conversations_df.head()"
   ]
  },
  {
   "cell_type": "markdown",
   "metadata": {},
   "source": [
    "Test out the funtion in a dataframe"
   ]
  },
  {
   "cell_type": "code",
   "execution_count": 101,
   "metadata": {},
   "outputs": [],
   "source": [
    "test_df = support_conversations_df.copy()"
   ]
  },
  {
   "cell_type": "code",
   "execution_count": 102,
   "metadata": {},
   "outputs": [],
   "source": [
    "test_df = test_df.iloc[:100]"
   ]
  },
  {
   "cell_type": "code",
   "execution_count": 103,
   "metadata": {},
   "outputs": [
    {
     "data": {
      "text/html": [
       "<div>\n",
       "<style scoped>\n",
       "    .dataframe tbody tr th:only-of-type {\n",
       "        vertical-align: middle;\n",
       "    }\n",
       "\n",
       "    .dataframe tbody tr th {\n",
       "        vertical-align: top;\n",
       "    }\n",
       "\n",
       "    .dataframe thead th {\n",
       "        text-align: right;\n",
       "    }\n",
       "</style>\n",
       "<table border=\"1\" class=\"dataframe\">\n",
       "  <thead>\n",
       "    <tr style=\"text-align: right;\">\n",
       "      <th></th>\n",
       "      <th>tweet_id</th>\n",
       "      <th>author_id</th>\n",
       "      <th>inbound</th>\n",
       "      <th>created_at</th>\n",
       "      <th>text</th>\n",
       "      <th>response_tweet_id</th>\n",
       "      <th>in_response_to_tweet_id</th>\n",
       "      <th>support_team</th>\n",
       "    </tr>\n",
       "  </thead>\n",
       "  <tbody>\n",
       "    <tr>\n",
       "      <th>0</th>\n",
       "      <td>18</td>\n",
       "      <td>115713</td>\n",
       "      <td>True</td>\n",
       "      <td>Tue Oct 31 19:56:01 +0000 2017</td>\n",
       "      <td>@115714 y’all lie about your “great” connectio...</td>\n",
       "      <td>17</td>\n",
       "      <td>NaN</td>\n",
       "      <td>sprintcare</td>\n",
       "    </tr>\n",
       "    <tr>\n",
       "      <th>1</th>\n",
       "      <td>20</td>\n",
       "      <td>115715</td>\n",
       "      <td>True</td>\n",
       "      <td>Tue Oct 31 22:03:34 +0000 2017</td>\n",
       "      <td>@115714 whenever I contact customer support, t...</td>\n",
       "      <td>19</td>\n",
       "      <td>NaN</td>\n",
       "      <td>sprintcare</td>\n",
       "    </tr>\n",
       "    <tr>\n",
       "      <th>2</th>\n",
       "      <td>29</td>\n",
       "      <td>115716</td>\n",
       "      <td>True</td>\n",
       "      <td>Tue Oct 31 22:01:35 +0000 2017</td>\n",
       "      <td>actually that's a broken link you sent me and ...</td>\n",
       "      <td>28</td>\n",
       "      <td>NaN</td>\n",
       "      <td>Ask_Spectrum</td>\n",
       "    </tr>\n",
       "    <tr>\n",
       "      <th>3</th>\n",
       "      <td>31</td>\n",
       "      <td>115717</td>\n",
       "      <td>True</td>\n",
       "      <td>Tue Oct 31 22:06:54 +0000 2017</td>\n",
       "      <td>Yo @Ask_Spectrum, your customer service reps a...</td>\n",
       "      <td>30</td>\n",
       "      <td>NaN</td>\n",
       "      <td>Ask_Spectrum</td>\n",
       "    </tr>\n",
       "    <tr>\n",
       "      <th>4</th>\n",
       "      <td>33</td>\n",
       "      <td>115718</td>\n",
       "      <td>True</td>\n",
       "      <td>Tue Oct 31 22:06:56 +0000 2017</td>\n",
       "      <td>My picture on @Ask_Spectrum pretty much every ...</td>\n",
       "      <td>32</td>\n",
       "      <td>NaN</td>\n",
       "      <td>Ask_Spectrum</td>\n",
       "    </tr>\n",
       "  </tbody>\n",
       "</table>\n",
       "</div>"
      ],
      "text/plain": [
       "  tweet_id author_id inbound                      created_at  \\\n",
       "0       18    115713    True  Tue Oct 31 19:56:01 +0000 2017   \n",
       "1       20    115715    True  Tue Oct 31 22:03:34 +0000 2017   \n",
       "2       29    115716    True  Tue Oct 31 22:01:35 +0000 2017   \n",
       "3       31    115717    True  Tue Oct 31 22:06:54 +0000 2017   \n",
       "4       33    115718    True  Tue Oct 31 22:06:56 +0000 2017   \n",
       "\n",
       "                                                text response_tweet_id  \\\n",
       "0  @115714 y’all lie about your “great” connectio...                17   \n",
       "1  @115714 whenever I contact customer support, t...                19   \n",
       "2  actually that's a broken link you sent me and ...                28   \n",
       "3  Yo @Ask_Spectrum, your customer service reps a...                30   \n",
       "4  My picture on @Ask_Spectrum pretty much every ...                32   \n",
       "\n",
       "  in_response_to_tweet_id  support_team  \n",
       "0                     NaN    sprintcare  \n",
       "1                     NaN    sprintcare  \n",
       "2                     NaN  Ask_Spectrum  \n",
       "3                     NaN  Ask_Spectrum  \n",
       "4                     NaN  Ask_Spectrum  "
      ]
     },
     "execution_count": 103,
     "metadata": {},
     "output_type": "execute_result"
    }
   ],
   "source": [
    "test_df.head()"
   ]
  },
  {
   "cell_type": "code",
   "execution_count": 104,
   "metadata": {},
   "outputs": [],
   "source": [
    "test_df[['conv', 'count', 'conv_date']] = test_df.apply(lambda x: getAllConversation(x['response_tweet_id']), axis=1, result_type='expand')"
   ]
  },
  {
   "cell_type": "code",
   "execution_count": 105,
   "metadata": {},
   "outputs": [
    {
     "data": {
      "text/html": [
       "<div>\n",
       "<style scoped>\n",
       "    .dataframe tbody tr th:only-of-type {\n",
       "        vertical-align: middle;\n",
       "    }\n",
       "\n",
       "    .dataframe tbody tr th {\n",
       "        vertical-align: top;\n",
       "    }\n",
       "\n",
       "    .dataframe thead th {\n",
       "        text-align: right;\n",
       "    }\n",
       "</style>\n",
       "<table border=\"1\" class=\"dataframe\">\n",
       "  <thead>\n",
       "    <tr style=\"text-align: right;\">\n",
       "      <th></th>\n",
       "      <th>tweet_id</th>\n",
       "      <th>author_id</th>\n",
       "      <th>inbound</th>\n",
       "      <th>created_at</th>\n",
       "      <th>text</th>\n",
       "      <th>response_tweet_id</th>\n",
       "      <th>in_response_to_tweet_id</th>\n",
       "      <th>support_team</th>\n",
       "      <th>conv</th>\n",
       "      <th>count</th>\n",
       "      <th>conv_date</th>\n",
       "    </tr>\n",
       "  </thead>\n",
       "  <tbody>\n",
       "    <tr>\n",
       "      <th>0</th>\n",
       "      <td>18</td>\n",
       "      <td>115713</td>\n",
       "      <td>True</td>\n",
       "      <td>Tue Oct 31 19:56:01 +0000 2017</td>\n",
       "      <td>@115714 y’all lie about your “great” connectio...</td>\n",
       "      <td>17</td>\n",
       "      <td>NaN</td>\n",
       "      <td>sprintcare</td>\n",
       "      <td>@115713 H there! We'd definitely like to work ...</td>\n",
       "      <td>2</td>\n",
       "      <td>[Tue Oct 31 19:59:13 +0000 2017, Tue Oct 31 19...</td>\n",
       "    </tr>\n",
       "    <tr>\n",
       "      <th>1</th>\n",
       "      <td>20</td>\n",
       "      <td>115715</td>\n",
       "      <td>True</td>\n",
       "      <td>Tue Oct 31 22:03:34 +0000 2017</td>\n",
       "      <td>@115714 whenever I contact customer support, t...</td>\n",
       "      <td>19</td>\n",
       "      <td>NaN</td>\n",
       "      <td>sprintcare</td>\n",
       "      <td>@115715 Please send me a private message so th...</td>\n",
       "      <td>2</td>\n",
       "      <td>[Tue Oct 31 22:10:10 +0000 2017, Tue Oct 31 22...</td>\n",
       "    </tr>\n",
       "    <tr>\n",
       "      <th>2</th>\n",
       "      <td>29</td>\n",
       "      <td>115716</td>\n",
       "      <td>True</td>\n",
       "      <td>Tue Oct 31 22:01:35 +0000 2017</td>\n",
       "      <td>actually that's a broken link you sent me and ...</td>\n",
       "      <td>28</td>\n",
       "      <td>NaN</td>\n",
       "      <td>Ask_Spectrum</td>\n",
       "      <td>@115716 The information pertaining to the acco...</td>\n",
       "      <td>2</td>\n",
       "      <td>[Tue Oct 31 22:05:37 +0000 2017, Tue Oct 31 22...</td>\n",
       "    </tr>\n",
       "    <tr>\n",
       "      <th>3</th>\n",
       "      <td>31</td>\n",
       "      <td>115717</td>\n",
       "      <td>True</td>\n",
       "      <td>Tue Oct 31 22:06:54 +0000 2017</td>\n",
       "      <td>Yo @Ask_Spectrum, your customer service reps a...</td>\n",
       "      <td>30</td>\n",
       "      <td>NaN</td>\n",
       "      <td>Ask_Spectrum</td>\n",
       "      <td>@115717 Hello, My apologies for any frustratio...</td>\n",
       "      <td>2</td>\n",
       "      <td>[Tue Oct 31 22:12:09 +0000 2017, Tue Oct 31 22...</td>\n",
       "    </tr>\n",
       "    <tr>\n",
       "      <th>4</th>\n",
       "      <td>33</td>\n",
       "      <td>115718</td>\n",
       "      <td>True</td>\n",
       "      <td>Tue Oct 31 22:06:56 +0000 2017</td>\n",
       "      <td>My picture on @Ask_Spectrum pretty much every ...</td>\n",
       "      <td>32</td>\n",
       "      <td>NaN</td>\n",
       "      <td>Ask_Spectrum</td>\n",
       "      <td>@115718 I apologize for the inconvenience. I w...</td>\n",
       "      <td>2</td>\n",
       "      <td>[Tue Oct 31 22:10:08 +0000 2017, Tue Oct 31 22...</td>\n",
       "    </tr>\n",
       "  </tbody>\n",
       "</table>\n",
       "</div>"
      ],
      "text/plain": [
       "  tweet_id author_id inbound                      created_at  \\\n",
       "0       18    115713    True  Tue Oct 31 19:56:01 +0000 2017   \n",
       "1       20    115715    True  Tue Oct 31 22:03:34 +0000 2017   \n",
       "2       29    115716    True  Tue Oct 31 22:01:35 +0000 2017   \n",
       "3       31    115717    True  Tue Oct 31 22:06:54 +0000 2017   \n",
       "4       33    115718    True  Tue Oct 31 22:06:56 +0000 2017   \n",
       "\n",
       "                                                text response_tweet_id  \\\n",
       "0  @115714 y’all lie about your “great” connectio...                17   \n",
       "1  @115714 whenever I contact customer support, t...                19   \n",
       "2  actually that's a broken link you sent me and ...                28   \n",
       "3  Yo @Ask_Spectrum, your customer service reps a...                30   \n",
       "4  My picture on @Ask_Spectrum pretty much every ...                32   \n",
       "\n",
       "  in_response_to_tweet_id  support_team  \\\n",
       "0                     NaN    sprintcare   \n",
       "1                     NaN    sprintcare   \n",
       "2                     NaN  Ask_Spectrum   \n",
       "3                     NaN  Ask_Spectrum   \n",
       "4                     NaN  Ask_Spectrum   \n",
       "\n",
       "                                                conv  count  \\\n",
       "0  @115713 H there! We'd definitely like to work ...      2   \n",
       "1  @115715 Please send me a private message so th...      2   \n",
       "2  @115716 The information pertaining to the acco...      2   \n",
       "3  @115717 Hello, My apologies for any frustratio...      2   \n",
       "4  @115718 I apologize for the inconvenience. I w...      2   \n",
       "\n",
       "                                           conv_date  \n",
       "0  [Tue Oct 31 19:59:13 +0000 2017, Tue Oct 31 19...  \n",
       "1  [Tue Oct 31 22:10:10 +0000 2017, Tue Oct 31 22...  \n",
       "2  [Tue Oct 31 22:05:37 +0000 2017, Tue Oct 31 22...  \n",
       "3  [Tue Oct 31 22:12:09 +0000 2017, Tue Oct 31 22...  \n",
       "4  [Tue Oct 31 22:10:08 +0000 2017, Tue Oct 31 22...  "
      ]
     },
     "execution_count": 105,
     "metadata": {},
     "output_type": "execute_result"
    }
   ],
   "source": [
    "test_df.head()"
   ]
  },
  {
   "cell_type": "code",
   "execution_count": 106,
   "metadata": {},
   "outputs": [
    {
     "data": {
      "text/plain": [
       "tweet_id                                                                  18\n",
       "author_id                                                             115713\n",
       "inbound                                                                 True\n",
       "created_at                                    Tue Oct 31 19:56:01 +0000 2017\n",
       "text                       @115714 y’all lie about your “great” connectio...\n",
       "response_tweet_id                                                         17\n",
       "in_response_to_tweet_id                                                  NaN\n",
       "support_team                                                      sprintcare\n",
       "conv                       @115713 H there! We'd definitely like to work ...\n",
       "count                                                                      2\n",
       "conv_date                  [Tue Oct 31 19:59:13 +0000 2017, Tue Oct 31 19...\n",
       "Name: 0, dtype: object"
      ]
     },
     "execution_count": 106,
     "metadata": {},
     "output_type": "execute_result"
    }
   ],
   "source": [
    "test_df.iloc[0]"
   ]
  },
  {
   "cell_type": "markdown",
   "metadata": {},
   "source": [
    "Preform the function across the entire dataframe"
   ]
  },
  {
   "cell_type": "markdown",
   "metadata": {},
   "source": [
    "Creaete a new column called convesration to store the remaining text into a single column.\n",
    "\n",
    "We can use just the initial comment for training or group together the entire support message. Ideally we will want the inital support as the conversation gives additonal context the support agent does not have yet."
   ]
  },
  {
   "cell_type": "markdown",
   "metadata": {},
   "source": [
    "Create a new column called \"comment count\" to capture the number comment each support ticket generates. \n",
    "\n",
    "We will need this to determine how long the agent is working each ticket."
   ]
  },
  {
   "cell_type": "markdown",
   "metadata": {},
   "source": [
    "Create a new column \"date_completed\" to capture when the ticket was \"completed\" (at least publicly in the tweet / x space).\n",
    "\n",
    "We will also have the ability to calulate the mean time to resolve each support request"
   ]
  },
  {
   "cell_type": "code",
   "execution_count": 107,
   "metadata": {},
   "outputs": [],
   "source": [
    "support_conversations_df[['conversation', 'conversation_count', 'conversation_dates']] = support_conversations_df.apply(lambda x: getAllConversation(x['response_tweet_id']), axis=1, result_type='expand')"
   ]
  },
  {
   "cell_type": "code",
   "execution_count": 108,
   "metadata": {},
   "outputs": [
    {
     "data": {
      "text/html": [
       "<div>\n",
       "<style scoped>\n",
       "    .dataframe tbody tr th:only-of-type {\n",
       "        vertical-align: middle;\n",
       "    }\n",
       "\n",
       "    .dataframe tbody tr th {\n",
       "        vertical-align: top;\n",
       "    }\n",
       "\n",
       "    .dataframe thead th {\n",
       "        text-align: right;\n",
       "    }\n",
       "</style>\n",
       "<table border=\"1\" class=\"dataframe\">\n",
       "  <thead>\n",
       "    <tr style=\"text-align: right;\">\n",
       "      <th></th>\n",
       "      <th>tweet_id</th>\n",
       "      <th>author_id</th>\n",
       "      <th>inbound</th>\n",
       "      <th>created_at</th>\n",
       "      <th>text</th>\n",
       "      <th>response_tweet_id</th>\n",
       "      <th>in_response_to_tweet_id</th>\n",
       "      <th>support_team</th>\n",
       "      <th>conversation</th>\n",
       "      <th>conversation_count</th>\n",
       "      <th>conversation_dates</th>\n",
       "    </tr>\n",
       "  </thead>\n",
       "  <tbody>\n",
       "    <tr>\n",
       "      <th>0</th>\n",
       "      <td>18</td>\n",
       "      <td>115713</td>\n",
       "      <td>True</td>\n",
       "      <td>Tue Oct 31 19:56:01 +0000 2017</td>\n",
       "      <td>@115714 y’all lie about your “great” connectio...</td>\n",
       "      <td>17</td>\n",
       "      <td>NaN</td>\n",
       "      <td>sprintcare</td>\n",
       "      <td>@115713 H there! We'd definitely like to work ...</td>\n",
       "      <td>2</td>\n",
       "      <td>[Tue Oct 31 19:59:13 +0000 2017, Tue Oct 31 19...</td>\n",
       "    </tr>\n",
       "    <tr>\n",
       "      <th>1</th>\n",
       "      <td>20</td>\n",
       "      <td>115715</td>\n",
       "      <td>True</td>\n",
       "      <td>Tue Oct 31 22:03:34 +0000 2017</td>\n",
       "      <td>@115714 whenever I contact customer support, t...</td>\n",
       "      <td>19</td>\n",
       "      <td>NaN</td>\n",
       "      <td>sprintcare</td>\n",
       "      <td>@115715 Please send me a private message so th...</td>\n",
       "      <td>2</td>\n",
       "      <td>[Tue Oct 31 22:10:10 +0000 2017, Tue Oct 31 22...</td>\n",
       "    </tr>\n",
       "    <tr>\n",
       "      <th>2</th>\n",
       "      <td>29</td>\n",
       "      <td>115716</td>\n",
       "      <td>True</td>\n",
       "      <td>Tue Oct 31 22:01:35 +0000 2017</td>\n",
       "      <td>actually that's a broken link you sent me and ...</td>\n",
       "      <td>28</td>\n",
       "      <td>NaN</td>\n",
       "      <td>Ask_Spectrum</td>\n",
       "      <td>@115716 The information pertaining to the acco...</td>\n",
       "      <td>2</td>\n",
       "      <td>[Tue Oct 31 22:05:37 +0000 2017, Tue Oct 31 22...</td>\n",
       "    </tr>\n",
       "    <tr>\n",
       "      <th>3</th>\n",
       "      <td>31</td>\n",
       "      <td>115717</td>\n",
       "      <td>True</td>\n",
       "      <td>Tue Oct 31 22:06:54 +0000 2017</td>\n",
       "      <td>Yo @Ask_Spectrum, your customer service reps a...</td>\n",
       "      <td>30</td>\n",
       "      <td>NaN</td>\n",
       "      <td>Ask_Spectrum</td>\n",
       "      <td>@115717 Hello, My apologies for any frustratio...</td>\n",
       "      <td>2</td>\n",
       "      <td>[Tue Oct 31 22:12:09 +0000 2017, Tue Oct 31 22...</td>\n",
       "    </tr>\n",
       "    <tr>\n",
       "      <th>4</th>\n",
       "      <td>33</td>\n",
       "      <td>115718</td>\n",
       "      <td>True</td>\n",
       "      <td>Tue Oct 31 22:06:56 +0000 2017</td>\n",
       "      <td>My picture on @Ask_Spectrum pretty much every ...</td>\n",
       "      <td>32</td>\n",
       "      <td>NaN</td>\n",
       "      <td>Ask_Spectrum</td>\n",
       "      <td>@115718 I apologize for the inconvenience. I w...</td>\n",
       "      <td>2</td>\n",
       "      <td>[Tue Oct 31 22:10:08 +0000 2017, Tue Oct 31 22...</td>\n",
       "    </tr>\n",
       "    <tr>\n",
       "      <th>5</th>\n",
       "      <td>36</td>\n",
       "      <td>115719</td>\n",
       "      <td>True</td>\n",
       "      <td>Tue Oct 31 22:10:46 +0000 2017</td>\n",
       "      <td>somebody from @VerizonSupport please help meee...</td>\n",
       "      <td>34</td>\n",
       "      <td>NaN</td>\n",
       "      <td>VerizonSupport</td>\n",
       "      <td>@115719 Help has arrived! We are sorry to see ...</td>\n",
       "      <td>2</td>\n",
       "      <td>[Tue Oct 31 22:13:33 +0000 2017, Tue Oct 31 22...</td>\n",
       "    </tr>\n",
       "    <tr>\n",
       "      <th>6</th>\n",
       "      <td>39</td>\n",
       "      <td>115720</td>\n",
       "      <td>True</td>\n",
       "      <td>Tue Oct 31 22:12:16 +0000 2017</td>\n",
       "      <td>@VerizonSupport My friend is without internet ...</td>\n",
       "      <td>38</td>\n",
       "      <td>NaN</td>\n",
       "      <td>VerizonSupport</td>\n",
       "      <td>@115720 Have your friend message us.\\n^ACM\\n@V...</td>\n",
       "      <td>2</td>\n",
       "      <td>[Tue Oct 31 22:13:30 +0000 2017, Tue Oct 31 22...</td>\n",
       "    </tr>\n",
       "    <tr>\n",
       "      <th>7</th>\n",
       "      <td>49</td>\n",
       "      <td>115721</td>\n",
       "      <td>True</td>\n",
       "      <td>Tue Oct 31 21:42:09 +0000 2017</td>\n",
       "      <td>@115722 tried to pay a bill for 60 days. No se...</td>\n",
       "      <td>48</td>\n",
       "      <td>NaN</td>\n",
       "      <td>115722</td>\n",
       "      <td>@115721 Are you referring to wireless or resid...</td>\n",
       "      <td>2</td>\n",
       "      <td>[Tue Oct 31 21:49:31 +0000 2017, Tue Oct 31 21...</td>\n",
       "    </tr>\n",
       "    <tr>\n",
       "      <th>8</th>\n",
       "      <td>59</td>\n",
       "      <td>115723</td>\n",
       "      <td>True</td>\n",
       "      <td>Tue Oct 31 19:54:51 +0000 2017</td>\n",
       "      <td>@115722 is the worst ISP I’ve ever had</td>\n",
       "      <td>58</td>\n",
       "      <td>NaN</td>\n",
       "      <td>VerizonSupport</td>\n",
       "      <td>@115723 What did we do to make you feel this w...</td>\n",
       "      <td>2</td>\n",
       "      <td>[Tue Oct 31 19:57:30 +0000 2017, Tue Oct 31 19...</td>\n",
       "    </tr>\n",
       "    <tr>\n",
       "      <th>9</th>\n",
       "      <td>61</td>\n",
       "      <td>115724</td>\n",
       "      <td>True</td>\n",
       "      <td>Tue Oct 31 22:00:36 +0000 2017</td>\n",
       "      <td>.@VerizonSupport @115725 @115726              ...</td>\n",
       "      <td>60</td>\n",
       "      <td>NaN</td>\n",
       "      <td>VerizonSupport</td>\n",
       "      <td>@115724 In what area are you located? All of y...</td>\n",
       "      <td>2</td>\n",
       "      <td>[Tue Oct 31 22:04:29 +0000 2017, Tue Oct 31 22...</td>\n",
       "    </tr>\n",
       "  </tbody>\n",
       "</table>\n",
       "</div>"
      ],
      "text/plain": [
       "  tweet_id author_id inbound                      created_at  \\\n",
       "0       18    115713    True  Tue Oct 31 19:56:01 +0000 2017   \n",
       "1       20    115715    True  Tue Oct 31 22:03:34 +0000 2017   \n",
       "2       29    115716    True  Tue Oct 31 22:01:35 +0000 2017   \n",
       "3       31    115717    True  Tue Oct 31 22:06:54 +0000 2017   \n",
       "4       33    115718    True  Tue Oct 31 22:06:56 +0000 2017   \n",
       "5       36    115719    True  Tue Oct 31 22:10:46 +0000 2017   \n",
       "6       39    115720    True  Tue Oct 31 22:12:16 +0000 2017   \n",
       "7       49    115721    True  Tue Oct 31 21:42:09 +0000 2017   \n",
       "8       59    115723    True  Tue Oct 31 19:54:51 +0000 2017   \n",
       "9       61    115724    True  Tue Oct 31 22:00:36 +0000 2017   \n",
       "\n",
       "                                                text response_tweet_id  \\\n",
       "0  @115714 y’all lie about your “great” connectio...                17   \n",
       "1  @115714 whenever I contact customer support, t...                19   \n",
       "2  actually that's a broken link you sent me and ...                28   \n",
       "3  Yo @Ask_Spectrum, your customer service reps a...                30   \n",
       "4  My picture on @Ask_Spectrum pretty much every ...                32   \n",
       "5  somebody from @VerizonSupport please help meee...                34   \n",
       "6  @VerizonSupport My friend is without internet ...                38   \n",
       "7  @115722 tried to pay a bill for 60 days. No se...                48   \n",
       "8             @115722 is the worst ISP I’ve ever had                58   \n",
       "9  .@VerizonSupport @115725 @115726              ...                60   \n",
       "\n",
       "  in_response_to_tweet_id    support_team  \\\n",
       "0                     NaN      sprintcare   \n",
       "1                     NaN      sprintcare   \n",
       "2                     NaN    Ask_Spectrum   \n",
       "3                     NaN    Ask_Spectrum   \n",
       "4                     NaN    Ask_Spectrum   \n",
       "5                     NaN  VerizonSupport   \n",
       "6                     NaN  VerizonSupport   \n",
       "7                     NaN          115722   \n",
       "8                     NaN  VerizonSupport   \n",
       "9                     NaN  VerizonSupport   \n",
       "\n",
       "                                        conversation  conversation_count  \\\n",
       "0  @115713 H there! We'd definitely like to work ...                   2   \n",
       "1  @115715 Please send me a private message so th...                   2   \n",
       "2  @115716 The information pertaining to the acco...                   2   \n",
       "3  @115717 Hello, My apologies for any frustratio...                   2   \n",
       "4  @115718 I apologize for the inconvenience. I w...                   2   \n",
       "5  @115719 Help has arrived! We are sorry to see ...                   2   \n",
       "6  @115720 Have your friend message us.\\n^ACM\\n@V...                   2   \n",
       "7  @115721 Are you referring to wireless or resid...                   2   \n",
       "8  @115723 What did we do to make you feel this w...                   2   \n",
       "9  @115724 In what area are you located? All of y...                   2   \n",
       "\n",
       "                                  conversation_dates  \n",
       "0  [Tue Oct 31 19:59:13 +0000 2017, Tue Oct 31 19...  \n",
       "1  [Tue Oct 31 22:10:10 +0000 2017, Tue Oct 31 22...  \n",
       "2  [Tue Oct 31 22:05:37 +0000 2017, Tue Oct 31 22...  \n",
       "3  [Tue Oct 31 22:12:09 +0000 2017, Tue Oct 31 22...  \n",
       "4  [Tue Oct 31 22:10:08 +0000 2017, Tue Oct 31 22...  \n",
       "5  [Tue Oct 31 22:13:33 +0000 2017, Tue Oct 31 22...  \n",
       "6  [Tue Oct 31 22:13:30 +0000 2017, Tue Oct 31 22...  \n",
       "7  [Tue Oct 31 21:49:31 +0000 2017, Tue Oct 31 21...  \n",
       "8  [Tue Oct 31 19:57:30 +0000 2017, Tue Oct 31 19...  \n",
       "9  [Tue Oct 31 22:04:29 +0000 2017, Tue Oct 31 22...  "
      ]
     },
     "execution_count": 108,
     "metadata": {},
     "output_type": "execute_result"
    }
   ],
   "source": [
    "support_conversations_df.head(10)"
   ]
  },
  {
   "cell_type": "code",
   "execution_count": 109,
   "metadata": {},
   "outputs": [
    {
     "data": {
      "text/plain": [
       "tweet_id                                                                  18\n",
       "author_id                                                             115713\n",
       "inbound                                                                 True\n",
       "created_at                                    Tue Oct 31 19:56:01 +0000 2017\n",
       "text                       @115714 y’all lie about your “great” connectio...\n",
       "response_tweet_id                                                         17\n",
       "in_response_to_tweet_id                                                  NaN\n",
       "support_team                                                      sprintcare\n",
       "conversation               @115713 H there! We'd definitely like to work ...\n",
       "conversation_count                                                         2\n",
       "conversation_dates         [Tue Oct 31 19:59:13 +0000 2017, Tue Oct 31 19...\n",
       "Name: 0, dtype: object"
      ]
     },
     "execution_count": 109,
     "metadata": {},
     "output_type": "execute_result"
    }
   ],
   "source": [
    "support_conversations_df.iloc[0]"
   ]
  },
  {
   "cell_type": "code",
   "execution_count": 110,
   "metadata": {},
   "outputs": [
    {
     "name": "stdout",
     "output_type": "stream",
     "text": [
      "@115713 H there! We'd definitely like to work with you on this, how long have you been experiencing this issue? -AA\n",
      "@115714 y’all lie about your “great” connection. 5 bars LTE, still won’t load something. Smh.\n",
      "\n"
     ]
    }
   ],
   "source": [
    "print(support_conversations_df['conversation'].iloc[0])"
   ]
  },
  {
   "cell_type": "markdown",
   "metadata": {},
   "source": [
    "Check to see what the max amount of the conversation per support ticket"
   ]
  },
  {
   "cell_type": "code",
   "execution_count": 111,
   "metadata": {},
   "outputs": [
    {
     "name": "stdout",
     "output_type": "stream",
     "text": [
      "max number of comments per support ticket 2\n"
     ]
    }
   ],
   "source": [
    "print(f\"max number of comments per support ticket {support_conversations_df['conversation_count'].max()}\")"
   ]
  },
  {
   "cell_type": "markdown",
   "metadata": {},
   "source": [
    "See where the distrubution of each support ticket"
   ]
  },
  {
   "cell_type": "code",
   "execution_count": 112,
   "metadata": {},
   "outputs": [
    {
     "data": {
      "text/plain": [
       "Text(0, 0.5, 'Count')"
      ]
     },
     "execution_count": 112,
     "metadata": {},
     "output_type": "execute_result"
    },
    {
     "data": {
      "image/png": "[encoded data removed]",
      "text/plain": [
       "<Figure size 640x480 with 1 Axes>"
      ]
     },
     "metadata": {},
     "output_type": "display_data"
    }
   ],
   "source": [
    "plt.violinplot(support_conversations_df['conversation_count'])\n",
    "plt.title(\"Number of comments distrubution\")\n",
    "plt.ylabel(\"Count\")"
   ]
  },
  {
   "cell_type": "markdown",
   "metadata": {},
   "source": [
    "#### Date Resolved\n",
    "\n",
    "Because conversation dates is a collection of all of the dates used. We need to add an additonal columns for the date resolved"
   ]
  },
  {
   "cell_type": "code",
   "execution_count": 113,
   "metadata": {},
   "outputs": [
    {
     "data": {
      "text/plain": [
       "tweet_id                                                                  18\n",
       "author_id                                                             115713\n",
       "inbound                                                                 True\n",
       "created_at                                    Tue Oct 31 19:56:01 +0000 2017\n",
       "text                       @115714 y’all lie about your “great” connectio...\n",
       "response_tweet_id                                                         17\n",
       "in_response_to_tweet_id                                                  NaN\n",
       "support_team                                                      sprintcare\n",
       "conversation               @115713 H there! We'd definitely like to work ...\n",
       "conversation_count                                                         2\n",
       "conversation_dates         [Tue Oct 31 19:59:13 +0000 2017, Tue Oct 31 19...\n",
       "Name: 0, dtype: object"
      ]
     },
     "execution_count": 113,
     "metadata": {},
     "output_type": "execute_result"
    }
   ],
   "source": [
    "support_conversations_df.iloc[0]"
   ]
  },
  {
   "cell_type": "code",
   "execution_count": 114,
   "metadata": {},
   "outputs": [
    {
     "data": {
      "text/plain": [
       "['Tue Oct 31 19:59:13 +0000 2017', 'Tue Oct 31 19:56:01 +0000 2017']"
      ]
     },
     "execution_count": 114,
     "metadata": {},
     "output_type": "execute_result"
    }
   ],
   "source": [
    "support_conversations_df['conversation_dates'].iloc[0]"
   ]
  },
  {
   "cell_type": "markdown",
   "metadata": {},
   "source": [
    "check the inital support request date"
   ]
  },
  {
   "cell_type": "code",
   "execution_count": 115,
   "metadata": {},
   "outputs": [
    {
     "data": {
      "text/plain": [
       "'Tue Oct 31 19:56:01 +0000 2017'"
      ]
     },
     "execution_count": 115,
     "metadata": {},
     "output_type": "execute_result"
    }
   ],
   "source": [
    "support_conversations_df['created_at'].iloc[0]"
   ]
  },
  {
   "cell_type": "markdown",
   "metadata": {},
   "source": [
    "Looks like the date completed is the first conversation"
   ]
  },
  {
   "cell_type": "code",
   "execution_count": 116,
   "metadata": {},
   "outputs": [
    {
     "data": {
      "text/plain": [
       "'Tue Oct 31 19:59:13 +0000 2017'"
      ]
     },
     "execution_count": 116,
     "metadata": {},
     "output_type": "execute_result"
    }
   ],
   "source": [
    "support_conversations_df['conversation_dates'].iloc[0][0]"
   ]
  },
  {
   "cell_type": "code",
   "execution_count": 117,
   "metadata": {},
   "outputs": [],
   "source": [
    "date_resolved_df = support_conversations_df.copy()"
   ]
  },
  {
   "cell_type": "code",
   "execution_count": 118,
   "metadata": {},
   "outputs": [
    {
     "data": {
      "text/html": [
       "<div>\n",
       "<style scoped>\n",
       "    .dataframe tbody tr th:only-of-type {\n",
       "        vertical-align: middle;\n",
       "    }\n",
       "\n",
       "    .dataframe tbody tr th {\n",
       "        vertical-align: top;\n",
       "    }\n",
       "\n",
       "    .dataframe thead th {\n",
       "        text-align: right;\n",
       "    }\n",
       "</style>\n",
       "<table border=\"1\" class=\"dataframe\">\n",
       "  <thead>\n",
       "    <tr style=\"text-align: right;\">\n",
       "      <th></th>\n",
       "      <th>tweet_id</th>\n",
       "      <th>author_id</th>\n",
       "      <th>inbound</th>\n",
       "      <th>created_at</th>\n",
       "      <th>text</th>\n",
       "      <th>response_tweet_id</th>\n",
       "      <th>in_response_to_tweet_id</th>\n",
       "      <th>support_team</th>\n",
       "      <th>conversation</th>\n",
       "      <th>conversation_count</th>\n",
       "      <th>conversation_dates</th>\n",
       "    </tr>\n",
       "  </thead>\n",
       "  <tbody>\n",
       "    <tr>\n",
       "      <th>0</th>\n",
       "      <td>18</td>\n",
       "      <td>115713</td>\n",
       "      <td>True</td>\n",
       "      <td>Tue Oct 31 19:56:01 +0000 2017</td>\n",
       "      <td>@115714 y’all lie about your “great” connectio...</td>\n",
       "      <td>17</td>\n",
       "      <td>NaN</td>\n",
       "      <td>sprintcare</td>\n",
       "      <td>@115713 H there! We'd definitely like to work ...</td>\n",
       "      <td>2</td>\n",
       "      <td>[Tue Oct 31 19:59:13 +0000 2017, Tue Oct 31 19...</td>\n",
       "    </tr>\n",
       "    <tr>\n",
       "      <th>1</th>\n",
       "      <td>20</td>\n",
       "      <td>115715</td>\n",
       "      <td>True</td>\n",
       "      <td>Tue Oct 31 22:03:34 +0000 2017</td>\n",
       "      <td>@115714 whenever I contact customer support, t...</td>\n",
       "      <td>19</td>\n",
       "      <td>NaN</td>\n",
       "      <td>sprintcare</td>\n",
       "      <td>@115715 Please send me a private message so th...</td>\n",
       "      <td>2</td>\n",
       "      <td>[Tue Oct 31 22:10:10 +0000 2017, Tue Oct 31 22...</td>\n",
       "    </tr>\n",
       "    <tr>\n",
       "      <th>2</th>\n",
       "      <td>29</td>\n",
       "      <td>115716</td>\n",
       "      <td>True</td>\n",
       "      <td>Tue Oct 31 22:01:35 +0000 2017</td>\n",
       "      <td>actually that's a broken link you sent me and ...</td>\n",
       "      <td>28</td>\n",
       "      <td>NaN</td>\n",
       "      <td>Ask_Spectrum</td>\n",
       "      <td>@115716 The information pertaining to the acco...</td>\n",
       "      <td>2</td>\n",
       "      <td>[Tue Oct 31 22:05:37 +0000 2017, Tue Oct 31 22...</td>\n",
       "    </tr>\n",
       "    <tr>\n",
       "      <th>3</th>\n",
       "      <td>31</td>\n",
       "      <td>115717</td>\n",
       "      <td>True</td>\n",
       "      <td>Tue Oct 31 22:06:54 +0000 2017</td>\n",
       "      <td>Yo @Ask_Spectrum, your customer service reps a...</td>\n",
       "      <td>30</td>\n",
       "      <td>NaN</td>\n",
       "      <td>Ask_Spectrum</td>\n",
       "      <td>@115717 Hello, My apologies for any frustratio...</td>\n",
       "      <td>2</td>\n",
       "      <td>[Tue Oct 31 22:12:09 +0000 2017, Tue Oct 31 22...</td>\n",
       "    </tr>\n",
       "    <tr>\n",
       "      <th>4</th>\n",
       "      <td>33</td>\n",
       "      <td>115718</td>\n",
       "      <td>True</td>\n",
       "      <td>Tue Oct 31 22:06:56 +0000 2017</td>\n",
       "      <td>My picture on @Ask_Spectrum pretty much every ...</td>\n",
       "      <td>32</td>\n",
       "      <td>NaN</td>\n",
       "      <td>Ask_Spectrum</td>\n",
       "      <td>@115718 I apologize for the inconvenience. I w...</td>\n",
       "      <td>2</td>\n",
       "      <td>[Tue Oct 31 22:10:08 +0000 2017, Tue Oct 31 22...</td>\n",
       "    </tr>\n",
       "  </tbody>\n",
       "</table>\n",
       "</div>"
      ],
      "text/plain": [
       "  tweet_id author_id inbound                      created_at  \\\n",
       "0       18    115713    True  Tue Oct 31 19:56:01 +0000 2017   \n",
       "1       20    115715    True  Tue Oct 31 22:03:34 +0000 2017   \n",
       "2       29    115716    True  Tue Oct 31 22:01:35 +0000 2017   \n",
       "3       31    115717    True  Tue Oct 31 22:06:54 +0000 2017   \n",
       "4       33    115718    True  Tue Oct 31 22:06:56 +0000 2017   \n",
       "\n",
       "                                                text response_tweet_id  \\\n",
       "0  @115714 y’all lie about your “great” connectio...                17   \n",
       "1  @115714 whenever I contact customer support, t...                19   \n",
       "2  actually that's a broken link you sent me and ...                28   \n",
       "3  Yo @Ask_Spectrum, your customer service reps a...                30   \n",
       "4  My picture on @Ask_Spectrum pretty much every ...                32   \n",
       "\n",
       "  in_response_to_tweet_id  support_team  \\\n",
       "0                     NaN    sprintcare   \n",
       "1                     NaN    sprintcare   \n",
       "2                     NaN  Ask_Spectrum   \n",
       "3                     NaN  Ask_Spectrum   \n",
       "4                     NaN  Ask_Spectrum   \n",
       "\n",
       "                                        conversation  conversation_count  \\\n",
       "0  @115713 H there! We'd definitely like to work ...                   2   \n",
       "1  @115715 Please send me a private message so th...                   2   \n",
       "2  @115716 The information pertaining to the acco...                   2   \n",
       "3  @115717 Hello, My apologies for any frustratio...                   2   \n",
       "4  @115718 I apologize for the inconvenience. I w...                   2   \n",
       "\n",
       "                                  conversation_dates  \n",
       "0  [Tue Oct 31 19:59:13 +0000 2017, Tue Oct 31 19...  \n",
       "1  [Tue Oct 31 22:10:10 +0000 2017, Tue Oct 31 22...  \n",
       "2  [Tue Oct 31 22:05:37 +0000 2017, Tue Oct 31 22...  \n",
       "3  [Tue Oct 31 22:12:09 +0000 2017, Tue Oct 31 22...  \n",
       "4  [Tue Oct 31 22:10:08 +0000 2017, Tue Oct 31 22...  "
      ]
     },
     "execution_count": 118,
     "metadata": {},
     "output_type": "execute_result"
    }
   ],
   "source": [
    "date_resolved_df.head()"
   ]
  },
  {
   "cell_type": "code",
   "execution_count": 119,
   "metadata": {},
   "outputs": [
    {
     "name": "stdout",
     "output_type": "stream",
     "text": [
      "['Tue Oct 31 19:59:13 +0000 2017', 'Tue Oct 31 19:56:01 +0000 2017']\n",
      "['Tue Oct 31 22:10:10 +0000 2017', 'Tue Oct 31 22:03:34 +0000 2017']\n",
      "['Tue Oct 31 22:05:37 +0000 2017', 'Tue Oct 31 22:01:35 +0000 2017']\n"
     ]
    },
    {
     "data": {
      "text/plain": [
       "0    None\n",
       "1    None\n",
       "2    None\n",
       "Name: conversation_dates, dtype: object"
      ]
     },
     "execution_count": 119,
     "metadata": {},
     "output_type": "execute_result"
    }
   ],
   "source": [
    "date_resolved_df['conversation_dates'].iloc[:3].apply(lambda x: print(x))"
   ]
  },
  {
   "cell_type": "code",
   "execution_count": 120,
   "metadata": {},
   "outputs": [],
   "source": [
    "date_resolved_df['date_resolved'] = date_resolved_df['conversation_dates'].apply(lambda x: x[0])"
   ]
  },
  {
   "cell_type": "code",
   "execution_count": 121,
   "metadata": {},
   "outputs": [
    {
     "data": {
      "text/html": [
       "<div>\n",
       "<style scoped>\n",
       "    .dataframe tbody tr th:only-of-type {\n",
       "        vertical-align: middle;\n",
       "    }\n",
       "\n",
       "    .dataframe tbody tr th {\n",
       "        vertical-align: top;\n",
       "    }\n",
       "\n",
       "    .dataframe thead th {\n",
       "        text-align: right;\n",
       "    }\n",
       "</style>\n",
       "<table border=\"1\" class=\"dataframe\">\n",
       "  <thead>\n",
       "    <tr style=\"text-align: right;\">\n",
       "      <th></th>\n",
       "      <th>tweet_id</th>\n",
       "      <th>author_id</th>\n",
       "      <th>inbound</th>\n",
       "      <th>created_at</th>\n",
       "      <th>text</th>\n",
       "      <th>response_tweet_id</th>\n",
       "      <th>in_response_to_tweet_id</th>\n",
       "      <th>support_team</th>\n",
       "      <th>conversation</th>\n",
       "      <th>conversation_count</th>\n",
       "      <th>conversation_dates</th>\n",
       "      <th>date_resolved</th>\n",
       "    </tr>\n",
       "  </thead>\n",
       "  <tbody>\n",
       "    <tr>\n",
       "      <th>0</th>\n",
       "      <td>18</td>\n",
       "      <td>115713</td>\n",
       "      <td>True</td>\n",
       "      <td>Tue Oct 31 19:56:01 +0000 2017</td>\n",
       "      <td>@115714 y’all lie about your “great” connectio...</td>\n",
       "      <td>17</td>\n",
       "      <td>NaN</td>\n",
       "      <td>sprintcare</td>\n",
       "      <td>@115713 H there! We'd definitely like to work ...</td>\n",
       "      <td>2</td>\n",
       "      <td>[Tue Oct 31 19:59:13 +0000 2017, Tue Oct 31 19...</td>\n",
       "      <td>Tue Oct 31 19:59:13 +0000 2017</td>\n",
       "    </tr>\n",
       "    <tr>\n",
       "      <th>1</th>\n",
       "      <td>20</td>\n",
       "      <td>115715</td>\n",
       "      <td>True</td>\n",
       "      <td>Tue Oct 31 22:03:34 +0000 2017</td>\n",
       "      <td>@115714 whenever I contact customer support, t...</td>\n",
       "      <td>19</td>\n",
       "      <td>NaN</td>\n",
       "      <td>sprintcare</td>\n",
       "      <td>@115715 Please send me a private message so th...</td>\n",
       "      <td>2</td>\n",
       "      <td>[Tue Oct 31 22:10:10 +0000 2017, Tue Oct 31 22...</td>\n",
       "      <td>Tue Oct 31 22:10:10 +0000 2017</td>\n",
       "    </tr>\n",
       "    <tr>\n",
       "      <th>2</th>\n",
       "      <td>29</td>\n",
       "      <td>115716</td>\n",
       "      <td>True</td>\n",
       "      <td>Tue Oct 31 22:01:35 +0000 2017</td>\n",
       "      <td>actually that's a broken link you sent me and ...</td>\n",
       "      <td>28</td>\n",
       "      <td>NaN</td>\n",
       "      <td>Ask_Spectrum</td>\n",
       "      <td>@115716 The information pertaining to the acco...</td>\n",
       "      <td>2</td>\n",
       "      <td>[Tue Oct 31 22:05:37 +0000 2017, Tue Oct 31 22...</td>\n",
       "      <td>Tue Oct 31 22:05:37 +0000 2017</td>\n",
       "    </tr>\n",
       "    <tr>\n",
       "      <th>3</th>\n",
       "      <td>31</td>\n",
       "      <td>115717</td>\n",
       "      <td>True</td>\n",
       "      <td>Tue Oct 31 22:06:54 +0000 2017</td>\n",
       "      <td>Yo @Ask_Spectrum, your customer service reps a...</td>\n",
       "      <td>30</td>\n",
       "      <td>NaN</td>\n",
       "      <td>Ask_Spectrum</td>\n",
       "      <td>@115717 Hello, My apologies for any frustratio...</td>\n",
       "      <td>2</td>\n",
       "      <td>[Tue Oct 31 22:12:09 +0000 2017, Tue Oct 31 22...</td>\n",
       "      <td>Tue Oct 31 22:12:09 +0000 2017</td>\n",
       "    </tr>\n",
       "    <tr>\n",
       "      <th>4</th>\n",
       "      <td>33</td>\n",
       "      <td>115718</td>\n",
       "      <td>True</td>\n",
       "      <td>Tue Oct 31 22:06:56 +0000 2017</td>\n",
       "      <td>My picture on @Ask_Spectrum pretty much every ...</td>\n",
       "      <td>32</td>\n",
       "      <td>NaN</td>\n",
       "      <td>Ask_Spectrum</td>\n",
       "      <td>@115718 I apologize for the inconvenience. I w...</td>\n",
       "      <td>2</td>\n",
       "      <td>[Tue Oct 31 22:10:08 +0000 2017, Tue Oct 31 22...</td>\n",
       "      <td>Tue Oct 31 22:10:08 +0000 2017</td>\n",
       "    </tr>\n",
       "  </tbody>\n",
       "</table>\n",
       "</div>"
      ],
      "text/plain": [
       "  tweet_id author_id inbound                      created_at  \\\n",
       "0       18    115713    True  Tue Oct 31 19:56:01 +0000 2017   \n",
       "1       20    115715    True  Tue Oct 31 22:03:34 +0000 2017   \n",
       "2       29    115716    True  Tue Oct 31 22:01:35 +0000 2017   \n",
       "3       31    115717    True  Tue Oct 31 22:06:54 +0000 2017   \n",
       "4       33    115718    True  Tue Oct 31 22:06:56 +0000 2017   \n",
       "\n",
       "                                                text response_tweet_id  \\\n",
       "0  @115714 y’all lie about your “great” connectio...                17   \n",
       "1  @115714 whenever I contact customer support, t...                19   \n",
       "2  actually that's a broken link you sent me and ...                28   \n",
       "3  Yo @Ask_Spectrum, your customer service reps a...                30   \n",
       "4  My picture on @Ask_Spectrum pretty much every ...                32   \n",
       "\n",
       "  in_response_to_tweet_id  support_team  \\\n",
       "0                     NaN    sprintcare   \n",
       "1                     NaN    sprintcare   \n",
       "2                     NaN  Ask_Spectrum   \n",
       "3                     NaN  Ask_Spectrum   \n",
       "4                     NaN  Ask_Spectrum   \n",
       "\n",
       "                                        conversation  conversation_count  \\\n",
       "0  @115713 H there! We'd definitely like to work ...                   2   \n",
       "1  @115715 Please send me a private message so th...                   2   \n",
       "2  @115716 The information pertaining to the acco...                   2   \n",
       "3  @115717 Hello, My apologies for any frustratio...                   2   \n",
       "4  @115718 I apologize for the inconvenience. I w...                   2   \n",
       "\n",
       "                                  conversation_dates  \\\n",
       "0  [Tue Oct 31 19:59:13 +0000 2017, Tue Oct 31 19...   \n",
       "1  [Tue Oct 31 22:10:10 +0000 2017, Tue Oct 31 22...   \n",
       "2  [Tue Oct 31 22:05:37 +0000 2017, Tue Oct 31 22...   \n",
       "3  [Tue Oct 31 22:12:09 +0000 2017, Tue Oct 31 22...   \n",
       "4  [Tue Oct 31 22:10:08 +0000 2017, Tue Oct 31 22...   \n",
       "\n",
       "                    date_resolved  \n",
       "0  Tue Oct 31 19:59:13 +0000 2017  \n",
       "1  Tue Oct 31 22:10:10 +0000 2017  \n",
       "2  Tue Oct 31 22:05:37 +0000 2017  \n",
       "3  Tue Oct 31 22:12:09 +0000 2017  \n",
       "4  Tue Oct 31 22:10:08 +0000 2017  "
      ]
     },
     "execution_count": 121,
     "metadata": {},
     "output_type": "execute_result"
    }
   ],
   "source": [
    "date_resolved_df.head()"
   ]
  },
  {
   "cell_type": "code",
   "execution_count": 122,
   "metadata": {},
   "outputs": [
    {
     "data": {
      "text/plain": [
       "tweet_id                                                                  18\n",
       "author_id                                                             115713\n",
       "inbound                                                                 True\n",
       "created_at                                    Tue Oct 31 19:56:01 +0000 2017\n",
       "text                       @115714 y’all lie about your “great” connectio...\n",
       "response_tweet_id                                                         17\n",
       "in_response_to_tweet_id                                                  NaN\n",
       "support_team                                                      sprintcare\n",
       "conversation               @115713 H there! We'd definitely like to work ...\n",
       "conversation_count                                                         2\n",
       "conversation_dates         [Tue Oct 31 19:59:13 +0000 2017, Tue Oct 31 19...\n",
       "date_resolved                                 Tue Oct 31 19:59:13 +0000 2017\n",
       "Name: 0, dtype: object"
      ]
     },
     "execution_count": 122,
     "metadata": {},
     "output_type": "execute_result"
    }
   ],
   "source": [
    "date_resolved_df.iloc[0]"
   ]
  },
  {
   "cell_type": "markdown",
   "metadata": {},
   "source": [
    "#### Time to Resolve\n",
    "\n",
    "Next we need to check on long each support ticket took to resolve the customer request"
   ]
  },
  {
   "cell_type": "code",
   "execution_count": 123,
   "metadata": {},
   "outputs": [],
   "source": [
    "import datetime"
   ]
  },
  {
   "cell_type": "markdown",
   "metadata": {},
   "source": [
    "Test out the date conversation so we can preform date math"
   ]
  },
  {
   "cell_type": "code",
   "execution_count": 124,
   "metadata": {},
   "outputs": [],
   "source": [
    "initial_date_test = date_resolved_df['created_at'].values[0]"
   ]
  },
  {
   "cell_type": "code",
   "execution_count": 125,
   "metadata": {},
   "outputs": [
    {
     "name": "stdout",
     "output_type": "stream",
     "text": [
      "Tue Oct 31 19:56:01 +0000 2017\n"
     ]
    }
   ],
   "source": [
    "print(initial_date_test)"
   ]
  },
  {
   "cell_type": "code",
   "execution_count": 126,
   "metadata": {},
   "outputs": [],
   "source": [
    "initial_datetime_test = datetime.datetime.strptime(initial_date_test, \"%a %b %d %H:%M:%S +%f %Y\")"
   ]
  },
  {
   "cell_type": "code",
   "execution_count": 127,
   "metadata": {},
   "outputs": [
    {
     "data": {
      "text/plain": [
       "datetime.datetime(2017, 10, 31, 19, 56, 1)"
      ]
     },
     "execution_count": 127,
     "metadata": {},
     "output_type": "execute_result"
    }
   ],
   "source": [
    "initial_datetime_test"
   ]
  },
  {
   "cell_type": "code",
   "execution_count": 128,
   "metadata": {},
   "outputs": [
    {
     "name": "stdout",
     "output_type": "stream",
     "text": [
      "Tue Oct 31 19:59:13 +0000 2017\n"
     ]
    }
   ],
   "source": [
    "resolve_date_test = date_resolved_df['date_resolved'].values[0]\n",
    "print(resolve_date_test)"
   ]
  },
  {
   "cell_type": "code",
   "execution_count": 129,
   "metadata": {},
   "outputs": [],
   "source": [
    "resolve_datetime_test = datetime.datetime.strptime(resolve_date_test, \"%a %b %d %H:%M:%S +%f %Y\")"
   ]
  },
  {
   "cell_type": "code",
   "execution_count": 130,
   "metadata": {},
   "outputs": [
    {
     "data": {
      "text/plain": [
       "datetime.datetime(2017, 10, 31, 19, 59, 13)"
      ]
     },
     "execution_count": 130,
     "metadata": {},
     "output_type": "execute_result"
    }
   ],
   "source": [
    "resolve_datetime_test"
   ]
  },
  {
   "cell_type": "code",
   "execution_count": 131,
   "metadata": {},
   "outputs": [],
   "source": [
    "difference = resolve_datetime_test - initial_datetime_test"
   ]
  },
  {
   "cell_type": "code",
   "execution_count": 132,
   "metadata": {},
   "outputs": [],
   "source": [
    "difference_hours = difference.total_seconds() / 3600"
   ]
  },
  {
   "cell_type": "code",
   "execution_count": 133,
   "metadata": {},
   "outputs": [
    {
     "name": "stdout",
     "output_type": "stream",
     "text": [
      "0:03:12\n"
     ]
    }
   ],
   "source": [
    "print(difference)"
   ]
  },
  {
   "cell_type": "code",
   "execution_count": 134,
   "metadata": {},
   "outputs": [
    {
     "name": "stdout",
     "output_type": "stream",
     "text": [
      "hours to resolve: 0.05333333333333334\n"
     ]
    }
   ],
   "source": [
    "print(f\"hours to resolve: {difference_hours}\")"
   ]
  },
  {
   "cell_type": "markdown",
   "metadata": {},
   "source": [
    "With the process figured out. We need to add this to function that takes in created and resolved date to export the number of hours to resolve"
   ]
  },
  {
   "cell_type": "code",
   "execution_count": 135,
   "metadata": {},
   "outputs": [],
   "source": [
    "def timeToResolve(iniital_date, resolve_date):\n",
    "    \"\"\" \n",
    "    takes in two times stamps then returns the difference in hours\n",
    "    \"\"\"\n",
    "    time_string_format = \"%a %b %d %H:%M:%S +%f %Y\"\n",
    "\n",
    "    if not iniital_date == \"NaN\" and not resolve_date == \"NaN\":\n",
    "\n",
    "        initial_datetime = datetime.datetime.strptime(iniital_date, time_string_format)\n",
    "        resolve_datetime = datetime.datetime.strptime(resolve_date, time_string_format)\n",
    "\n",
    "        difference = resolve_datetime - initial_datetime\n",
    "        difference_hours = difference.total_seconds() / 3600\n",
    "\n",
    "        return difference_hours\n",
    "\n",
    "    else:\n",
    "        return 0"
   ]
  },
  {
   "cell_type": "markdown",
   "metadata": {},
   "source": [
    "confirm to see it work "
   ]
  },
  {
   "cell_type": "code",
   "execution_count": 136,
   "metadata": {},
   "outputs": [
    {
     "name": "stdout",
     "output_type": "stream",
     "text": [
      "0.05333333333333334\n"
     ]
    }
   ],
   "source": [
    "test_time = timeToResolve(initial_date_test, resolve_date_test)\n",
    "print(test_time)"
   ]
  },
  {
   "cell_type": "code",
   "execution_count": 137,
   "metadata": {},
   "outputs": [
    {
     "name": "stdout",
     "output_type": "stream",
     "text": [
      "0\n"
     ]
    }
   ],
   "source": [
    "test_time = timeToResolve(\"NaN\", 'NaN')\n",
    "print(test_time)"
   ]
  },
  {
   "cell_type": "markdown",
   "metadata": {},
   "source": [
    "Create a new time to resolve column and update the info"
   ]
  },
  {
   "cell_type": "code",
   "execution_count": 138,
   "metadata": {},
   "outputs": [],
   "source": [
    "time_to_resolve_df = date_resolved_df.copy()"
   ]
  },
  {
   "cell_type": "code",
   "execution_count": 139,
   "metadata": {},
   "outputs": [
    {
     "data": {
      "text/html": [
       "<div>\n",
       "<style scoped>\n",
       "    .dataframe tbody tr th:only-of-type {\n",
       "        vertical-align: middle;\n",
       "    }\n",
       "\n",
       "    .dataframe tbody tr th {\n",
       "        vertical-align: top;\n",
       "    }\n",
       "\n",
       "    .dataframe thead th {\n",
       "        text-align: right;\n",
       "    }\n",
       "</style>\n",
       "<table border=\"1\" class=\"dataframe\">\n",
       "  <thead>\n",
       "    <tr style=\"text-align: right;\">\n",
       "      <th></th>\n",
       "      <th>tweet_id</th>\n",
       "      <th>author_id</th>\n",
       "      <th>inbound</th>\n",
       "      <th>created_at</th>\n",
       "      <th>text</th>\n",
       "      <th>response_tweet_id</th>\n",
       "      <th>in_response_to_tweet_id</th>\n",
       "      <th>support_team</th>\n",
       "      <th>conversation</th>\n",
       "      <th>conversation_count</th>\n",
       "      <th>conversation_dates</th>\n",
       "      <th>date_resolved</th>\n",
       "    </tr>\n",
       "  </thead>\n",
       "  <tbody>\n",
       "    <tr>\n",
       "      <th>0</th>\n",
       "      <td>18</td>\n",
       "      <td>115713</td>\n",
       "      <td>True</td>\n",
       "      <td>Tue Oct 31 19:56:01 +0000 2017</td>\n",
       "      <td>@115714 y’all lie about your “great” connectio...</td>\n",
       "      <td>17</td>\n",
       "      <td>NaN</td>\n",
       "      <td>sprintcare</td>\n",
       "      <td>@115713 H there! We'd definitely like to work ...</td>\n",
       "      <td>2</td>\n",
       "      <td>[Tue Oct 31 19:59:13 +0000 2017, Tue Oct 31 19...</td>\n",
       "      <td>Tue Oct 31 19:59:13 +0000 2017</td>\n",
       "    </tr>\n",
       "    <tr>\n",
       "      <th>1</th>\n",
       "      <td>20</td>\n",
       "      <td>115715</td>\n",
       "      <td>True</td>\n",
       "      <td>Tue Oct 31 22:03:34 +0000 2017</td>\n",
       "      <td>@115714 whenever I contact customer support, t...</td>\n",
       "      <td>19</td>\n",
       "      <td>NaN</td>\n",
       "      <td>sprintcare</td>\n",
       "      <td>@115715 Please send me a private message so th...</td>\n",
       "      <td>2</td>\n",
       "      <td>[Tue Oct 31 22:10:10 +0000 2017, Tue Oct 31 22...</td>\n",
       "      <td>Tue Oct 31 22:10:10 +0000 2017</td>\n",
       "    </tr>\n",
       "    <tr>\n",
       "      <th>2</th>\n",
       "      <td>29</td>\n",
       "      <td>115716</td>\n",
       "      <td>True</td>\n",
       "      <td>Tue Oct 31 22:01:35 +0000 2017</td>\n",
       "      <td>actually that's a broken link you sent me and ...</td>\n",
       "      <td>28</td>\n",
       "      <td>NaN</td>\n",
       "      <td>Ask_Spectrum</td>\n",
       "      <td>@115716 The information pertaining to the acco...</td>\n",
       "      <td>2</td>\n",
       "      <td>[Tue Oct 31 22:05:37 +0000 2017, Tue Oct 31 22...</td>\n",
       "      <td>Tue Oct 31 22:05:37 +0000 2017</td>\n",
       "    </tr>\n",
       "    <tr>\n",
       "      <th>3</th>\n",
       "      <td>31</td>\n",
       "      <td>115717</td>\n",
       "      <td>True</td>\n",
       "      <td>Tue Oct 31 22:06:54 +0000 2017</td>\n",
       "      <td>Yo @Ask_Spectrum, your customer service reps a...</td>\n",
       "      <td>30</td>\n",
       "      <td>NaN</td>\n",
       "      <td>Ask_Spectrum</td>\n",
       "      <td>@115717 Hello, My apologies for any frustratio...</td>\n",
       "      <td>2</td>\n",
       "      <td>[Tue Oct 31 22:12:09 +0000 2017, Tue Oct 31 22...</td>\n",
       "      <td>Tue Oct 31 22:12:09 +0000 2017</td>\n",
       "    </tr>\n",
       "    <tr>\n",
       "      <th>4</th>\n",
       "      <td>33</td>\n",
       "      <td>115718</td>\n",
       "      <td>True</td>\n",
       "      <td>Tue Oct 31 22:06:56 +0000 2017</td>\n",
       "      <td>My picture on @Ask_Spectrum pretty much every ...</td>\n",
       "      <td>32</td>\n",
       "      <td>NaN</td>\n",
       "      <td>Ask_Spectrum</td>\n",
       "      <td>@115718 I apologize for the inconvenience. I w...</td>\n",
       "      <td>2</td>\n",
       "      <td>[Tue Oct 31 22:10:08 +0000 2017, Tue Oct 31 22...</td>\n",
       "      <td>Tue Oct 31 22:10:08 +0000 2017</td>\n",
       "    </tr>\n",
       "  </tbody>\n",
       "</table>\n",
       "</div>"
      ],
      "text/plain": [
       "  tweet_id author_id inbound                      created_at  \\\n",
       "0       18    115713    True  Tue Oct 31 19:56:01 +0000 2017   \n",
       "1       20    115715    True  Tue Oct 31 22:03:34 +0000 2017   \n",
       "2       29    115716    True  Tue Oct 31 22:01:35 +0000 2017   \n",
       "3       31    115717    True  Tue Oct 31 22:06:54 +0000 2017   \n",
       "4       33    115718    True  Tue Oct 31 22:06:56 +0000 2017   \n",
       "\n",
       "                                                text response_tweet_id  \\\n",
       "0  @115714 y’all lie about your “great” connectio...                17   \n",
       "1  @115714 whenever I contact customer support, t...                19   \n",
       "2  actually that's a broken link you sent me and ...                28   \n",
       "3  Yo @Ask_Spectrum, your customer service reps a...                30   \n",
       "4  My picture on @Ask_Spectrum pretty much every ...                32   \n",
       "\n",
       "  in_response_to_tweet_id  support_team  \\\n",
       "0                     NaN    sprintcare   \n",
       "1                     NaN    sprintcare   \n",
       "2                     NaN  Ask_Spectrum   \n",
       "3                     NaN  Ask_Spectrum   \n",
       "4                     NaN  Ask_Spectrum   \n",
       "\n",
       "                                        conversation  conversation_count  \\\n",
       "0  @115713 H there! We'd definitely like to work ...                   2   \n",
       "1  @115715 Please send me a private message so th...                   2   \n",
       "2  @115716 The information pertaining to the acco...                   2   \n",
       "3  @115717 Hello, My apologies for any frustratio...                   2   \n",
       "4  @115718 I apologize for the inconvenience. I w...                   2   \n",
       "\n",
       "                                  conversation_dates  \\\n",
       "0  [Tue Oct 31 19:59:13 +0000 2017, Tue Oct 31 19...   \n",
       "1  [Tue Oct 31 22:10:10 +0000 2017, Tue Oct 31 22...   \n",
       "2  [Tue Oct 31 22:05:37 +0000 2017, Tue Oct 31 22...   \n",
       "3  [Tue Oct 31 22:12:09 +0000 2017, Tue Oct 31 22...   \n",
       "4  [Tue Oct 31 22:10:08 +0000 2017, Tue Oct 31 22...   \n",
       "\n",
       "                    date_resolved  \n",
       "0  Tue Oct 31 19:59:13 +0000 2017  \n",
       "1  Tue Oct 31 22:10:10 +0000 2017  \n",
       "2  Tue Oct 31 22:05:37 +0000 2017  \n",
       "3  Tue Oct 31 22:12:09 +0000 2017  \n",
       "4  Tue Oct 31 22:10:08 +0000 2017  "
      ]
     },
     "execution_count": 139,
     "metadata": {},
     "output_type": "execute_result"
    }
   ],
   "source": [
    "time_to_resolve_df.head()"
   ]
  },
  {
   "cell_type": "code",
   "execution_count": 140,
   "metadata": {},
   "outputs": [],
   "source": [
    "time_to_resolve_df[\"time_to_resolve\"] = time_to_resolve_df.apply(lambda x: timeToResolve(x['created_at'], x['date_resolved']), axis=1)"
   ]
  },
  {
   "cell_type": "code",
   "execution_count": 141,
   "metadata": {},
   "outputs": [
    {
     "data": {
      "text/html": [
       "<div>\n",
       "<style scoped>\n",
       "    .dataframe tbody tr th:only-of-type {\n",
       "        vertical-align: middle;\n",
       "    }\n",
       "\n",
       "    .dataframe tbody tr th {\n",
       "        vertical-align: top;\n",
       "    }\n",
       "\n",
       "    .dataframe thead th {\n",
       "        text-align: right;\n",
       "    }\n",
       "</style>\n",
       "<table border=\"1\" class=\"dataframe\">\n",
       "  <thead>\n",
       "    <tr style=\"text-align: right;\">\n",
       "      <th></th>\n",
       "      <th>tweet_id</th>\n",
       "      <th>author_id</th>\n",
       "      <th>inbound</th>\n",
       "      <th>created_at</th>\n",
       "      <th>text</th>\n",
       "      <th>response_tweet_id</th>\n",
       "      <th>in_response_to_tweet_id</th>\n",
       "      <th>support_team</th>\n",
       "      <th>conversation</th>\n",
       "      <th>conversation_count</th>\n",
       "      <th>conversation_dates</th>\n",
       "      <th>date_resolved</th>\n",
       "      <th>time_to_resolve</th>\n",
       "    </tr>\n",
       "  </thead>\n",
       "  <tbody>\n",
       "    <tr>\n",
       "      <th>0</th>\n",
       "      <td>18</td>\n",
       "      <td>115713</td>\n",
       "      <td>True</td>\n",
       "      <td>Tue Oct 31 19:56:01 +0000 2017</td>\n",
       "      <td>@115714 y’all lie about your “great” connectio...</td>\n",
       "      <td>17</td>\n",
       "      <td>NaN</td>\n",
       "      <td>sprintcare</td>\n",
       "      <td>@115713 H there! We'd definitely like to work ...</td>\n",
       "      <td>2</td>\n",
       "      <td>[Tue Oct 31 19:59:13 +0000 2017, Tue Oct 31 19...</td>\n",
       "      <td>Tue Oct 31 19:59:13 +0000 2017</td>\n",
       "      <td>0.053333</td>\n",
       "    </tr>\n",
       "    <tr>\n",
       "      <th>1</th>\n",
       "      <td>20</td>\n",
       "      <td>115715</td>\n",
       "      <td>True</td>\n",
       "      <td>Tue Oct 31 22:03:34 +0000 2017</td>\n",
       "      <td>@115714 whenever I contact customer support, t...</td>\n",
       "      <td>19</td>\n",
       "      <td>NaN</td>\n",
       "      <td>sprintcare</td>\n",
       "      <td>@115715 Please send me a private message so th...</td>\n",
       "      <td>2</td>\n",
       "      <td>[Tue Oct 31 22:10:10 +0000 2017, Tue Oct 31 22...</td>\n",
       "      <td>Tue Oct 31 22:10:10 +0000 2017</td>\n",
       "      <td>0.110000</td>\n",
       "    </tr>\n",
       "    <tr>\n",
       "      <th>2</th>\n",
       "      <td>29</td>\n",
       "      <td>115716</td>\n",
       "      <td>True</td>\n",
       "      <td>Tue Oct 31 22:01:35 +0000 2017</td>\n",
       "      <td>actually that's a broken link you sent me and ...</td>\n",
       "      <td>28</td>\n",
       "      <td>NaN</td>\n",
       "      <td>Ask_Spectrum</td>\n",
       "      <td>@115716 The information pertaining to the acco...</td>\n",
       "      <td>2</td>\n",
       "      <td>[Tue Oct 31 22:05:37 +0000 2017, Tue Oct 31 22...</td>\n",
       "      <td>Tue Oct 31 22:05:37 +0000 2017</td>\n",
       "      <td>0.067222</td>\n",
       "    </tr>\n",
       "    <tr>\n",
       "      <th>3</th>\n",
       "      <td>31</td>\n",
       "      <td>115717</td>\n",
       "      <td>True</td>\n",
       "      <td>Tue Oct 31 22:06:54 +0000 2017</td>\n",
       "      <td>Yo @Ask_Spectrum, your customer service reps a...</td>\n",
       "      <td>30</td>\n",
       "      <td>NaN</td>\n",
       "      <td>Ask_Spectrum</td>\n",
       "      <td>@115717 Hello, My apologies for any frustratio...</td>\n",
       "      <td>2</td>\n",
       "      <td>[Tue Oct 31 22:12:09 +0000 2017, Tue Oct 31 22...</td>\n",
       "      <td>Tue Oct 31 22:12:09 +0000 2017</td>\n",
       "      <td>0.087500</td>\n",
       "    </tr>\n",
       "    <tr>\n",
       "      <th>4</th>\n",
       "      <td>33</td>\n",
       "      <td>115718</td>\n",
       "      <td>True</td>\n",
       "      <td>Tue Oct 31 22:06:56 +0000 2017</td>\n",
       "      <td>My picture on @Ask_Spectrum pretty much every ...</td>\n",
       "      <td>32</td>\n",
       "      <td>NaN</td>\n",
       "      <td>Ask_Spectrum</td>\n",
       "      <td>@115718 I apologize for the inconvenience. I w...</td>\n",
       "      <td>2</td>\n",
       "      <td>[Tue Oct 31 22:10:08 +0000 2017, Tue Oct 31 22...</td>\n",
       "      <td>Tue Oct 31 22:10:08 +0000 2017</td>\n",
       "      <td>0.053333</td>\n",
       "    </tr>\n",
       "  </tbody>\n",
       "</table>\n",
       "</div>"
      ],
      "text/plain": [
       "  tweet_id author_id inbound                      created_at  \\\n",
       "0       18    115713    True  Tue Oct 31 19:56:01 +0000 2017   \n",
       "1       20    115715    True  Tue Oct 31 22:03:34 +0000 2017   \n",
       "2       29    115716    True  Tue Oct 31 22:01:35 +0000 2017   \n",
       "3       31    115717    True  Tue Oct 31 22:06:54 +0000 2017   \n",
       "4       33    115718    True  Tue Oct 31 22:06:56 +0000 2017   \n",
       "\n",
       "                                                text response_tweet_id  \\\n",
       "0  @115714 y’all lie about your “great” connectio...                17   \n",
       "1  @115714 whenever I contact customer support, t...                19   \n",
       "2  actually that's a broken link you sent me and ...                28   \n",
       "3  Yo @Ask_Spectrum, your customer service reps a...                30   \n",
       "4  My picture on @Ask_Spectrum pretty much every ...                32   \n",
       "\n",
       "  in_response_to_tweet_id  support_team  \\\n",
       "0                     NaN    sprintcare   \n",
       "1                     NaN    sprintcare   \n",
       "2                     NaN  Ask_Spectrum   \n",
       "3                     NaN  Ask_Spectrum   \n",
       "4                     NaN  Ask_Spectrum   \n",
       "\n",
       "                                        conversation  conversation_count  \\\n",
       "0  @115713 H there! We'd definitely like to work ...                   2   \n",
       "1  @115715 Please send me a private message so th...                   2   \n",
       "2  @115716 The information pertaining to the acco...                   2   \n",
       "3  @115717 Hello, My apologies for any frustratio...                   2   \n",
       "4  @115718 I apologize for the inconvenience. I w...                   2   \n",
       "\n",
       "                                  conversation_dates  \\\n",
       "0  [Tue Oct 31 19:59:13 +0000 2017, Tue Oct 31 19...   \n",
       "1  [Tue Oct 31 22:10:10 +0000 2017, Tue Oct 31 22...   \n",
       "2  [Tue Oct 31 22:05:37 +0000 2017, Tue Oct 31 22...   \n",
       "3  [Tue Oct 31 22:12:09 +0000 2017, Tue Oct 31 22...   \n",
       "4  [Tue Oct 31 22:10:08 +0000 2017, Tue Oct 31 22...   \n",
       "\n",
       "                    date_resolved  time_to_resolve  \n",
       "0  Tue Oct 31 19:59:13 +0000 2017         0.053333  \n",
       "1  Tue Oct 31 22:10:10 +0000 2017         0.110000  \n",
       "2  Tue Oct 31 22:05:37 +0000 2017         0.067222  \n",
       "3  Tue Oct 31 22:12:09 +0000 2017         0.087500  \n",
       "4  Tue Oct 31 22:10:08 +0000 2017         0.053333  "
      ]
     },
     "execution_count": 141,
     "metadata": {},
     "output_type": "execute_result"
    }
   ],
   "source": [
    "time_to_resolve_df.head()"
   ]
  },
  {
   "cell_type": "code",
   "execution_count": 142,
   "metadata": {},
   "outputs": [
    {
     "data": {
      "text/plain": [
       "tweet_id                                                                  18\n",
       "author_id                                                             115713\n",
       "inbound                                                                 True\n",
       "created_at                                    Tue Oct 31 19:56:01 +0000 2017\n",
       "text                       @115714 y’all lie about your “great” connectio...\n",
       "response_tweet_id                                                         17\n",
       "in_response_to_tweet_id                                                  NaN\n",
       "support_team                                                      sprintcare\n",
       "conversation               @115713 H there! We'd definitely like to work ...\n",
       "conversation_count                                                         2\n",
       "conversation_dates         [Tue Oct 31 19:59:13 +0000 2017, Tue Oct 31 19...\n",
       "date_resolved                                 Tue Oct 31 19:59:13 +0000 2017\n",
       "time_to_resolve                                                     0.053333\n",
       "Name: 0, dtype: object"
      ]
     },
     "execution_count": 142,
     "metadata": {},
     "output_type": "execute_result"
    }
   ],
   "source": [
    "time_to_resolve_df.iloc[0]"
   ]
  },
  {
   "cell_type": "markdown",
   "metadata": {},
   "source": [
    "Check the distrubution for the time to resolve"
   ]
  },
  {
   "cell_type": "code",
   "execution_count": 143,
   "metadata": {},
   "outputs": [],
   "source": [
    "time_to_resolve_values = time_to_resolve_df[\"time_to_resolve\"]"
   ]
  },
  {
   "cell_type": "code",
   "execution_count": 144,
   "metadata": {},
   "outputs": [
    {
     "data": {
      "text/plain": [
       "array([ 0.05333333,  0.11      ,  0.06722222, ...,  6.23388889,\n",
       "        0.        , 10.50555556])"
      ]
     },
     "execution_count": 144,
     "metadata": {},
     "output_type": "execute_result"
    }
   ],
   "source": [
    "time_to_resolve_values.values"
   ]
  },
  {
   "cell_type": "code",
   "execution_count": 145,
   "metadata": {},
   "outputs": [],
   "source": [
    "import numpy as np"
   ]
  },
  {
   "cell_type": "code",
   "execution_count": 146,
   "metadata": {},
   "outputs": [
    {
     "name": "stderr",
     "output_type": "stream",
     "text": [
      "/var/folders/sk/f7k402kx1wvdmcz91gdz6hs00000gn/T/ipykernel_81770/3602715954.py:1: RuntimeWarning: divide by zero encountered in log\n",
      "  normalize_time_to_resolve = np.log(time_to_resolve_values.values)\n"
     ]
    }
   ],
   "source": [
    "normalize_time_to_resolve = np.log(time_to_resolve_values.values)"
   ]
  },
  {
   "cell_type": "code",
   "execution_count": 147,
   "metadata": {},
   "outputs": [
    {
     "data": {
      "text/plain": [
       "array([-2.93119375, -2.20727491, -2.6997514 , ...,  1.83000036,\n",
       "              -inf,  2.35190422])"
      ]
     },
     "execution_count": 147,
     "metadata": {},
     "output_type": "execute_result"
    }
   ],
   "source": [
    "normalize_time_to_resolve"
   ]
  },
  {
   "cell_type": "code",
   "execution_count": 148,
   "metadata": {},
   "outputs": [
    {
     "data": {
      "text/plain": [
       "67200.19555555556"
      ]
     },
     "execution_count": 148,
     "metadata": {},
     "output_type": "execute_result"
    }
   ],
   "source": [
    "time_to_resolve_values.max()"
   ]
  },
  {
   "cell_type": "code",
   "execution_count": 149,
   "metadata": {},
   "outputs": [
    {
     "data": {
      "text/plain": [
       "15.381148911361526"
      ]
     },
     "execution_count": 149,
     "metadata": {},
     "output_type": "execute_result"
    }
   ],
   "source": [
    "time_to_resolve_values.mean()"
   ]
  },
  {
   "cell_type": "code",
   "execution_count": 150,
   "metadata": {},
   "outputs": [
    {
     "data": {
      "text/plain": [
       "0.0"
      ]
     },
     "execution_count": 150,
     "metadata": {},
     "output_type": "execute_result"
    }
   ],
   "source": [
    "time_to_resolve_values.min()"
   ]
  },
  {
   "cell_type": "code",
   "execution_count": 151,
   "metadata": {},
   "outputs": [
    {
     "data": {
      "image/png": "[encoded data removed]",
      "text/plain": [
       "<Figure size 640x480 with 1 Axes>"
      ]
     },
     "metadata": {},
     "output_type": "display_data"
    }
   ],
   "source": [
    "plt.hist(time_to_resolve_values.values, bins=75, range= [0, 5])\n",
    "plt.title(\"Time to Resolve Distrubution 0 - 1 hours\")\n",
    "plt.xlabel(\"time (hours)\")\n",
    "plt.ylabel(\"count\")\n",
    "plt.show()"
   ]
  },
  {
   "cell_type": "code",
   "execution_count": 152,
   "metadata": {},
   "outputs": [
    {
     "data": {
      "image/png": "[encoded data removed]",
      "text/plain": [
       "<Figure size 640x480 with 1 Axes>"
      ]
     },
     "metadata": {},
     "output_type": "display_data"
    }
   ],
   "source": [
    "plt.hist(time_to_resolve_values.values, bins=75, range= [5, 100])\n",
    "plt.title(\"Time to Resolve Distrubution 1 to 50 hours\")\n",
    "plt.xlabel(\"time (hours)\")\n",
    "plt.ylabel(\"count\")\n",
    "plt.show()"
   ]
  },
  {
   "cell_type": "code",
   "execution_count": 153,
   "metadata": {},
   "outputs": [
    {
     "data": {
      "image/png": "[encoded data removed]",
      "text/plain": [
       "<Figure size 640x480 with 1 Axes>"
      ]
     },
     "metadata": {},
     "output_type": "display_data"
    }
   ],
   "source": [
    "plt.hist(time_to_resolve_values.values, bins=50, range= [100, 1000])\n",
    "plt.title(\"Time to Resolve Distrubution 50 to 100 hours\")\n",
    "plt.xlabel(\"time (hours)\")\n",
    "plt.ylabel(\"count\")\n",
    "plt.show()"
   ]
  },
  {
   "cell_type": "code",
   "execution_count": 154,
   "metadata": {},
   "outputs": [
    {
     "data": {
      "image/png": "[encoded data removed]",
      "text/plain": [
       "<Figure size 640x480 with 1 Axes>"
      ]
     },
     "metadata": {},
     "output_type": "display_data"
    }
   ],
   "source": [
    "plt.hist(time_to_resolve_values.values, bins=50, range= [1000, 7000])\n",
    "plt.title(\"Time to Resolve Distrubution 500 to 8000\")\n",
    "plt.xlabel(\"time (hours)\")\n",
    "plt.ylabel(\"count\")\n",
    "plt.show()"
   ]
  },
  {
   "cell_type": "markdown",
   "metadata": {},
   "source": [
    "With the data so heavely shewed one direction. Lets see it normalized"
   ]
  },
  {
   "cell_type": "code",
   "execution_count": 155,
   "metadata": {},
   "outputs": [
    {
     "data": {
      "image/png": "[encoded data removed]",
      "text/plain": [
       "<Figure size 640x480 with 1 Axes>"
      ]
     },
     "metadata": {},
     "output_type": "display_data"
    }
   ],
   "source": [
    "plt.plot(normalize_time_to_resolve)\n",
    "plt.title(\"Normalize log Time to resolve\")\n",
    "plt.show()"
   ]
  },
  {
   "cell_type": "markdown",
   "metadata": {},
   "source": [
    "#### Save Data\n",
    "\n",
    "Due to the long running data transformation jobs. Save the data to a new support csv for the final analytics to be preformed."
   ]
  },
  {
   "cell_type": "code",
   "execution_count": 156,
   "metadata": {},
   "outputs": [
    {
     "data": {
      "text/html": [
       "<div>\n",
       "<style scoped>\n",
       "    .dataframe tbody tr th:only-of-type {\n",
       "        vertical-align: middle;\n",
       "    }\n",
       "\n",
       "    .dataframe tbody tr th {\n",
       "        vertical-align: top;\n",
       "    }\n",
       "\n",
       "    .dataframe thead th {\n",
       "        text-align: right;\n",
       "    }\n",
       "</style>\n",
       "<table border=\"1\" class=\"dataframe\">\n",
       "  <thead>\n",
       "    <tr style=\"text-align: right;\">\n",
       "      <th></th>\n",
       "      <th>tweet_id</th>\n",
       "      <th>author_id</th>\n",
       "      <th>inbound</th>\n",
       "      <th>created_at</th>\n",
       "      <th>text</th>\n",
       "      <th>response_tweet_id</th>\n",
       "      <th>in_response_to_tweet_id</th>\n",
       "      <th>support_team</th>\n",
       "      <th>conversation</th>\n",
       "      <th>conversation_count</th>\n",
       "      <th>conversation_dates</th>\n",
       "      <th>date_resolved</th>\n",
       "      <th>time_to_resolve</th>\n",
       "    </tr>\n",
       "  </thead>\n",
       "  <tbody>\n",
       "    <tr>\n",
       "      <th>0</th>\n",
       "      <td>18</td>\n",
       "      <td>115713</td>\n",
       "      <td>True</td>\n",
       "      <td>Tue Oct 31 19:56:01 +0000 2017</td>\n",
       "      <td>@115714 y’all lie about your “great” connectio...</td>\n",
       "      <td>17</td>\n",
       "      <td>NaN</td>\n",
       "      <td>sprintcare</td>\n",
       "      <td>@115713 H there! We'd definitely like to work ...</td>\n",
       "      <td>2</td>\n",
       "      <td>[Tue Oct 31 19:59:13 +0000 2017, Tue Oct 31 19...</td>\n",
       "      <td>Tue Oct 31 19:59:13 +0000 2017</td>\n",
       "      <td>0.053333</td>\n",
       "    </tr>\n",
       "    <tr>\n",
       "      <th>1</th>\n",
       "      <td>20</td>\n",
       "      <td>115715</td>\n",
       "      <td>True</td>\n",
       "      <td>Tue Oct 31 22:03:34 +0000 2017</td>\n",
       "      <td>@115714 whenever I contact customer support, t...</td>\n",
       "      <td>19</td>\n",
       "      <td>NaN</td>\n",
       "      <td>sprintcare</td>\n",
       "      <td>@115715 Please send me a private message so th...</td>\n",
       "      <td>2</td>\n",
       "      <td>[Tue Oct 31 22:10:10 +0000 2017, Tue Oct 31 22...</td>\n",
       "      <td>Tue Oct 31 22:10:10 +0000 2017</td>\n",
       "      <td>0.110000</td>\n",
       "    </tr>\n",
       "    <tr>\n",
       "      <th>2</th>\n",
       "      <td>29</td>\n",
       "      <td>115716</td>\n",
       "      <td>True</td>\n",
       "      <td>Tue Oct 31 22:01:35 +0000 2017</td>\n",
       "      <td>actually that's a broken link you sent me and ...</td>\n",
       "      <td>28</td>\n",
       "      <td>NaN</td>\n",
       "      <td>Ask_Spectrum</td>\n",
       "      <td>@115716 The information pertaining to the acco...</td>\n",
       "      <td>2</td>\n",
       "      <td>[Tue Oct 31 22:05:37 +0000 2017, Tue Oct 31 22...</td>\n",
       "      <td>Tue Oct 31 22:05:37 +0000 2017</td>\n",
       "      <td>0.067222</td>\n",
       "    </tr>\n",
       "    <tr>\n",
       "      <th>3</th>\n",
       "      <td>31</td>\n",
       "      <td>115717</td>\n",
       "      <td>True</td>\n",
       "      <td>Tue Oct 31 22:06:54 +0000 2017</td>\n",
       "      <td>Yo @Ask_Spectrum, your customer service reps a...</td>\n",
       "      <td>30</td>\n",
       "      <td>NaN</td>\n",
       "      <td>Ask_Spectrum</td>\n",
       "      <td>@115717 Hello, My apologies for any frustratio...</td>\n",
       "      <td>2</td>\n",
       "      <td>[Tue Oct 31 22:12:09 +0000 2017, Tue Oct 31 22...</td>\n",
       "      <td>Tue Oct 31 22:12:09 +0000 2017</td>\n",
       "      <td>0.087500</td>\n",
       "    </tr>\n",
       "    <tr>\n",
       "      <th>4</th>\n",
       "      <td>33</td>\n",
       "      <td>115718</td>\n",
       "      <td>True</td>\n",
       "      <td>Tue Oct 31 22:06:56 +0000 2017</td>\n",
       "      <td>My picture on @Ask_Spectrum pretty much every ...</td>\n",
       "      <td>32</td>\n",
       "      <td>NaN</td>\n",
       "      <td>Ask_Spectrum</td>\n",
       "      <td>@115718 I apologize for the inconvenience. I w...</td>\n",
       "      <td>2</td>\n",
       "      <td>[Tue Oct 31 22:10:08 +0000 2017, Tue Oct 31 22...</td>\n",
       "      <td>Tue Oct 31 22:10:08 +0000 2017</td>\n",
       "      <td>0.053333</td>\n",
       "    </tr>\n",
       "  </tbody>\n",
       "</table>\n",
       "</div>"
      ],
      "text/plain": [
       "  tweet_id author_id inbound                      created_at  \\\n",
       "0       18    115713    True  Tue Oct 31 19:56:01 +0000 2017   \n",
       "1       20    115715    True  Tue Oct 31 22:03:34 +0000 2017   \n",
       "2       29    115716    True  Tue Oct 31 22:01:35 +0000 2017   \n",
       "3       31    115717    True  Tue Oct 31 22:06:54 +0000 2017   \n",
       "4       33    115718    True  Tue Oct 31 22:06:56 +0000 2017   \n",
       "\n",
       "                                                text response_tweet_id  \\\n",
       "0  @115714 y’all lie about your “great” connectio...                17   \n",
       "1  @115714 whenever I contact customer support, t...                19   \n",
       "2  actually that's a broken link you sent me and ...                28   \n",
       "3  Yo @Ask_Spectrum, your customer service reps a...                30   \n",
       "4  My picture on @Ask_Spectrum pretty much every ...                32   \n",
       "\n",
       "  in_response_to_tweet_id  support_team  \\\n",
       "0                     NaN    sprintcare   \n",
       "1                     NaN    sprintcare   \n",
       "2                     NaN  Ask_Spectrum   \n",
       "3                     NaN  Ask_Spectrum   \n",
       "4                     NaN  Ask_Spectrum   \n",
       "\n",
       "                                        conversation  conversation_count  \\\n",
       "0  @115713 H there! We'd definitely like to work ...                   2   \n",
       "1  @115715 Please send me a private message so th...                   2   \n",
       "2  @115716 The information pertaining to the acco...                   2   \n",
       "3  @115717 Hello, My apologies for any frustratio...                   2   \n",
       "4  @115718 I apologize for the inconvenience. I w...                   2   \n",
       "\n",
       "                                  conversation_dates  \\\n",
       "0  [Tue Oct 31 19:59:13 +0000 2017, Tue Oct 31 19...   \n",
       "1  [Tue Oct 31 22:10:10 +0000 2017, Tue Oct 31 22...   \n",
       "2  [Tue Oct 31 22:05:37 +0000 2017, Tue Oct 31 22...   \n",
       "3  [Tue Oct 31 22:12:09 +0000 2017, Tue Oct 31 22...   \n",
       "4  [Tue Oct 31 22:10:08 +0000 2017, Tue Oct 31 22...   \n",
       "\n",
       "                    date_resolved  time_to_resolve  \n",
       "0  Tue Oct 31 19:59:13 +0000 2017         0.053333  \n",
       "1  Tue Oct 31 22:10:10 +0000 2017         0.110000  \n",
       "2  Tue Oct 31 22:05:37 +0000 2017         0.067222  \n",
       "3  Tue Oct 31 22:12:09 +0000 2017         0.087500  \n",
       "4  Tue Oct 31 22:10:08 +0000 2017         0.053333  "
      ]
     },
     "execution_count": 156,
     "metadata": {},
     "output_type": "execute_result"
    }
   ],
   "source": [
    "time_to_resolve_df.head()"
   ]
  },
  {
   "cell_type": "code",
   "execution_count": 157,
   "metadata": {},
   "outputs": [],
   "source": [
    "time_to_resolve_df.to_csv(\"../data/tweeter_support_tickets.csv\")"
   ]
  }
 ],
 "metadata": {
  "kernelspec": {
   "display_name": "venv-metal",
   "language": "python",
   "name": "python3"
  },
  "language_info": {
   "codemirror_mode": {
    "name": "ipython",
    "version": 3
   },
   "file_extension": ".py",
   "mimetype": "text/x-python",
   "name": "python",
   "nbconvert_exporter": "python",
   "pygments_lexer": "ipython3",
   "version": "3.9.6"
  }
 },
 "nbformat": 4,
 "nbformat_minor": 2
}
